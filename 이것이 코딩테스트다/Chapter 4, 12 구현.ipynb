{
 "cells": [
  {
   "cell_type": "markdown",
   "id": "completed-somerset",
   "metadata": {},
   "source": [
    "# Chapter. 4 구현"
   ]
  },
  {
   "cell_type": "markdown",
   "id": "turned-insurance",
   "metadata": {},
   "source": [
    "## 4-1 상하좌우"
   ]
  },
  {
   "cell_type": "code",
   "execution_count": 133,
   "id": "nuclear-camcorder",
   "metadata": {},
   "outputs": [
    {
     "name": "stdin",
     "output_type": "stream",
     "text": [
      " 5\n",
      " R R R U D D\n"
     ]
    },
    {
     "name": "stdout",
     "output_type": "stream",
     "text": [
      "3 4\n"
     ]
    }
   ],
   "source": [
    "n=map(int, input())\n",
    "data=list(map(str, input().split()))\n",
    "# n=5\n",
    "# data=[\"R\",\"R\",\"R\",\"U\",\"D\",\"D\"]\n",
    "\n",
    "def go(x,y,data):\n",
    "    if data   == \"R\" : y += 1\n",
    "    elif data == \"L\" : y -= 1\n",
    "    elif data == \"D\" : x += 1\n",
    "    elif data == \"U\" : x -= 1\n",
    "    return x,y\n",
    "    \n",
    "x,y=1,1\n",
    "for d in data:\n",
    "    x_, y_ = go(x, y, d)\n",
    "    if x_ < 1 or y_ < 1: # 둘 중 하나가 1보다 작으면 업데이트 X\n",
    "        continue\n",
    "    x,y=x_,y_\n",
    "print(x,y)"
   ]
  },
  {
   "cell_type": "markdown",
   "id": "impressive-marijuana",
   "metadata": {},
   "source": [
    "## 4-2 시각"
   ]
  },
  {
   "cell_type": "markdown",
   "id": "original-worst",
   "metadata": {},
   "source": [
    "### My"
   ]
  },
  {
   "cell_type": "code",
   "execution_count": 45,
   "id": "fancy-flavor",
   "metadata": {
    "tags": []
   },
   "outputs": [
    {
     "name": "stdout",
     "output_type": "stream",
     "text": [
      "0.0194547176361084\n",
      "11475\n"
     ]
    }
   ],
   "source": [
    "import datetime\n",
    "\n",
    "# n=map(int, input())\n",
    "n=5\n",
    "minute=list(range(0,60))\n",
    "second=list(range(0,60))\n",
    "\n",
    "start_time=time.time()\n",
    "\n",
    "cnt = 0\n",
    "for h in range(n+1):\n",
    "    for m in minute:\n",
    "        for s in second:\n",
    "            if sum([1 for d in str(h)+str(m)+str(s) if d == '3']) > 0:\n",
    "                cnt +=1\n",
    "\n",
    "print(time.time()-start_time)\n",
    "print(cnt)"
   ]
  },
  {
   "cell_type": "markdown",
   "id": "wicked-contractor",
   "metadata": {},
   "source": [
    "### 예시"
   ]
  },
  {
   "cell_type": "code",
   "execution_count": 46,
   "id": "pharmaceutical-compromise",
   "metadata": {},
   "outputs": [
    {
     "name": "stdout",
     "output_type": "stream",
     "text": [
      "0.012937068939208984\n",
      "11475\n"
     ]
    }
   ],
   "source": [
    "\n",
    "h=5\n",
    "cnt = 0\n",
    "\n",
    "start_time=time.time()\n",
    "\n",
    "for h in range(h+1):\n",
    "    for m in range(60):\n",
    "        for s in range(60):\n",
    "            if '3' in str(h) + str(m) + str(s):\n",
    "                cnt += 1\n",
    "print(time.time()-start_time)                \n",
    "print(cnt)"
   ]
  },
  {
   "cell_type": "markdown",
   "id": "radio-galaxy",
   "metadata": {},
   "source": [
    "## 실전문제"
   ]
  },
  {
   "cell_type": "markdown",
   "id": "intermediate-geography",
   "metadata": {},
   "source": [
    "### 왕실의 나이트"
   ]
  },
  {
   "cell_type": "code",
   "execution_count": 79,
   "id": "ordered-penny",
   "metadata": {},
   "outputs": [
    {
     "data": {
      "text/plain": [
       "8"
      ]
     },
     "execution_count": 79,
     "metadata": {},
     "output_type": "execute_result"
    }
   ],
   "source": [
    "def get_xy(n):\n",
    "    return ord(n)-96\n",
    "\n",
    "get_xy(\"h\")"
   ]
  },
  {
   "cell_type": "code",
   "execution_count": 85,
   "id": "accessible-venue",
   "metadata": {},
   "outputs": [
    {
     "data": {
      "text/plain": [
       "[([-2, 2], [-1, 1])]"
      ]
     },
     "execution_count": 85,
     "metadata": {},
     "output_type": "execute_result"
    }
   ],
   "source": [
    "import itertools\n",
    "h=[-2,2]\n",
    "v=[-1,1]\n",
    "list(itertools.combinations([h,v],2))"
   ]
  },
  {
   "cell_type": "code",
   "execution_count": 89,
   "id": "demographic-lyric",
   "metadata": {},
   "outputs": [
    {
     "data": {
      "text/plain": [
       "[[-2, -1], [-2, 1], [2, -1], [2, 1], [-1, -2], [-1, 2], [1, -2], [1, 2]]"
      ]
     },
     "execution_count": 89,
     "metadata": {},
     "output_type": "execute_result"
    }
   ],
   "source": [
    "candidates=[]\n",
    "for d in h:\n",
    "    for d1 in v:\n",
    "        candidates.append([d,d1])\n",
    "for d in v:\n",
    "    for d1 in h:\n",
    "        candidates.append([d,d1])\n",
    "candidates\n",
    "        "
   ]
  },
  {
   "cell_type": "code",
   "execution_count": 102,
   "id": "nonprofit-tourism",
   "metadata": {},
   "outputs": [
    {
     "data": {
      "text/plain": [
       "(1, '1')"
      ]
     },
     "execution_count": 102,
     "metadata": {},
     "output_type": "execute_result"
    }
   ],
   "source": [
    "x,y"
   ]
  },
  {
   "cell_type": "code",
   "execution_count": 112,
   "id": "determined-garden",
   "metadata": {},
   "outputs": [
    {
     "name": "stdin",
     "output_type": "stream",
     "text": [
      " h8\n"
     ]
    },
    {
     "data": {
      "text/plain": [
       "2"
      ]
     },
     "execution_count": 112,
     "metadata": {},
     "output_type": "execute_result"
    }
   ],
   "source": [
    "n=input()\n",
    "x,y=ord(n[0])-96, int(n[1])\n",
    "candidates=[[-2, -1], [-2, 1], [2, -1], [2, 1], [-1, -2], [-1, 2], [1, -2], [1, 2]] \n",
    "\n",
    "def go(candidates:list,x,y):\n",
    "    cnt=0\n",
    "    for c in candidates:  \n",
    "        dx,dy=x+c[0], y+c[1]\n",
    "        if dx > 0 and dx < 9 and dy > 0 and dy < 9 :\n",
    "            cnt += 1\n",
    "    return cnt\n",
    "\n",
    "go(candidates,x,y)"
   ]
  },
  {
   "cell_type": "markdown",
   "id": "logical-concentrate",
   "metadata": {},
   "source": [
    "### 게임 개발"
   ]
  },
  {
   "cell_type": "code",
   "execution_count": 188,
   "id": "bigger-bumper",
   "metadata": {},
   "outputs": [
    {
     "data": {
      "text/plain": [
       "[1, 1, 3]"
      ]
     },
     "execution_count": 188,
     "metadata": {},
     "output_type": "execute_result"
    }
   ],
   "source": [
    "turn_left(pos)"
   ]
  },
  {
   "cell_type": "code",
   "execution_count": 321,
   "id": "removed-georgia",
   "metadata": {},
   "outputs": [],
   "source": [
    "def get_left_sight(pos):\n",
    "    tmp_pos=pos.copy()\n",
    "    \n",
    "    tmp_pos=turn_left(tmp_pos)\n",
    "    # 북\n",
    "    if tmp_pos[-1]==0:\n",
    "        left_sight=m[tmp_pos[0]-1][tmp_pos[1]]\n",
    "\n",
    "    # 남\n",
    "    if tmp_pos[-1]==2:\n",
    "        left_sight=m[tmp_pos[0]+1][tmp_pos[1]]\n",
    "\n",
    "    # 서\n",
    "    if tmp_pos[-1]==3:\n",
    "        left_sight=m[tmp_pos[0]][tmp_pos[1]-1]\n",
    "\n",
    "    # 동\n",
    "    if tmp_pos[-1]==1:\n",
    "        left_sight=m[tmp_pos[0]][tmp_pos[1]+1]\n",
    "    \n",
    "    return left_sight\n",
    "\n",
    "def get_back_sight(pos):\n",
    "    tmp_pos=pos.copy()\n",
    "    tmp_pos[-1]=tmp_pos[-1]-2\n",
    "    if tmp_pos[-1] == -1:\n",
    "        tmp_pos[-1] = 3\n",
    "    if tmp_pos[-1] == -2:\n",
    "        tmp_pos[-1] = 2\n",
    "    # 북\n",
    "    if tmp_pos[-1]==0:\n",
    "        tmp_pos[0], tmp_pos[1]=tmp_pos[0]-1,tmp_pos[1]\n",
    "\n",
    "    # 남\n",
    "    if tmp_pos[-1]==2:\n",
    "        tmp_pos[0], tmp_pos[1]=tmp_pos[0]+1,tmp_pos[1]\n",
    "\n",
    "    # 서\n",
    "    if tmp_pos[-1]==3:\n",
    "        tmp_pos[0], tmp_pos[1]=tmp_pos[0],tmp_pos[1]-1\n",
    "\n",
    "    # 동\n",
    "    if tmp_pos[-1]==1:\n",
    "        tmp_pos[0], tmp_pos[1]=tmp_pos[0],tmp_pos[1]+1\n",
    "\n",
    "    return tmp_pos\n",
    "\n",
    "def turn_left(pos):\n",
    "    tmp_pos=pos.copy()\n",
    "    tmp_pos[-1]=tmp_pos[-1]-1\n",
    "    if tmp_pos[-1] == -1:\n",
    "        tmp_pos[-1]=3\n",
    "    return tmp_pos\n",
    "\n",
    "\n",
    "\n",
    "def move(pos, direction):\n",
    "    if direction == \"go\":\n",
    "        # 북\n",
    "        if pos[-1]==0:\n",
    "            pos[0]=pos[0]-1\n",
    "\n",
    "        # 남\n",
    "        if pos[-1]==2:\n",
    "            pos[0]=pos[0]+1\n",
    "\n",
    "        # 서\n",
    "        if pos[-1]==3:\n",
    "            pos[1]=pos[1]-1\n",
    "\n",
    "        # 동\n",
    "        if pos[-1]==1:\n",
    "            pos[1]=pos[1]+1\n",
    "            \n",
    "    elif direction == \"back\":\n",
    "        # 북\n",
    "        if pos[-1]==0:\n",
    "            pos[0]=pos[0]+1\n",
    "\n",
    "        # 남\n",
    "        if pos[-1]==2:\n",
    "            pos[0]=pos[0]-1\n",
    "\n",
    "        # 서\n",
    "        if pos[-1]==3:\n",
    "            pos[1]=pos[1]+1\n",
    "\n",
    "        # 동\n",
    "        if pos[-1]==1:\n",
    "            pos[1]=pos[1]-1\n",
    "    \n",
    "    return pos"
   ]
  },
  {
   "cell_type": "code",
   "execution_count": 322,
   "id": "imperial-depth",
   "metadata": {},
   "outputs": [
    {
     "name": "stdout",
     "output_type": "stream",
     "text": [
      "스타트 좌표 [1, 1, 0]\n",
      "step_1\n",
      "가보지 않은 칸 없음\n",
      "[1, 1, 3] 되었음\n",
      "step_2\n",
      "가보지 않은 칸 없음\n",
      "[1, 1, 2] 되었음\n",
      "step_3\n",
      "이동하지 않은 칸 발견 0\n",
      "왼쪽 전환 [1, 1, 1]\n",
      "전진 [1, 2, 1]\n",
      "step_4\n",
      "가보지 않은 칸 없음\n",
      "[1, 2, 0] 되었음\n",
      "step_5\n",
      "가보지 않은 칸 없음\n",
      "[1, 2, 3] 되었음\n",
      "step_6\n",
      "이동하지 않은 칸 발견 0\n",
      "왼쪽 전환 [1, 2, 2]\n",
      "전진 [2, 2, 2]\n",
      "step_7\n",
      "가보지 않은 칸 없음\n",
      "네방향 전부 이미 가봤거나 바다임\n",
      "좌표 [2, 2, 2] 방향 2 뒤의 지형 2\n",
      "뒤의 지형 좌표 1 2\n",
      "뒤로 한 칸 움직임\n",
      "[1, 2, 2]\n",
      "step_8\n",
      "가보지 않은 칸 없음\n",
      "네방향 전부 이미 가봤거나 바다임\n",
      "좌표 [1, 2, 2] 방향 2 뒤의 지형 1\n",
      "뒤의 지형 좌표 0 2\n",
      "2 뒤쪽 방향이 바다라 뒤로 못감\n",
      "3 8\n"
     ]
    }
   ],
   "source": [
    "size=[4,4]\n",
    "pos=[1,1,0] #\n",
    "global m\n",
    "m=[[1,1,1,1],[1,0,0,1],[1,1,0,1],[1,1,1,1]]\n",
    "m[pos[0]][pos[1]]=2\n",
    "cnt=1\n",
    "mv_cnt=0\n",
    "print(\"스타트 좌표\", pos)\n",
    "while True:\n",
    "    print(f\"step_{cnt}\")\n",
    "    # 바로 왼쪽방향에 아직 가보지 않은 칸이 있으면 \n",
    "    if get_left_sight(pos) == 0:\n",
    "        print(\"이동하지 않은 칸 발견\", get_left_sight(pos))\n",
    "        # 왼쪽이동\n",
    "        pos=turn_left(pos)\n",
    "        print(\"왼쪽 전환\", pos)\n",
    "        # 전진\n",
    "        pos=move(pos,\"go\"); mv_cnt+=1\n",
    "        print(\"전진\", pos)\n",
    "        \n",
    "        # 이동한 칸 색칠\n",
    "        m[pos[0]][pos[1]]=2\n",
    "\n",
    "    # 왼쪽방향에 아직 가보지 않은 칸이 없다면 \n",
    "    else:\n",
    "        print(\"가보지 않은 칸 없음\")\n",
    "        if m[pos[0]-1][pos[1]] != 0 and m[pos[0]][pos[1]-1] != 0 and m[pos[0]+1][pos[1]] != 0 and m[pos[0]][pos[1]+1] != 0 :\n",
    "            back_sight=get_back_sight(pos)\n",
    "            \n",
    "            print(\"네방향 전부 이미 가봤거나 바다임\")\n",
    "            print(\"좌표\",pos, \"방향\", pos[-1], \"뒤의 지형\", m[back_sight[0]][back_sight[1]])\n",
    "            print(\"뒤의 지형 좌표\", back_sight[0], back_sight[1])\n",
    "#             print(\"지도\",m)\n",
    "#             print(pos, m[back_sight[0]][back_sight[1]], \"방향\",pos[-1], print(m))\n",
    "            # 뒤쪽 방향이 바다인 칸이라 뒤로 갈 수 없으면 움직임 멈춘다\n",
    "            if m[back_sight[0]][back_sight[1]] == 1:\n",
    "                print(get_sight(pos,\"back\"),\"뒤쪽 방향이 바다라 뒤로 못감\")\n",
    "                break\n",
    "\n",
    "            # 바라보는 방향을 유지한채 한 칸 뒤로 간다\n",
    "            else:\n",
    "                print(\"뒤로 한 칸 움직임\")\n",
    "                pos=move(pos, \"back\"); mv_cnt+=1; cnt+=1\n",
    "                print(pos)\n",
    "                \n",
    "                continue\n",
    "        # 회전\n",
    "        pos=turn_left(pos)\n",
    "        print(pos, \"되었음\")\n",
    "        \n",
    "        \n",
    "        # step1로 돌아감\n",
    "        \n",
    "    # 네 방향 모두 이미 가본 칸이거나 바다라면\n",
    "    \n",
    "    \n",
    "    # step1로 돌아감\n",
    "    cnt+=1\n",
    "    if cnt == 100:break\n",
    "        \n",
    "print(mv_cnt,cnt)"
   ]
  }
 ],
 "metadata": {
  "kernelspec": {
   "display_name": "Python 3",
   "language": "python",
   "name": "python3"
  },
  "language_info": {
   "codemirror_mode": {
    "name": "ipython",
    "version": 3
   },
   "file_extension": ".py",
   "mimetype": "text/x-python",
   "name": "python",
   "nbconvert_exporter": "python",
   "pygments_lexer": "ipython3",
   "version": "3.6.12"
  }
 },
 "nbformat": 4,
 "nbformat_minor": 5
}
