{
 "cells": [
  {
   "cell_type": "code",
   "execution_count": 484,
   "id": "touched-heritage",
   "metadata": {},
   "outputs": [],
   "source": [
    "import time\n",
    "%config Completer.use_jedi = False"
   ]
  },
  {
   "cell_type": "markdown",
   "id": "forbidden-kingston",
   "metadata": {},
   "source": [
    "# Chapter. 3 그리디"
   ]
  },
  {
   "cell_type": "markdown",
   "id": "frequent-front",
   "metadata": {},
   "source": [
    "## 3-2 큰 수의 법칙"
   ]
  },
  {
   "cell_type": "markdown",
   "id": "corporate-thesis",
   "metadata": {},
   "source": [
    "### My"
   ]
  },
  {
   "cell_type": "code",
   "execution_count": 714,
   "id": "comfortable-horizontal",
   "metadata": {},
   "outputs": [
    {
     "name": "stdout",
     "output_type": "stream",
     "text": [
      "46\n",
      "Executed Time : 0.0000000000\n"
     ]
    }
   ],
   "source": [
    "n,m,k=5,8,3\n",
    "data=[2,4,5,4,6]\n",
    "\n",
    "data = sorted(data)[-2:]\n",
    "\n",
    "start=time.time()\n",
    "\n",
    "c=0\n",
    "for i in range((m//k)):    \n",
    "    c += data[1]*k + data[0]\n",
    "c+= data[1]*(m%(k+1))\n",
    "\n",
    "print(c)\n",
    "print(f\"Executed Time : {time.time()-start:.10f}\")"
   ]
  },
  {
   "cell_type": "markdown",
   "id": "first-yesterday",
   "metadata": {},
   "source": [
    "- 2회차"
   ]
  },
  {
   "cell_type": "code",
   "execution_count": 736,
   "id": "faced-furniture",
   "metadata": {},
   "outputs": [
    {
     "data": {
      "text/plain": [
       "46"
      ]
     },
     "execution_count": 736,
     "metadata": {},
     "output_type": "execute_result"
    }
   ],
   "source": [
    "n,m,k=5,8,3\n",
    "data=[2,4,5,4,6]\n",
    "data.sort(reverse=True)\n",
    "(m//(k+1))*(data[0]*k+data[1])+(m%(k+1))*f"
   ]
  },
  {
   "cell_type": "code",
   "execution_count": 731,
   "id": "announced-actor",
   "metadata": {},
   "outputs": [
    {
     "data": {
      "text/plain": [
       "2"
      ]
     },
     "execution_count": 731,
     "metadata": {},
     "output_type": "execute_result"
    }
   ],
   "source": []
  },
  {
   "cell_type": "markdown",
   "id": "touched-round",
   "metadata": {},
   "source": [
    "### 예시"
   ]
  },
  {
   "cell_type": "code",
   "execution_count": 56,
   "id": "limiting-crack",
   "metadata": {},
   "outputs": [
    {
     "name": "stdout",
     "output_type": "stream",
     "text": [
      "46\n",
      "Executed Time : 0.00000000000000000000\n"
     ]
    }
   ],
   "source": [
    "start=time.time()\n",
    "\n",
    "n,m,k=5,8,3\n",
    "data=[2,4,5,4,6]\n",
    "data.sort()\n",
    "\n",
    "first  = data[n-1]\n",
    "second = data[n-2]\n",
    "\n",
    "count = (m//(k+1))*k + m%(k+1)\n",
    "\n",
    "result = count*first + (m-count)*second\n",
    "\n",
    "print(result)\n",
    "print(f\"Executed Time : {time.time()-start:.20f}\")"
   ]
  },
  {
   "cell_type": "markdown",
   "id": "practical-recording",
   "metadata": {},
   "source": [
    "## 3-3 숫자 카드 게임"
   ]
  },
  {
   "cell_type": "code",
   "execution_count": 87,
   "id": "technical-velvet",
   "metadata": {},
   "outputs": [
    {
     "data": {
      "text/plain": [
       "[['1'], ['2'], ['3']]"
      ]
     },
     "execution_count": 87,
     "metadata": {},
     "output_type": "execute_result"
    }
   ],
   "source": [
    "data"
   ]
  },
  {
   "cell_type": "code",
   "execution_count": 91,
   "id": "efficient-michigan",
   "metadata": {},
   "outputs": [
    {
     "name": "stdin",
     "output_type": "stream",
     "text": [
      " 2 2\n",
      " 1 2 3\n",
      " 4 5 6\n"
     ]
    },
    {
     "data": {
      "text/plain": [
       "[[1, 2, 3], [4, 5, 6]]"
      ]
     },
     "execution_count": 91,
     "metadata": {},
     "output_type": "execute_result"
    }
   ],
   "source": [
    "# data=[[3,1,2],[4,1,4],[2,2,2]]\n",
    "# data=[[7,3,1,8],[3,3,3,4]]"
   ]
  },
  {
   "cell_type": "markdown",
   "id": "extra-chance",
   "metadata": {},
   "source": [
    "### My"
   ]
  },
  {
   "cell_type": "code",
   "execution_count": 93,
   "id": "cardiovascular-palestine",
   "metadata": {},
   "outputs": [
    {
     "name": "stdin",
     "output_type": "stream",
     "text": [
      " 2 4\n",
      " 7 3 1 8\n",
      " 3 3 3 4\n"
     ]
    },
    {
     "name": "stdout",
     "output_type": "stream",
     "text": [
      "3\n"
     ]
    }
   ],
   "source": [
    "n, m = map(int, input().split())\n",
    "data = [list(map(int, input().split())) for _ in range(n)]\n",
    "\n",
    "idx  = 0\n",
    "idxs = []\n",
    "mns  = []\n",
    "\n",
    "for l in data:\n",
    "    idx+=1\n",
    "    idxs.append(idx)\n",
    "    mns.append(min(l))\n",
    "    \n",
    "print(max(mns))"
   ]
  },
  {
   "cell_type": "markdown",
   "id": "atlantic-bhutan",
   "metadata": {},
   "source": [
    "- 2회차"
   ]
  },
  {
   "cell_type": "code",
   "execution_count": 740,
   "id": "minute-expert",
   "metadata": {},
   "outputs": [
    {
     "data": {
      "text/plain": [
       "3"
      ]
     },
     "execution_count": 740,
     "metadata": {},
     "output_type": "execute_result"
    }
   ],
   "source": [
    "n,m=3,3\n",
    "data=[\n",
    "    [3,1,2],\n",
    "    [4,1,4],\n",
    "    [2,2,2]]\n",
    "\n",
    "data=[\n",
    "    [7,3,1,8],\n",
    "    [3,3,3,4]]\n",
    "\n",
    "max([min(i) for i in data])"
   ]
  },
  {
   "cell_type": "code",
   "execution_count": null,
   "id": "parliamentary-garden",
   "metadata": {},
   "outputs": [],
   "source": []
  },
  {
   "cell_type": "markdown",
   "id": "sweet-penalty",
   "metadata": {},
   "source": [
    "## 3-4 1이 될 때까지"
   ]
  },
  {
   "cell_type": "markdown",
   "id": "periodic-implementation",
   "metadata": {},
   "source": [
    "### My"
   ]
  },
  {
   "cell_type": "code",
   "execution_count": 750,
   "id": "medieval-solomon",
   "metadata": {},
   "outputs": [
    {
     "name": "stdout",
     "output_type": "stream",
     "text": [
      "1 6\n"
     ]
    }
   ],
   "source": [
    "# n,k=map(int, input().split())\n",
    "n,k=25,3\n",
    "cnt=0\n",
    "while n != 1:\n",
    "    if n%k == 0:\n",
    "        n //= k\n",
    "    else:\n",
    "        n -= 1\n",
    "    cnt+=1\n",
    "        \n",
    "print(n,cnt)"
   ]
  },
  {
   "cell_type": "markdown",
   "id": "bulgarian-definition",
   "metadata": {},
   "source": [
    "- 2회차"
   ]
  },
  {
   "cell_type": "code",
   "execution_count": null,
   "id": "decent-consolidation",
   "metadata": {},
   "outputs": [],
   "source": []
  },
  {
   "cell_type": "markdown",
   "id": "aggressive-paraguay",
   "metadata": {},
   "source": [
    "### 예시"
   ]
  },
  {
   "cell_type": "code",
   "execution_count": 102,
   "id": "french-container",
   "metadata": {},
   "outputs": [
    {
     "name": "stdin",
     "output_type": "stream",
     "text": [
      " 25 3\n"
     ]
    },
    {
     "name": "stdout",
     "output_type": "stream",
     "text": [
      "6\n"
     ]
    }
   ],
   "source": [
    "n,k=map(int, input().split())\n",
    "result=0\n",
    "\n",
    "while True:\n",
    "    #( N == K로 나누어떨어지는 수)가 될 때까지 1씩 빼기\n",
    "    target=(n//k)*k\n",
    "    result+=(n-target)\n",
    "    n=target\n",
    "    \n",
    "    if n < k :\n",
    "        break\n",
    "    # k로 나누기\n",
    "    result += 1\n",
    "    n //= k\n",
    "    \n",
    "result += (n-1)\n",
    "print(result)"
   ]
  },
  {
   "cell_type": "markdown",
   "id": "supported-account",
   "metadata": {},
   "source": [
    "## Q1 모험가 길드"
   ]
  },
  {
   "cell_type": "code",
   "execution_count": 713,
   "id": "dominant-branch",
   "metadata": {},
   "outputs": [
    {
     "name": "stdin",
     "output_type": "stream",
     "text": [
      " 2 3 1 2 2\n"
     ]
    },
    {
     "name": "stdout",
     "output_type": "stream",
     "text": [
      "[1, 2, 2, 2, 3]\n",
      "v :  1 count :  1 result :  0\n",
      "result + 1\n",
      "v :  2 count :  1 result :  1\n",
      "v :  2 count :  2 result :  1\n",
      "result + 1\n",
      "v :  2 count :  1 result :  2\n",
      "v :  3 count :  2 result :  2\n",
      "2\n"
     ]
    }
   ],
   "source": [
    "# x=[2,3,1,2,2]\n",
    "x=list(map(int, input().split()))\n",
    "x=sorted(x)\n",
    "print(x)\n",
    "count=0\n",
    "result=0\n",
    "for i in range(len(x)):\n",
    "    v=x[i]\n",
    "    count+=1\n",
    "    print(\"v : \", v, \"count : \", count, \"result : \", result)\n",
    "    if count >= v:\n",
    "        print(\"result + 1\")\n",
    "#         point = x[i]\n",
    "        result += 1\n",
    "        count = 0\n",
    "print(result)"
   ]
  },
  {
   "cell_type": "markdown",
   "id": "brown-party",
   "metadata": {},
   "source": [
    "- 2회차"
   ]
  },
  {
   "cell_type": "code",
   "execution_count": 783,
   "id": "following-debate",
   "metadata": {},
   "outputs": [
    {
     "data": {
      "text/plain": [
       "2"
      ]
     },
     "execution_count": 783,
     "metadata": {},
     "output_type": "execute_result"
    }
   ],
   "source": [
    "n=5\n",
    "data=[2,3,1,2,2]\n",
    "data.sort()\n",
    "stage=[]\n",
    "result = 0\n",
    "while len(data) != 0:\n",
    "    gp = heapq.heappop(data)\n",
    "    stage.append(gp)\n",
    "    if len(stage) >= max(stage):\n",
    "        stage=[]\n",
    "        result += 1\n",
    "result"
   ]
  },
  {
   "cell_type": "code",
   "execution_count": 785,
   "id": "useful-antibody",
   "metadata": {},
   "outputs": [
    {
     "name": "stdout",
     "output_type": "stream",
     "text": [
      "2\n"
     ]
    }
   ],
   "source": [
    "n=5\n",
    "data=[2,3,1,2,2]\n",
    "data.sort()\n",
    "cnt, result=0,0\n",
    "\n",
    "for people in data:\n",
    "    cnt += 1\n",
    "    if cnt >= people:\n",
    "        result += 1\n",
    "        cnt = 0\n",
    "print(result)"
   ]
  },
  {
   "cell_type": "markdown",
   "id": "exterior-bonus",
   "metadata": {},
   "source": [
    "- 해답"
   ]
  },
  {
   "cell_type": "code",
   "execution_count": null,
   "id": "adult-somewhere",
   "metadata": {},
   "outputs": [],
   "source": []
  },
  {
   "cell_type": "markdown",
   "id": "important-minister",
   "metadata": {},
   "source": [
    "## Q2 곱하기 혹은 더하기"
   ]
  },
  {
   "cell_type": "code",
   "execution_count": 50,
   "id": "original-monster",
   "metadata": {},
   "outputs": [
    {
     "name": "stdin",
     "output_type": "stream",
     "text": [
      " 02984\n"
     ]
    },
    {
     "data": {
      "text/plain": [
       "576"
      ]
     },
     "execution_count": 50,
     "metadata": {},
     "output_type": "execute_result"
    }
   ],
   "source": [
    "s=str(input())\n",
    "result=int(s[0])\n",
    "for i in s[1:]:\n",
    "    i=int(i)\n",
    "    if i in [0,1] or result in [0,1]:\n",
    "        result += i\n",
    "    else:\n",
    "        result *= i\n",
    "result"
   ]
  },
  {
   "cell_type": "markdown",
   "id": "swedish-venue",
   "metadata": {},
   "source": [
    "- 2회차"
   ]
  },
  {
   "cell_type": "code",
   "execution_count": 793,
   "id": "hydraulic-split",
   "metadata": {},
   "outputs": [
    {
     "name": "stdin",
     "output_type": "stream",
     "text": [
      " 567\n"
     ]
    },
    {
     "data": {
      "text/plain": [
       "210"
      ]
     },
     "execution_count": 793,
     "metadata": {},
     "output_type": "execute_result"
    }
   ],
   "source": [
    "string=str(input())\n",
    "result=int(string[0])\n",
    "for s in string[1:]:\n",
    "    s=int(s)\n",
    "    if s in [0,1] or result in [0,1] : result += s\n",
    "    else : result *= s\n",
    "result"
   ]
  },
  {
   "cell_type": "code",
   "execution_count": null,
   "id": "labeled-matter",
   "metadata": {},
   "outputs": [],
   "source": []
  },
  {
   "cell_type": "code",
   "execution_count": null,
   "id": "tight-ticket",
   "metadata": {},
   "outputs": [],
   "source": []
  },
  {
   "cell_type": "markdown",
   "id": "involved-communication",
   "metadata": {},
   "source": [
    "## Q3 문자열 뒤집기"
   ]
  },
  {
   "cell_type": "code",
   "execution_count": 52,
   "id": "split-pilot",
   "metadata": {},
   "outputs": [
    {
     "name": "stdout",
     "output_type": "stream",
     "text": [
      "[0, 1, 0, 1, 0, 1, 0, 1]\n"
     ]
    },
    {
     "data": {
      "text/plain": [
       "4"
      ]
     },
     "execution_count": 52,
     "metadata": {},
     "output_type": "execute_result"
    }
   ],
   "source": [
    "data=[0,0,0,1,1,0,0,0,1,1,1,0,1,0,1]\n",
    "sub=[]\n",
    "for i in range(len(data)-1):\n",
    "    if data[i] == data[i+1]:\n",
    "        continue\n",
    "    else:\n",
    "        sub.append(data[i])\n",
    "    \n",
    "sub.append(data[-1])\n",
    "print(sub)\n",
    "min([sub.count(0), sub.count(1)])"
   ]
  },
  {
   "cell_type": "markdown",
   "id": "lyric-fabric",
   "metadata": {},
   "source": [
    "- 2회차"
   ]
  },
  {
   "cell_type": "code",
   "execution_count": 804,
   "id": "younger-cyprus",
   "metadata": {},
   "outputs": [
    {
     "data": {
      "text/plain": [
       "4"
      ]
     },
     "execution_count": 804,
     "metadata": {},
     "output_type": "execute_result"
    }
   ],
   "source": [
    "string=\"000110001110101\"\n",
    "t=[]\n",
    "\n",
    "start=string[0]\n",
    "t.append(int(start))\n",
    "\n",
    "for s in string[1:] :\n",
    "    if s == start:\n",
    "        continue\n",
    "    else:\n",
    "        t.append(int(s))\n",
    "        start=s\n",
    "max([t.count(0), t.count(1)])"
   ]
  },
  {
   "cell_type": "code",
   "execution_count": null,
   "id": "wired-slovakia",
   "metadata": {},
   "outputs": [],
   "source": []
  },
  {
   "cell_type": "markdown",
   "id": "educational-hungary",
   "metadata": {},
   "source": [
    "## Q4 만들 수 없는 금액"
   ]
  },
  {
   "cell_type": "code",
   "execution_count": 101,
   "id": "thousand-mainland",
   "metadata": {},
   "outputs": [
    {
     "data": {
      "text/plain": [
       "[1, 2, 3, 4]"
      ]
     },
     "execution_count": 101,
     "metadata": {},
     "output_type": "execute_result"
    }
   ],
   "source": [
    "list(range(1,5))"
   ]
  },
  {
   "cell_type": "code",
   "execution_count": 53,
   "id": "touched-siemens",
   "metadata": {},
   "outputs": [
    {
     "name": "stdin",
     "output_type": "stream",
     "text": [
      " 5\n",
      " 3 2 1 1 9\n"
     ]
    },
    {
     "name": "stdout",
     "output_type": "stream",
     "text": [
      "5\n",
      "6\n",
      "7\n",
      "16\n",
      "3\n",
      "4\n",
      "13\n",
      "2\n",
      "11\n",
      "10\n"
     ]
    },
    {
     "data": {
      "text/plain": [
       "8"
      ]
     },
     "execution_count": 53,
     "metadata": {},
     "output_type": "execute_result"
    }
   ],
   "source": [
    "n=int(input())\n",
    "data=list(map(int, input().split()))\n",
    "\n",
    "psb=[]\n",
    "for i in range(len(data)):\n",
    "    v=data[i]\n",
    "    psb.append(v)\n",
    "    for j in range(i+1,len(data)):\n",
    "        v += data[j]\n",
    "        psb.append(v)\n",
    "        print(v)\n",
    "psb=set(psb)\n",
    "min(set(range(min(psb), max(psb)+1)) - psb)"
   ]
  },
  {
   "cell_type": "markdown",
   "id": "appropriate-titanium",
   "metadata": {},
   "source": [
    "- 2회차"
   ]
  },
  {
   "cell_type": "code",
   "execution_count": 823,
   "id": "departmental-somewhere",
   "metadata": {},
   "outputs": [
    {
     "name": "stdout",
     "output_type": "stream",
     "text": [
      "8\n"
     ]
    }
   ],
   "source": [
    "n-5\n",
    "data=[3,2,1,1,9]\n",
    "target=1\n",
    "data.sort()\n",
    "\n",
    "for x in data:\n",
    "    if x > target:\n",
    "        break\n",
    "    target += x\n",
    "    \n",
    "print(target)\n"
   ]
  },
  {
   "cell_type": "markdown",
   "id": "beneficial-belief",
   "metadata": {},
   "source": [
    "- 해답"
   ]
  },
  {
   "cell_type": "code",
   "execution_count": 822,
   "id": "liquid-shelf",
   "metadata": {},
   "outputs": [
    {
     "name": "stdin",
     "output_type": "stream",
     "text": [
      " 5\n",
      " 1 2 5 10 12\n"
     ]
    },
    {
     "name": "stdout",
     "output_type": "stream",
     "text": [
      "x : 1, target : 1\n",
      "target :  2\n",
      "=======\n",
      "x : 2, target : 2\n",
      "target :  4\n",
      "=======\n",
      "x : 5, target : 4\n",
      "4\n"
     ]
    }
   ],
   "source": [
    "n=int(input())\n",
    "data=list(map(int, input().split()))\n",
    "data.sort()\n",
    "\n",
    "target=1\n",
    "for x in data:\n",
    "    print(f\"x : {x}, target : {target}\")\n",
    "    if target < x:\n",
    "        break\n",
    "    target += x\n",
    "    print(\"target : \", target)\n",
    "    print(\"=======\")\n",
    "print(target)"
   ]
  },
  {
   "cell_type": "code",
   "execution_count": null,
   "id": "administrative-tonight",
   "metadata": {},
   "outputs": [],
   "source": []
  },
  {
   "cell_type": "markdown",
   "id": "solar-pacific",
   "metadata": {},
   "source": [
    "## Q5 볼링공 고르기"
   ]
  },
  {
   "cell_type": "markdown",
   "id": "mounted-recipe",
   "metadata": {},
   "source": [
    "- itertools 사용"
   ]
  },
  {
   "cell_type": "code",
   "execution_count": 127,
   "id": "knowing-calcium",
   "metadata": {},
   "outputs": [
    {
     "data": {
      "text/plain": [
       "8"
      ]
     },
     "execution_count": 127,
     "metadata": {},
     "output_type": "execute_result"
    }
   ],
   "source": [
    "import itertools\n",
    "\n",
    "# n,m=map(int, input().split())\n",
    "n=5\n",
    "m=3\n",
    "data=[1,3,2,3,2]\n",
    "result=0\n",
    "for d in list(itertools.combinations(data,2)):\n",
    "    if d[0] == d[1]:\n",
    "        continue\n",
    "    else:\n",
    "        result += 1\n",
    "result"
   ]
  },
  {
   "cell_type": "markdown",
   "id": "quiet-knitting",
   "metadata": {},
   "source": [
    "- 그냥"
   ]
  },
  {
   "cell_type": "code",
   "execution_count": 850,
   "id": "documentary-sunrise",
   "metadata": {},
   "outputs": [
    {
     "data": {
      "text/plain": [
       "12"
      ]
     },
     "execution_count": 850,
     "metadata": {},
     "output_type": "execute_result"
    }
   ],
   "source": [
    "n=6\n",
    "m=4\n",
    "data=[1,2,3,3,3,4]\n",
    "result=0\n",
    "for i in range(len(data)):\n",
    "    for j in range(i, len(data)):\n",
    "        if data[i] != data[j]:\n",
    "            result+=1\n",
    "result"
   ]
  },
  {
   "cell_type": "markdown",
   "id": "weird-leone",
   "metadata": {},
   "source": [
    "- 2회차"
   ]
  },
  {
   "cell_type": "code",
   "execution_count": 852,
   "id": "elect-popularity",
   "metadata": {},
   "outputs": [
    {
     "name": "stdout",
     "output_type": "stream",
     "text": [
      "comb : 15.0\n",
      "len(data) : 6\n",
      "len(set(data)) : 4\n"
     ]
    },
    {
     "data": {
      "text/plain": [
       "13.0"
      ]
     },
     "execution_count": 852,
     "metadata": {},
     "output_type": "execute_result"
    }
   ],
   "source": [
    "import math\n",
    "n,m=6,4\n",
    "data=[1,2,3,3,3,4]\n",
    "\n",
    "f = math.factorial\n",
    "comb=f(n) / f(2) / f(n-2)\n",
    "print(f\"comb : {comb}\")\n",
    "print(f\"len(data) : {len(data)}\")\n",
    "print(f\"len(set(data)) : {len(set(data))}\")\n",
    "comb-(len(data)-len(set(data)))"
   ]
  },
  {
   "cell_type": "code",
   "execution_count": null,
   "id": "american-retrieval",
   "metadata": {},
   "outputs": [],
   "source": []
  },
  {
   "cell_type": "markdown",
   "id": "activated-insulation",
   "metadata": {},
   "source": [
    "- 답안"
   ]
  },
  {
   "cell_type": "code",
   "execution_count": 854,
   "id": "superb-disney",
   "metadata": {},
   "outputs": [
    {
     "name": "stdin",
     "output_type": "stream",
     "text": [
      " 6 4\n",
      " 1 1 2 2 3 4\n"
     ]
    },
    {
     "name": "stdout",
     "output_type": "stream",
     "text": [
      "[0, 2, 2, 1, 1, 0, 0, 0, 0, 0, 0]\n",
      "n : 4, result : 8\n",
      "n : 2, result : 12\n",
      "n : 1, result : 13\n",
      "n : 0, result : 13\n",
      "13\n"
     ]
    }
   ],
   "source": [
    "n,m=map(int, input().split())\n",
    "data=list(map(int, input().split()))\n",
    "\n",
    "# 1부터 10까지의 무게를 담을 수 있는 리스트\n",
    "array = [0]*11\n",
    "\n",
    "for x in data:\n",
    "    array[x] += 1\n",
    "print(array)\n",
    "result = 0\n",
    "# 1부터 m까지의 각 무게에 대하여 처리\n",
    "\n",
    "for i in range(1,m+1):\n",
    "    n -= array[i]\n",
    "    result += array[i]*n\n",
    "    print(f\"n : {n}, result : {result}\")\n",
    "print(result)"
   ]
  },
  {
   "cell_type": "markdown",
   "id": "adjustable-seven",
   "metadata": {},
   "source": [
    "- 답안 아이디어로 코딩"
   ]
  },
  {
   "cell_type": "code",
   "execution_count": 855,
   "id": "mental-tension",
   "metadata": {},
   "outputs": [
    {
     "name": "stdin",
     "output_type": "stream",
     "text": [
      " 6 4\n",
      " 1 1 2 2 3 4\n"
     ]
    },
    {
     "name": "stdout",
     "output_type": "stream",
     "text": [
      "[0, 2, 2, 1, 1, 0, 0, 0, 0, 0, 0]\n",
      "n : 4, result : 8\n",
      "n : 2, result : 12\n",
      "n : 1, result : 13\n",
      "n : 0, result : 13\n"
     ]
    },
    {
     "data": {
      "text/plain": [
       "13"
      ]
     },
     "execution_count": 855,
     "metadata": {},
     "output_type": "execute_result"
    }
   ],
   "source": [
    "n,m=map(int, input().split())\n",
    "data=list(map(int, input().split()))\n",
    "result = 0\n",
    "array=[0]*11\n",
    "for d in data:\n",
    "    array[d]+=1\n",
    "print(array)\n",
    "for i in array:\n",
    "    if i == 0 : continue\n",
    "    n -= i\n",
    "    result += n*i\n",
    "    print(f\"n : {n}, result : {result}\")\n",
    "result"
   ]
  },
  {
   "cell_type": "markdown",
   "id": "active-letters",
   "metadata": {},
   "source": [
    "\n",
    "## Q6 무지의 먹방라이브\n",
    "\n",
    "https://programmers.co.kr/learn/courses/30/lessons/42891?language=python3"
   ]
  },
  {
   "cell_type": "code",
   "execution_count": 699,
   "id": "american-playing",
   "metadata": {},
   "outputs": [
    {
     "name": "stdout",
     "output_type": "stream",
     "text": [
      "시작 :  [3, 1, 2, 4]\n",
      "1 초\n",
      "1 번 째 음식 먹기\n",
      "food_times :  [2, 1, 2, 4]\n",
      "============================\n",
      "2 초\n",
      "2 번 째 음식 먹기\n",
      "food_times :  [2, 0, 2, 4]\n",
      "============================\n",
      "3 초\n",
      "3 번 째 음식 먹기\n",
      "food_times :  [2, 0, 1, 4]\n",
      "============================\n",
      "4 초\n",
      "4 번 째 음식 먹기\n",
      "food_times :  [2, 0, 1, 3]\n",
      "============================\n",
      "5 초\n",
      "1 번 째 음식 먹기\n",
      "food_times :  [1, 0, 1, 3]\n",
      "============================\n",
      "6 초\n",
      "2 번 째 음식 먹기\n",
      "2 번 째 음식 비었음\n",
      "3 번 째 음식 먹기\n",
      "food_times :  [1, 0, 0, 3]\n",
      "============================\n",
      "7 초\n",
      "3 번 째 음식 먹기\n",
      "3 번 째 음식 비었음\n",
      "4 번 째 음식 먹기\n",
      "food_times :  [1, 0, 0, 2]\n",
      "============================\n",
      "8 초\n",
      "4 번 째 음식 먹기\n",
      "food_times :  [1, 0, 0, 1]\n",
      "============================\n",
      "다음에 먹어야 할 음식은\n",
      "1 번 째 음식\n"
     ]
    }
   ],
   "source": [
    "food_times=[3,1,2,4]\n",
    "k=8\n",
    "answer = 0\n",
    "# k+2까지 도는 이유는 0초에서 5초까지 도니까 range에 k+1을 해줘야 5초까지 돌고\n",
    "# 그 다음에 한 번 더 돌고 끝내야 통신장애가 끝난 이후의 것으로 변수 c가 업데이트 되기 때문\n",
    "print(\"시작 : \", food_times)\n",
    "\n",
    "for i in range(k+2):\n",
    "    \n",
    "    # 0,1,2가 돌아야 하므로 i에서 몫*길이를 뺀다\n",
    "    answer = i-(i//len(food_times))*len(food_times)\n",
    "    if i+1 == k+1:\n",
    "        \n",
    "        print(\"다음에 먹어야 할 음식은\") \n",
    "        break\n",
    "    else:\n",
    "        print(i+1,\"초\")\n",
    "        print(f\"{answer+1} 번 째 음식 먹기\")\n",
    "    \n",
    "    if food_times[answer] != 0:\n",
    "        food_times[answer] = food_times[answer]-1\n",
    "        print(\"food_times : \", food_times)\n",
    "    else:\n",
    "        for j in range(len(food_times[answer:])):\n",
    "            if food_times[j+answer]!=0:\n",
    "#                 print(food_times[answer:])\n",
    "                non_zero_i=answer+j\n",
    "                print(f\"{answer+1} 번 째 음식 비었음\")\n",
    "                print(f\"{non_zero_i+1} 번 째 음식 먹기\")\n",
    "                break\n",
    "        food_times[non_zero_i]=food_times[non_zero_i]-1\n",
    "        print(\"food_times : \", food_times)\n",
    "        \n",
    "    print(\"============================\")\n",
    "\n",
    "if sum(food_times[answer:] ) == 0:\n",
    "    non_zero_i = 1\n",
    "    print(non_zero_i, \"번 째 음식\")    \n",
    "    \n",
    "else:\n",
    "    # 음식 이름이 1번부터 시작하니까 +1 해준다\n",
    "    for j in range(len(food_times[answer:])):\n",
    "        if food_times[answer+j]!=0:\n",
    "            non_zero_i=answer+j\n",
    "            break\n",
    "    print(non_zero_i+1,\"번 째 음식\")        "
   ]
  },
  {
   "cell_type": "markdown",
   "id": "instrumental-harvard",
   "metadata": {},
   "source": [
    "- 해답"
   ]
  },
  {
   "cell_type": "code",
   "execution_count": 856,
   "id": "strong-distinction",
   "metadata": {},
   "outputs": [
    {
     "name": "stdout",
     "output_type": "stream",
     "text": [
      "[(2, 3), (2, 4), (6, 2), (8, 1)]\n",
      "q[0][0] : 2, length : 4, previous : 0\n",
      "[(2, 3), (2, 4), (6, 2), (8, 1)]\n",
      "now : 2, length : 3, previous : 2\n",
      "[(2, 4), (8, 1), (6, 2)]\n",
      "now : 2, length : 2, previous : 2\n",
      "sorted(q, key=lambda x:x[1]) :  [(8, 1), (6, 2)]\n",
      "(k-sum_value)%length :  1\n",
      "result[(k-sum_value)%length][1] :  2\n"
     ]
    },
    {
     "data": {
      "text/plain": [
       "2"
      ]
     },
     "execution_count": 856,
     "metadata": {},
     "output_type": "execute_result"
    }
   ],
   "source": [
    "import heapq\n",
    "\n",
    "def solution(food_times,k):\n",
    "    if sum(food_times) <= k:\n",
    "        return -1\n",
    "    \n",
    "    q=[]\n",
    "    for i in range(len(food_times)):\n",
    "        #(음식 시간, 음식 번호) 형태로 우선순위 큐에 삽입\n",
    "        heapq.heappush(q, (food_times[i], i+1))\n",
    "    print(q)\n",
    "    \n",
    "    sum_value = 0 # 먹기 위해 사용한 시간\n",
    "    previous = 0 # 직전에 다 먹은 음식 시간\n",
    "    length = len(food_times) # 남은 음식의 개수\n",
    "    \n",
    "    print(f\"q[0][0] : {q[0][0]}, length : {length}, previous : {previous}\")\n",
    "    while sum_value + ((q[0][0] - previous)*length) <= k:\n",
    "        print(q)\n",
    "        now=heapq.heappop(q)[0] # 제일 짧은 시간 추출\n",
    "        sum_value += (now-previous)*length\n",
    "        length -= 1 # 다 먹었다는 뜻이니까 length가 하나 줄어든다\n",
    "        previous = now # 이전 음식시간 재설정\n",
    "        print(f\"now : {now}, length : {length}, previous : {previous}\")\n",
    "    \n",
    "    result=sorted(q, key=lambda x:x[1])\n",
    "    \n",
    "    print(\"sorted(q, key=lambda x:x[1]) : \", sorted(q, key=lambda x:x[1]))\n",
    "    print(\"(k-sum_value)%length : \", (k-sum_value)%length)\n",
    "    print(\"result[(k-sum_value)%length][1] : \", result[(k-sum_value)%length][1])\n",
    "    \n",
    "    return result[(k-sum_value)%length][1]\n",
    "food_times=[8,6,2,2]\n",
    "k=15\n",
    "solution(food_times, k)"
   ]
  },
  {
   "cell_type": "code",
   "execution_count": 706,
   "id": "special-jimmy",
   "metadata": {},
   "outputs": [
    {
     "data": {
      "text/plain": [
       "(3, 1)"
      ]
     },
     "execution_count": 706,
     "metadata": {},
     "output_type": "execute_result"
    }
   ],
   "source": [
    "food_times=[3,1,2]\n",
    "k=5\n",
    "q=[]\n",
    "\n",
    "if sum(food_times) <= k:\n",
    "    print(\"-1\")\n",
    "#     return -1\n",
    "\n",
    "for i in range(len(food_times)):\n",
    "    heapq.heappush(q, (food_times[i],i+1))\n",
    "\n",
    "sum_value=0\n",
    "previous=0\n",
    "length=len(food_times)\n",
    "\n",
    "while sum_value + (q[0][0] - previous) * length <= k:\n",
    "    now = heapq.heappop(q)[0]\n",
    "    sum_value += (now-previous)*length\n",
    "    length -= 1\n",
    "    previous = now\n",
    "    \n",
    "result=sorted(q, key=lambda x:x[1])\n",
    "result[(k-sum_value)%length]\n",
    "    "
   ]
  },
  {
   "cell_type": "markdown",
   "id": "active-saudi",
   "metadata": {},
   "source": [
    "## 백준 1931번 - 회의실 배정(정답률 : 29%)\n",
    "\n",
    "https://www.acmicpc.net/problem/1931"
   ]
  },
  {
   "cell_type": "code",
   "execution_count": null,
   "id": "behavioral-connecticut",
   "metadata": {},
   "outputs": [],
   "source": [
    "# 회의 수 카운트\n",
    "c=0        \n",
    "# result = 0\n",
    "# 반복문\n",
    "    # 앞 뒤가 같으면 \n",
    "        # 카운트\n",
    "        # continue\n",
    "    # 앞에꺼가 뒤에꺼에 포함되면\n",
    "        # 뒤에꺼가 짧으면\n",
    "            # 앞에꺼 제거\n",
    "             # continue\n",
    "            \n",
    "        # 앞에꺼가 짧으면\n",
    "            # 뒤에꺼 제거 \n",
    "            # continue\n",
    "    # 앞에꺼가 뒤에꺼에 포함되지 않으면\n",
    "        \n",
    "        # 제일 앞에꺼 지우면서 카운트 1\n",
    "        # result += 1\n",
    "        # print(data[0])\n",
    "        \n",
    "        # continue"
   ]
  },
  {
   "cell_type": "code",
   "execution_count": 38,
   "id": "sitting-injury",
   "metadata": {
    "tags": []
   },
   "outputs": [
    {
     "name": "stdin",
     "output_type": "stream",
     "text": [
      " 5\n",
      " 100 105\n",
      " 106 110\n",
      " 110 115\n",
      " 30 40\n",
      " 40 50\n"
     ]
    },
    {
     "name": "stdout",
     "output_type": "stream",
     "text": [
      "5\n"
     ]
    }
   ],
   "source": [
    "n = int(input())\n",
    "data = [list(map(int, input().split())) for i in range(n)]\n",
    "data = sorted(data, key=lambda x:x[0])\n",
    "\n",
    "c=0\n",
    "i=0\n",
    "selected=data[0]\n",
    "while i < n :\n",
    "    if data[0][0] == data[0][1] :\n",
    "        c += 1 \n",
    "        i += 1 \n",
    "        data.pop(0) \n",
    "        continue\n",
    "        \n",
    "    if len(data)>1:\n",
    "        b,a = data[0], data[1]\n",
    "    else:\n",
    "        b,a = selected, data[0]\n",
    "    if b[1] > a[0] : \n",
    "        if b[1] - b[0] <= a[1] - b[0] : \n",
    "            data.pop(1)\n",
    "            i += 1\n",
    "            continue\n",
    "        else :\n",
    "            data.pop(0)\n",
    "            i += 1\n",
    "            continue\n",
    "    else :\n",
    "        c += 1\n",
    "        selected=data[0]\n",
    "        data.pop(0)\n",
    "        i += 1\n",
    "        continue\n",
    "print(c)"
   ]
  },
  {
   "cell_type": "code",
   "execution_count": 4,
   "id": "handled-airport",
   "metadata": {},
   "outputs": [
    {
     "name": "stdout",
     "output_type": "stream",
     "text": [
      "initial selected :  [0, 6]\n",
      "selected :  [1, 4]\n",
      "selected :  [5, 7]\n",
      "selected :  [8, 11]\n",
      "selected :  [12, 14]\n",
      "4\n"
     ]
    }
   ],
   "source": [
    "n=11\n",
    "data=[\n",
    "    [1,4],\n",
    "    [3,5],\n",
    "    [0,6],\n",
    "    [5,7],\n",
    "    [3,8],\n",
    "    [5,9],\n",
    "    [6,10],\n",
    "    [8,11],\n",
    "    [8,12],\n",
    "    [2,13],\n",
    "    [12,14]]\n",
    "data=sorted(data, key=lambda x:x[0])\n",
    "\n",
    "c=0 # 회의 수 카운트\n",
    "i=0 # 인덱스\n",
    "l=len(data) #시작할 때 데이터 개수\n",
    "selected=data[0]\n",
    "# 반복문, 인덱스가 전체 데이터 개수보다 적으면 계속\n",
    "print(\"initial selected : \", selected)\n",
    "while i < l :\n",
    "    # 앞 뒤가 같으면 \n",
    "    if data[0][0] == data[0][1] :\n",
    "        c += 1 # 카운트 \n",
    "        i += 1 # 인덱스 증가\n",
    "        data.pop(0) # 제일 앞에 값 제거\n",
    "        continue\n",
    "    \n",
    "    if len(data)>1: # 남은 데이터 길이가 2개 이상이면\n",
    "        b,a = data[0], data[1]\n",
    "    else:\n",
    "        b,a = selected, data[0]\n",
    "        \n",
    "    if a[0] < b[1] : # 앞에꺼가 뒤에꺼에 포함되면\n",
    "        if b[1] - b[0] <= a[1] - b[0] : # 뒤에꺼가 짧거나 같으면\n",
    "            data.pop(1) # 앞에꺼 제거\n",
    "            i += 1\n",
    "            continue    # continue\n",
    "        else : # 앞에꺼가 짧으면\n",
    "            data.pop(0) # 뒤에꺼 제거 \n",
    "            i += 1\n",
    "            continue # continue\n",
    "    else : # 앞에꺼가 뒤에꺼에 포함되지 않으면\n",
    "        c += 1 # 카운트 1\n",
    "        \n",
    "        selected=data[0]\n",
    "        print(\"selected : \", selected)\n",
    "        data.pop(0) # 제일 앞에꺼 지운다\n",
    "        i += 1\n",
    "        continue\n",
    "print(c)"
   ]
  },
  {
   "cell_type": "markdown",
   "id": "ordinary-cookbook",
   "metadata": {},
   "source": [
    "## 백준 13305번 - 주유소(정답률 : 37%)\n",
    "\n",
    "https://www.acmicpc.net/problem/13305\n"
   ]
  },
  {
   "cell_type": "code",
   "execution_count": 387,
   "id": "optional-patrick",
   "metadata": {},
   "outputs": [
    {
     "name": "stdout",
     "output_type": "stream",
     "text": [
      "total_Price(if) + 10\n",
      "total_Price(else) + 8\n",
      "total_Price(if) + 4\n",
      "total_price :  22\n"
     ]
    }
   ],
   "source": [
    "n=4\n",
    "length=[2,3,1]\n",
    "gas_price=[5,2,4,1]\n",
    "total_price=0\n",
    "# 반복문\n",
    "for i in range(len(gas_price)-1):\n",
    "    if gas_price[i] >= gas_price[i+1]: # 지금 도시보다 움직일 도시 가격이 싸면\n",
    "        total_price += gas_price[i]*length[i] # 최소한으로 채워서 이동한다\n",
    "        print(f\"total_Price(if) + {gas_price[i]*length[i]}\")\n",
    "        continue # 이동\n",
    "        \n",
    "    else: # 지금 도시보다 움직일 도시 가격이 비싸면        \n",
    "        tmp_length,c = length[i],1\n",
    "        for j in range(i+1,len(gas_price)):\n",
    "            if gas_price[i] < gas_price[j]:\n",
    "                tmp_length += length[j]\n",
    "        total_price += gas_price[i]*tmp_length\n",
    "        print(f\"total_Price(else) + {gas_price[i]*tmp_length}\")\n",
    "        \n",
    "    # 움직일 도시 가격거리까지 여기서 지금 도시에서 계산한다\n",
    "print(\"total_price : \",total_price)"
   ]
  },
  {
   "cell_type": "code",
   "execution_count": 403,
   "id": "cross-beginning",
   "metadata": {},
   "outputs": [
    {
     "name": "stdout",
     "output_type": "stream",
     "text": [
      "0\n",
      "total_Price(while) + 3\n",
      "1\n",
      "1 1 2\n",
      "total_Price(else) + 2\n",
      "total_price :  5\n"
     ]
    }
   ],
   "source": [
    "n=4\n",
    "length=[1,1,1]\n",
    "gas_price=[3,1,2,3]\n",
    "total_price=0\n",
    "i=0\n",
    "# 반복문\n",
    "while i != len(gas_price)-1:\n",
    "    print(i)\n",
    "    if gas_price[i] >= gas_price[i+1]:\n",
    "        total_price += gas_price[i]*length[i]\n",
    "        print(f\"total_Price(while) + {gas_price[i]*length[i]}\")\n",
    "        i+=1\n",
    "        continue\n",
    "        \n",
    "    else: # 지금 도시보다 움직일 도시 가격이 비싸면        \n",
    "        tmp_length = 0\n",
    "        c=1\n",
    "        tmp_length += length[i]\n",
    "        for j in range(i+1,len(gas_price)-1):\n",
    "            if gas_price[i] < gas_price[j]:\n",
    "                print(tmp_length, c, j)\n",
    "                tmp_length += length[j]\n",
    "                c += 1\n",
    "            else:\n",
    "                break\n",
    "        total_price += gas_price[i]*tmp_length\n",
    "        print(f\"total_Price(else) + {gas_price[i]*tmp_length}\")\n",
    "        i += c\n",
    "        \n",
    "    # 움직일 도시 가격거리까지 여기서 지금 도시에서 계산한다\n",
    "print(\"total_price : \",total_price)"
   ]
  },
  {
   "cell_type": "markdown",
   "id": "charged-spider",
   "metadata": {},
   "source": [
    "- 반례 1. \n",
    "    - 4\n",
    "    - 1 1 1 \n",
    "    - 3 1 2 3"
   ]
  },
  {
   "cell_type": "code",
   "execution_count": 405,
   "id": "freelance-extraction",
   "metadata": {},
   "outputs": [
    {
     "name": "stdin",
     "output_type": "stream",
     "text": [
      " 4\n",
      " 1 1 1\n",
      " 3 1 2 3\n"
     ]
    },
    {
     "name": "stdout",
     "output_type": "stream",
     "text": [
      "5\n"
     ]
    }
   ],
   "source": [
    "n=int(input())\n",
    "length=list(map(int, input().split()))\n",
    "gas_price=list(map(int, input().split()))\n",
    "\n",
    "total_price = 0\n",
    "i = 0\n",
    "\n",
    "while i != len(gas_price)-1:\n",
    "    if gas_price[i] >= gas_price[i+1]:\n",
    "        total_price += gas_price[i]*length[i]\n",
    "        i+=1\n",
    "        continue\n",
    "    else:\n",
    "        tmp_length,c = length[i],1\n",
    "        for j in range(i+1,len(gas_price)-1):\n",
    "            if gas_price[i] < gas_price[j]:\n",
    "                tmp_length += length[j]\n",
    "                c += 1\n",
    "            else:\n",
    "                break\n",
    "        total_price += gas_price[i]*tmp_length\n",
    "        i += c\n",
    "print(total_price)"
   ]
  },
  {
   "cell_type": "markdown",
   "id": "extra-charity",
   "metadata": {},
   "source": [
    "## 백준 1541번 - 잃어버린 괄호(정답률 : 47%)"
   ]
  },
  {
   "cell_type": "code",
   "execution_count": 57,
   "id": "educated-assist",
   "metadata": {},
   "outputs": [
    {
     "name": "stdin",
     "output_type": "stream",
     "text": [
      " 55-50+40\n"
     ]
    },
    {
     "data": {
      "text/plain": [
       "-35"
      ]
     },
     "execution_count": 57,
     "metadata": {},
     "output_type": "execute_result"
    }
   ],
   "source": [
    "import re\n",
    "strings=input()\n",
    "\n",
    "nums=list(map(int, re.split(\"[+-]\", strings)))\n",
    "ops=list(filter(lambda x: x if x in [\"-\",\"+\"] else None, strings))\n",
    "\n",
    "min_value=nums[0]\n",
    "f=False\n",
    "\n",
    "for idx,num in enumerate(nums[1:]):\n",
    "    if ops[idx] == \"+\" and f == False:\n",
    "        min_value += num\n",
    "    elif ops[idx] == \"-\" or f == True:\n",
    "        min_value -= num\n",
    "        f=True\n",
    "min_value"
   ]
  },
  {
   "cell_type": "markdown",
   "id": "latter-cologne",
   "metadata": {},
   "source": [
    "## 백준 11399번 - ATM(정답률 : 66%)\n",
    "\n",
    "https://www.acmicpc.net/problem/11399"
   ]
  },
  {
   "cell_type": "code",
   "execution_count": 464,
   "id": "joined-hello",
   "metadata": {},
   "outputs": [
    {
     "name": "stdin",
     "output_type": "stream",
     "text": [
      " 5\n",
      " 3 1 4 3 2\n"
     ]
    },
    {
     "name": "stdout",
     "output_type": "stream",
     "text": [
      "32\n"
     ]
    }
   ],
   "source": [
    "n,c=int(input()),0\n",
    "v=sorted(list(map(int, input().split())))\n",
    "for i in range(1,len(v)+1):c += sum(v[0:i])\n",
    "print(c)"
   ]
  },
  {
   "cell_type": "code",
   "execution_count": null,
   "id": "manual-vault",
   "metadata": {},
   "outputs": [],
   "source": []
  },
  {
   "cell_type": "markdown",
   "id": "combined-victim",
   "metadata": {},
   "source": [
    "## 백준 11047번 - 동전 0 (정답률 : 52%)\n",
    "\n",
    "https://www.acmicpc.net/problem/11047"
   ]
  },
  {
   "cell_type": "code",
   "execution_count": 512,
   "id": "distinguished-absorption",
   "metadata": {},
   "outputs": [
    {
     "name": "stdout",
     "output_type": "stream",
     "text": [
      "i :  50000 k :  4200\n",
      "i :  10000 k :  4200\n",
      "i :  5000 k :  4200\n",
      "i :  1000 k :  4200\n",
      "i :  500 k :  200\n",
      "i :  100 k :  200\n",
      "i :  50 k :  0\n",
      "i :  10 k :  0\n",
      "i :  5 k :  0\n",
      "i :  1 k :  0\n",
      "6\n"
     ]
    }
   ],
   "source": [
    "n,k,v=10,4200,sorted([1,5,10,50,100,500,1000,5000,10000,50000], reverse=True)\n",
    "coin_cnt=0\n",
    "for i in v:\n",
    "    print(\"i : \", i, \"k : \", k)\n",
    "    coin_cnt += k//i # 몫\n",
    "    k -= i*(k//i)    # 몫*i 를 전체 k에서 뺌\n",
    "print(coin_cnt)"
   ]
  },
  {
   "cell_type": "code",
   "execution_count": 511,
   "id": "opponent-checklist",
   "metadata": {},
   "outputs": [
    {
     "name": "stdin",
     "output_type": "stream",
     "text": [
      " 10 4200\n",
      " 1\n",
      " 5\n",
      " 10\n",
      " 50\n",
      " 100\n",
      " 500\n",
      " 1000\n",
      " 5000\n",
      " 10000\n",
      " 50000\n"
     ]
    },
    {
     "name": "stdout",
     "output_type": "stream",
     "text": [
      "6\n"
     ]
    }
   ],
   "source": [
    "n,k=map(int, input().split())\n",
    "v=[]\n",
    "for i in range(n):\n",
    "    v.append(int(input()))\n",
    "v=sorted(v,reverse=True)\n",
    "coin_cnt=0\n",
    "for i in v:\n",
    "    coin_cnt += k//i\n",
    "    k -= i*(k//i)\n",
    "print(coin_cnt)"
   ]
  },
  {
   "cell_type": "markdown",
   "id": "heard-report",
   "metadata": {},
   "source": [
    "## 프로그래머스 - 체육복\n",
    "\n",
    "https://programmers.co.kr/learn/courses/30/lessons/42862"
   ]
  },
  {
   "cell_type": "code",
   "execution_count": 112,
   "id": "devoted-woman",
   "metadata": {},
   "outputs": [
    {
     "name": "stdout",
     "output_type": "stream",
     "text": [
      "0\n",
      "1\n",
      "2\n"
     ]
    }
   ],
   "source": [
    "for i in range(len([0]*3)):\n",
    "    print(i)"
   ]
  },
  {
   "cell_type": "code",
   "execution_count": 169,
   "id": "cosmetic-printer",
   "metadata": {},
   "outputs": [
    {
     "data": {
      "text/plain": [
       "3"
      ]
     },
     "execution_count": 169,
     "metadata": {},
     "output_type": "execute_result"
    }
   ],
   "source": [
    "n=3\n",
    "lost=[2]\n",
    "reserve=[1,3]\n",
    "\n",
    "def solution(n,lost,reserve):\n",
    "    \n",
    "    total=[0]*(n+1)\n",
    "\n",
    "    for i in range(len(total)):\n",
    "        if i in reserve:\n",
    "            total[i]=2\n",
    "        if i in lost: \n",
    "            if i in reserve:\n",
    "                total[i]=1\n",
    "            else:\n",
    "                total[i]=0\n",
    "        if i not in lost and i not in reserve:            \n",
    "            total[i]=1\n",
    "        total[0]=0\n",
    "\n",
    "    for i in range(len(total)):\n",
    "        if i == 0:\n",
    "            continue\n",
    "        if total[i] == 2 and i-1 != 0:\n",
    "            if total[i-1] == 0:\n",
    "                total[i-1] = 1\n",
    "                total[i] -= 1\n",
    "                continue\n",
    "            if i != len(total)-1:\n",
    "                if total[i+1] == 0:\n",
    "                    total[i+1] = 1\n",
    "                    total[i] -= 1\n",
    "                    continue\n",
    "        else:\n",
    "            continue\n",
    "\n",
    "    answer=sum(list(map(lambda x:1 if x >= 1 else 0, total) ))\n",
    "    return answer\n",
    "\n",
    "solution(n,lost,reserve)"
   ]
  },
  {
   "cell_type": "code",
   "execution_count": 173,
   "id": "corresponding-dependence",
   "metadata": {},
   "outputs": [
    {
     "name": "stdout",
     "output_type": "stream",
     "text": [
      "init :  [0, 0, 0, 0]\n",
      "속성부여 :  [0, 2, 0, 2]\n",
      "0 [0, 2, 0, 2]\n",
      "1 [0, 2, 0, 2]\n",
      "2 [0, 2, 0, 2]\n",
      "3 [0, 2, 0, 2]\n",
      "[0, 2, 1, 1]\n",
      "[0, 1, 1, 1]\n"
     ]
    },
    {
     "data": {
      "text/plain": [
       "3"
      ]
     },
     "execution_count": 173,
     "metadata": {},
     "output_type": "execute_result"
    }
   ],
   "source": [
    "n=3\n",
    "lost=[2]\n",
    "reserve=[1,3]\n",
    "\n",
    "total=[0]*(n+1)\n",
    "\n",
    "### Start ###\n",
    "print(\"init : \",total)\n",
    "for i in range(len(total)):\n",
    "    if i in reserve: # reserve에 들어가면 2 입력\n",
    "        total[i]=2\n",
    "    if i in lost: \n",
    "        if i in reserve: # lost에 있는데 reserve에 있으면 1로 바꿈\n",
    "            total[i]=1\n",
    "        else:\n",
    "            total[i]=0 # lost에 있는데 reserve에 없으면 0으로 바꿈\n",
    "    if i not in lost and i not in reserve:            \n",
    "        total[i]=1 # reserve와 lost에 둘 다 포함되지 않으면 1\n",
    "    total[0]=0 # 첫 번째 값은 0으로 바꿈\n",
    "    \n",
    "print(\"속성부여 : \", total)\n",
    "for i in range(len(total)):\n",
    "    print(i, total)\n",
    "    if i == 0: # 첫 번째 인덱스 Pass\n",
    "        continue\n",
    "#     print(i,i+1,len(total))\n",
    "    if total[i] == 2 and i-1 != 0: # 값이 2이면\n",
    "        if total[i-1] == 0: # 앞의 값이 0이면(앞의 사람이 체육복이 없으면)\n",
    "            total[i-1] = 1 # 뒤의 값을 1로 바꿈(앞의 사람에게 빌려줌)\n",
    "            total[i] -= 1 # 현재 값을(여벌이 있는 사람의 체육복 개수 -1)\n",
    "            continue\n",
    "        if i != len(total)-1:\n",
    "            if total[i+1] == 0: # 뒤의 사람이 체육복이 없으면\n",
    "                total[i+1] = 1 # 하나 주고\n",
    "                total[i] -= 1 # 현재 값 -1\n",
    "                continue\n",
    "    else:\n",
    "    \n",
    "    \n",
    "print(total)\n",
    "answer=sum(list(map(lambda x:1 if x >= 1 else 0, total) ))\n",
    "print(list(map(lambda x:1 if x >= 1 else 0, total) ))\n",
    "\n",
    "### End\n",
    "answer"
   ]
  },
  {
   "cell_type": "markdown",
   "id": "hindu-effects",
   "metadata": {},
   "source": [
    "- 가져온 코드"
   ]
  },
  {
   "cell_type": "code",
   "execution_count": 179,
   "id": "inside-powell",
   "metadata": {},
   "outputs": [
    {
     "name": "stdout",
     "output_type": "stream",
     "text": [
      "new_lost : {2, 4}, new_reserve : {1}\n",
      "i : 2\n",
      "new_lost : {2, 4}, new_reserve : set()\n",
      "i : 4\n",
      "new_lost : {2, 4}, new_reserve : set()\n",
      "4\n"
     ]
    }
   ],
   "source": [
    "n=5\n",
    "lost=[2,3,4]\n",
    "reserve=[1,3]\n",
    "\n",
    "new_lost=set(lost)-set(reserve)\n",
    "new_reserve=set(reserve)-set(lost)\n",
    "print(f\"new_lost : {new_lost}, new_reserve : {new_reserve}\")\n",
    "\n",
    "for i in new_lost:\n",
    "    print(f\"i : {i}\")\n",
    "    if i-1 in new_reserve:\n",
    "        new_reserve.remove(i-1)\n",
    "        print(f\"new_lost : {new_lost}, new_reserve : {new_reserve}\")\n",
    "        continue\n",
    "    elif i+1 in new_reserve:\n",
    "        new_reserve.remove(i+1)\n",
    "        print(f\"new_lost : {new_lost}, new_reserve : {new_reserve}\")\n",
    "    else:\n",
    "        n-=1\n",
    "        print(f\"new_lost : {new_lost}, new_reserve : {new_reserve}\")\n",
    "print(n)\n",
    "    "
   ]
  },
  {
   "cell_type": "markdown",
   "id": "invalid-charm",
   "metadata": {},
   "source": [
    "- 가져온 코드 구현"
   ]
  },
  {
   "cell_type": "code",
   "execution_count": 208,
   "id": "prepared-convertible",
   "metadata": {},
   "outputs": [
    {
     "name": "stdout",
     "output_type": "stream",
     "text": [
      "new_lost : {2, 4}, new_reserve : {3}\n"
     ]
    },
    {
     "data": {
      "text/plain": [
       "4"
      ]
     },
     "execution_count": 208,
     "metadata": {},
     "output_type": "execute_result"
    }
   ],
   "source": [
    "n=5\n",
    "lost=[2,4]\n",
    "    reserve=[3]\n",
    "\n",
    "def solution(n,lost,reserve):\n",
    "    new_lost=set(lost)-set(reserve) # lost만 있는거 get\n",
    "    new_reserve=set(reserve)-set(lost) # reverse만 있는거 get\n",
    "    print(f\"new_lost : {new_lost}, new_reserve : {new_reserve}\")\n",
    "\n",
    "    for i in new_lost: \n",
    "        if i-1 in new_reserve: # 옷이 없는 사람 앞의 사람이 여분이 있으면\n",
    "            new_reserve.remove(i-1) # 빌려주고 reserve에서 빠진다\n",
    "            continue\n",
    "        elif i+1 in new_reserve: # 옷이 없는 사람 뒤의 사람이 여분이 있으면\n",
    "            new_reserve.remove(i+1) # 빌려주고 reserve에서 빠진다\n",
    "        else:  # 옷이 없는 사람 앞뒤로 전부 여분이 없으면\n",
    "            n-=1\n",
    "    return n\n",
    "\n",
    "solution(n,lost,reserve)\n",
    "    "
   ]
  },
  {
   "cell_type": "markdown",
   "id": "controversial-electronics",
   "metadata": {},
   "source": [
    "## 프로그래머스 - 조이스틱\n",
    "\n",
    "https://programmers.co.kr/learn/courses/30/lessons/42860"
   ]
  },
  {
   "cell_type": "code",
   "execution_count": 632,
   "id": "russian-restriction",
   "metadata": {},
   "outputs": [
    {
     "name": "stdout",
     "output_type": "stream",
     "text": [
      "9\n",
      "9\n",
      "0\n",
      "0\n",
      "25\n",
      "0\n"
     ]
    }
   ],
   "source": [
    "alphabets=[0,1,2,3,4,5,6,7,8,9,10,11,12,12,11,10,9,8,7,6,5,4,3,2,1,0]\n",
    "\n",
    "name = \"JAZ\"\n",
    "answer = 0\n",
    "for n in name:\n",
    "    print(alphabets[ord(n)-65])"
   ]
  },
  {
   "cell_type": "code",
   "execution_count": 630,
   "id": "happy-ballet",
   "metadata": {},
   "outputs": [
    {
     "data": {
      "text/plain": [
       "65"
      ]
     },
     "execution_count": 630,
     "metadata": {},
     "output_type": "execute_result"
    }
   ],
   "source": [
    "ord(\"A\")"
   ]
  },
  {
   "cell_type": "code",
   "execution_count": null,
   "id": "inside-rwanda",
   "metadata": {},
   "outputs": [],
   "source": []
  },
  {
   "cell_type": "code",
   "execution_count": null,
   "id": "comic-arrangement",
   "metadata": {},
   "outputs": [],
   "source": []
  },
  {
   "cell_type": "code",
   "execution_count": null,
   "id": "union-insertion",
   "metadata": {},
   "outputs": [],
   "source": []
  },
  {
   "cell_type": "code",
   "execution_count": null,
   "id": "bronze-world",
   "metadata": {},
   "outputs": [],
   "source": []
  },
  {
   "cell_type": "markdown",
   "id": "interested-thing",
   "metadata": {},
   "source": [
    "## 프로그래머스 - 큰 수 만들기"
   ]
  },
  {
   "cell_type": "markdown",
   "id": "dried-cleaner",
   "metadata": {},
   "source": [
    "- 디버깅 용"
   ]
  },
  {
   "cell_type": "code",
   "execution_count": 332,
   "id": "cellular-official",
   "metadata": {},
   "outputs": [
    {
     "name": "stdout",
     "output_type": "stream",
     "text": [
      "number is : 4\n",
      "first number is append : 4\n",
      "number is : 1\n",
      "넣은 거보다 새로 들어온게 더 작거나 같다 append 1\n",
      "+++++++++++\n",
      "number is : 7\n",
      "넣은 거보다 새로 들어온게 더 크다\n",
      "젤 마지막 꺼 4 떨구고 k-1\n",
      "젤 마지막 꺼 1 떨구고 k-1\n",
      "append 7\n",
      "+++++++++++\n",
      "number is : 7\n",
      "넣은 거보다 새로 들어온게 더 작거나 같다 append 7\n",
      "+++++++++++\n",
      "number is : 2\n",
      "넣은 거보다 새로 들어온게 더 작거나 같다 append 2\n",
      "+++++++++++\n",
      "number is : 5\n",
      "넣은 거보다 새로 들어온게 더 크다\n",
      "떨굴게 있지만 k 가 2이다\n",
      "떨굴게 있지만 k 가 2이다\n",
      "젤 마지막 꺼 2 떨구고 k-1\n",
      "append 5\n",
      "+++++++++++\n",
      "number is : 2\n",
      "넣은 거보다 새로 들어온게 더 작거나 같다 append 2\n",
      "+++++++++++\n",
      "number is : 8\n",
      "넣은 거보다 새로 들어온게 더 크다\n",
      "젤 마지막 꺼 7 떨구고 k-1\n",
      "떨굴게 있지만 k 가 0이다\n",
      "떨굴게 있지만 k 가 0이다\n",
      "떨굴게 있지만 k 가 0이다\n",
      "append 8\n",
      "+++++++++++\n",
      "number is : 4\n",
      "넣은 거보다 새로 들어온게 더 작거나 같다 append 4\n",
      "+++++++++++\n",
      "number is : 1\n",
      "넣은 거보다 새로 들어온게 더 작거나 같다 append 1\n",
      "+++++++++++\n"
     ]
    },
    {
     "data": {
      "text/plain": [
       "[7, 7, 5, 8, 4, 1]"
      ]
     },
     "execution_count": 332,
     "metadata": {},
     "output_type": "execute_result"
    }
   ],
   "source": [
    "def solution(number,k):\n",
    "    answer=''\n",
    "    return answer\n",
    "\n",
    "number=\"4177252841\"\n",
    "k=4\n",
    "answer=[]\n",
    "for i,n in enumerate(number):\n",
    "    print(f\"number is : {n}\")\n",
    "    n=int(n)\n",
    "    if i == 0 : # 첫 번째 값은 무조건 append 한다\n",
    "        answer.append(n)\n",
    "        print(f\"first number is append : {n}\")\n",
    "        continue\n",
    "    if answer[-1] >= n: # 마지막으로 들어온 값보다 새로운 값이 더 작거나 같으면 append\n",
    "        print(f\"넣은 거보다 새로 들어온게 더 작거나 같다 append {n}\")\n",
    "        answer.append(n)\n",
    "    elif answer[-1] < n: # 마지막으로 들어온 값보다 새로운 값이 더 크면 (앞의 값을 없앨만큼 없애고 들어 가야 함)\n",
    "        print(f\"넣은 거보다 새로 들어온게 더 크다\")\n",
    "        for a in sorted(answer, reverse=True): # 지금까지 들어왔던 값을 reverse로 check\n",
    "            if a < n and k != 0: # k가 남아있는데 (떨어뜨릴 수 있을 때) 마지막으로 들어온 값보다 새로운 값이 더 크면\n",
    "                print(f\"젤 마지막 꺼 {a} 떨구고 k-1\")\n",
    "                answer.pop(-1) # 제일 마지막 거 지우고 k-1\n",
    "                k -= 1\n",
    "            else: # 떨굴게 있지만 k를 다 씀\n",
    "                print(f\"떨굴게 있지만 k 가 {k}이다\")\n",
    "        print(f\"append {n}\")\n",
    "        # 다 떨구고 나서 append\n",
    "        answer.append(n)\n",
    "    print(\"+++++++++++\")\n",
    "        \n",
    "answer"
   ]
  },
  {
   "cell_type": "markdown",
   "id": "competitive-freight",
   "metadata": {},
   "source": [
    "- 제출 코드(처음)"
   ]
  },
  {
   "cell_type": "code",
   "execution_count": 331,
   "id": "acceptable-mortgage",
   "metadata": {},
   "outputs": [
    {
     "data": {
      "text/plain": [
       "'3234'"
      ]
     },
     "execution_count": 331,
     "metadata": {},
     "output_type": "execute_result"
    }
   ],
   "source": [
    "def solution(number,k):\n",
    "    answer=[]\n",
    "    \n",
    "    for i,n in enumerate(number):\n",
    "        n=int(n)\n",
    "        if i == 0 : \n",
    "            answer.append(n)\n",
    "            continue\n",
    "        if answer[-1] >= n:\n",
    "            answer.append(n)\n",
    "        elif answer[-1] < n:\n",
    "            for a in sorted(answer,reverse=True):\n",
    "                if a < n and k != 0:\n",
    "                    answer.pop(-1)\n",
    "                    k -= 1\n",
    "            answer.append(n)\n",
    "    answer=''.join(map(str, answer))\n",
    "    return answer\n",
    "\n",
    "number=\"1231234\"\n",
    "k=3\n",
    "solution(number,k)"
   ]
  },
  {
   "cell_type": "markdown",
   "id": "attended-matter",
   "metadata": {},
   "source": [
    "- sorted를 안 쓴 코드(58점)\n",
    "- 바꿔도 똑같다"
   ]
  },
  {
   "cell_type": "code",
   "execution_count": 353,
   "id": "isolated-groove",
   "metadata": {},
   "outputs": [
    {
     "data": {
      "text/plain": [
       "'3234'"
      ]
     },
     "execution_count": 353,
     "metadata": {},
     "output_type": "execute_result"
    }
   ],
   "source": [
    "def solution(number,k):\n",
    "    answer=[]\n",
    "    \n",
    "    for i,n in enumerate(number):\n",
    "\n",
    "        if i == 0 : \n",
    "            answer.append(n)\n",
    "            continue\n",
    "        if answer[-1] >= n:\n",
    "            answer.append(n)\n",
    "        elif answer[-1] < n :\n",
    "            for j in range(len(answer),0,-1):\n",
    "                if answer[j-1] < n and k!= 0:\n",
    "                    answer.pop(-1)\n",
    "                    k -= 1\n",
    "            answer.append(n)\n",
    "    answer=''.join(answer)\n",
    "    return answer\n",
    "\n",
    "number=\"1231234\"\n",
    "k=3\n",
    "solution(number,k)"
   ]
  },
  {
   "cell_type": "markdown",
   "id": "subsequent-barbados",
   "metadata": {},
   "source": [
    "- 복잡도 줄이기"
   ]
  },
  {
   "cell_type": "code",
   "execution_count": 633,
   "id": "accomplished-nashville",
   "metadata": {},
   "outputs": [
    {
     "data": {
      "text/plain": [
       "'3234'"
      ]
     },
     "execution_count": 633,
     "metadata": {},
     "output_type": "execute_result"
    }
   ],
   "source": [
    "def solution(number,k):\n",
    "    answer=deque()\n",
    "    \n",
    "    for i,n in enumerate(number):\n",
    "\n",
    "        if i == 0 : \n",
    "            answer.append(n)\n",
    "            continue\n",
    "        if answer[-1] >= n:\n",
    "            answer.append(n)\n",
    "        elif answer[-1] < n:\n",
    "            for j in range(len(answer),0,-1):\n",
    "                if answer[j-1] < n and k!= 0:\n",
    "                    answer.pop()\n",
    "                    k -= 1\n",
    "            answer.append(n)\n",
    "    answer=''.join(answer)\n",
    "    return answer\n",
    "\n",
    "number=\"1231234\"\n",
    "k=3\n",
    "solution(number,k)"
   ]
  },
  {
   "cell_type": "markdown",
   "id": "surface-feelings",
   "metadata": {},
   "source": [
    "## 프로그래머스 - 구명보트"
   ]
  },
  {
   "cell_type": "markdown",
   "id": "subtle-channels",
   "metadata": {},
   "source": [
    "- 첫 번째 디버깅"
   ]
  },
  {
   "cell_type": "code",
   "execution_count": 394,
   "id": "arranged-thousand",
   "metadata": {},
   "outputs": [
    {
     "name": "stdout",
     "output_type": "stream",
     "text": [
      "people : [20, 50, 50, 80, 80] weights : 0 answer : 1\n",
      "people : 20 weights : 20 answer : 1\n",
      "people : 50 weights : 70 answer : 1\n",
      "people : 50 weights : 50 answer : 2\n",
      "people : 80 weights : 80 answer : 3\n",
      "people : 80 weights : 80 answer : 4\n",
      "4\n"
     ]
    }
   ],
   "source": [
    "people=[80,80,50,50,20]\n",
    "limit=100\n",
    "\n",
    "people.sort()\n",
    "answer=1\n",
    "weights=0\n",
    "print(f\"people : {people} weights : {weights} answer : {answer}\")\n",
    "for p in people:\n",
    "\n",
    "    if weights + p <= limit:\n",
    "        weights += p\n",
    "        print(f\"people : {p} weights : {weights} answer : {answer}\")\n",
    "    else:\n",
    "        weights = 0\n",
    "        answer += 1\n",
    "        weights += p\n",
    "        print(f\"people : {p} weights : {weights} answer : {answer}\")\n",
    "print(answer)"
   ]
  },
  {
   "cell_type": "markdown",
   "id": "cognitive-privilege",
   "metadata": {},
   "source": [
    "- 첫 번째 제출"
   ]
  },
  {
   "cell_type": "code",
   "execution_count": 388,
   "id": "opened-credit",
   "metadata": {},
   "outputs": [
    {
     "data": {
      "text/plain": [
       "3"
      ]
     },
     "execution_count": 388,
     "metadata": {},
     "output_type": "execute_result"
    }
   ],
   "source": [
    "def solution(people, limit):\n",
    "    people.sort()\n",
    "    answer=1\n",
    "    weights=0\n",
    "\n",
    "    for p in people:\n",
    "        if weights + p <= limit:\n",
    "            weights += p\n",
    "        else:\n",
    "            weights = 0\n",
    "            answer += 1\n",
    "            weights += p\n",
    "    return answer\n",
    "\n",
    "people=[70,50,80,50]\n",
    "limit=100\n",
    "solution(people, limit)"
   ]
  },
  {
   "cell_type": "markdown",
   "id": "decreased-office",
   "metadata": {},
   "source": [
    "- 두 번째 디버깅"
   ]
  },
  {
   "cell_type": "code",
   "execution_count": 462,
   "id": "royal-personality",
   "metadata": {},
   "outputs": [
    {
     "name": "stdout",
     "output_type": "stream",
     "text": [
      "0 4\n",
      "1 3\n",
      "2 2\n",
      "3 1\n",
      "4 0\n"
     ]
    }
   ],
   "source": [
    "len(total)\n",
    "\n",
    "for i in range(len(total)):\n",
    "    print(i, len(total)-i-1)"
   ]
  },
  {
   "cell_type": "code",
   "execution_count": 634,
   "id": "subjective-printer",
   "metadata": {},
   "outputs": [
    {
     "name": "stdout",
     "output_type": "stream",
     "text": [
      "people : [20, 50, 50, 80, 90]\n",
      "people_r : [90, 80, 50, 50, 20]\n",
      "두 개 선택 ((0, 1)) : 20, 80\n",
      "0 , 3 -> True, [True, False, False, True, False]\n",
      "1 True, [True, True, False, True, False]\n",
      "두 개 선택 ((2, 2)) : 50, 50\n",
      "2 , 1 -> True, [True, True, True, True, False]\n"
     ]
    },
    {
     "ename": "KeyboardInterrupt",
     "evalue": "",
     "output_type": "error",
     "traceback": [
      "\u001b[1;31m---------------------------------------------------------------------------\u001b[0m",
      "\u001b[1;31mKeyboardInterrupt\u001b[0m                         Traceback (most recent call last)",
      "\u001b[1;32m<ipython-input-634-2c2f3fa270a8>\u001b[0m in \u001b[0;36m<module>\u001b[1;34m\u001b[0m\n\u001b[0;32m      7\u001b[0m \u001b[0manswer\u001b[0m\u001b[1;33m,\u001b[0m\u001b[0mi\u001b[0m\u001b[1;33m=\u001b[0m\u001b[1;36m0\u001b[0m\u001b[1;33m,\u001b[0m\u001b[1;36m0\u001b[0m\u001b[1;33m\u001b[0m\u001b[1;33m\u001b[0m\u001b[0m\n\u001b[0;32m      8\u001b[0m \u001b[0mprint\u001b[0m\u001b[1;33m(\u001b[0m\u001b[1;34mf\"people : {people}\\npeople_r : {people_r}\"\u001b[0m\u001b[1;33m)\u001b[0m\u001b[1;33m\u001b[0m\u001b[1;33m\u001b[0m\u001b[0m\n\u001b[1;32m----> 9\u001b[1;33m \u001b[1;32mwhile\u001b[0m \u001b[0msum\u001b[0m\u001b[1;33m(\u001b[0m\u001b[0mtotal\u001b[0m\u001b[1;33m)\u001b[0m \u001b[1;33m!=\u001b[0m \u001b[0mlen\u001b[0m\u001b[1;33m(\u001b[0m\u001b[0mpeople\u001b[0m\u001b[1;33m)\u001b[0m\u001b[1;33m:\u001b[0m \u001b[1;31m# 사람들이 전부다 빠져나가지 않으면 계속 iter\u001b[0m\u001b[1;33m\u001b[0m\u001b[1;33m\u001b[0m\u001b[0m\n\u001b[0m\u001b[0;32m     10\u001b[0m \u001b[1;33m\u001b[0m\u001b[0m\n\u001b[0;32m     11\u001b[0m     \u001b[1;32mfor\u001b[0m \u001b[0mj\u001b[0m \u001b[1;32min\u001b[0m \u001b[0mrange\u001b[0m\u001b[1;33m(\u001b[0m\u001b[0mlen\u001b[0m\u001b[1;33m(\u001b[0m\u001b[0mpeople_r\u001b[0m\u001b[1;33m)\u001b[0m\u001b[1;33m)\u001b[0m\u001b[1;33m:\u001b[0m           \u001b[1;31m# reverse 정렬된 사람을 한 명 가지고 와서\u001b[0m\u001b[1;33m\u001b[0m\u001b[1;33m\u001b[0m\u001b[0m\n",
      "\u001b[1;31mKeyboardInterrupt\u001b[0m: "
     ]
    }
   ],
   "source": [
    "people=[90,80,50,50,20]\n",
    "limit=100\n",
    "\n",
    "people=sorted(people)\n",
    "people_r=sorted(people, reverse=True)\n",
    "total=[False]*len(people)\n",
    "answer,i=0,0\n",
    "print(f\"people : {people}\\npeople_r : {people_r}\")\n",
    "while sum(total) != len(people): # 사람들이 전부다 빠져나가지 않으면 계속 iter\n",
    "\n",
    "    for j in range(len(people_r)):           # reverse 정렬된 사람을 한 명 가지고 와서\n",
    "        \n",
    "        if people[i] + people_r[j] <= limit and total[i]+total[len(total)-i-1]==0: # 제일 작은 사람과 큰 사람의 합이 limit보다 작거나 같으면 같이 타고 나간다\n",
    "            print(f\"두 개 선택 ({i,j}) : {people[i]}, {people_r[j]}\")\n",
    "            total[i]=True # 작은 사람 체크\n",
    "            total[len(total)-i-2]=True # 큰 사람 체크\n",
    "            print(f\"{i} , {len(total)-i-2} -> True, {total}\")\n",
    "            answer+=1 # 구명보트 증가\n",
    "            i += 1\n",
    "            break\n",
    "\n",
    "    if total[i] == False: # 제일 작은 사람과 같이 타고 나갈 큰 사람이 없으면 혼자 나간다\n",
    "        answer+=1\n",
    "        total[i]=True\n",
    "        print(f\"{i} True, {total}\")\n",
    "        i += 1\n",
    "        \n",
    "print(answer)"
   ]
  },
  {
   "cell_type": "markdown",
   "id": "relative-festival",
   "metadata": {},
   "source": [
    "- 두 번째 제출"
   ]
  },
  {
   "cell_type": "code",
   "execution_count": 635,
   "id": "failing-fitting",
   "metadata": {},
   "outputs": [
    {
     "data": {
      "text/plain": [
       "5"
      ]
     },
     "execution_count": 635,
     "metadata": {},
     "output_type": "execute_result"
    }
   ],
   "source": [
    "def solution(people, limit):\n",
    "    people=sorted(people)\n",
    "    people_r=sorted(people, reverse=True)\n",
    "    total=[False]*len(people)\n",
    "    answer,i=0,0\n",
    "    while sum(total) != len(people): # 사람들이 전부다 빠져나가지 않으면 계속 iter\n",
    "\n",
    "        for j in range(len(people_r)):           # reverse 정렬된 사람을 한 명 가지고 와서\n",
    "            if people[i] + people_r[j] <= limit and total[i] == False: # 제일 작은 사람과 큰 사람의 합이 limit보다 작거나 같으면 같이 타고 나간다\n",
    "                \n",
    "                total[i]=True # 작은 사람 체크\n",
    "                total[len(total)-i-1]=True # 큰 사람 체크\n",
    "                answer+=1 # 구명보트 증가\n",
    "                i += 1\n",
    "                break\n",
    "\n",
    "            if people[i] + people_r[j] > limit and total[i] == False: # 제일 작은 사람과 같이 타고 나갈 큰 사람이 없으면 혼자 나간다\n",
    "                answer+=1\n",
    "                total[i]=True\n",
    "                i += 1\n",
    "                break\n",
    "                \n",
    "    return answer\n",
    "    \n",
    "people=[90,80,50,50,20]\n",
    "limit=100\n",
    "solution(people, limit)"
   ]
  },
  {
   "cell_type": "markdown",
   "id": "accurate-change",
   "metadata": {},
   "source": [
    "- 세 번째 디버깅"
   ]
  },
  {
   "cell_type": "code",
   "execution_count": 529,
   "id": "preceding-folks",
   "metadata": {},
   "outputs": [
    {
     "name": "stdout",
     "output_type": "stream",
     "text": [
      "5\n",
      "9\n"
     ]
    }
   ],
   "source": [
    "for i in range(10):\n",
    "    if i == 5:\n",
    "        print(i)\n",
    "else:\n",
    "    print(i)"
   ]
  },
  {
   "cell_type": "code",
   "execution_count": 540,
   "id": "rough-sewing",
   "metadata": {},
   "outputs": [
    {
     "name": "stdout",
     "output_type": "stream",
     "text": [
      "2\n",
      "1\n"
     ]
    }
   ],
   "source": [
    "for j in range(3-1,0,-1):\n",
    "    print(j)"
   ]
  },
  {
   "cell_type": "code",
   "execution_count": 622,
   "id": "considerable-calibration",
   "metadata": {},
   "outputs": [
    {
     "name": "stdout",
     "output_type": "stream",
     "text": [
      "[40, 40, 60, 60, 70]\n",
      "시작 :  [40, 40, 60, 60, 70]\n",
      "두 명을 태울 수 있을 때 40(0) 40(1)  구명보트 탑승 [40, 40, 60, 60, 70]\n",
      "시작 :  [60, 60, 70]\n",
      "두 명을 못 태울 때 : 60(0) 구명보트 탑승 [60, 60, 70]\n",
      "시작 :  [60, 70]\n",
      "두 명을 못 태울 때 : 60(0) 구명보트 탑승 [60, 70]\n",
      "한 명 남았을 때 [70]  구명보트 탑승\n",
      "4\n"
     ]
    }
   ],
   "source": [
    "people=[40,60,40,60,70]\n",
    "limit=80\n",
    "answer=0\n",
    "people=sorted(people)\n",
    "total=len(people)\n",
    "print(people)\n",
    "while len(people) >= 0:\n",
    "    if len(people)==1:\n",
    "        print(f\"한 명 남았을 때 {people}  구명보트 탑승\")\n",
    "        people.pop(0)\n",
    "        answer += 1\n",
    "        break\n",
    "    if len(people)==0:\n",
    "        print(f\"아무도 안 남음 {people}\")\n",
    "        break\n",
    "    \n",
    "    cntn=False\n",
    "    \n",
    "    print(\"시작 : \", people)\n",
    "    remain_len=len(people)\n",
    "    for j in range(remain_len-1,0,-1):\n",
    "        if people[i] + people[j] <=limit:\n",
    "            print(f\"두 명을 태울 수 있을 때 {people[i]}({i}) {people[j]}({j})  구명보트 탑승 {people}\")\n",
    "            answer+=1\n",
    "            people.pop(j)\n",
    "            people.pop(0)\n",
    "            cntn=True\n",
    "            break\n",
    "            \n",
    "    if cntn==True:continue\n",
    "    \n",
    "    print(f\"두 명을 못 태울 때 : {people[i]}({i}) 구명보트 탑승 {people}\")\n",
    "    answer+=1\n",
    "    people.pop(0)\n",
    "    \n",
    "print(answer)"
   ]
  },
  {
   "cell_type": "markdown",
   "id": "weekly-newcastle",
   "metadata": {},
   "source": [
    "- 세 번째 제출"
   ]
  },
  {
   "cell_type": "code",
   "execution_count": 625,
   "id": "stretch-remains",
   "metadata": {},
   "outputs": [
    {
     "name": "stdout",
     "output_type": "stream",
     "text": [
      "[70, 50, 80, 50] 100 3\n",
      "[70, 80, 50] 100 3\n",
      "[50, 50, 50, 50, 50, 50] 100 3\n",
      "[40, 50, 60, 70, 80, 90, 100] 100 6\n",
      "[40, 40, 40, 40] 70 4\n",
      "[40, 50, 150, 160] 200 2\n",
      "[100, 500, 500, 900, 950] 1000 3\n",
      "[40, 50, 60, 90] 100 3\n",
      "[160, 150, 140, 60, 50, 40] 200 3\n",
      "[40, 40, 80] 160 2\n",
      "[50, 60, 70, 80, 90, 100, 110, 120, 130] 1000 5\n",
      "[50, 60, 70, 80, 90, 100, 110, 120] 1000 4\n"
     ]
    }
   ],
   "source": [
    "def solution(people,limit):\n",
    "    answer=0\n",
    "    people=sorted(people)\n",
    "    while len(people) >= 0:\n",
    "        if len(people)==1:\n",
    "            people.pop(0)\n",
    "            answer += 1\n",
    "            break\n",
    "        if len(people)==0:\n",
    "            break\n",
    "            \n",
    "        cntn=False\n",
    "        for j in range(len(people)-1,0,-1):\n",
    "            if people[i] + people[j] <=limit:\n",
    "                answer+=1\n",
    "                people.pop(j)\n",
    "                people.pop(0)\n",
    "                cntn=True\n",
    "                break\n",
    "\n",
    "        if cntn==True:continue\n",
    "        answer+=1\n",
    "        people.pop(0)\n",
    "    return answer\n",
    "\n",
    "dataset = [\n",
    "    ([70,50,80,50],100),\n",
    "    ([70,80,50],100),\n",
    "    ([50,50,50,50,50,50],100),\n",
    "    ([40,50,60,70,80,90,100],100),\n",
    "    ([40,40,40,40],70),\n",
    "    ([40,50,150,160],200),\n",
    "    ([100,500,500,900,950],1000),\n",
    "    ([40,50,60,90],100),\n",
    "    ([160,150,140,60,50,40],200),\n",
    "    ([40,40,80],160),\n",
    "    ([50,60,70,80,90,100,110,120,130],1000),\n",
    "    ([50,60,70,80,90,100,110,120],1000),    \n",
    "    \n",
    "]\n",
    "    \n",
    "for people,limit in dataset:\n",
    "\n",
    "    print(people, limit, solution(people, limit))\n",
    "    "
   ]
  },
  {
   "cell_type": "code",
   "execution_count": null,
   "id": "strategic-police",
   "metadata": {},
   "outputs": [],
   "source": []
  },
  {
   "cell_type": "code",
   "execution_count": null,
   "id": "detailed-triple",
   "metadata": {},
   "outputs": [],
   "source": []
  },
  {
   "cell_type": "code",
   "execution_count": null,
   "id": "governing-inspection",
   "metadata": {},
   "outputs": [],
   "source": []
  },
  {
   "cell_type": "code",
   "execution_count": null,
   "id": "under-equation",
   "metadata": {},
   "outputs": [],
   "source": []
  },
  {
   "cell_type": "code",
   "execution_count": null,
   "id": "devoted-passenger",
   "metadata": {},
   "outputs": [],
   "source": []
  }
 ],
 "metadata": {
  "kernelspec": {
   "display_name": "Python 3",
   "language": "python",
   "name": "python3"
  },
  "language_info": {
   "codemirror_mode": {
    "name": "ipython",
    "version": 3
   },
   "file_extension": ".py",
   "mimetype": "text/x-python",
   "name": "python",
   "nbconvert_exporter": "python",
   "pygments_lexer": "ipython3",
   "version": "3.6.12"
  }
 },
 "nbformat": 4,
 "nbformat_minor": 5
}
