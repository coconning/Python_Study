{
 "cells": [
  {
   "cell_type": "code",
   "execution_count": 1,
   "id": "preliminary-bacon",
   "metadata": {},
   "outputs": [],
   "source": [
    "import time\n",
    "%config Completer.use_jedi = False"
   ]
  },
  {
   "cell_type": "markdown",
   "id": "pleased-solution",
   "metadata": {},
   "source": [
    "# Chapter. 3 그리디"
   ]
  },
  {
   "cell_type": "markdown",
   "id": "brief-rogers",
   "metadata": {},
   "source": [
    "## 3-2 큰 수의 법칙"
   ]
  },
  {
   "cell_type": "markdown",
   "id": "every-score",
   "metadata": {},
   "source": [
    "### My"
   ]
  },
  {
   "cell_type": "code",
   "execution_count": 55,
   "id": "manual-quilt",
   "metadata": {},
   "outputs": [
    {
     "name": "stdout",
     "output_type": "stream",
     "text": [
      "46\n",
      "Executed Time : 0.0009973049\n"
     ]
    }
   ],
   "source": [
    "n,m,k=5,8,3\n",
    "data=[2,4,5,4,6]\n",
    "\n",
    "# n, m, k = map(int, input().split())\n",
    "# data = list(map(int, input().split()))\n",
    "data = sorted(data)[-2:]\n",
    "\n",
    "start=time.time()\n",
    "\n",
    "c=0\n",
    "for i in range((m//k)):    \n",
    "    c += data[1]*k + data[0]\n",
    "c+= data[1]*(m%(k+1))\n",
    "\n",
    "print(c)\n",
    "print(f\"Executed Time : {time.time()-start:.10f}\")"
   ]
  },
  {
   "cell_type": "markdown",
   "id": "analyzed-pulse",
   "metadata": {},
   "source": [
    "### 예시"
   ]
  },
  {
   "cell_type": "code",
   "execution_count": 56,
   "id": "eligible-charter",
   "metadata": {},
   "outputs": [
    {
     "name": "stdout",
     "output_type": "stream",
     "text": [
      "46\n",
      "Executed Time : 0.00000000000000000000\n"
     ]
    }
   ],
   "source": [
    "start=time.time()\n",
    "\n",
    "n,m,k=5,8,3\n",
    "data=[2,4,5,4,6]\n",
    "data.sort()\n",
    "\n",
    "first  = data[n-1]\n",
    "second = data[n-2]\n",
    "\n",
    "count = (m//(k+1))*k + m%(k+1)\n",
    "\n",
    "result = count*first + (m-count)*second\n",
    "\n",
    "print(result)\n",
    "print(f\"Executed Time : {time.time()-start:.20f}\")"
   ]
  },
  {
   "cell_type": "markdown",
   "id": "colored-resistance",
   "metadata": {},
   "source": [
    "## 3-3 숫자 카드 게임"
   ]
  },
  {
   "cell_type": "code",
   "execution_count": 87,
   "id": "certain-climate",
   "metadata": {},
   "outputs": [
    {
     "data": {
      "text/plain": [
       "[['1'], ['2'], ['3']]"
      ]
     },
     "execution_count": 87,
     "metadata": {},
     "output_type": "execute_result"
    }
   ],
   "source": [
    "data"
   ]
  },
  {
   "cell_type": "code",
   "execution_count": 91,
   "id": "sorted-stupid",
   "metadata": {},
   "outputs": [
    {
     "name": "stdin",
     "output_type": "stream",
     "text": [
      " 2 2\n",
      " 1 2 3\n",
      " 4 5 6\n"
     ]
    },
    {
     "data": {
      "text/plain": [
       "[[1, 2, 3], [4, 5, 6]]"
      ]
     },
     "execution_count": 91,
     "metadata": {},
     "output_type": "execute_result"
    }
   ],
   "source": [
    "# data=[[3,1,2],[4,1,4],[2,2,2]]\n",
    "# data=[[7,3,1,8],[3,3,3,4]]"
   ]
  },
  {
   "cell_type": "markdown",
   "id": "hawaiian-nudist",
   "metadata": {},
   "source": [
    "### My"
   ]
  },
  {
   "cell_type": "code",
   "execution_count": 93,
   "id": "american-upgrade",
   "metadata": {},
   "outputs": [
    {
     "name": "stdin",
     "output_type": "stream",
     "text": [
      " 2 4\n",
      " 7 3 1 8\n",
      " 3 3 3 4\n"
     ]
    },
    {
     "name": "stdout",
     "output_type": "stream",
     "text": [
      "3\n"
     ]
    }
   ],
   "source": [
    "n, m = map(int, input().split())\n",
    "data = [list(map(int, input().split())) for _ in range(n)]\n",
    "\n",
    "idx  = 0\n",
    "idxs = []\n",
    "mns  = []\n",
    "\n",
    "for l in data:\n",
    "    idx+=1\n",
    "    idxs.append(idx)\n",
    "    mns.append(min(l))\n",
    "    \n",
    "print(max(mns))"
   ]
  },
  {
   "cell_type": "markdown",
   "id": "happy-cooperation",
   "metadata": {},
   "source": [
    "## 3-4 1이 될 때까지"
   ]
  },
  {
   "cell_type": "markdown",
   "id": "internal-intelligence",
   "metadata": {},
   "source": [
    "### My"
   ]
  },
  {
   "cell_type": "code",
   "execution_count": 101,
   "id": "prepared-hundred",
   "metadata": {},
   "outputs": [
    {
     "name": "stdout",
     "output_type": "stream",
     "text": [
      "1 6\n"
     ]
    }
   ],
   "source": [
    "# n,k=map(int, input().split())\n",
    "n,k=25,3\n",
    "cnt=0\n",
    "while n != 1:\n",
    "    if n%k == 0:\n",
    "        n //= k\n",
    "    else:\n",
    "        n -= 1\n",
    "    cnt+=1\n",
    "        \n",
    "print(n,cnt)"
   ]
  },
  {
   "cell_type": "markdown",
   "id": "small-balance",
   "metadata": {},
   "source": [
    "### 예시"
   ]
  },
  {
   "cell_type": "code",
   "execution_count": 102,
   "id": "respective-observer",
   "metadata": {},
   "outputs": [
    {
     "name": "stdin",
     "output_type": "stream",
     "text": [
      " 25 3\n"
     ]
    },
    {
     "name": "stdout",
     "output_type": "stream",
     "text": [
      "6\n"
     ]
    }
   ],
   "source": [
    "n,k=map(int, input().split())\n",
    "result=0\n",
    "\n",
    "while True:\n",
    "    #( N == K로 나누어떨어지는 수)가 될 때까지 1씩 빼기\n",
    "    target=(n//k)*k\n",
    "    result+=(n-target)\n",
    "    n=target\n",
    "    \n",
    "    if n < k :\n",
    "        break\n",
    "    # k로 나누기\n",
    "    result += 1\n",
    "    n //= k\n",
    "    \n",
    "result += (n-1)\n",
    "print(result)"
   ]
  },
  {
   "cell_type": "markdown",
   "id": "printable-reach",
   "metadata": {},
   "source": [
    "## Q1 모험가 길드"
   ]
  },
  {
   "cell_type": "code",
   "execution_count": 190,
   "id": "black-denver",
   "metadata": {},
   "outputs": [
    {
     "data": {
      "text/plain": [
       "[1, 2, 2, 2, 3]"
      ]
     },
     "execution_count": 190,
     "metadata": {},
     "output_type": "execute_result"
    }
   ],
   "source": [
    "x=[2,3,1,2,2]\n",
    "x=sorted(x)\n",
    "x"
   ]
  },
  {
   "cell_type": "code",
   "execution_count": 197,
   "id": "timely-center",
   "metadata": {},
   "outputs": [
    {
     "name": "stdout",
     "output_type": "stream",
     "text": [
      "x :  1 point :  1 count :  1 result :  0\n",
      "result + 1\n",
      "x :  2 point :  2 count :  1 result :  1\n",
      "x :  2 point :  2 count :  2 result :  1\n",
      "result + 1\n",
      "x :  2 point :  2 count :  1 result :  2\n",
      "x :  3 point :  3 count :  2 result :  2\n",
      "2\n"
     ]
    }
   ],
   "source": [
    "count=0\n",
    "result=0\n",
    "for i in range(len(x)):\n",
    "    point=x[i]\n",
    "    count+=1\n",
    "    print(\"x : \", x[i], \"point : \", point, \"count : \", count, \"result : \", result)\n",
    "    if count >= point:\n",
    "        print(\"result + 1\")\n",
    "#         point = x[i]\n",
    "        result += 1\n",
    "        count = 0\n",
    "print(result)"
   ]
  },
  {
   "cell_type": "markdown",
   "id": "annual-verse",
   "metadata": {},
   "source": [
    "- 해답"
   ]
  },
  {
   "cell_type": "code",
   "execution_count": null,
   "id": "dramatic-assistant",
   "metadata": {},
   "outputs": [],
   "source": []
  },
  {
   "cell_type": "code",
   "execution_count": null,
   "id": "protecting-measure",
   "metadata": {},
   "outputs": [],
   "source": []
  },
  {
   "cell_type": "code",
   "execution_count": null,
   "id": "specialized-waterproof",
   "metadata": {},
   "outputs": [],
   "source": []
  },
  {
   "cell_type": "markdown",
   "id": "abroad-panic",
   "metadata": {},
   "source": [
    "## Q2 곱하기 혹은 더하기"
   ]
  },
  {
   "cell_type": "code",
   "execution_count": 50,
   "id": "improving-creation",
   "metadata": {},
   "outputs": [
    {
     "name": "stdin",
     "output_type": "stream",
     "text": [
      " 02984\n"
     ]
    },
    {
     "data": {
      "text/plain": [
       "576"
      ]
     },
     "execution_count": 50,
     "metadata": {},
     "output_type": "execute_result"
    }
   ],
   "source": [
    "s=str(input())\n",
    "result=int(s[0])\n",
    "for i in s[1:]:\n",
    "    i=int(i)\n",
    "    if i in [0,1] or result in [0,1]:\n",
    "        result += i\n",
    "    else:\n",
    "        result *= i\n",
    "result"
   ]
  },
  {
   "cell_type": "markdown",
   "id": "surprised-geneva",
   "metadata": {},
   "source": [
    "## Q3 문자열 뒤집기"
   ]
  },
  {
   "cell_type": "code",
   "execution_count": 64,
   "id": "occupational-acquisition",
   "metadata": {},
   "outputs": [
    {
     "data": {
      "text/plain": [
       "4"
      ]
     },
     "execution_count": 64,
     "metadata": {},
     "output_type": "execute_result"
    }
   ],
   "source": [
    "data=[0,0,0,1,1,0,0,0,1,1,1,0,1,0,1]\n",
    "data1=[]\n",
    "for i in range(len(data)-1):\n",
    "    if data[i] == data[i+1]:\n",
    "        continue\n",
    "    else:\n",
    "        data1.append(data[i])\n",
    "    \n",
    "data1.append(data[-1])\n",
    "\n",
    "min([data1.count(0), data1.count(1)])"
   ]
  },
  {
   "cell_type": "code",
   "execution_count": null,
   "id": "limited-organizer",
   "metadata": {},
   "outputs": [],
   "source": []
  },
  {
   "cell_type": "markdown",
   "id": "improving-marking",
   "metadata": {},
   "source": [
    "## Q4 만들 수 없는 금액"
   ]
  },
  {
   "cell_type": "code",
   "execution_count": 101,
   "id": "worldwide-armor",
   "metadata": {},
   "outputs": [
    {
     "data": {
      "text/plain": [
       "[1, 2, 3, 4]"
      ]
     },
     "execution_count": 101,
     "metadata": {},
     "output_type": "execute_result"
    }
   ],
   "source": [
    "list(range(1,5))"
   ]
  },
  {
   "cell_type": "code",
   "execution_count": 207,
   "id": "acknowledged-incidence",
   "metadata": {},
   "outputs": [
    {
     "name": "stdin",
     "output_type": "stream",
     "text": [
      " 4\n",
      " 1 2 3 8\n"
     ]
    },
    {
     "name": "stdout",
     "output_type": "stream",
     "text": [
      "3\n",
      "6\n",
      "14\n",
      "5\n",
      "13\n",
      "11\n"
     ]
    },
    {
     "data": {
      "text/plain": [
       "4"
      ]
     },
     "execution_count": 207,
     "metadata": {},
     "output_type": "execute_result"
    }
   ],
   "source": [
    "n=int(input())\n",
    "data=list(map(int, input().split()))\n",
    "\n",
    "psb=[]\n",
    "for i in range(len(data)):\n",
    "    v=data[i]\n",
    "    psb.append(v)\n",
    "    for j in range(i+1,len(data)):\n",
    "        v += data[j]\n",
    "        psb.append(v)\n",
    "        print(v)\n",
    "psb=set(psb)\n",
    "min(set(range(min(psb), max(psb)+1)) - psb)"
   ]
  },
  {
   "cell_type": "markdown",
   "id": "announced-twins",
   "metadata": {},
   "source": [
    "- 해답"
   ]
  },
  {
   "cell_type": "code",
   "execution_count": 215,
   "id": "stainless-survivor",
   "metadata": {},
   "outputs": [
    {
     "name": "stdin",
     "output_type": "stream",
     "text": [
      " 5\n",
      " 1 1 1 2 3\n"
     ]
    },
    {
     "name": "stdout",
     "output_type": "stream",
     "text": [
      "x : 1, target : 1\n",
      "target :  2\n",
      "x : 1, target : 2\n",
      "target :  3\n",
      "x : 1, target : 3\n",
      "target :  4\n",
      "x : 2, target : 4\n",
      "target :  6\n",
      "x : 3, target : 6\n",
      "target :  9\n",
      "9\n"
     ]
    }
   ],
   "source": [
    "n=int(input())\n",
    "data=list(map(int, input().split()))\n",
    "data.sort()\n",
    "\n",
    "target=1\n",
    "for x in data:\n",
    "    print(f\"x : {x}, target : {target}\")\n",
    "    if target < x:\n",
    "        break\n",
    "    target += x\n",
    "    print(\"target : \", target)\n",
    "print(target)"
   ]
  },
  {
   "cell_type": "code",
   "execution_count": null,
   "id": "worth-daisy",
   "metadata": {},
   "outputs": [],
   "source": []
  },
  {
   "cell_type": "markdown",
   "id": "final-greensboro",
   "metadata": {},
   "source": [
    "## Q5 볼링공 고르기"
   ]
  },
  {
   "cell_type": "markdown",
   "id": "higher-affiliate",
   "metadata": {},
   "source": [
    "- itertools 사용"
   ]
  },
  {
   "cell_type": "code",
   "execution_count": 127,
   "id": "stylish-amendment",
   "metadata": {},
   "outputs": [
    {
     "data": {
      "text/plain": [
       "8"
      ]
     },
     "execution_count": 127,
     "metadata": {},
     "output_type": "execute_result"
    }
   ],
   "source": [
    "import itertools\n",
    "\n",
    "# n,m=map(int, input().split())\n",
    "n=5\n",
    "m=3\n",
    "data=[1,3,2,3,2]\n",
    "result=0\n",
    "for d in list(itertools.combinations(data,2)):\n",
    "    if d[0] == d[1]:\n",
    "        continue\n",
    "    else:\n",
    "        result += 1\n",
    "result"
   ]
  },
  {
   "cell_type": "markdown",
   "id": "young-pipeline",
   "metadata": {},
   "source": [
    "- 그냥"
   ]
  },
  {
   "cell_type": "code",
   "execution_count": 130,
   "id": "charged-impression",
   "metadata": {},
   "outputs": [
    {
     "data": {
      "text/plain": [
       "25"
      ]
     },
     "execution_count": 130,
     "metadata": {},
     "output_type": "execute_result"
    }
   ],
   "source": [
    "n=8\n",
    "m=5\n",
    "data=[1,5,4,3,2,4,5,2]\n",
    "result=0\n",
    "for i in range(len(data)):\n",
    "    for j in range(i, len(data)):\n",
    "        if data[i] != data[j]:\n",
    "            result+=1\n",
    "result"
   ]
  },
  {
   "cell_type": "markdown",
   "id": "inner-syndicate",
   "metadata": {},
   "source": [
    "- 답안"
   ]
  },
  {
   "cell_type": "code",
   "execution_count": 221,
   "id": "cardiovascular-college",
   "metadata": {},
   "outputs": [
    {
     "name": "stdin",
     "output_type": "stream",
     "text": [
      " 5 3\n",
      " 1 3 2 3 2\n"
     ]
    },
    {
     "name": "stdout",
     "output_type": "stream",
     "text": [
      "n : 4, result : 4\n",
      "n : 2, result : 8\n",
      "n : 0, result : 8\n",
      "8\n"
     ]
    }
   ],
   "source": [
    "n,m=map(int, input().split())\n",
    "data=list(map(int, input().split()))\n",
    "\n",
    "# 1부터 10까지의 무게를 담을 수 있는 리스트\n",
    "array = [0]*11\n",
    "\n",
    "for x in data:\n",
    "    array[x] += 1\n",
    "    \n",
    "result = 0\n",
    "# 1부터 m까지의 각 무게에 대하여 처리\n",
    "\n",
    "for i in range(1,m+1):\n",
    "    n -= array[i]\n",
    "    result += array[i]*n\n",
    "    print(f\"n : {n}, result : {result}\")\n",
    "print(result)"
   ]
  },
  {
   "cell_type": "code",
   "execution_count": null,
   "id": "surface-alberta",
   "metadata": {},
   "outputs": [],
   "source": []
  },
  {
   "cell_type": "code",
   "execution_count": null,
   "id": "fitting-acrylic",
   "metadata": {},
   "outputs": [],
   "source": []
  },
  {
   "cell_type": "markdown",
   "id": "declared-eight",
   "metadata": {},
   "source": [
    "## Q6 무지의 먹방라이브"
   ]
  },
  {
   "cell_type": "code",
   "execution_count": 231,
   "id": "after-clothing",
   "metadata": {},
   "outputs": [
    {
     "data": {
      "text/plain": [
       "1"
      ]
     },
     "execution_count": 231,
     "metadata": {},
     "output_type": "execute_result"
    }
   ],
   "source": [
    "def solution(food_times, k):\n",
    "    answer = 0\n",
    "    # k+2까지 도는 이유는 0초에서 5초까지 도니까 range에 k+1을 해줘야 5초까지 돌고\n",
    "    # 그 다음에 한 번 더 돌고 끝내야 통신장애가 끝난 이후의 것으로 변수 c가 업데이트 되기 때문\n",
    "    for i in range(k+2):\n",
    "        # 0,1,2가 돌아야 하므로 i에서 몫*길이를 뺀다\n",
    "        answer = i-(i//len(food_times))*len(food_times)\n",
    "        if i == k+1:break\n",
    "        if food_times[c] != 0:\n",
    "            food_times[c] = food_times[c]-1\n",
    "        else:\n",
    "            continue\n",
    "    # 음식 이름이 1번부터 시작하니까 +1 해준다\n",
    "    answer += 1\n",
    "    return answer\n",
    "\n",
    "food_times=[3,1,2]\n",
    "k=5\n",
    "solution(food_times, k)"
   ]
  },
  {
   "cell_type": "code",
   "execution_count": 242,
   "id": "trying-brunswick",
   "metadata": {},
   "outputs": [
    {
     "name": "stdout",
     "output_type": "stream",
     "text": [
      "answer :  0\n",
      "food_times :  [2, 1, 2, 4]\n",
      "answer :  1\n",
      "food_times :  [2, 0, 2, 4]\n",
      "answer :  2\n",
      "food_times :  [2, 0, 1, 4]\n",
      "answer :  3\n",
      "food_times :  [2, 0, 1, 3]\n",
      "answer :  0\n",
      "food_times :  [1, 0, 1, 3]\n",
      "answer :  1\n",
      "food_times :  [1, 0, 1, 3]\n",
      "answer :  2\n"
     ]
    },
    {
     "data": {
      "text/plain": [
       "3"
      ]
     },
     "execution_count": 242,
     "metadata": {},
     "output_type": "execute_result"
    }
   ],
   "source": [
    "food_times=[3,1,2,4]\n",
    "k=5\n",
    "answer = 0\n",
    "# k+2까지 도는 이유는 0초에서 5초까지 도니까 range에 k+1을 해줘야 5초까지 돌고\n",
    "# 그 다음에 한 번 더 돌고 끝내야 통신장애가 끝난 이후의 것으로 변수 c가 업데이트 되기 때문\n",
    "for i in range(k+2):\n",
    "    # 0,1,2가 돌아야 하므로 i에서 몫*길이를 뺀다\n",
    "    answer = i-(i//len(food_times))*len(food_times)\n",
    "    print(\"answer : \", answer)\n",
    "    if i == k+1:break\n",
    "    if food_times[answer] != 0:\n",
    "        food_times[answer] = food_times[answer]-1\n",
    "        print(\"food_times : \", food_times)\n",
    "    else:\n",
    "        print(\"food_times : \", food_times)\n",
    "        continue\n",
    "        \n",
    "# 음식 이름이 1번부터 시작하니까 +1 해준다\n",
    "answer += 1\n",
    "answer"
   ]
  },
  {
   "cell_type": "code",
   "execution_count": 267,
   "id": "photographic-psychiatry",
   "metadata": {},
   "outputs": [
    {
     "name": "stdout",
     "output_type": "stream",
     "text": [
      "[(4, 3), (8, 1), (6, 2)]\n",
      "[(4, 3), (8, 1), (6, 2)]\n",
      "4 2 4\n"
     ]
    },
    {
     "data": {
      "text/plain": [
       "2"
      ]
     },
     "execution_count": 267,
     "metadata": {},
     "output_type": "execute_result"
    }
   ],
   "source": [
    "import heapq\n",
    "\n",
    "def solution(food_times,k):\n",
    "    if sum(food_times) <= k:\n",
    "        return -1\n",
    "    \n",
    "    q=[]\n",
    "    for i in range(len(food_times)):\n",
    "        #(음식 시간, 음식 번호) 형태로 우선순위 큐에 삽입\n",
    "        heapq.heappush(q, (food_times[i], i+1))\n",
    "    print(q)\n",
    "    \n",
    "    sum_value = 0 # 먹기 위해 사용한 시간\n",
    "    previous = 0 # 직전에 다 먹은 음식 시간\n",
    "    length = len(food_times) # 남은 음식의 개수\n",
    "    \n",
    "#     print(q[0][0], length, previous)\n",
    "    while sum_value + ((q[0][0] - previous)*length) <= k:\n",
    "        print(q)\n",
    "        now=heapq.heappop(q)[0] # 제일 짧은 시간 추출\n",
    "        sum_value += (now-previous)*length\n",
    "        length -= 1 # 다 먹었다는 뜻이니까 length가 하나 줄어든다\n",
    "        previous = now # 이전 음식시간 재설정\n",
    "        print(now, length, previous)\n",
    "    \n",
    "    result=sorted(q, key=lambda x:x[1])\n",
    "    return result[(k-sum_value)%length][1]\n",
    "food_times=[8,6,4]\n",
    "k=15\n",
    "solution(food_times, k)"
   ]
  },
  {
   "cell_type": "markdown",
   "id": "unlimited-sterling",
   "metadata": {},
   "source": [
    "## 백준 1931번 - 회의실 배정\n",
    "\n",
    "https://www.acmicpc.net/problem/1931\n",
    "\n",
    "한 개의 회의실이 있는데 이를 사용하고자 하는 N개의 회의에 대하여 회의실 사용표를 만들려고 한다. 각 회의 I에 대해 시작시간과 끝나는 시간이 주어져 있고, 각 회의가 겹치지 않게 하면서 회의실을 사용할 수 있는 회의의 최대 개수를 찾아보자. 단, 회의는 한번 시작하면 중간에 중단될 수 없으며 한 회의가 끝나는 것과 동시에 다음 회의가 시작될 수 있다. 회의의 시작시간과 끝나는 시간이 같을 수도 있다. 이 경우에는 시작하자마자 끝나는 것으로 생각하면 된다.\n",
    "\n",
    "첫째 줄에 회의의 수 N(1 ≤ N ≤ 100,000)이 주어진다. 둘째 줄부터 N+1 줄까지 각 회의의 정보가 주어지는데 이것은 공백을 사이에 두고 회의의 시작시간과 끝나는 시간이 주어진다. 시작 시간과 끝나는 시간은 231-1보다 작거나 같은 자연수 또는 0이다.\n",
    "\n",
    "첫째 줄에 최대 사용할 수 있는 회의의 최대 개수를 출력한다."
   ]
  },
  {
   "cell_type": "code",
   "execution_count": 270,
   "id": "statutory-greene",
   "metadata": {},
   "outputs": [
    {
     "data": {
      "text/plain": [
       "[[0, 6],\n",
       " [1, 4],\n",
       " [2, 13],\n",
       " [3, 5],\n",
       " [3, 8],\n",
       " [5, 7],\n",
       " [5, 9],\n",
       " [6, 10],\n",
       " [8, 11],\n",
       " [8, 12],\n",
       " [12, 14]]"
      ]
     },
     "execution_count": 270,
     "metadata": {},
     "output_type": "execute_result"
    }
   ],
   "source": [
    "n=11\n",
    "data=[\n",
    "    [1,4],\n",
    "    [3,5],\n",
    "    [0,6],\n",
    "    [5,7],\n",
    "    [3,8],\n",
    "    [5,9],\n",
    "    [6,10],\n",
    "    [8,11],\n",
    "    [8,12],\n",
    "    [2,13],\n",
    "    [12,14]]\n",
    "data=sorted(data, key=lambda x:x[0])\n",
    "\n",
    "data"
   ]
  },
  {
   "cell_type": "code",
   "execution_count": null,
   "id": "sunrise-batch",
   "metadata": {},
   "outputs": [],
   "source": [
    "# 회의 수 카운트\n",
    "c=0        \n",
    "# result = 0\n",
    "# 반복문\n",
    "    # 앞 뒤가 같으면 \n",
    "        # 카운트\n",
    "        # continue\n",
    "    # 앞에꺼가 뒤에꺼에 포함되면\n",
    "        # 뒤에꺼가 짧으면\n",
    "            # 앞에꺼 제거\n",
    "             # continue\n",
    "            \n",
    "        # 앞에꺼가 짧으면\n",
    "            # 뒤에꺼 제거 \n",
    "            # continue\n",
    "    # 앞에꺼가 뒤에꺼에 포함되지 않으면\n",
    "        \n",
    "        # 제일 앞에꺼 지우면서 카운트 1\n",
    "        # result += 1\n",
    "        # print(data[0])\n",
    "        \n",
    "        # continue"
   ]
  },
  {
   "cell_type": "code",
   "execution_count": 353,
   "id": "impressive-highlight",
   "metadata": {
    "tags": []
   },
   "outputs": [
    {
     "name": "stdin",
     "output_type": "stream",
     "text": [
      " 3\n",
      " 3 3\n",
      " 2 2\n",
      " 1 1\n"
     ]
    },
    {
     "name": "stdout",
     "output_type": "stream",
     "text": [
      "3\n"
     ]
    }
   ],
   "source": [
    "n = int(input())\n",
    "data = [list(map(int, input().split())) for i in range(n)]\n",
    "data = sorted(data, key=lambda x:x[0])\n",
    "\n",
    "c=0 # 회의 수 카운트\n",
    "i=0 # 인덱스\n",
    "l=len(data) #시작할 때 데이터 개수\n",
    "selected=data[0]\n",
    "# 반복문, 인덱스가 전체 데이터 개수보다 적으면 계속\n",
    "while i < l :\n",
    "    # 앞 뒤가 같으면 \n",
    "    if data[0][0] == data[0][1] :\n",
    "        c += 1 # 카운트 \n",
    "        i += 1 # 인덱스 증가\n",
    "        data.pop(0) # 제일 앞에 값 제거\n",
    "        continue\n",
    "    if len(data)>1:\n",
    "        b,a = data[0], data[1]\n",
    "    else:\n",
    "        b,a = selected, data[0]\n",
    "    if a[0] < b[1] : # 앞에꺼가 뒤에꺼에 포함되면\n",
    "        if b[1] - b[0] <= a[1] - b[0] : # 뒤에꺼가 짧거나 같으면\n",
    "            data.pop(1) # 앞에꺼 제거\n",
    "            i += 1\n",
    "            continue    # continue\n",
    "        else : # 앞에꺼가 짧으면\n",
    "            data.pop(0) # 뒤에꺼 제거 \n",
    "            i += 1\n",
    "            continue # continue\n",
    "    else : # 앞에꺼가 뒤에꺼에 포함되지 않으면\n",
    "        c += 1 # 카운트 1\n",
    "        selected=data[0]\n",
    "        data.pop(0) # 제일 앞에꺼 지운다\n",
    "        i += 1\n",
    "        continue\n",
    "print(c)"
   ]
  },
  {
   "cell_type": "code",
   "execution_count": 352,
   "id": "adverse-repair",
   "metadata": {},
   "outputs": [
    {
     "name": "stdout",
     "output_type": "stream",
     "text": [
      "initial selected :  [1, 2]\n",
      "selected :  [1, 2]\n",
      "2\n"
     ]
    }
   ],
   "source": [
    "# n=11\n",
    "# data=[\n",
    "#     [1,1],\n",
    "#     [1,1],\n",
    "#     [1,1],\n",
    "#     [2,2],\n",
    "#     [1,4],\n",
    "#     [3,5],\n",
    "#     [0,6],\n",
    "#     [5,7],\n",
    "#     [3,8],\n",
    "#     [5,9],\n",
    "#     [6,10],\n",
    "#     [8,11],\n",
    "#     [8,12],\n",
    "#     [2,13],\n",
    "#     [12,14]]\n",
    "\n",
    "# 반례\n",
    "# n=3\n",
    "# data=[\n",
    "#     [3,3],\n",
    "#     [2,2],\n",
    "#     [1,1]]\n",
    "\n",
    "# n=1\n",
    "# data=[\n",
    "#    [1,1]]\n",
    "\n",
    "\n",
    "# n=15\n",
    "# data=\\\n",
    "# [[1, 4],\n",
    "# [7, 7],\n",
    "# [3, 5],\n",
    "# [0, 6],\n",
    "# [5, 7],\n",
    "# [3, 8],\n",
    "# [5, 9],\n",
    "# [6, 10],\n",
    "# [8, 11],\n",
    "# [8, 12],\n",
    "# [7, 7],\n",
    "# [7, 7],\n",
    "# [7, 7],\n",
    "# [2, 13],\n",
    "# [12, 14]]\n",
    "\n",
    "# n=2\n",
    "# data=[\n",
    "#     [1,4],\n",
    "#     [3,3]]\n",
    "\n",
    "n=3\n",
    "data=[[2, 2],\n",
    "[4, 4],\n",
    "[1, 4]]\n",
    "\n",
    "n=4\n",
    "data=\\\n",
    "[[1, 3],\n",
    "[2, 3],\n",
    "[4, 6],\n",
    "[6, 10]]\n",
    "\n",
    "n=2\n",
    "data=\\\n",
    "[[1, 2],\n",
    "[2, 2]]\n",
    "\n",
    "data=sorted(data, key=lambda x:x[0])\n",
    "\n",
    "c=0 # 회의 수 카운트\n",
    "i=0 # 인덱스\n",
    "l=len(data) #시작할 때 데이터 개수\n",
    "selected=data[0]\n",
    "# 반복문, 인덱스가 전체 데이터 개수보다 적으면 계속\n",
    "print(\"initial selected : \", selected)\n",
    "while i < l :\n",
    "    # 앞 뒤가 같으면 \n",
    "    if data[0][0] == data[0][1] :\n",
    "        c += 1 # 카운트 \n",
    "        i += 1 # 인덱스 증가\n",
    "        data.pop(0) # 제일 앞에 값 제거\n",
    "        continue\n",
    "    \n",
    "    if len(data)>1:\n",
    "        b,a = data[0], data[1]\n",
    "    else:\n",
    "        b,a = selected, data[0]\n",
    "        \n",
    "    if a[0] < b[1] : # 앞에꺼가 뒤에꺼에 포함되면\n",
    "        if b[1] - b[0] <= a[1] - b[0] : # 뒤에꺼가 짧거나 같으면\n",
    "            data.pop(1) # 앞에꺼 제거\n",
    "            i += 1\n",
    "            continue    # continue\n",
    "        else : # 앞에꺼가 짧으면\n",
    "            data.pop(0) # 뒤에꺼 제거 \n",
    "            i += 1\n",
    "            continue # continue\n",
    "    else : # 앞에꺼가 뒤에꺼에 포함되지 않으면\n",
    "        c += 1 # 카운트 1\n",
    "        \n",
    "        selected=data[0]\n",
    "        print(\"selected : \", selected)\n",
    "        data.pop(0) # 제일 앞에꺼 지운다\n",
    "        i += 1\n",
    "        continue\n",
    "print(c)"
   ]
  },
  {
   "cell_type": "markdown",
   "id": "instructional-midwest",
   "metadata": {},
   "source": [
    "## 백준 13305번 - 주유소\n",
    "\n",
    "https://www.acmicpc.net/problem/13305\n"
   ]
  },
  {
   "cell_type": "code",
   "execution_count": 387,
   "id": "studied-visit",
   "metadata": {},
   "outputs": [
    {
     "name": "stdout",
     "output_type": "stream",
     "text": [
      "total_Price(if) + 10\n",
      "total_Price(else) + 8\n",
      "total_Price(if) + 4\n",
      "total_price :  22\n"
     ]
    }
   ],
   "source": [
    "n=4\n",
    "length=[2,3,1]\n",
    "gas_price=[5,2,4,1]\n",
    "total_price=0\n",
    "# 반복문\n",
    "for i in range(len(gas_price)-1):\n",
    "    if gas_price[i] >= gas_price[i+1]: # 지금 도시보다 움직일 도시 가격이 싸면\n",
    "        total_price += gas_price[i]*length[i] # 최소한으로 채워서 이동한다\n",
    "        print(f\"total_Price(if) + {gas_price[i]*length[i]}\")\n",
    "        continue # 이동\n",
    "        \n",
    "    else: # 지금 도시보다 움직일 도시 가격이 비싸면        \n",
    "        tmp_length,c = length[i],1\n",
    "        for j in range(i+1,len(gas_price)):\n",
    "            if gas_price[i] < gas_price[j]:\n",
    "                tmp_length += length[j]\n",
    "        total_price += gas_price[i]*tmp_length\n",
    "        print(f\"total_Price(else) + {gas_price[i]*tmp_length}\")\n",
    "        \n",
    "    # 움직일 도시 가격거리까지 여기서 지금 도시에서 계산한다\n",
    "print(\"total_price : \",total_price)"
   ]
  },
  {
   "cell_type": "code",
   "execution_count": 374,
   "id": "starting-ancient",
   "metadata": {},
   "outputs": [
    {
     "name": "stdout",
     "output_type": "stream",
     "text": [
      "1\n",
      "2\n"
     ]
    }
   ],
   "source": [
    "a=0\n",
    "while a != 2 :\n",
    "    a+=1\n",
    "    print(a)"
   ]
  },
  {
   "cell_type": "code",
   "execution_count": 399,
   "id": "nominated-episode",
   "metadata": {},
   "outputs": [
    {
     "name": "stdout",
     "output_type": "stream",
     "text": [
      "2\n"
     ]
    }
   ],
   "source": [
    "for i in range(2,3):\n",
    "    print(i)"
   ]
  },
  {
   "cell_type": "code",
   "execution_count": 403,
   "id": "earlier-emerald",
   "metadata": {},
   "outputs": [
    {
     "name": "stdout",
     "output_type": "stream",
     "text": [
      "0\n",
      "total_Price(while) + 3\n",
      "1\n",
      "1 1 2\n",
      "total_Price(else) + 2\n",
      "total_price :  5\n"
     ]
    }
   ],
   "source": [
    "n=4\n",
    "length=[1,1,1]\n",
    "gas_price=[3,1,2,3]\n",
    "total_price=0\n",
    "i=0\n",
    "# 반복문\n",
    "while i != len(gas_price)-1:\n",
    "    print(i)\n",
    "    if gas_price[i] >= gas_price[i+1]:\n",
    "        total_price += gas_price[i]*length[i]\n",
    "        print(f\"total_Price(while) + {gas_price[i]*length[i]}\")\n",
    "        i+=1\n",
    "        continue\n",
    "        \n",
    "    else: # 지금 도시보다 움직일 도시 가격이 비싸면        \n",
    "        tmp_length = 0\n",
    "        c=1\n",
    "        tmp_length += length[i]\n",
    "        for j in range(i+1,len(gas_price)-1):\n",
    "            if gas_price[i] < gas_price[j]:\n",
    "                print(tmp_length, c, j)\n",
    "                tmp_length += length[j]\n",
    "                c += 1\n",
    "            else:\n",
    "                break\n",
    "        total_price += gas_price[i]*tmp_length\n",
    "        print(f\"total_Price(else) + {gas_price[i]*tmp_length}\")\n",
    "        i += c\n",
    "        \n",
    "    # 움직일 도시 가격거리까지 여기서 지금 도시에서 계산한다\n",
    "print(\"total_price : \",total_price)"
   ]
  },
  {
   "cell_type": "markdown",
   "id": "invalid-counter",
   "metadata": {},
   "source": [
    "- 반례 1. \n",
    "    - 4\n",
    "    - 1 1 1 \n",
    "    - 3 1 2 3"
   ]
  },
  {
   "cell_type": "code",
   "execution_count": 405,
   "id": "sunrise-texas",
   "metadata": {},
   "outputs": [
    {
     "name": "stdin",
     "output_type": "stream",
     "text": [
      " 4\n",
      " 1 1 1\n",
      " 3 1 2 3\n"
     ]
    },
    {
     "name": "stdout",
     "output_type": "stream",
     "text": [
      "5\n"
     ]
    }
   ],
   "source": [
    "n=int(input())\n",
    "length=list(map(int, input().split()))\n",
    "gas_price=list(map(int, input().split()))\n",
    "\n",
    "total_price = 0\n",
    "i = 0\n",
    "\n",
    "while i != len(gas_price)-1:\n",
    "    if gas_price[i] >= gas_price[i+1]:\n",
    "        total_price += gas_price[i]*length[i]\n",
    "        i+=1\n",
    "        continue\n",
    "    else:\n",
    "        tmp_length,c = length[i],1\n",
    "        for j in range(i+1,len(gas_price)-1):\n",
    "            if gas_price[i] < gas_price[j]:\n",
    "                tmp_length += length[j]\n",
    "                c += 1\n",
    "            else:\n",
    "                break\n",
    "        total_price += gas_price[i]*tmp_length\n",
    "        i += c\n",
    "print(total_price)"
   ]
  },
  {
   "cell_type": "markdown",
   "id": "different-frank",
   "metadata": {},
   "source": [
    "## 백준 1541번 - 잃어버린 괄호"
   ]
  },
  {
   "cell_type": "code",
   "execution_count": 439,
   "id": "medical-theme",
   "metadata": {},
   "outputs": [
    {
     "name": "stdin",
     "output_type": "stream",
     "text": [
      " 55-50+40\n"
     ]
    },
    {
     "data": {
      "text/plain": [
       "-35"
      ]
     },
     "execution_count": 439,
     "metadata": {},
     "output_type": "execute_result"
    }
   ],
   "source": [
    "import re\n",
    "#\"00009-00009\"\n",
    "strings=input()\n",
    "\n",
    "re.split(\"[+-]\", strings)\n",
    "nums=list(map(int, re.split(\"[+-]\", strings)))\n",
    "ops=list(filter(lambda x: x if x in [\"-\",\"+\"] else None, strings))\n",
    "\n",
    "min_value=nums[0]\n",
    "f=False\n",
    "\n",
    "for idx,num in enumerate(nums[1:]):\n",
    "    if ops[idx] == \"+\" and f == False:\n",
    "        min_value += num\n",
    "    elif ops[idx] == \"-\" or f == True:\n",
    "        min_value -= num\n",
    "        f=True\n",
    "min_value"
   ]
  },
  {
   "cell_type": "markdown",
   "id": "opposed-headline",
   "metadata": {},
   "source": [
    "## 백준 11399번 - ATM\n",
    "\n",
    "https://www.acmicpc.net/problem/11399"
   ]
  },
  {
   "cell_type": "code",
   "execution_count": 464,
   "id": "underlying-pressing",
   "metadata": {},
   "outputs": [
    {
     "name": "stdin",
     "output_type": "stream",
     "text": [
      " 5\n",
      " 3 1 4 3 2\n"
     ]
    },
    {
     "name": "stdout",
     "output_type": "stream",
     "text": [
      "32\n"
     ]
    }
   ],
   "source": [
    "n,c=int(input()),0\n",
    "v=sorted(list(map(int, input().split())))\n",
    "for i in range(1,len(v)+1):c += sum(v[0:i])\n",
    "print(c)"
   ]
  },
  {
   "cell_type": "code",
   "execution_count": null,
   "id": "aware-authentication",
   "metadata": {},
   "outputs": [],
   "source": []
  },
  {
   "cell_type": "markdown",
   "id": "governmental-stranger",
   "metadata": {},
   "source": [
    "## 백준 - 11047번 동전 0 \n",
    "\n",
    "https://www.acmicpc.net/problem/11047"
   ]
  },
  {
   "cell_type": "code",
   "execution_count": 512,
   "id": "contrary-plenty",
   "metadata": {},
   "outputs": [
    {
     "name": "stdout",
     "output_type": "stream",
     "text": [
      "i :  50000 k :  4200\n",
      "i :  10000 k :  4200\n",
      "i :  5000 k :  4200\n",
      "i :  1000 k :  4200\n",
      "i :  500 k :  200\n",
      "i :  100 k :  200\n",
      "i :  50 k :  0\n",
      "i :  10 k :  0\n",
      "i :  5 k :  0\n",
      "i :  1 k :  0\n",
      "6\n"
     ]
    }
   ],
   "source": [
    "n,k,v=10,4200,sorted([1,5,10,50,100,500,1000,5000,10000,50000], reverse=True)\n",
    "coin_cnt=0\n",
    "for i in v:\n",
    "    print(\"i : \", i, \"k : \", k)\n",
    "    coin_cnt += k//i # 몫\n",
    "    k -= i*(k//i)    # 몫*i 를 전체 k에서 뺌\n",
    "print(coin_cnt)"
   ]
  },
  {
   "cell_type": "code",
   "execution_count": 511,
   "id": "altered-drink",
   "metadata": {},
   "outputs": [
    {
     "name": "stdin",
     "output_type": "stream",
     "text": [
      " 10 4200\n",
      " 1\n",
      " 5\n",
      " 10\n",
      " 50\n",
      " 100\n",
      " 500\n",
      " 1000\n",
      " 5000\n",
      " 10000\n",
      " 50000\n"
     ]
    },
    {
     "name": "stdout",
     "output_type": "stream",
     "text": [
      "6\n"
     ]
    }
   ],
   "source": [
    "n,k=map(int, input().split())\n",
    "v=[]\n",
    "for i in range(n):\n",
    "    v.append(int(input()))\n",
    "v=sorted(v,reverse=True)\n",
    "coin_cnt=0\n",
    "for i in v:\n",
    "    coin_cnt += k//i\n",
    "    k -= i*(k//i)\n",
    "print(coin_cnt)"
   ]
  },
  {
   "cell_type": "code",
   "execution_count": null,
   "id": "legislative-hungarian",
   "metadata": {},
   "outputs": [],
   "source": []
  }
 ],
 "metadata": {
  "kernelspec": {
   "display_name": "Python 3",
   "language": "python",
   "name": "python3"
  },
  "language_info": {
   "codemirror_mode": {
    "name": "ipython",
    "version": 3
   },
   "file_extension": ".py",
   "mimetype": "text/x-python",
   "name": "python",
   "nbconvert_exporter": "python",
   "pygments_lexer": "ipython3",
   "version": "3.6.12"
  }
 },
 "nbformat": 4,
 "nbformat_minor": 5
}
