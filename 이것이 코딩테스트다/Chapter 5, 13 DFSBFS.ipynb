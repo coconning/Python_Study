{
 "cells": [
  {
   "cell_type": "markdown",
   "id": "official-column",
   "metadata": {},
   "source": [
    "# Chapter. 5 DFS/BFS"
   ]
  },
  {
   "cell_type": "markdown",
   "id": "accredited-stevens",
   "metadata": {},
   "source": [
    "- 탐색 : 많은 양의 데이터 중에서 원하는 데이터를 찾는 과정\n",
    "- 자료구조 : 데이터를 표현하고 관리하고 처리하기 위한 구조\n",
    "    - 스택과 큐는 자료구조의 기초 개념으로 다음 두 핵심적인 함수로 구성된다\n",
    "        - 삽입(Push) : 데이터를 삽입\n",
    "        - 삭제(Pop) : 데이터를 삭제\n",
    "    - 물론 실제로 스택과 큐를 사용할 때는 삽입과 삭제 외에도 오버플로와 언더플로를 고민해야 한다\n",
    "        - 오버플로 : 특정한 자료구조가 수용할 수 있는 데이터의 크기를 이미 가득찬 산 상태에서 삽입 연산을 수행할 때\n",
    "        - 언더플로 : 자료구조에 데이터가 전혀 들어 있지 않은 상태에서 삭제 연산을 수행하면 데이터가 전혀 없는 상태"
   ]
  },
  {
   "cell_type": "markdown",
   "id": "married-principal",
   "metadata": {},
   "source": [
    "- 스택 예제"
   ]
  },
  {
   "cell_type": "code",
   "execution_count": 334,
   "id": "established-retailer",
   "metadata": {},
   "outputs": [
    {
     "name": "stdout",
     "output_type": "stream",
     "text": [
      "[5, 2, 3, 1]\n",
      "[1, 3, 2, 5]\n"
     ]
    }
   ],
   "source": [
    "stack = []\n",
    "\n",
    "stack.append(5)\n",
    "stack.append(2)\n",
    "stack.append(3)\n",
    "stack.append(7)\n",
    "stack.pop()\n",
    "stack.append(1)\n",
    "stack.append(4)\n",
    "stack.pop()\n",
    "\n",
    "print(stack)\n",
    "print(stack[::-1])"
   ]
  },
  {
   "cell_type": "markdown",
   "id": "amateur-uncle",
   "metadata": {},
   "source": [
    "- 큐 \n",
    "    - 큐는 선입선출(공정한 자료구조)\n",
    "    \n",
    "- deque는 스택과 큐의 장점을 모두 채택한 것\n",
    "- 데이터를 넣고 빼는 속도가 리스트 자료형에 비해 효율적\n",
    "- queue 라이브러리를 이용하는 것보다 간단하다"
   ]
  },
  {
   "cell_type": "code",
   "execution_count": 336,
   "id": "stock-wiring",
   "metadata": {},
   "outputs": [
    {
     "name": "stdout",
     "output_type": "stream",
     "text": [
      "deque([3, 7, 1, 4])\n",
      "deque([4, 1, 7, 3])\n"
     ]
    }
   ],
   "source": [
    "from collections import deque\n",
    "\n",
    "# 큐 구현을 위해 deque 라이브러리 사용\n",
    "queue = deque()\n",
    "\n",
    "queue.append(5)\n",
    "queue.append(2)\n",
    "queue.append(3)\n",
    "queue.append(7)\n",
    "queue.popleft()\n",
    "queue.append(1)\n",
    "queue.append(4)\n",
    "queue.popleft()\n",
    "\n",
    "print(queue) # 먼저 들어온 순서대로 출력\n",
    "queue.reverse() # 다음 출력을 위해 역순으로 바꾸기\n",
    "print(queue) # 나중에 들어온 원소부터 출력"
   ]
  },
  {
   "cell_type": "code",
   "execution_count": null,
   "id": "composite-spanish",
   "metadata": {},
   "outputs": [],
   "source": []
  },
  {
   "cell_type": "markdown",
   "id": "placed-tourist",
   "metadata": {},
   "source": [
    "- 재귀함수를 이용한 팩토리얼 예제"
   ]
  },
  {
   "cell_type": "code",
   "execution_count": 332,
   "id": "anticipated-supervisor",
   "metadata": {},
   "outputs": [
    {
     "name": "stdout",
     "output_type": "stream",
     "text": [
      "3628800\n",
      "3628800\n"
     ]
    }
   ],
   "source": [
    "# 반복으로 구현\n",
    "\n",
    "def factorial_iterative(n):\n",
    "    result=1\n",
    "    for i in range(1,n+1):\n",
    "        result = result*i\n",
    "    return result\n",
    "\n",
    "print(factorial_iterative(10))\n",
    "\n",
    "# 재귀로 구현\n",
    "\n",
    "def factorial_iterative(n):\n",
    "    if n <= 1 :\n",
    "        return 1\n",
    "    return n*factorial_iterative(n-1)\n",
    "print(factorial_iterative(10))"
   ]
  },
  {
   "cell_type": "code",
   "execution_count": null,
   "id": "brazilian-digit",
   "metadata": {},
   "outputs": [],
   "source": []
  },
  {
   "cell_type": "markdown",
   "id": "bored-kennedy",
   "metadata": {},
   "source": [
    "## 5.2 DFS & BFS\n",
    "\n",
    "- DFS는 Depth-First Search 갚이 우선 탐색이라고 부르며 그래프에서 깊은 부분을 우선적으로 탐색하는 알고리즘이다\n",
    "- BFS는 너비 우선 탐색, 가까운 노드부터 탐색하는 알고리즘이다\n",
    "- 선입선출 방식인 큐 자료구조를 이용하는 것이 정석"
   ]
  },
  {
   "cell_type": "markdown",
   "id": "excess-murray",
   "metadata": {},
   "source": [
    "- 인접 리스트 방식 예제"
   ]
  },
  {
   "cell_type": "code",
   "execution_count": 340,
   "id": "isolated-soviet",
   "metadata": {},
   "outputs": [
    {
     "data": {
      "text/plain": [
       "[[(1, 7), (2, 5)], [(0, 7)], [(0, 5)]]"
      ]
     },
     "execution_count": 340,
     "metadata": {},
     "output_type": "execute_result"
    }
   ],
   "source": [
    "# 행(Row)이 3개인 2차원 리스트로 인접 리스트 표현\n",
    "graph=[[] for _ in range(3)]\n",
    "\n",
    "# 노드 0에 연결된 노드 정보 저장(노드 ,거리)\n",
    "graph[0].append((1,7))\n",
    "graph[0].append((2,5))\n",
    "\n",
    "# 노드 1에 연결된 노드 정보 저장(노드, 거리)\n",
    "graph[1].append((0,7))\n",
    "\n",
    "# 노드 2에 연결된 노드 정보 저장(노드, 거리)\n",
    "graph[2].append((0,5))\n",
    "\n",
    "graph"
   ]
  },
  {
   "cell_type": "code",
   "execution_count": 5,
   "id": "conceptual-ozone",
   "metadata": {},
   "outputs": [
    {
     "name": "stdout",
     "output_type": "stream",
     "text": [
      "[False, False, False, False, False, False, False, False, False]\n",
      "1 2 7 6 8 3 4 5 "
     ]
    }
   ],
   "source": [
    "def dfs(graph, v, visited):\n",
    "    # 현재 노드를 방문 처리\n",
    "    print(v, end=' ')\n",
    "    # 현재 노드와 연결된 다른 노드를 재귀적으로 방문\n",
    "    visited[v]=True\n",
    "    for i in graph[v]:\n",
    "        if not visited[i]:\n",
    "            dfs(graph, i, visited)\n",
    "graph = [\n",
    "    [],\n",
    "    [2,3,8],\n",
    "    [1,7],\n",
    "    [1,4,5],\n",
    "    [3,5],\n",
    "    [3,4],\n",
    "    [7],\n",
    "    [2,6,8],\n",
    "    [1,7]\n",
    "]       \n",
    "visited=[False]*9\n",
    "\n",
    "dfs(graph, 1, visited)"
   ]
  },
  {
   "cell_type": "code",
   "execution_count": null,
   "id": "specialized-worth",
   "metadata": {},
   "outputs": [],
   "source": [
    "def dfs(graph, v, visited):\n",
    "    visited[v]=True\n",
    "    for i in graph[v]:\n",
    "        if not visited[i]:\n",
    "            dfs(graph, i, visited)"
   ]
  },
  {
   "cell_type": "code",
   "execution_count": null,
   "id": "postal-trail",
   "metadata": {},
   "outputs": [],
   "source": []
  },
  {
   "cell_type": "code",
   "execution_count": 30,
   "id": "beneficial-sierra",
   "metadata": {},
   "outputs": [
    {
     "data": {
      "text/plain": [
       "2"
      ]
     },
     "execution_count": 30,
     "metadata": {},
     "output_type": "execute_result"
    }
   ],
   "source": [
    "v=a.popleft()\n",
    "v"
   ]
  },
  {
   "cell_type": "code",
   "execution_count": 29,
   "id": "municipal-greeting",
   "metadata": {},
   "outputs": [
    {
     "name": "stdout",
     "output_type": "stream",
     "text": [
      "deque([1, 2, 3])\n",
      "deque([2, 3])\n"
     ]
    }
   ],
   "source": [
    "from collections import deque\n",
    "\n",
    "a=deque()\n",
    "a.append(1)\n",
    "a.append(2)\n",
    "a.append(3);print(a)\n",
    "a.popleft();print(a)"
   ]
  },
  {
   "cell_type": "code",
   "execution_count": 33,
   "id": "sporting-boards",
   "metadata": {},
   "outputs": [
    {
     "name": "stdout",
     "output_type": "stream",
     "text": [
      "1 2 3 8 7 4 5 6 "
     ]
    }
   ],
   "source": [
    "def bfs(graph, start, visited):\n",
    "    queue=deque([start])\n",
    "    visited[start]=True\n",
    "    while queue:\n",
    "        v=queue.popleft()\n",
    "        print(v, end = ' ')\n",
    "        for i in graph[v]:\n",
    "            if not visited[i]:\n",
    "                queue.append(i)\n",
    "                visited[i]=True\n",
    "                \n",
    "                \n",
    "graph = [\n",
    "    [],\n",
    "    [2,3,8],\n",
    "    [1,7],\n",
    "    [1,4,5],\n",
    "    [3,5],\n",
    "    [3,4],\n",
    "    [7],\n",
    "    [2,6,8],\n",
    "    [1,7]\n",
    "]       \n",
    "visited=[False]*9\n",
    "\n",
    "bfs(graph, 1, visited)"
   ]
  },
  {
   "cell_type": "markdown",
   "id": "grateful-blink",
   "metadata": {},
   "source": [
    "### 5-3 음료수 얼려먹기"
   ]
  },
  {
   "cell_type": "code",
   "execution_count": 40,
   "id": "fallen-gathering",
   "metadata": {},
   "outputs": [
    {
     "name": "stdout",
     "output_type": "stream",
     "text": [
      "3\n"
     ]
    }
   ],
   "source": [
    "# n,m=map(int, input().split())\n",
    "# graph=[]\n",
    "# for i in range(n):\n",
    "#     graph.append(list(map(int, input())))\n",
    "n,m=3,3\n",
    "graph=[\n",
    "    [0,0,1],\n",
    "    [0,1,0],\n",
    "    [1,0,1]\n",
    "]\n",
    "\n",
    "def dfs(x,y):\n",
    "    if x < 0 or x >= n or y < 0 or y >= m:\n",
    "        return False\n",
    "    if graph[x][y] == 0:\n",
    "        \n",
    "        graph[x][y]=1\n",
    "        dfs(x-1,y)\n",
    "        dfs(x,y-1)\n",
    "        dfs(x+1,y)\n",
    "        dfs(x,y+1)\n",
    "        return True\n",
    "    return False\n",
    "\n",
    "result=0\n",
    "for i in range(n):\n",
    "    for j in range(m):\n",
    "        result += dfs(i,j)\n",
    "        \n",
    "print(result)"
   ]
  },
  {
   "cell_type": "code",
   "execution_count": 45,
   "id": "optional-torture",
   "metadata": {},
   "outputs": [
    {
     "data": {
      "text/plain": [
       "3"
      ]
     },
     "execution_count": 45,
     "metadata": {},
     "output_type": "execute_result"
    }
   ],
   "source": [
    "n,m=3,5\n",
    "graph=[\n",
    "    [0,0,0,0,1],\n",
    "    [0,1,0,1,0],\n",
    "    [1,0,1,1,1]\n",
    "]\n",
    "\n",
    "def dfs(x,y):\n",
    "    if x<0 or x>=n or y<0 or y>=m:\n",
    "        return False\n",
    "    if graph[x][y] == 0 :\n",
    "        graph[x][y] = 1\n",
    "        dfs(x-1,y)\n",
    "        dfs(x+1,y)\n",
    "        dfs(x,y-1)\n",
    "        dfs(x,y+1)\n",
    "        return True\n",
    "    return False\n",
    "\n",
    "result=0\n",
    "for i in range(n):\n",
    "    for j in range(m):\n",
    "        if dfs(i,j):result+=1\n",
    "result"
   ]
  },
  {
   "cell_type": "markdown",
   "id": "postal-saskatchewan",
   "metadata": {},
   "source": [
    "### 5-4 미로탈출"
   ]
  },
  {
   "cell_type": "code",
   "execution_count": 49,
   "id": "catholic-virginia",
   "metadata": {},
   "outputs": [
    {
     "name": "stdout",
     "output_type": "stream",
     "text": [
      "10\n"
     ]
    }
   ],
   "source": [
    "n,m=5,6\n",
    "graph=[\n",
    "    [1,0,1,0,1,0],\n",
    "    [1,1,1,1,1,1],\n",
    "    [0,0,0,0,0,1],\n",
    "    [1,1,1,1,1,1],\n",
    "    [1,1,1,1,1,1]\n",
    "]\n",
    "\n",
    "dx=[-1, 1, 0, 0]\n",
    "dy=[0, 0, -1, 1]\n",
    "def bfs(x,y):\n",
    "    queue=deque()\n",
    "    queue.append((x,y))\n",
    "    while queue:\n",
    "        x,y=queue.popleft()\n",
    "        # 현재 위치에서 네 방향으로의 위치 확인\n",
    "        for i in range(4):\n",
    "            nx = x + dx[i]\n",
    "            ny = y + dy[i]\n",
    "            \n",
    "            # 미로 찾기 공간을 떠난 경우 무시\n",
    "            if nx < 0 or ny < 0 or nx >= n or ny >= m:\n",
    "                continue\n",
    "                \n",
    "            # 벽인 경우 무시\n",
    "            if graph[nx][ny] == 0 :\n",
    "                continue\n",
    "                \n",
    "            # 해당 노드를 처음 방문하는 경우에만 최단거리 기록\n",
    "            if graph[nx][ny] == 1:\n",
    "                graph[nx][ny] = graph[x][y]+1\n",
    "                queue.append((nx,ny))\n",
    "    # 가장 오른쪽 아래까지의 최단 거리 반환\n",
    "    return graph[n-1][m-1]\n",
    "\n",
    "print(bfs(0,0))\n",
    "    "
   ]
  },
  {
   "cell_type": "code",
   "execution_count": 64,
   "id": "decimal-california",
   "metadata": {},
   "outputs": [
    {
     "data": {
      "text/plain": [
       "10"
      ]
     },
     "execution_count": 64,
     "metadata": {},
     "output_type": "execute_result"
    }
   ],
   "source": [
    "n,m=5,6\n",
    "graph=[\n",
    "    [1,0,1,0,1,0],\n",
    "    [1,1,1,1,1,1],\n",
    "    [0,0,0,0,0,1],\n",
    "    [1,1,1,1,1,1],\n",
    "    [1,1,1,1,1,1]\n",
    "]\n",
    "\n",
    "dx=[-1,0,1,0]\n",
    "dy=[0,-1,0,1]\n",
    "\n",
    "def bfs(x,y):\n",
    "    queue=deque()\n",
    "    queue.append((x,y))\n",
    "    while queue:\n",
    "        x,y=queue.popleft()\n",
    "        \n",
    "        for i in range(4):\n",
    "            nx,ny=x+dx[i], y+dy[i]\n",
    "            # 밖으로 나가면\n",
    "            if nx<0 or nx>=n or ny<0 or ny>=m:\n",
    "                continue\n",
    "            \n",
    "            # 괴물 있을 때\n",
    "            if graph[nx][ny]==0:\n",
    "                continue\n",
    "            \n",
    "            # 길이 있을 때\n",
    "            if graph[nx][ny]==1:\n",
    "                \n",
    "                graph[nx][ny]=graph[x][y]+1\n",
    "                queue.append((nx,ny))\n",
    "                \n",
    "    return graph[n-1][m-1]\n",
    "\n",
    "bfs(0,0)"
   ]
  },
  {
   "cell_type": "markdown",
   "id": "embedded-joint",
   "metadata": {},
   "source": [
    "### 백준 DFS 1260번\n",
    "\n",
    "https://www.acmicpc.net/problem/1260"
   ]
  },
  {
   "cell_type": "code",
   "execution_count": 119,
   "id": "dress-castle",
   "metadata": {},
   "outputs": [
    {
     "name": "stdin",
     "output_type": "stream",
     "text": [
      " 4 5 1\n",
      " 1 2\n",
      " 1 3\n",
      " 1 4\n",
      " 2 4\n",
      " 3 4\n"
     ]
    },
    {
     "data": {
      "text/plain": [
       "{1: {2, 3, 4}, 2: {1, 4}, 3: {1, 4}, 4: {1, 2, 3}}"
      ]
     },
     "execution_count": 119,
     "metadata": {},
     "output_type": "execute_result"
    }
   ],
   "source": [
    "from collections import deque\n",
    "\n",
    "N,M,start = map(int,input().split())\n",
    "graph={}\n",
    "visited = [False] * (N+1)\n",
    "\n",
    "for i in range(N):\n",
    "    graph[i+1] = set()\n",
    "\n",
    "for i in range(M):\n",
    "    a,b = map(int,input().split())\n",
    "    graph[a].add(b)\n",
    "    graph[b].add(a)\n",
    "    \n",
    "graph"
   ]
  },
  {
   "cell_type": "code",
   "execution_count": 127,
   "id": "ancient-planning",
   "metadata": {},
   "outputs": [
    {
     "name": "stdin",
     "output_type": "stream",
     "text": [
      " 1 2 \n",
      " 1 3\n",
      " 1 4\n",
      " 2 4\n",
      " 3 4\n"
     ]
    },
    {
     "data": {
      "text/plain": [
       "[[], [2, 3, 4], [1, 4], [1, 4], [1, 2, 3]]"
      ]
     },
     "execution_count": 127,
     "metadata": {},
     "output_type": "execute_result"
    }
   ],
   "source": [
    "graph=[[] for i in range(4+1)]\n",
    "\n",
    "    \n",
    "for j in range(5):\n",
    "    a,b=map(int, input().split())\n",
    "    graph[a].append(b)\n",
    "    graph[b].append(a)\n",
    "    \n",
    "graph"
   ]
  },
  {
   "cell_type": "code",
   "execution_count": 161,
   "id": "synthetic-pitch",
   "metadata": {},
   "outputs": [
    {
     "name": "stdin",
     "output_type": "stream",
     "text": [
      " iiii\n"
     ]
    },
    {
     "ename": "ValueError",
     "evalue": "invalid literal for int() with base 10: 'iiii'",
     "output_type": "error",
     "traceback": [
      "\u001b[1;31m---------------------------------------------------------------------------\u001b[0m",
      "\u001b[1;31mValueError\u001b[0m                                Traceback (most recent call last)",
      "\u001b[1;32m<ipython-input-161-0169d8de2b34>\u001b[0m in \u001b[0;36m<module>\u001b[1;34m\u001b[0m\n\u001b[0;32m      1\u001b[0m \u001b[1;32mfrom\u001b[0m \u001b[0mcollections\u001b[0m \u001b[1;32mimport\u001b[0m \u001b[0mdeque\u001b[0m\u001b[1;33m\u001b[0m\u001b[1;33m\u001b[0m\u001b[0m\n\u001b[0;32m      2\u001b[0m \u001b[1;33m\u001b[0m\u001b[0m\n\u001b[1;32m----> 3\u001b[1;33m \u001b[0mn\u001b[0m\u001b[1;33m,\u001b[0m\u001b[0mm\u001b[0m\u001b[1;33m,\u001b[0m\u001b[0mv\u001b[0m\u001b[1;33m=\u001b[0m\u001b[0mmap\u001b[0m\u001b[1;33m(\u001b[0m\u001b[0mint\u001b[0m\u001b[1;33m,\u001b[0m\u001b[0minput\u001b[0m\u001b[1;33m(\u001b[0m\u001b[1;33m)\u001b[0m\u001b[1;33m.\u001b[0m\u001b[0msplit\u001b[0m\u001b[1;33m(\u001b[0m\u001b[1;33m)\u001b[0m\u001b[1;33m)\u001b[0m\u001b[1;33m\u001b[0m\u001b[1;33m\u001b[0m\u001b[0m\n\u001b[0m\u001b[0;32m      4\u001b[0m \u001b[1;33m\u001b[0m\u001b[0m\n\u001b[0;32m      5\u001b[0m \u001b[0mgraph\u001b[0m\u001b[1;33m=\u001b[0m\u001b[1;33m[\u001b[0m\u001b[1;33m[\u001b[0m\u001b[1;33m]\u001b[0m \u001b[1;32mfor\u001b[0m \u001b[0mi\u001b[0m \u001b[1;32min\u001b[0m \u001b[0mrange\u001b[0m\u001b[1;33m(\u001b[0m\u001b[0mn\u001b[0m\u001b[1;33m+\u001b[0m\u001b[1;36m1\u001b[0m\u001b[1;33m)\u001b[0m\u001b[1;33m]\u001b[0m\u001b[1;33m\u001b[0m\u001b[1;33m\u001b[0m\u001b[0m\n",
      "\u001b[1;31mValueError\u001b[0m: invalid literal for int() with base 10: 'iiii'"
     ]
    }
   ],
   "source": [
    "from collections import deque\n",
    "\n",
    "n,m,v=map(int,input().split())\n",
    "\n",
    "graph=[[] for i in range(n+1)]\n",
    "\n",
    "dfs_route, bfs_route=[], []\n",
    "\n",
    "for j in range(m):\n",
    "    a,b=map(int, input().split())\n",
    "    graph[a].append(b)\n",
    "    graph[b].append(a)\n",
    "    \n",
    "visited=[False]*(n+1)\n",
    "for i in range(n+1):\n",
    "    graph[i]=sorted(graph[i])\n",
    "\n",
    "def dfs(graph,v,visited):\n",
    "#     print(v, end=' ')\n",
    "    dfs_route.append(v)\n",
    "    visited[v]=True\n",
    "    for i in graph[v]:\n",
    "        if visited[i] is not True:\n",
    "            dfs(graph, i, visited)\n",
    "    \n",
    "dfs(graph, v, visited)\n",
    "\n",
    "visited=[False]*(n+1)\n",
    "def bfs(graph, v, visited):\n",
    "    queue=deque()\n",
    "    queue.append(v)\n",
    "    visited[v]=True\n",
    "    \n",
    "    while queue:\n",
    "        v=queue.popleft()\n",
    "#         print(v, end=' ')\n",
    "        bfs_route.append(v)\n",
    "        for i in graph[v]:\n",
    "            if visited[i] is not True:\n",
    "                queue.append(i)\n",
    "                visited[i]=True\n",
    "\n",
    "bfs(graph, v, visited)\n",
    "\n",
    "print(\" \".join(map(str, dfs_route)))\n",
    "print(\" \".join(map(str, bfs_route)))"
   ]
  },
  {
   "cell_type": "markdown",
   "id": "requested-carroll",
   "metadata": {},
   "source": [
    "### 백준 DFS 2606번\n",
    "\n",
    "https://www.acmicpc.net/problem/2606"
   ]
  },
  {
   "cell_type": "code",
   "execution_count": 175,
   "id": "outstanding-diesel",
   "metadata": {},
   "outputs": [
    {
     "name": "stdin",
     "output_type": "stream",
     "text": [
      " 7\n",
      " 6\n",
      " 1 2\n",
      " 2 3\n",
      " 1 5\n",
      " 5 2\n",
      " 5 6\n",
      " 4 7\n"
     ]
    },
    {
     "name": "stdout",
     "output_type": "stream",
     "text": [
      "4\n"
     ]
    }
   ],
   "source": [
    "from collections import deque\n",
    "\n",
    "com_num=int(input())\n",
    "line_num=int(input())\n",
    "\n",
    "graph=[[] for _ in range(com_num+1)]\n",
    "\n",
    "for i in range(line_num):\n",
    "    a,b=map(int, input().split())\n",
    "    graph[a].append(b)\n",
    "    graph[b].append(a)\n",
    "    \n",
    "visited=[False]*(com_num+1)\n",
    "\n",
    "def bfs(graph, visited):\n",
    "    contaminated=0\n",
    "    queue = deque()\n",
    "    # 1번 컴퓨터 넣기\n",
    "    queue.append(1)\n",
    "    visited[1]=True\n",
    "    while queue:\n",
    "        virus=queue.popleft()\n",
    "        for i in graph[virus]:\n",
    "            if visited[i] is not True:\n",
    "                queue.append(i)\n",
    "                contaminated+=1\n",
    "                visited[i] = True\n",
    "    print(contaminated)\n",
    "    \n",
    "bfs(graph, visited)"
   ]
  }
 ],
 "metadata": {
  "kernelspec": {
   "display_name": "Python 3",
   "language": "python",
   "name": "python3"
  },
  "language_info": {
   "codemirror_mode": {
    "name": "ipython",
    "version": 3
   },
   "file_extension": ".py",
   "mimetype": "text/x-python",
   "name": "python",
   "nbconvert_exporter": "python",
   "pygments_lexer": "ipython3",
   "version": "3.6.12"
  }
 },
 "nbformat": 4,
 "nbformat_minor": 5
}
