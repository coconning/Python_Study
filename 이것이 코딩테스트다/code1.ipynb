{
 "cells": [
  {
   "cell_type": "code",
   "execution_count": null,
   "id": "97ff6da7",
   "metadata": {},
   "outputs": [],
   "source": [
    "data = input().split(\"-\")\n",
    "ans=0\n",
    "\n",
    "for i in data[0].split(\"+\"):\n",
    "    ans +=int(i)\n",
    "    \n",
    "for i in data[1:]:\n",
    "    for j in i.split(\"+\"):\n",
    "        ans -=int(j)\n",
    "\n",
    "print(ans)"
   ]
  }
 ],
 "metadata": {
  "kernelspec": {
   "display_name": "Python 3",
   "language": "python",
   "name": "python3"
  },
  "language_info": {
   "codemirror_mode": {
    "name": "ipython",
    "version": 3
   },
   "file_extension": ".py",
   "mimetype": "text/x-python",
   "name": "python",
   "nbconvert_exporter": "python",
   "pygments_lexer": "ipython3",
   "version": "3.8.8"
  }
 },
 "nbformat": 4,
 "nbformat_minor": 5
}
