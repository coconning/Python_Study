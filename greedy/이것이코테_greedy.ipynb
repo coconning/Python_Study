{
 "cells": [
  {
   "cell_type": "markdown",
   "id": "2eca7b74-cf57-442d-8570-c636f1439bb7",
   "metadata": {},
   "source": [
    "모험가 길드 <br>\n",
    "- 모험가 N명, 공포도가 X인 모험가는 X명 이상으로 구성된 모험가 그룹에 참여해야 함\n",
    "- 모든 모험가가 그룹에 참여할 필요는 없음\n",
    "- 최대의 그룹 수가 궁금함"
   ]
  },
  {
   "cell_type": "code",
   "execution_count": 2,
   "id": "0bf84b97-3002-4f0a-8a50-4bcbac1c2a10",
   "metadata": {},
   "outputs": [],
   "source": [
    "N = 5\n",
    "xlist = [2,3,1,2,2]"
   ]
  },
  {
   "cell_type": "code",
   "execution_count": 5,
   "id": "f843c026-ddc6-4ccd-b0c2-6d7ba8a5ba0a",
   "metadata": {},
   "outputs": [],
   "source": [
    "xlist.sort()\n"
   ]
  },
  {
   "cell_type": "code",
   "execution_count": 1,
   "id": "2cacb67b-c098-418c-a07f-5a0e03ee2b7e",
   "metadata": {},
   "outputs": [
    {
     "name": "stdout",
     "output_type": "stream",
     "text": [
      "2.002716064453125e-05\n"
     ]
    }
   ],
   "source": [
    "import time\n",
    "t0 = time.time()\n",
    "\n",
    "\n",
    "\n",
    "\n",
    "t1 = time.time()\n",
    "print(t1-t0)"
   ]
  },
  {
   "cell_type": "code",
   "execution_count": null,
   "id": "3d5e861b-f74d-4784-a1f4-3b3f4453fb44",
   "metadata": {},
   "outputs": [],
   "source": []
  },
  {
   "cell_type": "code",
   "execution_count": null,
   "id": "9a7ebac9-043f-452d-9fc2-49ae3d589208",
   "metadata": {},
   "outputs": [],
   "source": []
  },
  {
   "cell_type": "code",
   "execution_count": null,
   "id": "ebc94a29-e2d6-4d6d-9d21-8558230acac7",
   "metadata": {},
   "outputs": [],
   "source": []
  },
  {
   "cell_type": "code",
   "execution_count": null,
   "id": "04740518-3064-4240-8211-523c65987b30",
   "metadata": {},
   "outputs": [],
   "source": []
  },
  {
   "cell_type": "code",
   "execution_count": null,
   "id": "d192e29a-14b4-47cb-a288-5c09974d4b14",
   "metadata": {},
   "outputs": [],
   "source": []
  },
  {
   "cell_type": "code",
   "execution_count": null,
   "id": "06c2581f-9f07-4239-a179-4a198ca1cba2",
   "metadata": {},
   "outputs": [],
   "source": []
  },
  {
   "cell_type": "code",
   "execution_count": null,
   "id": "cdec5534-04c3-4e19-b5ec-95f6f615ddfe",
   "metadata": {},
   "outputs": [],
   "source": []
  },
  {
   "cell_type": "code",
   "execution_count": null,
   "id": "2609c02a-e766-4636-b6f9-7e9060628524",
   "metadata": {},
   "outputs": [],
   "source": []
  },
  {
   "cell_type": "code",
   "execution_count": null,
   "id": "04cebb1e-ba07-4de1-b615-256ac8808593",
   "metadata": {},
   "outputs": [],
   "source": []
  },
  {
   "cell_type": "code",
   "execution_count": null,
   "id": "cde02a05-583f-41eb-83e0-4b1a92ab13e5",
   "metadata": {},
   "outputs": [],
   "source": []
  },
  {
   "cell_type": "code",
   "execution_count": null,
   "id": "75b53cca-a510-47f4-a2eb-cb7188ee2ae0",
   "metadata": {},
   "outputs": [],
   "source": []
  },
  {
   "cell_type": "code",
   "execution_count": null,
   "id": "d5113274-3138-4c97-8808-15088233ba40",
   "metadata": {},
   "outputs": [],
   "source": []
  },
  {
   "cell_type": "code",
   "execution_count": null,
   "id": "3be38cd6-dd10-41c8-aac1-c41ebbe67464",
   "metadata": {},
   "outputs": [],
   "source": []
  },
  {
   "cell_type": "code",
   "execution_count": null,
   "id": "a51ece9f-eb45-44c9-a860-4149241fe38c",
   "metadata": {},
   "outputs": [],
   "source": []
  },
  {
   "cell_type": "code",
   "execution_count": null,
   "id": "d28e36fa-ea29-423b-8182-c7c9e06e6425",
   "metadata": {},
   "outputs": [],
   "source": []
  },
  {
   "cell_type": "code",
   "execution_count": null,
   "id": "bdcb9e2f-d050-4aa9-81da-743a136945c3",
   "metadata": {},
   "outputs": [],
   "source": []
  },
  {
   "cell_type": "code",
   "execution_count": null,
   "id": "7dadff99-9f7f-47bb-a514-12f51a8c43c3",
   "metadata": {},
   "outputs": [],
   "source": []
  },
  {
   "cell_type": "code",
   "execution_count": null,
   "id": "6b30a1f1-4202-451f-8158-32f97efd10f5",
   "metadata": {},
   "outputs": [],
   "source": []
  },
  {
   "cell_type": "code",
   "execution_count": null,
   "id": "0436d390-6162-42a3-a8b8-355d72897037",
   "metadata": {},
   "outputs": [],
   "source": []
  },
  {
   "cell_type": "code",
   "execution_count": null,
   "id": "aed8a087-ab39-4951-bc1c-aa19aec7a294",
   "metadata": {},
   "outputs": [],
   "source": []
  },
  {
   "cell_type": "code",
   "execution_count": null,
   "id": "be64f77d-d0a9-4a90-85d3-0b2bc780d8b0",
   "metadata": {},
   "outputs": [],
   "source": []
  },
  {
   "cell_type": "code",
   "execution_count": null,
   "id": "cbc8b0ff-b2e6-4380-bc3f-f9ceec628279",
   "metadata": {},
   "outputs": [],
   "source": []
  },
  {
   "cell_type": "code",
   "execution_count": null,
   "id": "d6bce9fb-73bd-400a-ab9b-76cf472c51a1",
   "metadata": {},
   "outputs": [],
   "source": []
  }
 ],
 "metadata": {
  "kernelspec": {
   "display_name": "Python 3",
   "language": "python",
   "name": "python3"
  },
  "language_info": {
   "codemirror_mode": {
    "name": "ipython",
    "version": 3
   },
   "file_extension": ".py",
   "mimetype": "text/x-python",
   "name": "python",
   "nbconvert_exporter": "python",
   "pygments_lexer": "ipython3",
   "version": "3.8.8"
  }
 },
 "nbformat": 4,
 "nbformat_minor": 5
}
