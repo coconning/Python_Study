{
 "cells": [
  {
   "cell_type": "markdown",
   "id": "2eca7b74-cf57-442d-8570-c636f1439bb7",
   "metadata": {},
   "source": [
    "모험가 길드 <br>\n",
    "- 모험가 N명, 공포도가 X인 모험가는 X명 이상으로 구성된 모험가 그룹에 참여해야 함\n",
    "- 모든 모험가가 그룹에 참여할 필요는 없음\n",
    "- 최대의 그룹 수가 궁금함"
   ]
  },
  {
   "cell_type": "code",
   "execution_count": 14,
   "id": "0bf84b97-3002-4f0a-8a50-4bcbac1c2a10",
   "metadata": {},
   "outputs": [],
   "source": [
    "N = 6\n",
    "xlist = [2,3,1,2,2,3]"
   ]
  },
  {
   "cell_type": "code",
   "execution_count": 15,
   "id": "a8de79fa-d257-44f3-a939-769f9d847b4a",
   "metadata": {},
   "outputs": [
    {
     "data": {
      "text/plain": [
       "[1, 2, 2, 2, 3, 3]"
      ]
     },
     "execution_count": 15,
     "metadata": {},
     "output_type": "execute_result"
    }
   ],
   "source": [
    "xlist.sort()\n",
    "xlist"
   ]
  },
  {
   "cell_type": "code",
   "execution_count": 16,
   "id": "f843c026-ddc6-4ccd-b0c2-6d7ba8a5ba0a",
   "metadata": {},
   "outputs": [
    {
     "name": "stdout",
     "output_type": "stream",
     "text": [
      "0 1 1 1\n",
      "2 2 3 2\n",
      "5 3 6 3\n"
     ]
    }
   ],
   "source": [
    "# 오름차순 정리해서, 낮은 값의 x끼리 묶을 수 있는대로 묶는다\n",
    "\n",
    "xlist.sort()\n",
    "xlist2 = xlist.copy()\n",
    "count, j = 0,0\n",
    "for i in range(N):\n",
    "    x = xlist[i]\n",
    "    if x == i-j+1:\n",
    "        count += 1\n",
    "        j += x\n",
    "        print(i, x, j, count)"
   ]
  },
  {
   "cell_type": "code",
   "execution_count": 18,
   "id": "2cacb67b-c098-418c-a07f-5a0e03ee2b7e",
   "metadata": {},
   "outputs": [
    {
     "name": "stdin",
     "output_type": "stream",
     "text": [
      " 5\n",
      " 1 2 3 3 3\n"
     ]
    },
    {
     "name": "stdout",
     "output_type": "stream",
     "text": [
      "2\n",
      "0.00024700164794921875\n"
     ]
    }
   ],
   "source": [
    "#----------------------\n",
    "# My Answer\n",
    "N = int(input())\n",
    "xlist = list(map(int, input().split()))\n",
    "\n",
    "# N = 6\n",
    "# xlist = [2,3,1,2,2,3]\n",
    "\n",
    "import time\n",
    "t0 = time.time()\n",
    "\n",
    "xlist.sort()\n",
    "count, j = 0,0\n",
    "for i in range(N):\n",
    "    x = xlist[i]\n",
    "    if x == i-j+1:\n",
    "        count += 1\n",
    "        j += x\n",
    "\n",
    "print(count)\n",
    "\n",
    "t1 = time.time()\n",
    "print(t1-t0)"
   ]
  },
  {
   "cell_type": "code",
   "execution_count": null,
   "id": "3d5e861b-f74d-4784-a1f4-3b3f4453fb44",
   "metadata": {},
   "outputs": [],
   "source": [
    "#--------------------------\n",
    "# book answer\n",
    "N = int(input())\n",
    "data = list(map(int, input().split()))\n",
    "data.sort()\n",
    "\n",
    "result = 0 # 총 그룹의 수\n",
    "count = 0 # 현재 그룹에 포함된 모험가의 수\n",
    "\n",
    "for i in data: # 공포도를 낮은것부터 하나씩 확인하며\n",
    "    count +=1  # 현재 그룹에 해당 모험가 포함시키기\n",
    "    if count >=i: # 현재 그룹에 포함된 모험가의 수가 현재의 공포도 이상이라면 그룹 결성\n",
    "        result += 1 # 총 그룹 수 증가\n",
    "        count = 0 # 현재 그룹에 포함된 모험가의 수 초기화\n",
    "\n",
    "print(result)"
   ]
  },
  {
   "cell_type": "code",
   "execution_count": null,
   "id": "9a7ebac9-043f-452d-9fc2-49ae3d589208",
   "metadata": {},
   "outputs": [],
   "source": []
  },
  {
   "cell_type": "markdown",
   "id": "53304684-0fd2-4447-96d1-85f989165f8e",
   "metadata": {},
   "source": [
    "문자열 뒤집기 <br>\n",
    "- 0과 1로만 이루어진 문자열 S > 문자열 내 숫자를 전부 같게 (0>1 또는 1>0)\n",
    "- ex. S = 0001100 \n",
    "<br>\n",
    "> 전체를 뒤집으면 1110011 > 4번째~5번째 문자 뒤집으면 111111 : 총 2번 만에 모두 같은 숫자 \n",
    "<br>\n",
    "> 처음부터 4~5번째 문자 뒤집으면 1번만에 0000000\n",
    "- 행동의 최소 횟수"
   ]
  },
  {
   "cell_type": "code",
   "execution_count": null,
   "id": "04740518-3064-4240-8211-523c65987b30",
   "metadata": {},
   "outputs": [],
   "source": [
    "# 반복되는 문자열을 각각 0 반복과 1반복에 대해 개수 찾기"
   ]
  },
  {
   "cell_type": "code",
   "execution_count": 32,
   "id": "d192e29a-14b4-47cb-a288-5c09974d4b14",
   "metadata": {},
   "outputs": [
    {
     "name": "stdin",
     "output_type": "stream",
     "text": [
      " 0001100101011\n"
     ]
    }
   ],
   "source": [
    "S = str(input())"
   ]
  },
  {
   "cell_type": "code",
   "execution_count": 33,
   "id": "cdec5534-04c3-4e19-b5ec-95f6f615ddfe",
   "metadata": {},
   "outputs": [
    {
     "data": {
      "text/plain": [
       "'0001100101011'"
      ]
     },
     "execution_count": 33,
     "metadata": {},
     "output_type": "execute_result"
    }
   ],
   "source": [
    "S"
   ]
  },
  {
   "cell_type": "code",
   "execution_count": 34,
   "id": "cde02a05-583f-41eb-83e0-4b1a92ab13e5",
   "metadata": {},
   "outputs": [
    {
     "name": "stdout",
     "output_type": "stream",
     "text": [
      "0 ['0', '0', '0']\n",
      "1 ['1', '1']\n",
      "0 ['0', '0']\n",
      "1 ['1']\n",
      "0 ['0']\n",
      "1 ['1']\n",
      "0 ['0']\n",
      "1 ['1', '1']\n"
     ]
    }
   ],
   "source": [
    "for k, g in groupby(S):\n",
    "    print(k, list(g))"
   ]
  },
  {
   "cell_type": "code",
   "execution_count": 38,
   "id": "2609c02a-e766-4636-b6f9-7e9060628524",
   "metadata": {},
   "outputs": [],
   "source": [
    "from itertools import groupby\n",
    "S2 = [int(''.join(g)) for _, g in groupby(S)]\n",
    "count_0 = S2.count(0)\n",
    "count_1 = len(S2)-count_0\n",
    "print(min([count_0, count_1]))"
   ]
  },
  {
   "cell_type": "code",
   "execution_count": 44,
   "id": "a51ece9f-eb45-44c9-a860-4149241fe38c",
   "metadata": {},
   "outputs": [
    {
     "name": "stdin",
     "output_type": "stream",
     "text": [
      " 0000110000\n"
     ]
    },
    {
     "name": "stdout",
     "output_type": "stream",
     "text": [
      "1\n"
     ]
    }
   ],
   "source": [
    "#------------------------\n",
    "# My Answer\n",
    "S = str(input())\n",
    "\n",
    "from itertools import groupby\n",
    "\n",
    "S2 = [int(''.join(g)) for _, g in groupby(S)]\n",
    "count_0 = S2.count(0)\n",
    "count_1 = len(S2)-count_0\n",
    "\n",
    "print(min([count_0, count_1]))"
   ]
  },
  {
   "cell_type": "code",
   "execution_count": null,
   "id": "d28e36fa-ea29-423b-8182-c7c9e06e6425",
   "metadata": {},
   "outputs": [],
   "source": [
    "#-------------------------\n",
    "# book answer\n",
    "data = input\n",
    "\n",
    "count0 = 0 # 전부 0으로 바꾸는 경우\n",
    "count1 = 0 # 전부 1으로 바꾸는 경우\n",
    "\n",
    "if data[0] == '1':\n",
    "    count0 += 1\n",
    "else:\n",
    "    count1 +=1\n",
    "    \n",
    "# 두번째 원소부터 모든 원소를 확인하여\n",
    "for i in range(len(data)-1):\n",
    "    if data[i] != "
   ]
  },
  {
   "cell_type": "code",
   "execution_count": null,
   "id": "bdcb9e2f-d050-4aa9-81da-743a136945c3",
   "metadata": {},
   "outputs": [],
   "source": []
  },
  {
   "cell_type": "markdown",
   "id": "963995ca-bad7-47c4-860d-b36be1960548",
   "metadata": {},
   "source": [
    "볼링공 고르기 <br>\n",
    "- A, B 두 사람이 볼링 치는데 서로 무게가 다른 볼링공\n",
    "- 볼링공은 총 N개, 공 번호는 1번부터 순서대로 부여되고 같은무게 공이라도 각각 다른 공으로 간주\n",
    "- 무게는 1~M까지 존재\n",
    "- ex. N = 5, M = 3, [1,3,2,3,2] \n",
    "<br>\n",
    "> 두 사람의 조합은 (1번,2번) (1,3) (1,4) (1,5) (2,3) (2,5) (3,4) (4,5) : 총 8개\n",
    "- N개의 공 무게가 각각 주어질 때 볼링공을 고르는 경우의 수는?"
   ]
  },
  {
   "cell_type": "code",
   "execution_count": 49,
   "id": "6b30a1f1-4202-451f-8158-32f97efd10f5",
   "metadata": {},
   "outputs": [
    {
     "name": "stdin",
     "output_type": "stream",
     "text": [
      " 5 3\n",
      " 1 3 2 3 2\n"
     ]
    }
   ],
   "source": [
    "N, M = map(int, input().split())\n",
    "klist = list(map(int, input().split()))"
   ]
  },
  {
   "cell_type": "code",
   "execution_count": 56,
   "id": "6c2d0ddb-1fb3-405b-b56c-6dd17fe2dd44",
   "metadata": {},
   "outputs": [
    {
     "data": {
      "text/plain": [
       "Counter({1: 1, 3: 2, 2: 2})"
      ]
     },
     "execution_count": 56,
     "metadata": {},
     "output_type": "execute_result"
    }
   ],
   "source": [
    "from collections import Counter\n",
    "Counter(klist)"
   ]
  },
  {
   "cell_type": "code",
   "execution_count": 74,
   "id": "80bb1018-16f4-4e3c-9c31-799c1e6d437b",
   "metadata": {},
   "outputs": [
    {
     "data": {
      "text/plain": [
       "[1, 2, 2]"
      ]
     },
     "execution_count": 74,
     "metadata": {},
     "output_type": "execute_result"
    }
   ],
   "source": [
    "counts = list(Counter(klist).values())\n",
    "counts"
   ]
  },
  {
   "cell_type": "code",
   "execution_count": 76,
   "id": "4e3f5479-5566-4b7f-9f22-4031d9feed92",
   "metadata": {},
   "outputs": [],
   "source": [
    "cases = 0\n",
    "for i in range(M-1):\n",
    "    c = counts[i]\n",
    "    s = sum(counts[i+1:M])\n",
    "    cases += c*s"
   ]
  },
  {
   "cell_type": "code",
   "execution_count": 77,
   "id": "fdd95670-e0db-4248-b1fc-fb754c813e98",
   "metadata": {},
   "outputs": [
    {
     "data": {
      "text/plain": [
       "8"
      ]
     },
     "execution_count": 77,
     "metadata": {},
     "output_type": "execute_result"
    }
   ],
   "source": [
    "cases"
   ]
  },
  {
   "cell_type": "code",
   "execution_count": null,
   "id": "bf81bced-0248-4c4c-ab0c-b4bb1105c6db",
   "metadata": {},
   "outputs": [],
   "source": [
    "# ---------------\n",
    "# My Answer\n",
    "N, M = map(int, input().split())\n",
    "klist = list(map(int, input().split()))\n",
    "\n",
    "import time\n",
    "t0 = time.time()\n",
    "\n",
    "from collections import Counter\n",
    "counts = list(Counter(klist).values())\n",
    "\n",
    "cases = 0\n",
    "for i in range(M-1):\n",
    "    c = counts[i]\n",
    "    s = sum(counts[i+1:M])\n",
    "    cases += c*s\n",
    "\n",
    "print(cases)\n",
    "\n",
    "t1 = time.time()\n",
    "print(t1-t0)"
   ]
  },
  {
   "cell_type": "code",
   "execution_count": null,
   "id": "defac995-852c-402b-8146-b402ee8ad6b0",
   "metadata": {},
   "outputs": [],
   "source": [
    "# ---------------\n",
    "# book answer\n",
    "n, m = map(int, input().split())\n",
    "data = list(map(int, input().split()))\n",
    "\n",
    "array = [0]*11 # 1~10까지의 무게를 담을 수 있는 리스트\n",
    "for x in data:\n",
    "    # "
   ]
  },
  {
   "cell_type": "code",
   "execution_count": null,
   "id": "e9f1db66-b9a0-4781-b52b-b504570801bb",
   "metadata": {},
   "outputs": [],
   "source": []
  },
  {
   "cell_type": "code",
   "execution_count": null,
   "id": "43b7199f-9004-4832-aa26-e83039f5b2d0",
   "metadata": {},
   "outputs": [],
   "source": []
  },
  {
   "cell_type": "code",
   "execution_count": null,
   "id": "d614405d-a185-49a9-9951-e6d9523963c3",
   "metadata": {},
   "outputs": [],
   "source": []
  },
  {
   "cell_type": "code",
   "execution_count": null,
   "id": "aed8a087-ab39-4951-bc1c-aa19aec7a294",
   "metadata": {},
   "outputs": [],
   "source": []
  },
  {
   "cell_type": "code",
   "execution_count": null,
   "id": "be64f77d-d0a9-4a90-85d3-0b2bc780d8b0",
   "metadata": {},
   "outputs": [],
   "source": []
  },
  {
   "cell_type": "code",
   "execution_count": null,
   "id": "cbc8b0ff-b2e6-4380-bc3f-f9ceec628279",
   "metadata": {},
   "outputs": [],
   "source": []
  },
  {
   "cell_type": "code",
   "execution_count": null,
   "id": "d6bce9fb-73bd-400a-ab9b-76cf472c51a1",
   "metadata": {},
   "outputs": [],
   "source": []
  }
 ],
 "metadata": {
  "kernelspec": {
   "display_name": "Python 3",
   "language": "python",
   "name": "python3"
  },
  "language_info": {
   "codemirror_mode": {
    "name": "ipython",
    "version": 3
   },
   "file_extension": ".py",
   "mimetype": "text/x-python",
   "name": "python",
   "nbconvert_exporter": "python",
   "pygments_lexer": "ipython3",
   "version": "3.8.8"
  }
 },
 "nbformat": 4,
 "nbformat_minor": 5
}
