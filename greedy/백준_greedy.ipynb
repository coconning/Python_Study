{
 "cells": [
  {
   "cell_type": "markdown",
   "id": "fde765e5-9692-4fcd-b89b-2d363decc1b4",
   "metadata": {},
   "source": [
    "2839번 <br>\n",
    "상근이는 요즘 설탕공장에서 설탕을 배달하고 있다. 상근이는 지금 사탕가게에 설탕을 정확하게 N킬로그램을 배달해야 한다. 설탕공장에서 만드는 설탕은 봉지에 담겨져 있다. 봉지는 3킬로그램 봉지와 5킬로그램 봉지가 있다.\n",
    "\n",
    "상근이는 귀찮기 때문에, 최대한 적은 봉지를 들고 가려고 한다. 예를 들어, 18킬로그램 설탕을 배달해야 할 때, 3킬로그램 봉지 6개를 가져가도 되지만, 5킬로그램 3개와 3킬로그램 1개를 배달하면, 더 적은 개수의 봉지를 배달할 수 있다.\n",
    "\n",
    "상근이가 설탕을 정확하게 N킬로그램 배달해야 할 때, 봉지 몇 개를 가져가면 되는지 그 수를 구하는 프로그램을 작성하시오."
   ]
  },
  {
   "cell_type": "code",
   "execution_count": 53,
   "id": "44e86ee0-2f35-4bcb-90e2-79a6230180e4",
   "metadata": {
    "tags": []
   },
   "outputs": [
    {
     "name": "stdout",
     "output_type": "stream",
     "text": [
      "5 1\n"
     ]
    }
   ],
   "source": [
    "n = 5\n",
    "count = 0\n",
    "while n > 0:\n",
    "    if n%5==0:\n",
    "        count+=n//5\n",
    "        break\n",
    "    elif n%3==0:\n",
    "        count += n//3\n",
    "        break\n",
    "    else:\n",
    "        print(n, count)\n",
    "        if n > 5:\n",
    "            n-=5 ; count +=1\n",
    "            print(5, ':', n, count)\n",
    "        elif n > 3:\n",
    "            n-=3 ; count +=1\n",
    "            print(3, ':', n, count)\n",
    "        else:\n",
    "            count = -1\n",
    "            break\n",
    "print(n, count)"
   ]
  },
  {
   "cell_type": "markdown",
   "id": "958ea6cf-9e6f-4dd4-bbc2-c3c21495f3ee",
   "metadata": {},
   "source": [
    "> 틀렸다는데 왜 틀리는거냐 모르게따\n",
    "<br>\n",
    "> 맞는 풀이는 아래에"
   ]
  },
  {
   "cell_type": "code",
   "execution_count": 66,
   "id": "063fcba5-e27b-4d06-91b2-163523f4285f",
   "metadata": {},
   "outputs": [
    {
     "name": "stdin",
     "output_type": "stream",
     "text": [
      " 11\n"
     ]
    },
    {
     "name": "stdout",
     "output_type": "stream",
     "text": [
      "3\n"
     ]
    }
   ],
   "source": [
    "n = int(input())\n",
    "count = 0\n",
    "\n",
    "while n>=0:\n",
    "    if n%5 == 0:\n",
    "        count += n//5\n",
    "        break\n",
    "    n -= 3  # n이 5로 나눠지지 않으면 3을 하나 뺀다. 5로 나눠질때까지 3을 뺴는 연산을한다.\n",
    "    count += 1\n",
    "    \n",
    "else:\n",
    "    count = -1\n",
    "\n",
    "print(count)"
   ]
  },
  {
   "cell_type": "code",
   "execution_count": null,
   "id": "b459c964-f3c9-4c91-a77c-b345d7129aa3",
   "metadata": {},
   "outputs": [],
   "source": []
  },
  {
   "cell_type": "code",
   "execution_count": null,
   "id": "d71bccd7-a750-4e01-a0a8-3d51f44c2047",
   "metadata": {},
   "outputs": [],
   "source": []
  },
  {
   "cell_type": "code",
   "execution_count": null,
   "id": "3e3569c2-19d0-4e53-b114-cab50c927d9f",
   "metadata": {},
   "outputs": [],
   "source": []
  },
  {
   "cell_type": "markdown",
   "id": "00b97484-eda2-4e16-a287-9078b4afb3c2",
   "metadata": {},
   "source": [
    "11399번 <br>\n",
    "인하은행에는 ATM이 1대밖에 없다. 지금 이 ATM앞에 N명의 사람들이 줄을 서있다. 사람은 1번부터 N번까지 번호가 매겨져 있으며, i번 사람이 돈을 인출하는데 걸리는 시간은 Pi분이다.\n",
    "\n",
    "사람들이 줄을 서는 순서에 따라서, 돈을 인출하는데 필요한 시간의 합이 달라지게 된다. 예를 들어, 총 5명이 있고, P1 = 3, P2 = 1, P3 = 4, P4 = 3, P5 = 2 인 경우를 생각해보자. [1, 2, 3, 4, 5] 순서로 줄을 선다면, 1번 사람은 3분만에 돈을 뽑을 수 있다. 2번 사람은 1번 사람이 돈을 뽑을 때 까지 기다려야 하기 때문에, 3+1 = 4분이 걸리게 된다. 3번 사람은 1번, 2번 사람이 돈을 뽑을 때까지 기다려야 하기 때문에, 총 3+1+4 = 8분이 필요하게 된다. 4번 사람은 3+1+4+3 = 11분, 5번 사람은 3+1+4+3+2 = 13분이 걸리게 된다. 이 경우에 각 사람이 돈을 인출하는데 필요한 시간의 합은 3+4+8+11+13 = 39분이 된다.\n",
    "\n",
    "줄을 [2, 5, 1, 4, 3] 순서로 줄을 서면, 2번 사람은 1분만에, 5번 사람은 1+2 = 3분, 1번 사람은 1+2+3 = 6분, 4번 사람은 1+2+3+3 = 9분, 3번 사람은 1+2+3+3+4 = 13분이 걸리게 된다. 각 사람이 돈을 인출하는데 필요한 시간의 합은 1+3+6+9+13 = 32분이다. 이 방법보다 더 필요한 시간의 합을 최소로 만들 수는 없다.\n",
    "\n",
    "줄을 서 있는 사람의 수 N과 각 사람이 돈을 인출하는데 걸리는 시간 Pi가 주어졌을 때, 각 사람이 돈을 인출하는데 필요한 시간의 합의 최솟값을 구하는 프로그램을 작성하시오."
   ]
  },
  {
   "cell_type": "code",
   "execution_count": 92,
   "id": "b7e253ef-b6e1-494e-8824-c55bfede2775",
   "metadata": {},
   "outputs": [
    {
     "name": "stdin",
     "output_type": "stream",
     "text": [
      " 5\n",
      " 3 1 4 3 2\n"
     ]
    }
   ],
   "source": [
    "N = int(input())\n",
    "p = list(map(int, input().split()))"
   ]
  },
  {
   "cell_type": "code",
   "execution_count": 93,
   "id": "addc39c8-74a1-4073-a8b5-c1e085ab51b5",
   "metadata": {},
   "outputs": [
    {
     "data": {
      "text/plain": [
       "(5, [3, 1, 4, 3, 2])"
      ]
     },
     "execution_count": 144,
     "metadata": {},
     "output_type": "execute_result"
    }
   ],
   "source": [
    "N, p"
   ]
  },
  {
   "cell_type": "code",
   "execution_count": 67,
   "id": "039a2fe2-df26-4ff7-9122-72a122875ca8",
   "metadata": {},
   "outputs": [],
   "source": [
    "# 큰 수 작은 수 번갈아?\n",
    "# 아니면 그냥 오름차순 정렬?\n",
    "# 아아아아아아 문제 해석을 전혀 잘못했다. [2,5,1,4,3] 이란 [P2, P5, P1, P4, P3] 의 의미였음"
   ]
  },
  {
   "cell_type": "code",
   "execution_count": 68,
   "id": "d4de8d1b-1f6e-4ab3-a6e0-8e8dd555eb23",
   "metadata": {},
   "outputs": [],
   "source": [
    "# 그냥 오름차순 정렬하고 순서대로 더하면 끝"
   ]
  },
  {
   "cell_type": "code",
   "execution_count": 193,
   "id": "e147de2f-10fb-4121-ab43-4ae0af135ac0",
   "metadata": {
    "tags": []
   },
   "outputs": [
    {
     "name": "stdout",
     "output_type": "stream",
     "text": [
      "32\n"
     ]
    }
   ],
   "source": [
    "new = list(range(N))\n",
    "for i in range(N):\n",
    "    new[i] = min(p)\n",
    "    p.remove(min(p))\n",
    "    \n",
    "sum = 0\n",
    "for j in range(N, 0, -1):\n",
    "    sum += new[N-j]*j\n",
    "\n",
    "print(sum)"
   ]
  },
  {
   "cell_type": "code",
   "execution_count": null,
   "id": "57e39c43-68fe-452c-bf6d-0d94a210a8db",
   "metadata": {},
   "outputs": [],
   "source": []
  },
  {
   "cell_type": "code",
   "execution_count": null,
   "id": "a78508f8-b8e9-4f63-83a6-e756a77fd4e7",
   "metadata": {},
   "outputs": [],
   "source": []
  },
  {
   "cell_type": "markdown",
   "id": "88068f8e-e5f6-4435-a500-a350b3566287",
   "metadata": {},
   "source": [
    "11047번<Br>\n",
    "준규가 가지고 있는 동전은 총 N종류이고, 각각의 동전을 매우 많이 가지고 있다.\n",
    "\n",
    "동전을 적절히 사용해서 그 가치의 합을 K로 만들려고 한다. 이때 필요한 동전 개수의 최솟값을 구하는 프로그램을 작성하시오."
   ]
  },
  {
   "cell_type": "code",
   "execution_count": 196,
   "id": "73cd12bd-994e-4155-a743-2ce25265e385",
   "metadata": {},
   "outputs": [
    {
     "name": "stdin",
     "output_type": "stream",
     "text": [
      " 10 4200\n",
      " 1\n",
      " 5\n",
      " 10\n",
      " 50\n",
      " 100\n",
      " 500\n",
      " 1000\n",
      " 5000\n",
      " 10000\n",
      " 50000\n"
     ]
    }
   ],
   "source": [
    "N, K = map(int, input().split())\n",
    "coin_list = list()\n",
    "for i in range(N):\n",
    "    coin_list.append(int(input()))"
   ]
  },
  {
   "cell_type": "code",
   "execution_count": 198,
   "id": "ec2183b1-9777-44d1-af0a-a9ed3f2d0274",
   "metadata": {},
   "outputs": [
    {
     "data": {
      "text/plain": [
       "[1, 5, 10, 50, 100, 500, 1000, 5000, 10000, 50000]"
      ]
     },
     "execution_count": 198,
     "metadata": {},
     "output_type": "execute_result"
    }
   ],
   "source": [
    "coin_list"
   ]
  },
  {
   "cell_type": "code",
   "execution_count": 213,
   "id": "2544c41b-dc94-4e14-a8a6-9150c88c2a4c",
   "metadata": {},
   "outputs": [],
   "source": [
    "K = 4790"
   ]
  },
  {
   "cell_type": "code",
   "execution_count": 214,
   "id": "9770195d-961d-4361-93b9-fd11a4a9b35d",
   "metadata": {},
   "outputs": [
    {
     "name": "stdout",
     "output_type": "stream",
     "text": [
      "1000 790 4\n",
      "500 290 5\n",
      "100 90 7\n",
      "50 40 8\n",
      "10 0 12\n"
     ]
    }
   ],
   "source": [
    "K1 = K\n",
    "count = 0\n",
    "for i in range(N-1, -1, -1):\n",
    "    c = coin_list[i]\n",
    "    if K1//c==0:\n",
    "        pass\n",
    "    else:\n",
    "        count += K1//c\n",
    "        K1 -= c*(K1//c)\n",
    "print(count)"
   ]
  },
  {
   "cell_type": "code",
   "execution_count": 215,
   "id": "6060f1e7-2baa-4d39-8e89-0e631a6192bd",
   "metadata": {},
   "outputs": [
    {
     "data": {
      "text/plain": [
       "12"
      ]
     },
     "execution_count": 215,
     "metadata": {},
     "output_type": "execute_result"
    }
   ],
   "source": [
    "count"
   ]
  },
  {
   "cell_type": "code",
   "execution_count": null,
   "id": "6c9629c7-cbde-4a9b-91fe-fa12feb73cc4",
   "metadata": {},
   "outputs": [],
   "source": []
  },
  {
   "cell_type": "code",
   "execution_count": null,
   "id": "2b329dfd-b18c-4cc3-91e5-7f9b64386e0e",
   "metadata": {},
   "outputs": [],
   "source": []
  },
  {
   "cell_type": "markdown",
   "id": "3cdd4188-44fb-4bab-ab40-9217dfdd4ffd",
   "metadata": {},
   "source": [
    "1931 회의실 배정<br>\n",
    "한 개의 회의실이 있는데 이를 사용하고자 하는 N개의 회의에 대하여 회의실 사용표를 만들려고 한다. 각 회의 I에 대해 시작시간과 끝나는 시간이 주어져 있고, 각 회의가 겹치지 않게 하면서 회의실을 사용할 수 있는 회의의 최대 개수를 찾아보자. 단, 회의는 한번 시작하면 중간에 중단될 수 없으며 한 회의가 끝나는 것과 동시에 다음 회의가 시작될 수 있다. 회의의 시작시간과 끝나는 시간이 같을 수도 있다. 이 경우에는 시작하자마자 끝나는 것으로 생각하면 된다.\n",
    "\n",
    "첫째 줄에 회의의 수 N(1 ≤ N ≤ 100,000)이 주어진다. 둘째 줄부터 N+1 줄까지 각 회의의 정보가 주어지는데 이것은 공백을 사이에 두고 회의의 시작시간과 끝나는 시간이 주어진다. 시작 시간과 끝나는 시간은 231-1보다 작거나 같은 자연수 또는 0이다."
   ]
  },
  {
   "cell_type": "code",
   "execution_count": 251,
   "id": "1486e3ce-b166-4407-b33c-c22431dd47c9",
   "metadata": {},
   "outputs": [
    {
     "name": "stdin",
     "output_type": "stream",
     "text": [
      " 11\n",
      " 1 2\n",
      " 3 5\n",
      " 0 6\n",
      " 5 8\n",
      " 3 8\n",
      " 5 9\n",
      " 6 10\n",
      " 8 11\n",
      " 8 12\n",
      " 2 13\n",
      " 12 14\n"
     ]
    }
   ],
   "source": [
    "N = int(input())\n",
    "meetings = [[0]*2 for _ in range(N)]\n",
    "for i in range(N):\n",
    "    start, end = map(int, input().split())\n",
    "    meetings[i][0] = start\n",
    "    meetings[i][1] = end"
   ]
  },
  {
   "cell_type": "code",
   "execution_count": null,
   "id": "50abf77f-cbd4-4832-bc4d-47b5ebd463eb",
   "metadata": {},
   "outputs": [],
   "source": [
    "# >> 5 (1,2) / (3,5) / (5,8) / (8,11)or(8,12) / (12,14)"
   ]
  },
  {
   "cell_type": "code",
   "execution_count": 252,
   "id": "4853236f-72ae-43bc-bf67-8eed515e7a8b",
   "metadata": {
    "tags": []
   },
   "outputs": [
    {
     "data": {
      "text/plain": [
       "(11,\n",
       " [[1, 2],\n",
       "  [3, 5],\n",
       "  [0, 6],\n",
       "  [5, 8],\n",
       "  [3, 8],\n",
       "  [5, 9],\n",
       "  [6, 10],\n",
       "  [8, 11],\n",
       "  [8, 12],\n",
       "  [2, 13],\n",
       "  [12, 14]])"
      ]
     },
     "execution_count": 252,
     "metadata": {},
     "output_type": "execute_result"
    }
   ],
   "source": [
    "N, meetings"
   ]
  },
  {
   "cell_type": "code",
   "execution_count": 247,
   "id": "017a4e19-0ef9-42ea-8ff6-971d50d2e3a2",
   "metadata": {},
   "outputs": [],
   "source": [
    "# 제일 빨리 시작하는 회의를 잡고, 그 회의의 시간이 얼마나 긴지 확인해서 더 짧은 것 기준으로\n",
    "# 해당 회의의 길이보다 빨리 시작하고 빨리 끝나는 것이 있는지 확인하기 \n",
    "# 그 중 가장 짧고 빨리 시작하는 (엔딩점이 가장 빠른) 회의를 첫번째 회의로, 그 다음은 비슷하게"
   ]
  },
  {
   "cell_type": "code",
   "execution_count": 260,
   "id": "1418fc9a-1dde-4d3c-9e3a-770c6f135093",
   "metadata": {},
   "outputs": [
    {
     "data": {
      "text/plain": [
       "[[0, 6]]"
      ]
     },
     "execution_count": 260,
     "metadata": {},
     "output_type": "execute_result"
    }
   ],
   "source": [
    "starts = [i[0] for i in meetings]\n",
    "ends = [i[1] for i in meetings]\n",
    "st_0 = min(starts) ; ed_0 = max(ends)\n",
    "mt_0 = [i for i in meetings if i[0] == st_0]\n",
    "mt_0"
   ]
  },
  {
   "cell_type": "code",
   "execution_count": 261,
   "id": "e434f2e8-2807-49a8-9047-3010e2a65298",
   "metadata": {},
   "outputs": [],
   "source": [
    "for mt in mt_0:\n",
    "    if mt[1] < ed_0:\n",
    "        ed_0 = mt[1]\n",
    "    else:\n",
    "        pass"
   ]
  },
  {
   "cell_type": "code",
   "execution_count": 267,
   "id": "36549f57-eedf-4094-a77d-dca2800abb14",
   "metadata": {
    "collapsed": true,
    "jupyter": {
     "outputs_hidden": true
    },
    "tags": []
   },
   "outputs": [
    {
     "name": "stdout",
     "output_type": "stream",
     "text": [
      "[1, 4]\n",
      "[3, 5]\n",
      "8\n",
      "9\n",
      "10\n",
      "11\n",
      "12\n",
      "13\n",
      "14\n"
     ]
    }
   ],
   "source": [
    "mt_cand = [] # 후보 미팅들 # 가장 빨리 시작하는 회의 중 가장 짧은회의보다 가성비 좋은 친구들 리스트\n",
    "meetings2 = [m for m in meetings2 if m not in mt_0]\n",
    "\n",
    "mt_1 = []\n",
    "for m in meetings2:\n",
    "    if m[1]>=ed_0:\n",
    "        pass\n",
    "    else:\n",
    "        mt_1 = m if not mt_1 else mt_1 if mt_1[1] <= m[1] else m\n",
    "        \n",
    "#         if mt_1:\n",
    "#             mt_1 = mt_1 if mt_1[1] <= m[1] else m\n",
    "#         else:\n",
    "#             mt_1 = m"
   ]
  },
  {
   "cell_type": "code",
   "execution_count": 271,
   "id": "d9728b35-b486-47d6-859e-6fe05b2e4607",
   "metadata": {},
   "outputs": [
    {
     "data": {
      "text/plain": [
       "False"
      ]
     },
     "execution_count": 271,
     "metadata": {},
     "output_type": "execute_result"
    }
   ],
   "source": [
    "not mt_1"
   ]
  },
  {
   "cell_type": "code",
   "execution_count": 299,
   "id": "4c48dd2a-0d83-4e9d-9540-89d8cd5635dc",
   "metadata": {},
   "outputs": [
    {
     "data": {
      "text/plain": [
       "[12, 14]"
      ]
     },
     "execution_count": 299,
     "metadata": {},
     "output_type": "execute_result"
    }
   ],
   "source": [
    "final_mts[-1]"
   ]
  },
  {
   "cell_type": "code",
   "execution_count": 310,
   "id": "5d1f7ec6-aec3-4bf2-a770-bda91bbccc7b",
   "metadata": {},
   "outputs": [
    {
     "name": "stdin",
     "output_type": "stream",
     "text": [
      " 11\n",
      " 1 4\n",
      " 3 5\n",
      " 0 6\n",
      " 5 7\n",
      " 3 8\n",
      " 5 9\n",
      " 6 10\n",
      " 8 11\n",
      " 8 12\n",
      " 2 13\n",
      " 12 14\n"
     ]
    },
    {
     "name": "stdout",
     "output_type": "stream",
     "text": [
      "4\n"
     ]
    }
   ],
   "source": [
    "# ----------\n",
    "N = int(input())\n",
    "meetings = [[0]*2 for _ in range(N)]\n",
    "for i in range(N):\n",
    "    start, end = map(int, input().split())\n",
    "    meetings[i][0] = start\n",
    "    meetings[i][1] = end\n",
    "\n",
    "final_mts = []\n",
    "meetings2 = meetings.copy()\n",
    "\n",
    "while True: \n",
    "    starts = [i[0] for i in meetings2]\n",
    "    ends = [i[1] for i in meetings2]\n",
    "    \n",
    "    st_min, ed_min = min(starts), max(ends)\n",
    "    mt_min = [i for i in meetings2 if i[0] == st_min]\n",
    "\n",
    "    for m in mt_min:\n",
    "        if m[1] < ed_min:\n",
    "            ed_min = m[1]\n",
    "        else:\n",
    "            pass\n",
    "    \n",
    "    meetings2 = [m for m in meetings2 if m not in mt_min]\n",
    "    \n",
    "    mt_1 = []\n",
    "    for m in meetings2:\n",
    "        if m[1] >= ed_min:\n",
    "            pass\n",
    "        else:\n",
    "            mt_1 = m if not mt_1 else mt_1 if mt_1[1] <= m[1] else m\n",
    "    \n",
    "    mtg = mt_1 if mt_1 else [mt for mt in mt_min if mt[1] == ed_min][0]\n",
    "    final_mts.append(mtg)\n",
    "    \n",
    "    meetings2 = [m for m in meetings2 if ((m[0] not in [i[0] for i in final_mts] ) \n",
    "                                          & (m[0] >= final_mts[-1][1]))]\n",
    "    \n",
    "    if not meetings2 :\n",
    "        break\n",
    "\n",
    "print(len(final_mts))"
   ]
  },
  {
   "cell_type": "code",
   "execution_count": 308,
   "id": "38996e01-e55b-4d49-88ed-41aada825eaf",
   "metadata": {},
   "outputs": [
    {
     "data": {
      "text/plain": [
       "[[1, 2], [3, 5], [5, 8], [8, 11], [12, 14]]"
      ]
     },
     "execution_count": 308,
     "metadata": {},
     "output_type": "execute_result"
    }
   ],
   "source": [
    "final_mts"
   ]
  },
  {
   "cell_type": "code",
   "execution_count": null,
   "id": "b75bc426-42fa-4e73-8017-5a6c61e2b664",
   "metadata": {},
   "outputs": [],
   "source": []
  },
  {
   "cell_type": "code",
   "execution_count": null,
   "id": "9a21d91b-51d0-4469-83f5-b425388c125e",
   "metadata": {},
   "outputs": [],
   "source": []
  },
  {
   "cell_type": "code",
   "execution_count": null,
   "id": "1a266625-f191-47c0-858f-d5000bbb164f",
   "metadata": {},
   "outputs": [],
   "source": []
  },
  {
   "cell_type": "code",
   "execution_count": null,
   "id": "556ccda1-c975-416f-96fa-a72a989cc5b7",
   "metadata": {},
   "outputs": [],
   "source": []
  }
 ],
 "metadata": {
  "kernelspec": {
   "display_name": "Python 3",
   "language": "python",
   "name": "python3"
  },
  "language_info": {
   "codemirror_mode": {
    "name": "ipython",
    "version": 3
   },
   "file_extension": ".py",
   "mimetype": "text/x-python",
   "name": "python",
   "nbconvert_exporter": "python",
   "pygments_lexer": "ipython3",
   "version": "3.8.8"
  }
 },
 "nbformat": 4,
 "nbformat_minor": 5
}
