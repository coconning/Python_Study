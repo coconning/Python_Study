{
 "cells": [
  {
   "cell_type": "markdown",
   "id": "fde765e5-9692-4fcd-b89b-2d363decc1b4",
   "metadata": {},
   "source": [
    "2839번 <br>\n",
    "상근이는 요즘 설탕공장에서 설탕을 배달하고 있다. 상근이는 지금 사탕가게에 설탕을 정확하게 N킬로그램을 배달해야 한다. 설탕공장에서 만드는 설탕은 봉지에 담겨져 있다. 봉지는 3킬로그램 봉지와 5킬로그램 봉지가 있다.\n",
    "\n",
    "상근이는 귀찮기 때문에, 최대한 적은 봉지를 들고 가려고 한다. 예를 들어, 18킬로그램 설탕을 배달해야 할 때, 3킬로그램 봉지 6개를 가져가도 되지만, 5킬로그램 3개와 3킬로그램 1개를 배달하면, 더 적은 개수의 봉지를 배달할 수 있다.\n",
    "\n",
    "상근이가 설탕을 정확하게 N킬로그램 배달해야 할 때, 봉지 몇 개를 가져가면 되는지 그 수를 구하는 프로그램을 작성하시오."
   ]
  },
  {
   "cell_type": "code",
   "execution_count": 53,
   "id": "44e86ee0-2f35-4bcb-90e2-79a6230180e4",
   "metadata": {
    "tags": []
   },
   "outputs": [
    {
     "name": "stdout",
     "output_type": "stream",
     "text": [
      "5 1\n"
     ]
    }
   ],
   "source": [
    "n = 5\n",
    "count = 0\n",
    "while n > 0:\n",
    "    if n%5==0:\n",
    "        count+=n//5\n",
    "        break\n",
    "    elif n%3==0:\n",
    "        count += n//3\n",
    "        break\n",
    "    else:\n",
    "        print(n, count)\n",
    "        if n > 5:\n",
    "            n-=5 ; count +=1\n",
    "            print(5, ':', n, count)\n",
    "        elif n > 3:\n",
    "            n-=3 ; count +=1\n",
    "            print(3, ':', n, count)\n",
    "        else:\n",
    "            count = -1\n",
    "            break\n",
    "print(n, count)"
   ]
  },
  {
   "cell_type": "markdown",
   "id": "958ea6cf-9e6f-4dd4-bbc2-c3c21495f3ee",
   "metadata": {},
   "source": [
    "> 틀렸다는데 왜 틀리는거냐 모르게따\n",
    "<br>\n",
    "> 맞는 풀이는 아래에"
   ]
  },
  {
   "cell_type": "code",
   "execution_count": 66,
   "id": "063fcba5-e27b-4d06-91b2-163523f4285f",
   "metadata": {},
   "outputs": [
    {
     "name": "stdin",
     "output_type": "stream",
     "text": [
      " 11\n"
     ]
    },
    {
     "name": "stdout",
     "output_type": "stream",
     "text": [
      "3\n"
     ]
    }
   ],
   "source": [
    "n = int(input())\n",
    "count = 0\n",
    "\n",
    "while n>=0:\n",
    "    if n%5 == 0:\n",
    "        count += n//5\n",
    "        break\n",
    "    n -= 3  # n이 5로 나눠지지 않으면 3을 하나 뺀다. 5로 나눠질때까지 3을 뺴는 연산을한다.\n",
    "    count += 1\n",
    "    \n",
    "else:\n",
    "    count = -1\n",
    "\n",
    "print(count)"
   ]
  },
  {
   "cell_type": "code",
   "execution_count": null,
   "id": "b459c964-f3c9-4c91-a77c-b345d7129aa3",
   "metadata": {},
   "outputs": [],
   "source": []
  },
  {
   "cell_type": "code",
   "execution_count": null,
   "id": "d71bccd7-a750-4e01-a0a8-3d51f44c2047",
   "metadata": {},
   "outputs": [],
   "source": []
  },
  {
   "cell_type": "code",
   "execution_count": null,
   "id": "3e3569c2-19d0-4e53-b114-cab50c927d9f",
   "metadata": {},
   "outputs": [],
   "source": []
  },
  {
   "cell_type": "markdown",
   "id": "00b97484-eda2-4e16-a287-9078b4afb3c2",
   "metadata": {},
   "source": [
    "11399번 <br>\n",
    "인하은행에는 ATM이 1대밖에 없다. 지금 이 ATM앞에 N명의 사람들이 줄을 서있다. 사람은 1번부터 N번까지 번호가 매겨져 있으며, i번 사람이 돈을 인출하는데 걸리는 시간은 Pi분이다.\n",
    "\n",
    "사람들이 줄을 서는 순서에 따라서, 돈을 인출하는데 필요한 시간의 합이 달라지게 된다. 예를 들어, 총 5명이 있고, P1 = 3, P2 = 1, P3 = 4, P4 = 3, P5 = 2 인 경우를 생각해보자. [1, 2, 3, 4, 5] 순서로 줄을 선다면, 1번 사람은 3분만에 돈을 뽑을 수 있다. 2번 사람은 1번 사람이 돈을 뽑을 때 까지 기다려야 하기 때문에, 3+1 = 4분이 걸리게 된다. 3번 사람은 1번, 2번 사람이 돈을 뽑을 때까지 기다려야 하기 때문에, 총 3+1+4 = 8분이 필요하게 된다. 4번 사람은 3+1+4+3 = 11분, 5번 사람은 3+1+4+3+2 = 13분이 걸리게 된다. 이 경우에 각 사람이 돈을 인출하는데 필요한 시간의 합은 3+4+8+11+13 = 39분이 된다.\n",
    "\n",
    "줄을 [2, 5, 1, 4, 3] 순서로 줄을 서면, 2번 사람은 1분만에, 5번 사람은 1+2 = 3분, 1번 사람은 1+2+3 = 6분, 4번 사람은 1+2+3+3 = 9분, 3번 사람은 1+2+3+3+4 = 13분이 걸리게 된다. 각 사람이 돈을 인출하는데 필요한 시간의 합은 1+3+6+9+13 = 32분이다. 이 방법보다 더 필요한 시간의 합을 최소로 만들 수는 없다.\n",
    "\n",
    "줄을 서 있는 사람의 수 N과 각 사람이 돈을 인출하는데 걸리는 시간 Pi가 주어졌을 때, 각 사람이 돈을 인출하는데 필요한 시간의 합의 최솟값을 구하는 프로그램을 작성하시오."
   ]
  },
  {
   "cell_type": "code",
   "execution_count": 92,
   "id": "b7e253ef-b6e1-494e-8824-c55bfede2775",
   "metadata": {},
   "outputs": [
    {
     "name": "stdin",
     "output_type": "stream",
     "text": [
      " 5\n",
      " 3 1 4 3 2\n"
     ]
    }
   ],
   "source": [
    "N = int(input())\n",
    "p = list(map(int, input().split()))"
   ]
  },
  {
   "cell_type": "code",
   "execution_count": 93,
   "id": "addc39c8-74a1-4073-a8b5-c1e085ab51b5",
   "metadata": {},
   "outputs": [
    {
     "data": {
      "text/plain": [
       "(5, [3, 1, 4, 3, 2])"
      ]
     },
     "execution_count": 144,
     "metadata": {},
     "output_type": "execute_result"
    }
   ],
   "source": [
    "N, p"
   ]
  },
  {
   "cell_type": "code",
   "execution_count": 67,
   "id": "039a2fe2-df26-4ff7-9122-72a122875ca8",
   "metadata": {},
   "outputs": [],
   "source": [
    "# 큰 수 작은 수 번갈아?\n",
    "# 아니면 그냥 오름차순 정렬?\n",
    "# 아아아아아아 문제 해석을 전혀 잘못했다. [2,5,1,4,3] 이란 [P2, P5, P1, P4, P3] 의 의미였음"
   ]
  },
  {
   "cell_type": "code",
   "execution_count": 68,
   "id": "d4de8d1b-1f6e-4ab3-a6e0-8e8dd555eb23",
   "metadata": {},
   "outputs": [],
   "source": [
    "# 그냥 오름차순 정렬하고 순서대로 더하면 끝"
   ]
  },
  {
   "cell_type": "code",
   "execution_count": 193,
   "id": "e147de2f-10fb-4121-ab43-4ae0af135ac0",
   "metadata": {
    "tags": []
   },
   "outputs": [
    {
     "name": "stdout",
     "output_type": "stream",
     "text": [
      "32\n"
     ]
    }
   ],
   "source": [
    "new = list(range(N))\n",
    "for i in range(N):\n",
    "    new[i] = min(p)\n",
    "    p.remove(min(p))\n",
    "    \n",
    "sum = 0\n",
    "for j in range(N, 0, -1):\n",
    "    sum += new[N-j]*j\n",
    "\n",
    "print(sum)"
   ]
  },
  {
   "cell_type": "code",
   "execution_count": null,
   "id": "57e39c43-68fe-452c-bf6d-0d94a210a8db",
   "metadata": {},
   "outputs": [],
   "source": []
  },
  {
   "cell_type": "code",
   "execution_count": null,
   "id": "a78508f8-b8e9-4f63-83a6-e756a77fd4e7",
   "metadata": {},
   "outputs": [],
   "source": []
  },
  {
   "cell_type": "markdown",
   "id": "88068f8e-e5f6-4435-a500-a350b3566287",
   "metadata": {},
   "source": [
    "11047번<Br>\n",
    "준규가 가지고 있는 동전은 총 N종류이고, 각각의 동전을 매우 많이 가지고 있다.\n",
    "\n",
    "동전을 적절히 사용해서 그 가치의 합을 K로 만들려고 한다. 이때 필요한 동전 개수의 최솟값을 구하는 프로그램을 작성하시오."
   ]
  },
  {
   "cell_type": "code",
   "execution_count": 196,
   "id": "73cd12bd-994e-4155-a743-2ce25265e385",
   "metadata": {},
   "outputs": [
    {
     "name": "stdin",
     "output_type": "stream",
     "text": [
      " 10 4200\n",
      " 1\n",
      " 5\n",
      " 10\n",
      " 50\n",
      " 100\n",
      " 500\n",
      " 1000\n",
      " 5000\n",
      " 10000\n",
      " 50000\n"
     ]
    }
   ],
   "source": [
    "N, K = map(int, input().split())\n",
    "coin_list = list()\n",
    "for i in range(N):\n",
    "    coin_list.append(int(input()))"
   ]
  },
  {
   "cell_type": "code",
   "execution_count": 198,
   "id": "ec2183b1-9777-44d1-af0a-a9ed3f2d0274",
   "metadata": {},
   "outputs": [
    {
     "data": {
      "text/plain": [
       "[1, 5, 10, 50, 100, 500, 1000, 5000, 10000, 50000]"
      ]
     },
     "execution_count": 198,
     "metadata": {},
     "output_type": "execute_result"
    }
   ],
   "source": [
    "coin_list"
   ]
  },
  {
   "cell_type": "code",
   "execution_count": 213,
   "id": "2544c41b-dc94-4e14-a8a6-9150c88c2a4c",
   "metadata": {},
   "outputs": [],
   "source": [
    "K = 4790"
   ]
  },
  {
   "cell_type": "code",
   "execution_count": 214,
   "id": "9770195d-961d-4361-93b9-fd11a4a9b35d",
   "metadata": {},
   "outputs": [
    {
     "name": "stdout",
     "output_type": "stream",
     "text": [
      "1000 790 4\n",
      "500 290 5\n",
      "100 90 7\n",
      "50 40 8\n",
      "10 0 12\n"
     ]
    }
   ],
   "source": [
    "K1 = K\n",
    "count = 0\n",
    "for i in range(N-1, -1, -1):\n",
    "    c = coin_list[i]\n",
    "    if K1//c==0:\n",
    "        pass\n",
    "    else:\n",
    "        count += K1//c\n",
    "        K1 -= c*(K1//c)\n",
    "print(count)"
   ]
  },
  {
   "cell_type": "code",
   "execution_count": 215,
   "id": "6060f1e7-2baa-4d39-8e89-0e631a6192bd",
   "metadata": {},
   "outputs": [
    {
     "data": {
      "text/plain": [
       "12"
      ]
     },
     "execution_count": 215,
     "metadata": {},
     "output_type": "execute_result"
    }
   ],
   "source": [
    "count"
   ]
  },
  {
   "cell_type": "code",
   "execution_count": null,
   "id": "6c9629c7-cbde-4a9b-91fe-fa12feb73cc4",
   "metadata": {},
   "outputs": [],
   "source": []
  },
  {
   "cell_type": "code",
   "execution_count": null,
   "id": "a5ba51db-cc30-41b2-8c9f-28bad8f819ec",
   "metadata": {},
   "outputs": [],
   "source": []
  },
  {
   "cell_type": "code",
   "execution_count": null,
   "id": "a43b1c41-466e-4a86-a2c6-947b0486245b",
   "metadata": {},
   "outputs": [],
   "source": []
  },
  {
   "cell_type": "code",
   "execution_count": null,
   "id": "d187cabf-ee2a-480d-af62-687f2e17461d",
   "metadata": {},
   "outputs": [],
   "source": []
  },
  {
   "cell_type": "code",
   "execution_count": null,
   "id": "e434f2e8-2807-49a8-9047-3010e2a65298",
   "metadata": {},
   "outputs": [],
   "source": []
  },
  {
   "cell_type": "code",
   "execution_count": null,
   "id": "36549f57-eedf-4094-a77d-dca2800abb14",
   "metadata": {},
   "outputs": [],
   "source": []
  },
  {
   "cell_type": "code",
   "execution_count": null,
   "id": "d9728b35-b486-47d6-859e-6fe05b2e4607",
   "metadata": {},
   "outputs": [],
   "source": []
  },
  {
   "cell_type": "code",
   "execution_count": null,
   "id": "1a266625-f191-47c0-858f-d5000bbb164f",
   "metadata": {},
   "outputs": [],
   "source": []
  },
  {
   "cell_type": "code",
   "execution_count": null,
   "id": "556ccda1-c975-416f-96fa-a72a989cc5b7",
   "metadata": {},
   "outputs": [],
   "source": []
  }
 ],
 "metadata": {
  "kernelspec": {
   "display_name": "Python 3",
   "language": "python",
   "name": "python3"
  },
  "language_info": {
   "codemirror_mode": {
    "name": "ipython",
    "version": 3
   },
   "file_extension": ".py",
   "mimetype": "text/x-python",
   "name": "python",
   "nbconvert_exporter": "python",
   "pygments_lexer": "ipython3",
   "version": "3.8.8"
  }
 },
 "nbformat": 4,
 "nbformat_minor": 5
}
