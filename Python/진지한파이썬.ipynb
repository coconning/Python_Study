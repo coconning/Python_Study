{
 "cells": [
  {
   "cell_type": "code",
   "execution_count": 34,
   "id": "reserved-growing",
   "metadata": {},
   "outputs": [],
   "source": [
    "%config Completer.use_jedi = False"
   ]
  },
  {
   "cell_type": "markdown",
   "id": "green-stephen",
   "metadata": {},
   "source": [
    "# Chapter. 7 데커레이터"
   ]
  },
  {
   "cell_type": "markdown",
   "id": "early-rugby",
   "metadata": {},
   "source": [
    "## 7.1.1 데커레이터 만들기"
   ]
  },
  {
   "cell_type": "code",
   "execution_count": 25,
   "id": "crazy-visibility",
   "metadata": {},
   "outputs": [
    {
     "data": {
      "text/plain": [
       "<function __main__.foo()>"
      ]
     },
     "execution_count": 25,
     "metadata": {},
     "output_type": "execute_result"
    }
   ],
   "source": [
    "def identity(f):\n",
    "    return f\n",
    "\n",
    "@identity\n",
    "def foo():\n",
    "    return \"bar\"\n",
    "\n",
    "foo"
   ]
  },
  {
   "cell_type": "code",
   "execution_count": 33,
   "id": "excess-slovenia",
   "metadata": {},
   "outputs": [
    {
     "name": "stdout",
     "output_type": "stream",
     "text": [
      "bar\n"
     ]
    }
   ],
   "source": [
    "# 딕셔너리 정의\n",
    "_functions={}\n",
    "\n",
    "# 함수 정의\n",
    "def register(f):\n",
    "    global _functions # 딕셔너리 전역 변수화\n",
    "    _functions[f.__name__] = f # 딕셔너리에 들어온 함수의 이름을 키로 가지고 객체를 값으로 가지도록 설정\n",
    "    return f # 함수 객체를 리턴\n",
    "\n",
    "# @심볼의 뜻은, foo함수를 실행할 때 그 함수를 register함수에도 넣어서 register함수에서 실행하라는 뜻\n",
    "@register\n",
    "def foo():\n",
    "    return \"bar\"\n",
    "\n",
    "print(_functions[\"foo\"]())"
   ]
  },
  {
   "cell_type": "markdown",
   "id": "manufactured-editor",
   "metadata": {},
   "source": [
    "# 배경지식"
   ]
  },
  {
   "cell_type": "markdown",
   "id": "outer-drilling",
   "metadata": {},
   "source": [
    "- Closure에 대해 살펴보기 전 함수 중첩, 일급 객체, nonlocal에 대해 알아본다"
   ]
  },
  {
   "cell_type": "markdown",
   "id": "sharp-breakfast",
   "metadata": {},
   "source": [
    "## 1.1 함수 중첩"
   ]
  },
  {
   "cell_type": "code",
   "execution_count": 2,
   "id": "freelance-graduation",
   "metadata": {},
   "outputs": [
    {
     "name": "stdin",
     "output_type": "stream",
     "text": [
      "정수를 입력하세요 5\n"
     ]
    },
    {
     "name": "stdout",
     "output_type": "stream",
     "text": [
      "홀수\n"
     ]
    }
   ],
   "source": [
    "n=int(input(\"정수를 입력하세요\"))\n",
    "\n",
    "if n%2 == 0:\n",
    "    if n%3 ==0:\n",
    "        print(\"6의배수\")\n",
    "    else:\n",
    "        print(\"짝수\")\n",
    "else:\n",
    "    print(\"홀수\")"
   ]
  },
  {
   "cell_type": "code",
   "execution_count": 4,
   "id": "golden-section",
   "metadata": {},
   "outputs": [
    {
     "name": "stdout",
     "output_type": "stream",
     "text": [
      "Hi everyone :)\n"
     ]
    }
   ],
   "source": [
    "def greetings():\n",
    "    def say_hi(): # 내부 함수\n",
    "        print(\"Hi everyone :)\")\n",
    "    say_hi()\n",
    "    \n",
    "greetings()"
   ]
  },
  {
   "cell_type": "code",
   "execution_count": null,
   "id": "searching-bridge",
   "metadata": {},
   "outputs": [],
   "source": []
  },
  {
   "cell_type": "markdown",
   "id": "accompanied-teddy",
   "metadata": {},
   "source": [
    "## 1.2 First Class Object(일급 객체)\n",
    "\n",
    "- 일급객체는 해당 언어 내에서 일반적으로 다른 모든 개체에 통용가능한 동작(operation)이 지원되는 개체(entity)를 의미한다\n",
    "- 이 동작은 주로\n",
    "    - 1. 함수의 인자로 전달\n",
    "    - 2. 함수의 반환값이 되거나\n",
    "    - 3. 수정되고 할당되는 것들을 전제로 한다\n",
    "- 파이썬에서 함수는 일급객체이다"
   ]
  },
  {
   "cell_type": "code",
   "execution_count": 14,
   "id": "fixed-closer",
   "metadata": {},
   "outputs": [
    {
     "data": {
      "text/plain": [
       "'ㅠㅁ'"
      ]
     },
     "execution_count": 14,
     "metadata": {},
     "output_type": "execute_result"
    }
   ],
   "source": [
    "# f라는 함수가 execute의 함수의 인자로 전달\n",
    "# 함수 내부에서 인자로 받은 함수 func를 문제없이 사용\n",
    "# add라는 함수객체를 f라고 하는 함수로 정의\n",
    "# 이 특성이 있어야 Closure가 성립된다\n",
    "\n",
    "def add(a,b):\n",
    "    return a+b\n",
    "\n",
    "def execute(func, *args):\n",
    "    return func(*args)\n",
    "\n",
    "f=add\n",
    "execute(f, \"ㅠ\", \"ㅁ\")"
   ]
  },
  {
   "cell_type": "code",
   "execution_count": null,
   "id": "descending-arrangement",
   "metadata": {},
   "outputs": [],
   "source": []
  },
  {
   "cell_type": "markdown",
   "id": "included-insulation",
   "metadata": {},
   "source": [
    "## 1.3 nonlocal"
   ]
  },
  {
   "cell_type": "markdown",
   "id": "cheap-reception",
   "metadata": {},
   "source": [
    "- inner 함수 블록 안에 있는 영역은 local 스코프라고 불린다. 로컬 영역 안의 모든 개체들은 inner 의 제어 아래에 있다.\n",
    "- outer 의 안에 있되, inner 의 밖에 있는 영역은 nonlocal 스코프라고 불린다. outer 의 y 변수는 inner 입장에서는 nonlocal 스코프의 변수이다.\n",
    "- outer 함수 밖의 영역은 global 스코프다. z 변수는 global 에 선언된 변수로 outer 함수뿐 아니라 다른 코드나 함수에서도 참조가능할 것이다."
   ]
  },
  {
   "cell_type": "code",
   "execution_count": 15,
   "id": "friendly-there",
   "metadata": {},
   "outputs": [
    {
     "data": {
      "text/plain": [
       "1000"
      ]
     },
     "execution_count": 15,
     "metadata": {},
     "output_type": "execute_result"
    }
   ],
   "source": [
    "z=3 # global 스코프\n",
    "def outer(x):\n",
    "    y=10 # nonlocal 스코프(inner 함수의 입장에서 보았을 때)\n",
    "    def inner(): # local 스코프\n",
    "        x=1000\n",
    "        return x\n",
    "    return inner()\n",
    "\n",
    "outer(100)"
   ]
  },
  {
   "cell_type": "markdown",
   "id": "homeless-responsibility",
   "metadata": {},
   "source": [
    "- local 영역에서 밖의 영역에 대한 값을 참조하는, 또는 읽는 것은 항상 문제가 없는데, 값을 수정하거나 새로 할당하는 것은, 쓰는 것(write)은 안 된다.\n",
    "- 그것은 코드 영역의 책임과 권한을 명확히 나누는 것이 좋기 때문이다. \n",
    "- 예제의 count 함수는 하나의 내부 함수를 갖고 있지만, 어떤 경우에는 수십여개의 내부 함수를 가질 수도 있다. 이때 내부 함수마다 count의 상태값을 건드리고 수정한다면 예상하지 못한 결과를 초래할 수 있다. "
   ]
  },
  {
   "cell_type": "code",
   "execution_count": 16,
   "id": "becoming-toilet",
   "metadata": {},
   "outputs": [
    {
     "ename": "UnboundLocalError",
     "evalue": "local variable 'x' referenced before assignment",
     "output_type": "error",
     "traceback": [
      "\u001b[1;31m---------------------------------------------------------------------------\u001b[0m",
      "\u001b[1;31mUnboundLocalError\u001b[0m                         Traceback (most recent call last)",
      "\u001b[1;32m<ipython-input-16-054e2379bb74>\u001b[0m in \u001b[0;36m<module>\u001b[1;34m\u001b[0m\n\u001b[0;32m      5\u001b[0m     \u001b[0mincrement\u001b[0m\u001b[1;33m(\u001b[0m\u001b[1;33m)\u001b[0m\u001b[1;33m\u001b[0m\u001b[1;33m\u001b[0m\u001b[0m\n\u001b[0;32m      6\u001b[0m \u001b[1;33m\u001b[0m\u001b[0m\n\u001b[1;32m----> 7\u001b[1;33m \u001b[0mcount\u001b[0m\u001b[1;33m(\u001b[0m\u001b[1;36m5\u001b[0m\u001b[1;33m)\u001b[0m\u001b[1;33m\u001b[0m\u001b[1;33m\u001b[0m\u001b[0m\n\u001b[0m",
      "\u001b[1;32m<ipython-input-16-054e2379bb74>\u001b[0m in \u001b[0;36mcount\u001b[1;34m(x)\u001b[0m\n\u001b[0;32m      3\u001b[0m         \u001b[0mx\u001b[0m\u001b[1;33m+=\u001b[0m\u001b[1;36m1\u001b[0m\u001b[1;33m\u001b[0m\u001b[1;33m\u001b[0m\u001b[0m\n\u001b[0;32m      4\u001b[0m         \u001b[0mprint\u001b[0m\u001b[1;33m(\u001b[0m\u001b[0mx\u001b[0m\u001b[1;33m)\u001b[0m\u001b[1;33m\u001b[0m\u001b[1;33m\u001b[0m\u001b[0m\n\u001b[1;32m----> 5\u001b[1;33m     \u001b[0mincrement\u001b[0m\u001b[1;33m(\u001b[0m\u001b[1;33m)\u001b[0m\u001b[1;33m\u001b[0m\u001b[1;33m\u001b[0m\u001b[0m\n\u001b[0m\u001b[0;32m      6\u001b[0m \u001b[1;33m\u001b[0m\u001b[0m\n\u001b[0;32m      7\u001b[0m \u001b[0mcount\u001b[0m\u001b[1;33m(\u001b[0m\u001b[1;36m5\u001b[0m\u001b[1;33m)\u001b[0m\u001b[1;33m\u001b[0m\u001b[1;33m\u001b[0m\u001b[0m\n",
      "\u001b[1;32m<ipython-input-16-054e2379bb74>\u001b[0m in \u001b[0;36mincrement\u001b[1;34m()\u001b[0m\n\u001b[0;32m      1\u001b[0m \u001b[1;32mdef\u001b[0m \u001b[0mcount\u001b[0m\u001b[1;33m(\u001b[0m\u001b[0mx\u001b[0m\u001b[1;33m)\u001b[0m\u001b[1;33m:\u001b[0m\u001b[1;33m\u001b[0m\u001b[1;33m\u001b[0m\u001b[0m\n\u001b[0;32m      2\u001b[0m     \u001b[1;32mdef\u001b[0m \u001b[0mincrement\u001b[0m\u001b[1;33m(\u001b[0m\u001b[1;33m)\u001b[0m\u001b[1;33m:\u001b[0m\u001b[1;33m\u001b[0m\u001b[1;33m\u001b[0m\u001b[0m\n\u001b[1;32m----> 3\u001b[1;33m         \u001b[0mx\u001b[0m\u001b[1;33m+=\u001b[0m\u001b[1;36m1\u001b[0m\u001b[1;33m\u001b[0m\u001b[1;33m\u001b[0m\u001b[0m\n\u001b[0m\u001b[0;32m      4\u001b[0m         \u001b[0mprint\u001b[0m\u001b[1;33m(\u001b[0m\u001b[0mx\u001b[0m\u001b[1;33m)\u001b[0m\u001b[1;33m\u001b[0m\u001b[1;33m\u001b[0m\u001b[0m\n\u001b[0;32m      5\u001b[0m     \u001b[0mincrement\u001b[0m\u001b[1;33m(\u001b[0m\u001b[1;33m)\u001b[0m\u001b[1;33m\u001b[0m\u001b[1;33m\u001b[0m\u001b[0m\n",
      "\u001b[1;31mUnboundLocalError\u001b[0m: local variable 'x' referenced before assignment"
     ]
    }
   ],
   "source": [
    "def count(x):\n",
    "    def increment():\n",
    "        x+=1\n",
    "        print(x)\n",
    "    increment()\n",
    "    \n",
    "count(5)"
   ]
  },
  {
   "cell_type": "markdown",
   "id": "impressive-cheat",
   "metadata": {},
   "source": [
    "- 만약 위의 예제에서 의도적으로 nonlocal 스코프의 값을 수정하고 싶으면 어떻게 할까? 이때 nonlocal statement를 쓰면 된다."
   ]
  },
  {
   "cell_type": "code",
   "execution_count": 17,
   "id": "collected-judge",
   "metadata": {},
   "outputs": [
    {
     "name": "stdout",
     "output_type": "stream",
     "text": [
      "6\n"
     ]
    }
   ],
   "source": [
    "def count(x):\n",
    "    def increment():\n",
    "        nonlocal x\n",
    "        x+=1\n",
    "        print(x)\n",
    "    increment()\n",
    "    \n",
    "count(5)"
   ]
  },
  {
   "cell_type": "markdown",
   "id": "complex-exchange",
   "metadata": {},
   "source": [
    "- 하지만 nonlocal 선언하지 않았을 때 nonlocal스코프에 있는 y를 수정할 수 없다"
   ]
  },
  {
   "cell_type": "code",
   "execution_count": 24,
   "id": "proud-excuse",
   "metadata": {},
   "outputs": [
    {
     "ename": "UnboundLocalError",
     "evalue": "local variable 'y' referenced before assignment",
     "output_type": "error",
     "traceback": [
      "\u001b[1;31m---------------------------------------------------------------------------\u001b[0m",
      "\u001b[1;31mUnboundLocalError\u001b[0m                         Traceback (most recent call last)",
      "\u001b[1;32m<ipython-input-24-a835be94b916>\u001b[0m in \u001b[0;36m<module>\u001b[1;34m\u001b[0m\n\u001b[0;32m      8\u001b[0m     \u001b[1;32mreturn\u001b[0m \u001b[0minner\u001b[0m\u001b[1;33m(\u001b[0m\u001b[1;33m)\u001b[0m\u001b[1;33m\u001b[0m\u001b[1;33m\u001b[0m\u001b[0m\n\u001b[0;32m      9\u001b[0m \u001b[1;33m\u001b[0m\u001b[0m\n\u001b[1;32m---> 10\u001b[1;33m \u001b[0mouter\u001b[0m\u001b[1;33m(\u001b[0m\u001b[1;36m100\u001b[0m\u001b[1;33m)\u001b[0m\u001b[1;33m\u001b[0m\u001b[1;33m\u001b[0m\u001b[0m\n\u001b[0m",
      "\u001b[1;32m<ipython-input-24-a835be94b916>\u001b[0m in \u001b[0;36mouter\u001b[1;34m(x)\u001b[0m\n\u001b[0;32m      6\u001b[0m         \u001b[0my\u001b[0m\u001b[1;33m+=\u001b[0m\u001b[1;36m1000\u001b[0m\u001b[1;33m\u001b[0m\u001b[1;33m\u001b[0m\u001b[0m\n\u001b[0;32m      7\u001b[0m         \u001b[1;32mreturn\u001b[0m \u001b[0my\u001b[0m\u001b[1;33m\u001b[0m\u001b[1;33m\u001b[0m\u001b[0m\n\u001b[1;32m----> 8\u001b[1;33m     \u001b[1;32mreturn\u001b[0m \u001b[0minner\u001b[0m\u001b[1;33m(\u001b[0m\u001b[1;33m)\u001b[0m\u001b[1;33m\u001b[0m\u001b[1;33m\u001b[0m\u001b[0m\n\u001b[0m\u001b[0;32m      9\u001b[0m \u001b[1;33m\u001b[0m\u001b[0m\n\u001b[0;32m     10\u001b[0m \u001b[0mouter\u001b[0m\u001b[1;33m(\u001b[0m\u001b[1;36m100\u001b[0m\u001b[1;33m)\u001b[0m\u001b[1;33m\u001b[0m\u001b[1;33m\u001b[0m\u001b[0m\n",
      "\u001b[1;32m<ipython-input-24-a835be94b916>\u001b[0m in \u001b[0;36minner\u001b[1;34m()\u001b[0m\n\u001b[0;32m      4\u001b[0m     \u001b[1;32mdef\u001b[0m \u001b[0minner\u001b[0m\u001b[1;33m(\u001b[0m\u001b[1;33m)\u001b[0m\u001b[1;33m:\u001b[0m \u001b[1;31m# local 스코프\u001b[0m\u001b[1;33m\u001b[0m\u001b[1;33m\u001b[0m\u001b[0m\n\u001b[0;32m      5\u001b[0m \u001b[1;31m#         nonlocal y\u001b[0m\u001b[1;33m\u001b[0m\u001b[1;33m\u001b[0m\u001b[1;33m\u001b[0m\u001b[0m\n\u001b[1;32m----> 6\u001b[1;33m         \u001b[0my\u001b[0m\u001b[1;33m+=\u001b[0m\u001b[1;36m1000\u001b[0m\u001b[1;33m\u001b[0m\u001b[1;33m\u001b[0m\u001b[0m\n\u001b[0m\u001b[0;32m      7\u001b[0m         \u001b[1;32mreturn\u001b[0m \u001b[0my\u001b[0m\u001b[1;33m\u001b[0m\u001b[1;33m\u001b[0m\u001b[0m\n\u001b[0;32m      8\u001b[0m     \u001b[1;32mreturn\u001b[0m \u001b[0minner\u001b[0m\u001b[1;33m(\u001b[0m\u001b[1;33m)\u001b[0m\u001b[1;33m\u001b[0m\u001b[1;33m\u001b[0m\u001b[0m\n",
      "\u001b[1;31mUnboundLocalError\u001b[0m: local variable 'y' referenced before assignment"
     ]
    }
   ],
   "source": [
    "z=3 # global 스코프\n",
    "def outer(x):\n",
    "    y=10 # nonlocal 스코프(inner 함수의 입장에서 보았을 때)\n",
    "    def inner(): # local 스코프\n",
    "#         nonlocal y\n",
    "        y+=1000\n",
    "        return y\n",
    "    return inner()\n",
    "\n",
    "outer(100)"
   ]
  },
  {
   "cell_type": "markdown",
   "id": "acoustic-junior",
   "metadata": {},
   "source": [
    "- nonlocal 스코프인 y를 nonlocal로 지정하고 y를 수정할 수 있다"
   ]
  },
  {
   "cell_type": "code",
   "execution_count": 25,
   "id": "congressional-value",
   "metadata": {},
   "outputs": [
    {
     "data": {
      "text/plain": [
       "1010"
      ]
     },
     "execution_count": 25,
     "metadata": {},
     "output_type": "execute_result"
    }
   ],
   "source": [
    "z=3 # global 스코프\n",
    "def outer(x):\n",
    "    y=10 # nonlocal 스코프(inner 함수의 입장에서 보았을 때)\n",
    "    def inner(): # local 스코프\n",
    "        nonlocal y\n",
    "        y+=1000\n",
    "        return y\n",
    "    return inner()\n",
    "\n",
    "outer(100)"
   ]
  },
  {
   "cell_type": "markdown",
   "id": "suited-dream",
   "metadata": {},
   "source": [
    "- 하지만 nonlocal 스코프가 아닌 global 스코프인 z에 대해서는 nonlocal을 선언하면 에러가 난다\n",
    "- 에러메시지는 바인딩할 nonlocal 변수 z를 발견하지 못했다 이다"
   ]
  },
  {
   "cell_type": "code",
   "execution_count": 26,
   "id": "aggressive-runner",
   "metadata": {},
   "outputs": [
    {
     "ename": "SyntaxError",
     "evalue": "no binding for nonlocal 'z' found (<ipython-input-26-ab4bb4500a5e>, line 5)",
     "output_type": "error",
     "traceback": [
      "\u001b[1;36m  File \u001b[1;32m\"<ipython-input-26-ab4bb4500a5e>\"\u001b[1;36m, line \u001b[1;32m5\u001b[0m\n\u001b[1;33m    nonlocal z\u001b[0m\n\u001b[1;37m    ^\u001b[0m\n\u001b[1;31mSyntaxError\u001b[0m\u001b[1;31m:\u001b[0m no binding for nonlocal 'z' found\n"
     ]
    }
   ],
   "source": [
    "z=3 # global 스코프\n",
    "def outer(x):\n",
    "    y=10 # nonlocal 스코프(inner 함수의 입장에서 보았을 때)\n",
    "    def inner(): # local 스코프\n",
    "        nonlocal z\n",
    "        z+=1000\n",
    "        return y\n",
    "    return inner()\n",
    "\n",
    "outer(100)"
   ]
  },
  {
   "cell_type": "markdown",
   "id": "collect-peace",
   "metadata": {},
   "source": [
    "- 만약 z가 nonlocal 스코프 안으로 들어오게 되면 가능해진다"
   ]
  },
  {
   "cell_type": "code",
   "execution_count": 27,
   "id": "dimensional-methodology",
   "metadata": {},
   "outputs": [
    {
     "data": {
      "text/plain": [
       "10"
      ]
     },
     "execution_count": 27,
     "metadata": {},
     "output_type": "execute_result"
    }
   ],
   "source": [
    "def outer(x):\n",
    "    y=10 # nonlocal 스코프(inner 함수의 입장에서 보았을 때)\n",
    "    z=3  # nonlocal 스코프\n",
    "    def inner(): # local 스코프\n",
    "        nonlocal z\n",
    "        z+=1000\n",
    "        return y\n",
    "    return inner()\n",
    "\n",
    "outer(100)"
   ]
  },
  {
   "cell_type": "markdown",
   "id": "viral-halloween",
   "metadata": {},
   "source": [
    "- 혹은 global 스코프인 z 변수를 global 선언 해주면 된다"
   ]
  },
  {
   "cell_type": "code",
   "execution_count": 31,
   "id": "unlimited-wonder",
   "metadata": {},
   "outputs": [
    {
     "data": {
      "text/plain": [
       "(110, 1003)"
      ]
     },
     "execution_count": 31,
     "metadata": {},
     "output_type": "execute_result"
    }
   ],
   "source": [
    "z=3  # global 스코프\n",
    "def outer(x):\n",
    "    y=10 # nonlocal 스코프(inner 함수의 입장에서 보았을 때)\n",
    "    def inner(): # local 스코프\n",
    "        nonlocal y\n",
    "        global z\n",
    "        z+=1000\n",
    "        y+=100\n",
    "        return y,z\n",
    "    return inner()\n",
    "\n",
    "outer(100)"
   ]
  },
  {
   "cell_type": "code",
   "execution_count": null,
   "id": "available-astrology",
   "metadata": {},
   "outputs": [],
   "source": []
  },
  {
   "cell_type": "markdown",
   "id": "dramatic-wednesday",
   "metadata": {},
   "source": [
    "## 1.4 Closure\n",
    "\n",
    "- 파이썬에서 클로저는 ‘자신을 둘러싼 스코프(네임스페이스)의 상태값을 기억하는 함수’다. 그리고 어떤 함수가 클로저이기 위해서는 다음의 세 가지 조건을 만족해야 한다.\n",
    "\n",
    "1. 해당 함수는 어떤 함수 내의 중첩된 함수여야 한다.\n",
    "2. 해당 함수는 자신을 둘러싼(enclose) 함수 내의 상태값을 반드시 참조해야 한다.\n",
    "3. 해당 함수를 둘러싼 함수는 이 함수를 반환해야 한다."
   ]
  },
  {
   "cell_type": "code",
   "execution_count": 111,
   "id": "brazilian-backup",
   "metadata": {},
   "outputs": [],
   "source": [
    "# 이 함수를 실제로 적용해보기 전에, wrapper 함수에 대해 살펴보자. 위에서 어떤 함수의 클로저이기 위한 특징을 살폈는데 공교롭게도 이 함수는 클로저이기 위한 조건을 모두 충족한다.\n",
    "\n",
    "# in_cache 함수 내의 중첩된 함수이고,\n",
    "# Enclosing하는 in_cache 스코프의 cache 라는 상태값을 참조하고 있으며,\n",
    "# 자신을 둘러싼 함수는 자신(wrapper)을 반환하고 있다!\n",
    "\n",
    "def in_cache(func):\n",
    "    cache = {}\n",
    "    def wrapper(n): # 중첩됨\n",
    "        print(cache)\n",
    "        if n in cache: # enclosing하는 in_cache 스코프의 cache라는 딕셔너리를 참조\n",
    "            return cache[n]\n",
    "        else:\n",
    "            cache[n]=func(n)\n",
    "            return cache[n]\n",
    "    return wrapper # 자신을 반환"
   ]
  },
  {
   "cell_type": "markdown",
   "id": "substantial-ceiling",
   "metadata": {},
   "source": [
    "일단 wrapper 는 정의상 클로저라는 얘기이고, 이 함수를 제대로 사용해보자.\n",
    "위 포스트의 팩토리얼 함수를 하나 가져와서 in_cache 를 적용해보겠다."
   ]
  },
  {
   "cell_type": "code",
   "execution_count": 112,
   "id": "shared-formula",
   "metadata": {},
   "outputs": [],
   "source": [
    "def factorial(n):\n",
    "    ret = 1\n",
    "    for i in range(1, n+1):\n",
    "        ret *= i\n",
    "    return ret"
   ]
  },
  {
   "cell_type": "code",
   "execution_count": 113,
   "id": "constant-proportion",
   "metadata": {},
   "outputs": [],
   "source": [
    "factorial = in_cache(factorial)"
   ]
  },
  {
   "cell_type": "code",
   "execution_count": 114,
   "id": "lucky-graduation",
   "metadata": {},
   "outputs": [
    {
     "data": {
      "text/plain": [
       "<function __main__.in_cache.<locals>.wrapper(n)>"
      ]
     },
     "execution_count": 114,
     "metadata": {},
     "output_type": "execute_result"
    }
   ],
   "source": [
    "factorial"
   ]
  },
  {
   "cell_type": "markdown",
   "id": "lasting-rapid",
   "metadata": {},
   "source": [
    "- 이제 진짜 핵심으로 들어간다. 그 클로저라는 wrapper 함수 안에 cache 의 상태값을 출력하는 코드를 넣었다.\n",
    "- 저 코드는 wrapper 을 enclosing 하는 스코프의 cache 변수를 추적한다.\n",
    "- 이제 함수를 몇 번 실행해보자."
   ]
  },
  {
   "cell_type": "code",
   "execution_count": 115,
   "id": "finite-shame",
   "metadata": {},
   "outputs": [
    {
     "name": "stdout",
     "output_type": "stream",
     "text": [
      "{}\n"
     ]
    },
    {
     "data": {
      "text/plain": [
       "6"
      ]
     },
     "execution_count": 115,
     "metadata": {},
     "output_type": "execute_result"
    }
   ],
   "source": [
    "factorial(3)"
   ]
  },
  {
   "cell_type": "code",
   "execution_count": 116,
   "id": "certified-workshop",
   "metadata": {},
   "outputs": [
    {
     "name": "stdout",
     "output_type": "stream",
     "text": [
      "{3: 6}\n"
     ]
    },
    {
     "data": {
      "text/plain": [
       "720"
      ]
     },
     "execution_count": 116,
     "metadata": {},
     "output_type": "execute_result"
    }
   ],
   "source": [
    "factorial(6)"
   ]
  },
  {
   "cell_type": "code",
   "execution_count": 117,
   "id": "increased-surfing",
   "metadata": {},
   "outputs": [
    {
     "name": "stdout",
     "output_type": "stream",
     "text": [
      "{3: 6, 6: 720}\n"
     ]
    },
    {
     "data": {
      "text/plain": [
       "3628800"
      ]
     },
     "execution_count": 117,
     "metadata": {},
     "output_type": "execute_result"
    }
   ],
   "source": [
    "factorial(10)"
   ]
  },
  {
   "cell_type": "code",
   "execution_count": 118,
   "id": "complex-webster",
   "metadata": {},
   "outputs": [
    {
     "name": "stdout",
     "output_type": "stream",
     "text": [
      "{3: 6, 6: 720, 10: 3628800}\n"
     ]
    },
    {
     "data": {
      "text/plain": [
       "1"
      ]
     },
     "execution_count": 118,
     "metadata": {},
     "output_type": "execute_result"
    }
   ],
   "source": [
    "factorial(1)"
   ]
  },
  {
   "cell_type": "code",
   "execution_count": 119,
   "id": "turned-label",
   "metadata": {},
   "outputs": [
    {
     "name": "stdout",
     "output_type": "stream",
     "text": [
      "{3: 6, 6: 720, 10: 3628800, 1: 1}\n"
     ]
    },
    {
     "data": {
      "text/plain": [
       "1"
      ]
     },
     "execution_count": 119,
     "metadata": {},
     "output_type": "execute_result"
    }
   ],
   "source": [
    "factorial(1)"
   ]
  },
  {
   "cell_type": "markdown",
   "id": "sustained-footage",
   "metadata": {},
   "source": [
    "### 1.4.1 Closure 특징\n",
    "\n",
    "- 일단 눈에 띠는 특징으로 클로저는 자신을 둘러싼 함수 스코프의 상태값을 참조하는데, 이 값은 함수가 메모리에서 사라져도 값이 유지가 된다."
   ]
  },
  {
   "cell_type": "code",
   "execution_count": 120,
   "id": "ahead-lightning",
   "metadata": {},
   "outputs": [
    {
     "data": {
      "text/plain": [
       "(<function __main__.times_multiply.<locals>.multiply(x)>,\n",
       " <function __main__.times_multiply.<locals>.multiply(x)>)"
      ]
     },
     "execution_count": 120,
     "metadata": {},
     "output_type": "execute_result"
    }
   ],
   "source": [
    "def times_multiply(n):\n",
    "    def multiply(x):\n",
    "        return n*x\n",
    "    return multiply\n",
    "\n",
    "times_3=times_multiply(3)\n",
    "times_4=times_multiply(4)\n",
    "\n",
    "times_3, times_4"
   ]
  },
  {
   "cell_type": "code",
   "execution_count": 121,
   "id": "discrete-immigration",
   "metadata": {},
   "outputs": [
    {
     "data": {
      "text/plain": [
       "(15, 20)"
      ]
     },
     "execution_count": 121,
     "metadata": {},
     "output_type": "execute_result"
    }
   ],
   "source": [
    "times_3(5), times_4(5)"
   ]
  },
  {
   "cell_type": "markdown",
   "id": "dedicated-preserve",
   "metadata": {},
   "source": [
    "- 해당 함수를 메모리에서 지우더라도 클로저에 영향을 미치지 않고 원 함수의 변화에서도 자신의 스코프는 지킨다"
   ]
  },
  {
   "cell_type": "code",
   "execution_count": 62,
   "id": "parliamentary-dayton",
   "metadata": {},
   "outputs": [],
   "source": [
    "del(times_multiply)"
   ]
  },
  {
   "cell_type": "code",
   "execution_count": 124,
   "id": "smooth-homework",
   "metadata": {},
   "outputs": [
    {
     "data": {
      "text/plain": [
       "21"
      ]
     },
     "execution_count": 124,
     "metadata": {},
     "output_type": "execute_result"
    }
   ],
   "source": [
    "times_3(7)"
   ]
  },
  {
   "cell_type": "markdown",
   "id": "temporal-crossing",
   "metadata": {},
   "source": [
    "- 두 번째 특징으로 클로저에서 자신 안에 정의된 내부 변수가 아닌, Enclosing하고 있는 변수에 접근하는 것을 파이썬에서 지원하고 있다."
   ]
  },
  {
   "cell_type": "code",
   "execution_count": 64,
   "id": "studied-phoenix",
   "metadata": {},
   "outputs": [
    {
     "data": {
      "text/plain": [
       "(<cell at 0x00000160490D5AC8: int object at 0x000000006ECDB120>,)"
      ]
     },
     "execution_count": 64,
     "metadata": {},
     "output_type": "execute_result"
    }
   ],
   "source": [
    "times_4.__closure__"
   ]
  },
  {
   "cell_type": "code",
   "execution_count": 65,
   "id": "finite-sentence",
   "metadata": {},
   "outputs": [
    {
     "data": {
      "text/plain": [
       "4"
      ]
     },
     "execution_count": 65,
     "metadata": {},
     "output_type": "execute_result"
    }
   ],
   "source": [
    "times_4.__closure__[0].cell_contents"
   ]
  },
  {
   "cell_type": "code",
   "execution_count": 66,
   "id": "funded-given",
   "metadata": {},
   "outputs": [
    {
     "name": "stdout",
     "output_type": "stream",
     "text": [
      "{}\n"
     ]
    },
    {
     "data": {
      "text/plain": [
       "3628800"
      ]
     },
     "execution_count": 66,
     "metadata": {},
     "output_type": "execute_result"
    }
   ],
   "source": [
    "def in_cache(func):\n",
    "    cache = {}\n",
    "    def wrapper(n): # 중첩됨\n",
    "        print(cache)\n",
    "        if n in cache: # enclosing하는 in_cache 스코프의 cache라는 딕셔너리를 참조\n",
    "            return cache[n]\n",
    "        else:\n",
    "            cache[n]=func(n)\n",
    "            return cache[n]\n",
    "    return wrapper # 자신을 반환\n",
    "\n",
    "@in_cache\n",
    "def factorial(n):\n",
    "    ret = 1\n",
    "    for i in range(1, n+1):\n",
    "        ret *= i\n",
    "    return ret\n",
    "\n",
    "factorial(10)"
   ]
  },
  {
   "cell_type": "code",
   "execution_count": 67,
   "id": "recovered-membrane",
   "metadata": {},
   "outputs": [
    {
     "name": "stdout",
     "output_type": "stream",
     "text": [
      "{10: 3628800}\n"
     ]
    },
    {
     "data": {
      "text/plain": [
       "2432902008176640000"
      ]
     },
     "execution_count": 67,
     "metadata": {},
     "output_type": "execute_result"
    }
   ],
   "source": [
    "factorial(20)"
   ]
  },
  {
   "cell_type": "code",
   "execution_count": 68,
   "id": "lonely-rebound",
   "metadata": {},
   "outputs": [
    {
     "name": "stdout",
     "output_type": "stream",
     "text": [
      "{10: 3628800, 20: 2432902008176640000}\n"
     ]
    },
    {
     "data": {
      "text/plain": [
       "2"
      ]
     },
     "execution_count": 68,
     "metadata": {},
     "output_type": "execute_result"
    }
   ],
   "source": [
    "factorial(2)"
   ]
  },
  {
   "cell_type": "code",
   "execution_count": 89,
   "id": "medieval-vienna",
   "metadata": {
    "tags": []
   },
   "outputs": [
    {
     "data": {
      "text/plain": [
       "({10: 3628800, 20: 2432902008176640000, 2: 2},\n",
       " <function __main__.factorial(n)>)"
      ]
     },
     "execution_count": 89,
     "metadata": {},
     "output_type": "execute_result"
    }
   ],
   "source": [
    "factorial.__closure__[0].cell_contents, factorial.__closure__[1].cell_contents"
   ]
  },
  {
   "cell_type": "code",
   "execution_count": null,
   "id": "soviet-operator",
   "metadata": {},
   "outputs": [],
   "source": []
  },
  {
   "cell_type": "markdown",
   "id": "amateur-officer",
   "metadata": {},
   "source": []
  },
  {
   "cell_type": "markdown",
   "id": "discrete-resistance",
   "metadata": {},
   "source": [
    "# 7.1.2 데커레이터 사용하기\n",
    "\n",
    "- 데커레이터는 함수를 중심으로 반복되는 코드를 리팩토링할 때 자주 사용된다.\n",
    "- 인수로 수신되는 사용자 이름이 관리자인지 아닌지 확인하고, 사용자가 관리자가 아니면 예외를 발생시켜야 하는 다음 함수 집합을 고려해보자"
   ]
  },
  {
   "cell_type": "code",
   "execution_count": null,
   "id": "large-local",
   "metadata": {},
   "outputs": [],
   "source": []
  },
  {
   "cell_type": "markdown",
   "id": "cooked-comparison",
   "metadata": {},
   "source": [
    "- 기본 함수"
   ]
  },
  {
   "cell_type": "code",
   "execution_count": null,
   "id": "institutional-intro",
   "metadata": {},
   "outputs": [],
   "source": [
    "class Store(object):\n",
    "    def get_food(self, username, food):\n",
    "        if username != \"admin\":\n",
    "            raise Exception(\"This user is not allowed to get food\")\n",
    "        return self.storage.get(food)\n",
    "    \n",
    "    def put_food(self, username, food):\n",
    "        if username != \"admin\":\n",
    "            raise Exception(\"This user is not allowed to put food\")\n",
    "        self.storage.put(food)"
   ]
  },
  {
   "cell_type": "markdown",
   "id": "furnished-november",
   "metadata": {},
   "source": [
    "- check_is_admin 함수를 사용"
   ]
  },
  {
   "cell_type": "code",
   "execution_count": 94,
   "id": "crucial-chaos",
   "metadata": {
    "tags": []
   },
   "outputs": [
    {
     "data": {
      "text/plain": [
       "'get f3'"
      ]
     },
     "execution_count": 94,
     "metadata": {},
     "output_type": "execute_result"
    }
   ],
   "source": [
    "def check_is_admin(username):\n",
    "    if username != \"admin\":\n",
    "        raise Exception(\"This user is not allowed to put food\")\n",
    "\n",
    "class Store(object):\n",
    "    def get_food(self, username, food):\n",
    "        check_is_admin(username)\n",
    "        return \"get \" + food\n",
    "\n",
    "    def put_food(self, username, food):\n",
    "        check_is_admin(username)\n",
    "        return \"put \" + food\n",
    "\n",
    "s=Store()\n",
    "s.get_food(\"admin\",\"f3\")"
   ]
  },
  {
   "cell_type": "markdown",
   "id": "spoken-reception",
   "metadata": {},
   "source": [
    "- 데커레이터를 사용"
   ]
  },
  {
   "cell_type": "code",
   "execution_count": 108,
   "id": "enabling-victory",
   "metadata": {},
   "outputs": [
    {
     "name": "stdout",
     "output_type": "stream",
     "text": [
      "*args : (<__main__.Store object at 0x000001604AFD86A0>,)\n",
      "*kwargs : {'username': 'admin', 'food': 'Pizza'}\n"
     ]
    },
    {
     "data": {
      "text/plain": [
       "'get Pizza'"
      ]
     },
     "execution_count": 108,
     "metadata": {},
     "output_type": "execute_result"
    }
   ],
   "source": [
    "def check_is_admin(f):\n",
    "    def wrapper(*args, **kwargs):\n",
    "        print(f\"*args : {args}\")\n",
    "        print(f\"*kwargs : {kwargs}\")\n",
    "        if kwargs.get(\"username\") != \"admin\":\n",
    "            raise Exception(\"This user is not allowed to get or put food\")\n",
    "        return f(*args, **kwargs)\n",
    "    return wrapper\n",
    "\n",
    "class Store(object):\n",
    "    @check_is_admin\n",
    "    def get_food(self, username, food):\n",
    "        return \"get \" + food\n",
    "    \n",
    "    @check_is_admin\n",
    "    def put_food(self, username, food):\n",
    "        return \"put \" + food\n",
    "    \n",
    "s=Store()\n",
    "s.get_food(username=\"admin\", food=\"Pizza\")"
   ]
  },
  {
   "cell_type": "markdown",
   "id": "delayed-overview",
   "metadata": {},
   "source": [
    "# 7.1.3 여러 데커레이터 사용"
   ]
  },
  {
   "cell_type": "code",
   "execution_count": 117,
   "id": "smoking-thanks",
   "metadata": {},
   "outputs": [
    {
     "data": {
      "text/plain": [
       "'get Pizza'"
      ]
     },
     "execution_count": 117,
     "metadata": {},
     "output_type": "execute_result"
    }
   ],
   "source": [
    "usernames=[\"admin\",\"user1\"]\n",
    "def check_user_is_not(username):\n",
    "    def user_check_decorator(f):\n",
    "        def wrapper(*args, **kwargs):\n",
    "            if kwargs.get(\"username\") not in usernames:\n",
    "                raise Exception(\"This user is not allowed to get food\")\n",
    "            return f(*args, **kwargs)\n",
    "        return wrapper\n",
    "    return user_check_decorator\n",
    "        \n",
    "class Store(object):\n",
    "    @check_user_is_not(\"admin\")\n",
    "    def get_food(self, username, food):\n",
    "        return \"get \" + food\n",
    "    \n",
    "s=Store()\n",
    "s.get_food(username=\"user1\", food=\"Pizza\")"
   ]
  },
  {
   "cell_type": "markdown",
   "id": "excess-immigration",
   "metadata": {},
   "source": [
    "# 7.1.4 클래스 데커레이터 사용하기"
   ]
  },
  {
   "cell_type": "code",
   "execution_count": 119,
   "id": "stock-allowance",
   "metadata": {},
   "outputs": [],
   "source": [
    "import uuid\n",
    "\n",
    "def set_class_name_and_id(klass):\n",
    "    klass.name = str(klass)\n",
    "    klass.random_id = uuid.uuid4()\n",
    "    return klass"
   ]
  },
  {
   "cell_type": "markdown",
   "id": "biological-retention",
   "metadata": {},
   "source": [
    "- 함수 데커레이터와 마찬가지로 클래스를 조작하는 공통 코드를 팩터링하는데 유용할 수 있다."
   ]
  },
  {
   "cell_type": "code",
   "execution_count": 126,
   "id": "separate-hamburg",
   "metadata": {},
   "outputs": [
    {
     "data": {
      "text/plain": [
       "(\"<class '__main__.SomeClass'>\", UUID('8b11ffde-a8ca-43f1-9d00-103b31f35b78'))"
      ]
     },
     "execution_count": 126,
     "metadata": {},
     "output_type": "execute_result"
    }
   ],
   "source": [
    "# 아직 정의하지 않은 SomeClass라고 하는 클래스의 name 인자와 random_id 인자가 들어있는 것을 확인할 수 있다.\n",
    "@set_class_name_and_id\n",
    "class SomeClass(object):\n",
    "    pass\n",
    "\n",
    "SomeClass.name, SomeClass.random_id"
   ]
  },
  {
   "cell_type": "markdown",
   "id": "juvenile-dragon",
   "metadata": {},
   "source": [
    "- 클래스 데커레이터의 또 다른 용도는 함수 또는 클래스를 클래스로 래핑하는 것이다\n",
    "- 클래스 데커레이터는 상태를 저장하는 함수를 래핑하는데 자주 사용된다\n",
    "- 다음 예제에서는 print()함수를 래핑하여 세션에서 호출된 횟수를 확인한다."
   ]
  },
  {
   "cell_type": "markdown",
   "id": "improving-heaven",
   "metadata": {},
   "source": [
    "- print_hello라고 하는 함수에 데커레이터의 생성자들이 메서드 형식으로 나온다"
   ]
  },
  {
   "cell_type": "code",
   "execution_count": 149,
   "id": "facial-backing",
   "metadata": {},
   "outputs": [],
   "source": [
    "class CountCalls(object):\n",
    "    def __init__(self, f):\n",
    "        self.f = f\n",
    "        self.called = 0\n",
    "        self.total = 0\n",
    "    def __call__(self, *args, **kwargs): #__call__은 클래스가 호출되었을 때 수행된다\n",
    "        self.called+=1\n",
    "        self.total+=1\n",
    "        if self.called > 100:\n",
    "            self.called = 0\n",
    "        return self.f(*args, **kwargs)\n",
    "    \n",
    "@CountCalls\n",
    "def print_hello():\n",
    "    print(\"hello\")"
   ]
  },
  {
   "cell_type": "code",
   "execution_count": 155,
   "id": "engaged-least",
   "metadata": {
    "collapsed": true,
    "jupyter": {
     "outputs_hidden": true
    },
    "tags": []
   },
   "outputs": [
    {
     "name": "stdout",
     "output_type": "stream",
     "text": [
      "hello\n",
      "hello\n",
      "hello\n",
      "hello\n",
      "hello\n",
      "hello\n",
      "hello\n",
      "hello\n",
      "hello\n",
      "hello\n",
      "hello\n",
      "hello\n",
      "hello\n",
      "hello\n",
      "hello\n",
      "hello\n",
      "hello\n",
      "hello\n",
      "hello\n",
      "hello\n",
      "hello\n",
      "hello\n",
      "hello\n",
      "hello\n",
      "hello\n",
      "hello\n",
      "hello\n",
      "hello\n",
      "hello\n",
      "hello\n",
      "hello\n",
      "hello\n",
      "hello\n",
      "hello\n",
      "hello\n",
      "hello\n",
      "hello\n",
      "hello\n",
      "hello\n",
      "hello\n",
      "hello\n",
      "hello\n",
      "hello\n",
      "hello\n",
      "hello\n",
      "hello\n",
      "hello\n",
      "hello\n",
      "hello\n",
      "hello\n",
      "hello\n",
      "hello\n",
      "hello\n",
      "hello\n",
      "hello\n",
      "hello\n",
      "hello\n",
      "hello\n",
      "hello\n",
      "hello\n",
      "hello\n",
      "hello\n",
      "hello\n",
      "hello\n",
      "hello\n",
      "hello\n",
      "hello\n",
      "hello\n",
      "hello\n",
      "hello\n",
      "hello\n",
      "hello\n",
      "hello\n",
      "hello\n",
      "hello\n",
      "hello\n",
      "hello\n",
      "hello\n",
      "hello\n",
      "hello\n",
      "hello\n",
      "hello\n",
      "hello\n",
      "hello\n",
      "hello\n",
      "hello\n",
      "hello\n",
      "hello\n",
      "hello\n",
      "hello\n",
      "hello\n",
      "hello\n",
      "hello\n",
      "hello\n",
      "hello\n",
      "hello\n",
      "hello\n",
      "hello\n",
      "hello\n",
      "hello\n"
     ]
    }
   ],
   "source": [
    "for i in range(100) : print_hello()"
   ]
  },
  {
   "cell_type": "code",
   "execution_count": 156,
   "id": "round-confusion",
   "metadata": {},
   "outputs": [
    {
     "data": {
      "text/plain": [
       "(<function __main__.print_hello()>, 9, 110)"
      ]
     },
     "execution_count": 156,
     "metadata": {},
     "output_type": "execute_result"
    }
   ],
   "source": [
    "print_hello.f, print_hello.called, print_hello.total"
   ]
  },
  {
   "cell_type": "markdown",
   "id": "african-auckland",
   "metadata": {},
   "source": [
    "### __call__에 대한 설명\n",
    "\n",
    "- 함수를 호출하는 것처럼 클래스의 객체도 호출할 수 있게 만들수 있는데 이때 필요한 매직메소드가 __call__이다."
   ]
  },
  {
   "cell_type": "markdown",
   "id": "minus-tuner",
   "metadata": {},
   "source": [
    "- A 클래스 생성 이후 a에 할당 -> init 생성자 생성되었음"
   ]
  },
  {
   "cell_type": "code",
   "execution_count": 162,
   "id": "developed-novelty",
   "metadata": {},
   "outputs": [
    {
     "name": "stdout",
     "output_type": "stream",
     "text": [
      "From init ... \n"
     ]
    }
   ],
   "source": [
    "class A:\n",
    "    def __init__(self):\n",
    "        print(\"From init ... \")\n",
    "a = A()"
   ]
  },
  {
   "cell_type": "code",
   "execution_count": 168,
   "id": "improving-senior",
   "metadata": {},
   "outputs": [
    {
     "data": {
      "text/plain": [
       "<__main__.A at 0x1604b3cf9b0>"
      ]
     },
     "execution_count": 168,
     "metadata": {},
     "output_type": "execute_result"
    }
   ],
   "source": [
    "a"
   ]
  },
  {
   "cell_type": "markdown",
   "id": "broadband-workstation",
   "metadata": {},
   "source": [
    "- a를 call하면 에러가 난다 -> callable 할 수 없다는 뜻"
   ]
  },
  {
   "cell_type": "code",
   "execution_count": 163,
   "id": "objective-argument",
   "metadata": {},
   "outputs": [
    {
     "ename": "TypeError",
     "evalue": "'A' object is not callable",
     "output_type": "error",
     "traceback": [
      "\u001b[1;31m---------------------------------------------------------------------------\u001b[0m",
      "\u001b[1;31mTypeError\u001b[0m                                 Traceback (most recent call last)",
      "\u001b[1;32m<ipython-input-163-8d7b4527e81d>\u001b[0m in \u001b[0;36m<module>\u001b[1;34m\u001b[0m\n\u001b[1;32m----> 1\u001b[1;33m \u001b[0ma\u001b[0m\u001b[1;33m(\u001b[0m\u001b[1;33m)\u001b[0m\u001b[1;33m\u001b[0m\u001b[1;33m\u001b[0m\u001b[0m\n\u001b[0m",
      "\u001b[1;31mTypeError\u001b[0m: 'A' object is not callable"
     ]
    }
   ],
   "source": [
    "a()"
   ]
  },
  {
   "cell_type": "markdown",
   "id": "ranging-importance",
   "metadata": {},
   "source": [
    "- 클래스 B를 생성하고 __call__ 매직메서드를 정의한다"
   ]
  },
  {
   "cell_type": "code",
   "execution_count": 165,
   "id": "unlimited-window",
   "metadata": {},
   "outputs": [],
   "source": [
    "class B:\n",
    "    def __init__(self):\n",
    "        print(\"From init ... \")\n",
    "    def __call__(self):\n",
    "        print(\"From call ... \")"
   ]
  },
  {
   "cell_type": "markdown",
   "id": "general-andorra",
   "metadata": {},
   "source": [
    "- b에 클래스 B를 할당 -> 생성자 생성되었음"
   ]
  },
  {
   "cell_type": "code",
   "execution_count": 166,
   "id": "sought-assessment",
   "metadata": {},
   "outputs": [
    {
     "name": "stdout",
     "output_type": "stream",
     "text": [
      "From init ... \n"
     ]
    }
   ],
   "source": [
    "b = B()"
   ]
  },
  {
   "cell_type": "markdown",
   "id": "rocky-certification",
   "metadata": {},
   "source": [
    "- b 를 call 하면, b()를 하면, 매직메서드 __call__에 있는 print가 수행된다"
   ]
  },
  {
   "cell_type": "code",
   "execution_count": 167,
   "id": "declared-given",
   "metadata": {},
   "outputs": [
    {
     "name": "stdout",
     "output_type": "stream",
     "text": [
      "From call ... \n"
     ]
    }
   ],
   "source": [
    "b()"
   ]
  },
  {
   "cell_type": "markdown",
   "id": "theoretical-basic",
   "metadata": {},
   "source": [
    "# 7.2 파이썬에서 메서드가 작동하는 방법\n",
    "\n",
    "- 메서드는 클래스 속성으로 저장되는 함수입니다. 이러한 속성에 직접 액세스하려고 할 때 어떤 일이 발생하는지 알아본다."
   ]
  },
  {
   "cell_type": "code",
   "execution_count": 171,
   "id": "extreme-fraction",
   "metadata": {},
   "outputs": [
    {
     "data": {
      "text/plain": [
       "<function __main__.Pizza.get_size(self)>"
      ]
     },
     "execution_count": 171,
     "metadata": {},
     "output_type": "execute_result"
    }
   ],
   "source": [
    "class Pizza(object):\n",
    "    def __init__(self, size):\n",
    "        self.size=size\n",
    "    def get_size(self):\n",
    "        return self.size\n",
    "    \n",
    "Pizza.get_size"
   ]
  },
  {
   "cell_type": "markdown",
   "id": "constant-reduction",
   "metadata": {},
   "source": [
    "- 아래와 같이 할 경우에는 파이썬은 필요한 자기 인수(self)를 제공하지 않았다고 오류를 발생시킨다\n",
    "    - 왜냐하면 Pizza의 클래스 안의 get_size는 클래스를 받아야하는데 받지 않았으므로\n",
    "- 실제로 객체에 구속되지 않기 때문에 자체 인수를 자동으로 설정할 수 없다.\n",
    "    - 객체에 구속되지 않았다는 뜻은 객체를 정의하지 않았다는 뜻?\n",
    "- 그러나 원한다면 클래스의 임의 인스턴스를 메서드에 전달하여 get_size()함수를 사용할 수 있을 뿐만 아니라 메서드가 찾을 것으로 예상되는 속성이 있는 한 모든 객체를 전달하여 사용할 수도 있다.\n",
    "    - get_size에 Pizza클래스를 전달해서 get_size()함수를 작동시킬 수 있다는 뜻인 것 같다"
   ]
  },
  {
   "cell_type": "code",
   "execution_count": 183,
   "id": "confidential-teacher",
   "metadata": {},
   "outputs": [
    {
     "ename": "TypeError",
     "evalue": "get_size() missing 1 required positional argument: 'self'",
     "output_type": "error",
     "traceback": [
      "\u001b[1;31m---------------------------------------------------------------------------\u001b[0m",
      "\u001b[1;31mTypeError\u001b[0m                                 Traceback (most recent call last)",
      "\u001b[1;32m<ipython-input-183-8f6eefb4f713>\u001b[0m in \u001b[0;36m<module>\u001b[1;34m\u001b[0m\n\u001b[1;32m----> 1\u001b[1;33m \u001b[0mPizza\u001b[0m\u001b[1;33m.\u001b[0m\u001b[0mget_size\u001b[0m\u001b[1;33m(\u001b[0m\u001b[1;33m)\u001b[0m\u001b[1;33m\u001b[0m\u001b[1;33m\u001b[0m\u001b[0m\n\u001b[0m",
      "\u001b[1;31mTypeError\u001b[0m: get_size() missing 1 required positional argument: 'self'"
     ]
    }
   ],
   "source": [
    "Pizza.get_size()"
   ]
  },
  {
   "cell_type": "markdown",
   "id": "introductory-sponsorship",
   "metadata": {},
   "source": [
    "- 아래처럼 객체를 직접 전달하여 get_size 함수를 실행시킬 수는 있다 하지만 편리하지는 않다"
   ]
  },
  {
   "cell_type": "code",
   "execution_count": 184,
   "id": "incomplete-suspect",
   "metadata": {},
   "outputs": [
    {
     "data": {
      "text/plain": [
       "42"
      ]
     },
     "execution_count": 184,
     "metadata": {},
     "output_type": "execute_result"
    }
   ],
   "source": [
    "Pizza.get_size(Pizza(42))"
   ]
  },
  {
   "cell_type": "markdown",
   "id": "breeding-retention",
   "metadata": {},
   "source": [
    "- 위보다 더 나은 방법은, 자동으로 객체 자체를 메서드의 자체 매개변수로 전달하는 것"
   ]
  },
  {
   "cell_type": "code",
   "execution_count": 185,
   "id": "revised-circuit",
   "metadata": {},
   "outputs": [
    {
     "data": {
      "text/plain": [
       "<bound method Pizza.get_size of <__main__.Pizza object at 0x000001604B3E2048>>"
      ]
     },
     "execution_count": 185,
     "metadata": {},
     "output_type": "execute_result"
    }
   ],
   "source": [
    "Pizza(42).get_size"
   ]
  },
  {
   "cell_type": "code",
   "execution_count": 186,
   "id": "republican-contrary",
   "metadata": {},
   "outputs": [
    {
     "data": {
      "text/plain": [
       "42"
      ]
     },
     "execution_count": 186,
     "metadata": {},
     "output_type": "execute_result"
    }
   ],
   "source": [
    "Pizza(42).get_size()"
   ]
  },
  {
   "cell_type": "markdown",
   "id": "close-pipeline",
   "metadata": {},
   "source": [
    "- 예상대로 get_size에 어떠한 인수를 제공하지 않아도 된다\n",
    "- 바운드 메서드이기 때문에 자체 인수는 자동으로 Pizza인스턴스로 설정된다.\n",
    "- 더 명확한 예는 아래와 같다"
   ]
  },
  {
   "cell_type": "code",
   "execution_count": 187,
   "id": "demographic-implement",
   "metadata": {},
   "outputs": [
    {
     "data": {
      "text/plain": [
       "42"
      ]
     },
     "execution_count": 187,
     "metadata": {},
     "output_type": "execute_result"
    }
   ],
   "source": [
    "m=Pizza(42).get_size\n",
    "m()"
   ]
  },
  {
   "cell_type": "code",
   "execution_count": 188,
   "id": "artificial-joining",
   "metadata": {},
   "outputs": [
    {
     "data": {
      "text/plain": [
       "42"
      ]
     },
     "execution_count": 188,
     "metadata": {},
     "output_type": "execute_result"
    }
   ],
   "source": [
    "m=Pizza(42)\n",
    "m.get_size()"
   ]
  },
  {
   "cell_type": "code",
   "execution_count": 194,
   "id": "grand-sydney",
   "metadata": {},
   "outputs": [
    {
     "data": {
      "text/plain": [
       "<__main__.Pizza at 0x1604b3e2940>"
      ]
     },
     "execution_count": 194,
     "metadata": {},
     "output_type": "execute_result"
    }
   ],
   "source": [
    "m.get_size.__self__"
   ]
  },
  {
   "cell_type": "markdown",
   "id": "smoking-booth",
   "metadata": {},
   "source": [
    "# 7.3 정적 메서드\n",
    "\n",
    "- 인스턴스를 생성하고 호출하는 방식이 아니라 클래스에서 바로 호출할 수 있음\n",
    "- 정적 메서드는 클래스의 인스턴스가 아니라 클래스에 속하므로 실제로 클래스 인스턴스에서 작동하거나 영향을 주지 않는다\n",
    "- 대신 정적 메서드는 가지고 있는 매개변수에서 작동한다\n",
    "- 정적 메서드는 일반적으로 클래스 또는 해당 객체의 상태에 의존하지 않기 때문에 유틸리티 함수를 만드는데 사용된다.\n",
    "\n",
    "- 예를 들어, 정적 mix_ingredients()메서드는 Pizza 클래스에 속하지만, 클래스와 상관없이 mix_ingredients()메서드를 사용할 수 있다."
   ]
  },
  {
   "cell_type": "code",
   "execution_count": 196,
   "id": "desirable-retailer",
   "metadata": {},
   "outputs": [],
   "source": [
    "class Pizza(object):\n",
    "    \n",
    "    @staticmethod\n",
    "    def mix_ingredients(x,y):\n",
    "        return x + y\n",
    "    \n",
    "    def cook(self):\n",
    "        return self.mix_ingredients(self.cheese, self.vegetables)"
   ]
  },
  {
   "cell_type": "code",
   "execution_count": 198,
   "id": "found-speech",
   "metadata": {},
   "outputs": [
    {
     "data": {
      "text/plain": [
       "False"
      ]
     },
     "execution_count": 198,
     "metadata": {},
     "output_type": "execute_result"
    }
   ],
   "source": [
    "# 아래와 같이 하면 두 개는 서로 다른 메모리에 로드되어서 다른 것이 된다\n",
    "Pizza().cook is Pizza().cook"
   ]
  },
  {
   "cell_type": "code",
   "execution_count": 202,
   "id": "unknown-positive",
   "metadata": {},
   "outputs": [
    {
     "data": {
      "text/plain": [
       "<bound method Pizza.cook of <__main__.Pizza object at 0x000001604B3F9320>>"
      ]
     },
     "execution_count": 202,
     "metadata": {},
     "output_type": "execute_result"
    }
   ],
   "source": [
    "Pizza().cook"
   ]
  },
  {
   "cell_type": "code",
   "execution_count": 203,
   "id": "brief-power",
   "metadata": {},
   "outputs": [
    {
     "data": {
      "text/plain": [
       "<bound method Pizza.cook of <__main__.Pizza object at 0x000001604B7DC278>>"
      ]
     },
     "execution_count": 203,
     "metadata": {},
     "output_type": "execute_result"
    }
   ],
   "source": [
    "Pizza().cook"
   ]
  },
  {
   "cell_type": "code",
   "execution_count": 207,
   "id": "optical-painting",
   "metadata": {},
   "outputs": [
    {
     "data": {
      "text/plain": [
       "3"
      ]
     },
     "execution_count": 207,
     "metadata": {},
     "output_type": "execute_result"
    }
   ],
   "source": [
    "Pizza.mix_ingredients(1,2)"
   ]
  },
  {
   "cell_type": "code",
   "execution_count": 201,
   "id": "comparable-amazon",
   "metadata": {},
   "outputs": [
    {
     "data": {
      "text/plain": [
       "True"
      ]
     },
     "execution_count": 201,
     "metadata": {},
     "output_type": "execute_result"
    }
   ],
   "source": [
    "Pizza().mix_ingredients is Pizza.mix_ingredients"
   ]
  },
  {
   "cell_type": "markdown",
   "id": "productive-brunei",
   "metadata": {},
   "source": [
    "# 7.4 클래스 메서드"
   ]
  },
  {
   "cell_type": "code",
   "execution_count": 209,
   "id": "atmospheric-relevance",
   "metadata": {},
   "outputs": [],
   "source": [
    "class Pizza(object):\n",
    "    radius=42\n",
    "    \n",
    "    @classmethod\n",
    "    def get_radius(cls):\n",
    "        return cls.radius"
   ]
  },
  {
   "cell_type": "code",
   "execution_count": 210,
   "id": "broad-association",
   "metadata": {},
   "outputs": [
    {
     "data": {
      "text/plain": [
       "<bound method Pizza.get_radius of <class '__main__.Pizza'>>"
      ]
     },
     "execution_count": 210,
     "metadata": {},
     "output_type": "execute_result"
    }
   ],
   "source": [
    "Pizza.get_radius"
   ]
  },
  {
   "cell_type": "code",
   "execution_count": 211,
   "id": "nonprofit-stadium",
   "metadata": {},
   "outputs": [
    {
     "data": {
      "text/plain": [
       "<bound method Pizza.get_radius of <class '__main__.Pizza'>>"
      ]
     },
     "execution_count": 211,
     "metadata": {},
     "output_type": "execute_result"
    }
   ],
   "source": [
    "Pizza().get_radius"
   ]
  },
  {
   "cell_type": "code",
   "execution_count": 212,
   "id": "gentle-marathon",
   "metadata": {},
   "outputs": [
    {
     "data": {
      "text/plain": [
       "42"
      ]
     },
     "execution_count": 212,
     "metadata": {},
     "output_type": "execute_result"
    }
   ],
   "source": [
    "# 클래스메서드가 선언되어 있는 클래스의 상태 및 메서드에 엑세스가 가능..?\n",
    "Pizza.get_radius()"
   ]
  },
  {
   "cell_type": "code",
   "execution_count": 213,
   "id": "external-consciousness",
   "metadata": {},
   "outputs": [],
   "source": [
    "class Pizza(object):\n",
    "    def __init__(self, ingredients):\n",
    "        self.ingredients = ingredients\n",
    "        \n",
    "    @classmethod\n",
    "    def from_fridge(cls, fridge):\n",
    "        return cls(fridge.get_cheese() + fridge.get_vegetables())"
   ]
  },
  {
   "cell_type": "markdown",
   "id": "neutral-oliver",
   "metadata": {},
   "source": [
    "## 정적메서드와 클래스메서드의 차이 비교"
   ]
  },
  {
   "cell_type": "markdown",
   "id": "common-failing",
   "metadata": {},
   "source": [
    "- 공통점\n",
    "    - 클래스 메서드와 정적 메서드는 별도 인스턴스 생성없이 클래스를 대상으로 클래스 이름 뒤에 바로 . 오퍼레이터를 붙여 호출 할 수 있다\n",
    "\n",
    "<br><br>\n",
    "\n",
    "- 차이점\n",
    "    - 클래스 메서드\n",
    "        - 호출 할 때 첫 번째 인자로 클래스 자체가 넘어오기 때문에 클래스 속성에 접근하거나 다른 클래스 함수를 호출 할 수 있다\n",
    "        \n",
    "    - 정적 메서드\n",
    "        - 호출 할 때 첫 번째 인자로 아무것도 넘어오지 않기 때문에 명시적으로 넘긴 다른 인자만 접근할 수 있다"
   ]
  },
  {
   "cell_type": "code",
   "execution_count": null,
   "id": "varied-invitation",
   "metadata": {},
   "outputs": [],
   "source": []
  },
  {
   "cell_type": "code",
   "execution_count": 273,
   "id": "relative-greenhouse",
   "metadata": {},
   "outputs": [],
   "source": [
    "class Character:\n",
    "\n",
    "    def __init__(self,A,B,C):\n",
    "        self.A=A\n",
    "        self.B=B\n",
    "        self.C=C\n",
    "    \n",
    "    # 클래스 메서드는 아래처럼 첫 번째 인자로 클래스 자체가 넘어온다\n",
    "    # 그러므로 첫 번째 클래스인 cls를 활용하여 다시 cls(4,5,6).A를 해서 클래스의 A인스턴스에 접근이 가능하다\n",
    "    @classmethod\n",
    "    def class_check(cls,x,y):\n",
    "        print(x,\"+\", y, \"=\" ,x+y)\n",
    "        print(cls(4,5,6).A)\n",
    "    \n",
    "    # 정적 메서드는 첫 번째 인자로 아무것도 넘어오지 않기때문에 명시적으로 넘긴 다른 인자(x,y)만 접근가능하다 !\n",
    "    @staticmethod\n",
    "    def static_plus(x,y):\n",
    "        print(x,\"+\", y, \"=\" ,x+y)"
   ]
  },
  {
   "cell_type": "code",
   "execution_count": 274,
   "id": "graduate-necessity",
   "metadata": {},
   "outputs": [
    {
     "name": "stdout",
     "output_type": "stream",
     "text": [
      "1 + 2 = 3\n"
     ]
    }
   ],
   "source": [
    "Character.static_plus(1,2)"
   ]
  },
  {
   "cell_type": "code",
   "execution_count": 276,
   "id": "victorian-japan",
   "metadata": {},
   "outputs": [
    {
     "name": "stdout",
     "output_type": "stream",
     "text": [
      "1 + 2 = 3\n",
      "4\n"
     ]
    }
   ],
   "source": [
    "# 정적 메서드와는 다르게 넘어온 클래스에서 생성자 A를 추가로 print하였다\n",
    "Character.class_check(1,2)"
   ]
  },
  {
   "cell_type": "code",
   "execution_count": 226,
   "id": "lightweight-toddler",
   "metadata": {},
   "outputs": [
    {
     "name": "stdout",
     "output_type": "stream",
     "text": [
      "나의 언어는 English\n"
     ]
    }
   ],
   "source": [
    "Language().print_language()"
   ]
  },
  {
   "cell_type": "code",
   "execution_count": 125,
   "id": "appropriate-nightmare",
   "metadata": {},
   "outputs": [],
   "source": [
    "class Language:\n",
    "    default_language = \"English\"\n",
    "\n",
    "    def __init__(self):\n",
    "        self.show = '나의 언어는 ' + self.default_language\n",
    "\n",
    "    # 첫 번째 파라미터로 클래스가 들어온다\n",
    "    @classmethod\n",
    "    def class_my_language(cls):\n",
    "        return cls()\n",
    "\n",
    "    @staticmethod\n",
    "    def static_my_language():\n",
    "        return Language()\n",
    "\n",
    "    def print_language(self):\n",
    "        print(self.show)\n",
    "\n",
    "\n",
    "class KoreanLanguage(Language):\n",
    "    default_language = \"한국어\""
   ]
  },
  {
   "cell_type": "code",
   "execution_count": 126,
   "id": "ranging-arthritis",
   "metadata": {},
   "outputs": [
    {
     "name": "stdout",
     "output_type": "stream",
     "text": [
      "나의 언어는 English\n"
     ]
    }
   ],
   "source": [
    "static = KoreanLanguage.static_my_language()\n",
    "static.print_language()"
   ]
  },
  {
   "cell_type": "code",
   "execution_count": 130,
   "id": "functioning-measure",
   "metadata": {},
   "outputs": [
    {
     "data": {
      "text/plain": [
       "<__main__.Language at 0x1cdd19e26d8>"
      ]
     },
     "execution_count": 130,
     "metadata": {},
     "output_type": "execute_result"
    }
   ],
   "source": []
  },
  {
   "cell_type": "code",
   "execution_count": 127,
   "id": "registered-ministry",
   "metadata": {},
   "outputs": [
    {
     "name": "stdout",
     "output_type": "stream",
     "text": [
      "나의 언어는 한국어\n"
     ]
    }
   ],
   "source": [
    "clss = KoreanLanguage.class_my_language()\n",
    "clss.print_language()"
   ]
  },
  {
   "cell_type": "code",
   "execution_count": null,
   "id": "suited-topic",
   "metadata": {},
   "outputs": [],
   "source": []
  },
  {
   "cell_type": "markdown",
   "id": "mediterranean-complex",
   "metadata": {},
   "source": [
    "# 7.5 추상메서드\n",
    "\n",
    "- 추상 클래스는 메서드의 목록만 가진 클래스이며 상속받는 클래스에서 메서드 구현을 강제하기 위해 사용\n",
    "- 추상 기본 클래스 자체를 인스턴스화하는 것은 불가능하다\n",
    "        - 추상 기본 클래스를 인스턴스화하는 것은 불가능하기 때문에 추상 메서드를 만들때는 pass만 넣어서 빈 메서드로 만든다\n",
    "        - 왜냐하면 인스턴스를 만들 수 없으니 추상 메서드도 호출할 일이 없기 때문이다"
   ]
  },
  {
   "cell_type": "code",
   "execution_count": 278,
   "id": "automated-stephen",
   "metadata": {},
   "outputs": [],
   "source": [
    "from abc import *\n",
    "\n",
    "class StudentBase(metaclass=ABCMeta):\n",
    "    \n",
    "    # 추상 메서드의 경우에는 인스턴스화할 수 없으므로 pass한다\n",
    "    \n",
    "    @abstractmethod\n",
    "    def study(self):\n",
    "        pass\n",
    "    \n",
    "    @abstractmethod\n",
    "    def go_to_school(self):\n",
    "        pass\n",
    "    \n",
    "# Student 클래스에서 StudentBase 추상 클래스를 상속하였다\n",
    "# 이러한 경우에 Student 클래스는 StudentBase 추상 클래스의 모든 추상 메서드를 구현하여야만 한다\n",
    "# 그런데 아래의 클래스에서는 StudentBase 추상 클래스에 있는 두 개의 추상 메서드 중에 하나밖에(study)밖에 구현하지 않았으므로 에러를 일으킨다ㅣ\n",
    "class Student(StudentBase):\n",
    "    def study(self):\n",
    "        print(\"공부하기\")\n",
    "    \n",
    "    "
   ]
  },
  {
   "cell_type": "code",
   "execution_count": 280,
   "id": "compact-morgan",
   "metadata": {},
   "outputs": [
    {
     "ename": "TypeError",
     "evalue": "Can't instantiate abstract class Student with abstract methods go_to_school",
     "output_type": "error",
     "traceback": [
      "\u001b[1;31m---------------------------------------------------------------------------\u001b[0m",
      "\u001b[1;31mTypeError\u001b[0m                                 Traceback (most recent call last)",
      "\u001b[1;32m<ipython-input-280-85d9df8ee12e>\u001b[0m in \u001b[0;36m<module>\u001b[1;34m\u001b[0m\n\u001b[1;32m----> 1\u001b[1;33m \u001b[0mjames\u001b[0m\u001b[1;33m=\u001b[0m\u001b[0mStudent\u001b[0m\u001b[1;33m(\u001b[0m\u001b[1;33m)\u001b[0m\u001b[1;33m\u001b[0m\u001b[1;33m\u001b[0m\u001b[0m\n\u001b[0m",
      "\u001b[1;31mTypeError\u001b[0m: Can't instantiate abstract class Student with abstract methods go_to_school"
     ]
    }
   ],
   "source": [
    "james=Student()"
   ]
  },
  {
   "cell_type": "markdown",
   "id": "hindu-judges",
   "metadata": {},
   "source": [
    "- 추상클래스를 마저 정의한다\n",
    "- 참고로 추상 클래스의 추상 메서드를 모두 구현했는지 확인하는 시점은 파생 클래스가 인스턴스를 만들 때이다.\n",
    "        - 그러므로 james = Student()를 실행시켰을 때 확인이 가능하다"
   ]
  },
  {
   "cell_type": "code",
   "execution_count": 282,
   "id": "median-country",
   "metadata": {},
   "outputs": [
    {
     "name": "stdout",
     "output_type": "stream",
     "text": [
      "공부하기\n",
      "학교가기\n"
     ]
    }
   ],
   "source": [
    "class Student(StudentBase):\n",
    "    def study(self):\n",
    "        print(\"공부하기\")\n",
    "        \n",
    "    def go_to_school(self):\n",
    "        print(\"학교가기\")\n",
    "        \n",
    "james=Student()\n",
    "james.study(), james.go_to_school();"
   ]
  },
  {
   "cell_type": "code",
   "execution_count": null,
   "id": "innocent-couple",
   "metadata": {},
   "outputs": [],
   "source": []
  },
  {
   "cell_type": "code",
   "execution_count": 293,
   "id": "collected-appeal",
   "metadata": {},
   "outputs": [
    {
     "data": {
      "text/plain": [
       "[int, object]"
      ]
     },
     "execution_count": 293,
     "metadata": {},
     "output_type": "execute_result"
    }
   ],
   "source": [
    "int.mro()"
   ]
  },
  {
   "cell_type": "markdown",
   "id": "previous-nepal",
   "metadata": {},
   "source": [
    "# 7.6 정적, 클래스, 추상 메서드 혼합하기"
   ]
  },
  {
   "cell_type": "code",
   "execution_count": 311,
   "id": "pointed-guarantee",
   "metadata": {},
   "outputs": [],
   "source": [
    "class BasePizza(metaclass=ABCMeta):\n",
    "    \n",
    "    # 추상 클래스 및 추상 메서드\n",
    "    @abstractmethod\n",
    "    def get_ingredients(self):\n",
    "        \"\"\"재료를 출력한다\"\"\"\n",
    "        pass\n",
    "    def Egg():\n",
    "        return \"egg\"\n",
    "    \n",
    "class Calzone(BasePizza):\n",
    "    ingredients=[\"cheese\",\"dough\"]\n",
    "\n",
    "    def get_ingredients(self, with_egg=False):\n",
    "        egg=BasePizza.Egg()\n",
    "        return self.ingredients + [egg]"
   ]
  },
  {
   "cell_type": "code",
   "execution_count": 313,
   "id": "automotive-instrument",
   "metadata": {},
   "outputs": [
    {
     "data": {
      "text/plain": [
       "['cheese', 'dough', 'egg']"
      ]
     },
     "execution_count": 313,
     "metadata": {},
     "output_type": "execute_result"
    }
   ],
   "source": [
    "cal=Calzone()\n",
    "cal.get_ingredients()"
   ]
  },
  {
   "cell_type": "code",
   "execution_count": null,
   "id": "noble-california",
   "metadata": {},
   "outputs": [],
   "source": []
  },
  {
   "cell_type": "code",
   "execution_count": 314,
   "id": "accepted-option",
   "metadata": {},
   "outputs": [],
   "source": [
    "class BasePizza(metaclass=ABCMeta):\n",
    "    ingredients=[\"cheese\"]\n",
    "    \n",
    "    @classmethod\n",
    "    @abstractmethod\n",
    "    def get_ingredients(cls):\n",
    "        \"\"\"재료를 출력한다\"\"\"\n",
    "        return cls.ingredients"
   ]
  },
  {
   "cell_type": "markdown",
   "id": "incorporate-settlement",
   "metadata": {},
   "source": [
    "- 추상 메서드 get_ingredients는 하위 클래스에서 구현해야 하지만 클래스 메서드이기도 하며, 이는 수신할 첫 번째 인수가 객체가 아닌 클래스가 된다는 것을 의미한다."
   ]
  },
  {
   "cell_type": "code",
   "execution_count": 318,
   "id": "bizarre-figure",
   "metadata": {},
   "outputs": [],
   "source": [
    "class BasePizza(object, metaclass=ABCMeta):\n",
    "    default_ingredients=[\"cheese\"]\n",
    "    \n",
    "    @classmethod\n",
    "    @abstractmethod\n",
    "    def get_ingredients(cls):\n",
    "        \"\"\"재료를 출력한다\"\"\"\n",
    "        return cls.default_ingredients\n",
    "    \n",
    "    def Egg():\n",
    "        return \"egg\"\n",
    "    \n",
    "class DietPizza(BasePizza):\n",
    "    def get_ingredients(self):\n",
    "        return [BasePizza.Egg()] + super(DietPizza, self).get_ingredients()"
   ]
  },
  {
   "cell_type": "code",
   "execution_count": 319,
   "id": "characteristic-captain",
   "metadata": {},
   "outputs": [
    {
     "data": {
      "text/plain": [
       "['egg', 'cheese']"
      ]
     },
     "execution_count": 319,
     "metadata": {},
     "output_type": "execute_result"
    }
   ],
   "source": [
    "p=DietPizza()\n",
    "p.get_ingredients()"
   ]
  },
  {
   "cell_type": "markdown",
   "id": "surprising-bouquet",
   "metadata": {},
   "source": [
    "# 7.7 다중 상속\n",
    "\n",
    "- 다중 상속은 여러 기반 클래스로부터 상속을 받아서 파생 클래스를 만드는 방법"
   ]
  },
  {
   "cell_type": "code",
   "execution_count": 320,
   "id": "congressional-central",
   "metadata": {},
   "outputs": [
    {
     "data": {
      "text/plain": [
       "[__main__.A, object]"
      ]
     },
     "execution_count": 320,
     "metadata": {},
     "output_type": "execute_result"
    }
   ],
   "source": [
    "def parent():\n",
    "    return object\n",
    "\n",
    "class A(parent()):\n",
    "    pass\n",
    "\n",
    "A.mro()"
   ]
  },
  {
   "cell_type": "markdown",
   "id": "excess-grass",
   "metadata": {},
   "source": [
    "- super 객체를 인스턴스화하는 생성자 super()함수"
   ]
  },
  {
   "cell_type": "code",
   "execution_count": 321,
   "id": "center-curtis",
   "metadata": {},
   "outputs": [
    {
     "data": {
      "text/plain": [
       "[__main__.C, __main__.A, __main__.B, object]"
      ]
     },
     "execution_count": 321,
     "metadata": {},
     "output_type": "execute_result"
    }
   ],
   "source": [
    "class A(object):\n",
    "    bar=42\n",
    "    def foo(self):\n",
    "        pass\n",
    "    \n",
    "class B(object):\n",
    "    bar=0\n",
    "\n",
    "    \n",
    "class C(A,B):\n",
    "    xyz=\"abc\"\n",
    "    \n",
    "C.mro()"
   ]
  },
  {
   "cell_type": "markdown",
   "id": "hollow-audit",
   "metadata": {},
   "source": [
    "## 7.7.1 다이아몬드 상속"
   ]
  },
  {
   "cell_type": "code",
   "execution_count": 322,
   "id": "reduced-algebra",
   "metadata": {},
   "outputs": [
    {
     "name": "stdout",
     "output_type": "stream",
     "text": [
      "안녕하세요. B입니다.\n"
     ]
    }
   ],
   "source": [
    "class A:\n",
    "    def greeting(self):\n",
    "        print('안녕하세요. A입니다.')\n",
    " \n",
    "class B(A):\n",
    "    def greeting(self):\n",
    "        print('안녕하세요. B입니다.')\n",
    " \n",
    "class C(A):\n",
    "    def greeting(self):\n",
    "        print('안녕하세요. C입니다.')\n",
    " \n",
    "class D(B, C):\n",
    "    pass\n",
    " \n",
    "x = D()\n",
    "x.greeting()    # 안녕하세요. B입니다."
   ]
  },
  {
   "attachments": {
    "c635bced-13a1-4059-ae2d-ee8a86421685.png": {
     "image/png": "[encoded data removed]"
    }
   },
   "cell_type": "markdown",
   "id": "charitable-distance",
   "metadata": {},
   "source": [
    "- 기반 클래스 A가 있고 B,C는 A를 상속받는다 그리고 다시 D는 B,C를 상속받는다.\n",
    "- 이 관계를 그림으로 나타내면 다음과 같다\n",
    "\n",
    "<img src = \"attachment:c635bced-13a1-4059-ae2d-ee8a86421685.png\" width=\"20%\">\n",
    "- ![image.png](attachment:c635bced-13a1-4059-ae2d-ee8a86421685.png)\n",
    "\n",
    "\n",
    "- 그런데 A,B,C모두 greeting이라는 같은 메서드를 가지고 있다면 D는 어떤 클래스의 메서드를 호출해야 할까?"
   ]
  },
  {
   "cell_type": "markdown",
   "id": "artificial-favor",
   "metadata": {},
   "source": [
    "## 7.7.3 오버라이딩\n",
    "\n",
    "- 오버라이딩은 무시하다, 우선하다 라는 뜻\n",
    "- 기반 클래스의 메서드를 무시하고 새로운 메서드를 만든다는 뜻\n",
    "- 여기서는 Person 클래스의 gretting 메서드를 무시하고 Student클래스에서 새로운 gretting을 만들었다"
   ]
  },
  {
   "cell_type": "code",
   "execution_count": 329,
   "id": "prostate-bracelet",
   "metadata": {},
   "outputs": [
    {
     "name": "stdout",
     "output_type": "stream",
     "text": [
      "안녕하세요 저는 파이썬 코딩 도장 학생입니다\n"
     ]
    }
   ],
   "source": [
    "class Person:\n",
    "    def gretting(self):\n",
    "        print(\"안녕하세요.\")\n",
    "        \n",
    "class Student(Person):\n",
    "    def greeting(self):\n",
    "        print(\"안녕하세요 저는 파이썬 코딩 도장 학생입니다\")\n",
    "        \n",
    "james=Student()\n",
    "james.greeting()"
   ]
  },
  {
   "cell_type": "code",
   "execution_count": 330,
   "id": "endless-techno",
   "metadata": {},
   "outputs": [
    {
     "data": {
      "text/plain": [
       "[__main__.Student, __main__.Person, object]"
      ]
     },
     "execution_count": 330,
     "metadata": {},
     "output_type": "execute_result"
    }
   ],
   "source": [
    "Student.mro()"
   ]
  },
  {
   "cell_type": "markdown",
   "id": "conditional-miniature",
   "metadata": {},
   "source": [
    "- 메서드 오버라이딩은 왜 사용하나?\n",
    "    - 보통 프로그램에서 어떤 기능이 같은 메서드 이름으로 계속 사용되어야 할 때 메서드 오버라이딩을 활용한다\n",
    "    - 만약 Student클래스에서 인사하는 메서드를 greeting2로 만들어야 한다면 모든 소스코드에서 메서드 호출 부분을 greeting2로 수정해야 한다\n",
    "- 아래와 같은 경우에 기반 클래스의 메서드를 재활용하여 중복을 줄일 수 있다"
   ]
  },
  {
   "cell_type": "code",
   "execution_count": 332,
   "id": "constant-facility",
   "metadata": {},
   "outputs": [
    {
     "name": "stdout",
     "output_type": "stream",
     "text": [
      "안녕하세요.\n",
      "저는 파이썬 코딩 도장 학생입니다.\n"
     ]
    }
   ],
   "source": [
    "class Person:\n",
    "    def greeting(self):\n",
    "        print('안녕하세요.')\n",
    "class Student(Person):\n",
    "    def greeting(self):\n",
    "        super().greeting()    # 기반 클래스의 메서드 호출하여 중복을 줄임\n",
    "        print('저는 파이썬 코딩 도장 학생입니다.')\n",
    "        \n",
    "james = Student()\n",
    "james.greeting()"
   ]
  },
  {
   "cell_type": "code",
   "execution_count": null,
   "id": "static-trash",
   "metadata": {},
   "outputs": [],
   "source": []
  },
  {
   "cell_type": "markdown",
   "id": "adopted-milan",
   "metadata": {},
   "source": [
    "## 7.7.2 메서드 탐색 순서 확인하기\n",
    "- 위의 클래스에서는 D가 B와C를 상속받고 B와C는 A를 상속받았다 그리고 모든 클래스는 greeting이라는 메서드를 갖고 있다\n",
    "- 이럴 경우에 D에서 greeting을 실행하는 순서를 확인해본다"
   ]
  },
  {
   "cell_type": "code",
   "execution_count": 323,
   "id": "automated-joseph",
   "metadata": {},
   "outputs": [
    {
     "data": {
      "text/plain": [
       "[__main__.D, __main__.B, __main__.C, __main__.A, object]"
      ]
     },
     "execution_count": 323,
     "metadata": {},
     "output_type": "execute_result"
    }
   ],
   "source": [
    "D.mro()"
   ]
  },
  {
   "cell_type": "markdown",
   "id": "alien-rhythm",
   "metadata": {},
   "source": [
    "## 7.7.3 Super 메서드"
   ]
  },
  {
   "cell_type": "code",
   "execution_count": 341,
   "id": "satisfactory-soldier",
   "metadata": {},
   "outputs": [
    {
     "data": {
      "text/plain": [
       "[__main__.C, __main__.A, __main__.B, object]"
      ]
     },
     "execution_count": 341,
     "metadata": {},
     "output_type": "execute_result"
    }
   ],
   "source": [
    "class A(object):\n",
    "    bar=42\n",
    "    def foo(self):\n",
    "        pass\n",
    "\n",
    "class B(object):\n",
    "    bar=0\n",
    "\n",
    "class C(A,B):\n",
    "    xyz=\"abc\"\n",
    "    \n",
    "class D(B,A):\n",
    "    xyz=\"efg\"\n",
    "    \n",
    "C.mro()"
   ]
  },
  {
   "cell_type": "markdown",
   "id": "congressional-league",
   "metadata": {},
   "source": [
    "- C는 A와 B를 상속받았고 메서드 탐색 순서를 보면 C->A->B 순서로 진행된다\n",
    "- 그러므로 C에 bar가 없고 A에 bar를 먼저 탐색해서 A의 bar 인스턴스를 출력한다\n",
    "- 만약 C(B,A)의 경우라면 탐색순서가 C->B->A가 되므로 B의 bar 인스턴스를 출력한다"
   ]
  },
  {
   "cell_type": "code",
   "execution_count": 343,
   "id": "geographic-authentication",
   "metadata": {},
   "outputs": [
    {
     "data": {
      "text/plain": [
       "(42, 0)"
      ]
     },
     "execution_count": 343,
     "metadata": {},
     "output_type": "execute_result"
    }
   ],
   "source": [
    "super(C,C()).bar, super(D,D()).bar"
   ]
  },
  {
   "cell_type": "code",
   "execution_count": 344,
   "id": "oriental-liabilities",
   "metadata": {},
   "outputs": [
    {
     "data": {
      "text/plain": [
       "(42, 0)"
      ]
     },
     "execution_count": 344,
     "metadata": {},
     "output_type": "execute_result"
    }
   ],
   "source": [
    "# 똑같이 A와 B를 상속받았지만 순서에 따라서 다른 bar 인스턴스를 출력한다\n",
    "C.bar, D.bar"
   ]
  },
  {
   "cell_type": "code",
   "execution_count": null,
   "id": "romantic-blast",
   "metadata": {},
   "outputs": [],
   "source": []
  },
  {
   "cell_type": "code",
   "execution_count": null,
   "id": "adjusted-anthropology",
   "metadata": {},
   "outputs": [],
   "source": []
  },
  {
   "cell_type": "markdown",
   "id": "viral-superintendent",
   "metadata": {},
   "source": [
    "# Chapter. 8 함수형 프로그래밍"
   ]
  },
  {
   "cell_type": "markdown",
   "id": "disciplinary-moscow",
   "metadata": {},
   "source": [
    "## 8.2 제너레이터\n",
    "\n",
    "- 제너리이터는 이터레이터처럼 작동하는 객체\n",
    "- StopIteration이 발생할 때까지 next()메서드의 각 호출에 값을 생성하고 반환\n",
    "- 제너레이터를 만들려면 yield문이 포함된 일반 파이썬 함수를 작성하며 파이썬은 yield의 사용을 감지하고 함수에 태그를 붙인다\n",
    "- 실행이 yield문에 도달하면 함수는 return문과 마찬가지로 값을 반환\n",
    "- 함수가 실행되면 실행 체인이 스택을 생성하며 함수 호출은 서로 스택으로 쌓인다\n",
    "- 함수가 반환되면 스택에서 제거되고 함수가 반환하는 값을 호출 함수에 전달\n",
    "- 파이썬은 함수의 상태를 스택 참조로 저장하여 제너레이터의 다음 반복이 필요할 때 저장한 지점에서 제너레이터의 실행을 다시 시작"
   ]
  },
  {
   "cell_type": "code",
   "execution_count": 363,
   "id": "sustainable-scottish",
   "metadata": {},
   "outputs": [
    {
     "data": {
      "text/plain": [
       "<generator object mygenerator at 0x000001604B847D00>"
      ]
     },
     "execution_count": 363,
     "metadata": {},
     "output_type": "execute_result"
    }
   ],
   "source": [
    "def mygenerator():\n",
    "    yield 1\n",
    "    yield 2\n",
    "    yield 'a'\n",
    "    \n",
    "mygenerator()"
   ]
  },
  {
   "cell_type": "code",
   "execution_count": 368,
   "id": "proper-peoples",
   "metadata": {},
   "outputs": [
    {
     "data": {
      "text/plain": [
       "(1, 2, 'a')"
      ]
     },
     "execution_count": 368,
     "metadata": {},
     "output_type": "execute_result"
    }
   ],
   "source": [
    "# yield문이 다 실행되면 next()호출에서 StopIteration이 발생\n",
    "g=mygenerator()\n",
    "\n",
    "next(g), next(g), next(g)"
   ]
  },
  {
   "cell_type": "markdown",
   "id": "sound-harbor",
   "metadata": {},
   "source": [
    "- 제너레이터를 사용하지 않고 데이터를 반복할 때 전체 파이썬 리스트를 먼저 작성하면 메모리를 낭비한다"
   ]
  },
  {
   "cell_type": "code",
   "execution_count": 367,
   "id": "athletic-occasion",
   "metadata": {},
   "outputs": [
    {
     "ename": "StopIteration",
     "evalue": "",
     "output_type": "error",
     "traceback": [
      "\u001b[1;31m---------------------------------------------------------------------------\u001b[0m",
      "\u001b[1;31mStopIteration\u001b[0m                             Traceback (most recent call last)",
      "\u001b[1;32m<ipython-input-367-e734f8aca5ac>\u001b[0m in \u001b[0;36m<module>\u001b[1;34m\u001b[0m\n\u001b[1;32m----> 1\u001b[1;33m \u001b[0mnext\u001b[0m\u001b[1;33m(\u001b[0m\u001b[0mg\u001b[0m\u001b[1;33m)\u001b[0m\u001b[1;33m\u001b[0m\u001b[1;33m\u001b[0m\u001b[0m\n\u001b[0m",
      "\u001b[1;31mStopIteration\u001b[0m: "
     ]
    }
   ],
   "source": [
    "next(g)"
   ]
  },
  {
   "cell_type": "markdown",
   "id": "dated-summary",
   "metadata": {},
   "source": [
    "### 8.2.2 yield로 값 반환 및 전달하기\n",
    "\n",
    "- yield문은 함수 호출과 동일한 방식으로 값을 반환할 수 있다\n",
    "- yield문으로 하면 sned()메서드를 호출하여 값을 제너레이터에 전달할 수 있다\n",
    "- sned()를 사용하는 예로, 문자열 파이썬 리스트를 가져와서 동일한 문자열로 구성된 파이썬 리스트를 반환하는 shorten()이라는 함수를 작성"
   ]
  },
  {
   "cell_type": "code",
   "execution_count": 400,
   "id": "social-bunny",
   "metadata": {},
   "outputs": [
    {
     "name": "stdout",
     "output_type": "stream",
     "text": [
      "a 10\n",
      "b 4\n",
      "a 4\n",
      "b 2\n",
      "a 2\n",
      "b 1\n",
      "['loremipsum', 'dolo', 'am']\n"
     ]
    }
   ],
   "source": [
    "def shorten(string_list):\n",
    "    length = len(string_list[0])\n",
    "    for s in string_list:\n",
    "        print(\"a\", length)\n",
    "        length = yield s[:length]\n",
    "        print(\"b\", length)\n",
    "        \n",
    "mystringlist=[\"loremipsum\",\"dolorsit\",\"ametfoobar\"]\n",
    "shortstringlist=shorten(mystringlist)\n",
    "result=[]\n",
    "\n",
    "try:\n",
    "    # 첫 번째는 그냥 append\n",
    "    s=next(shortstringlist)\n",
    "    result.append(s)\n",
    "    while True:\n",
    "        number_of_vowels=len(list(filter(lambda letter : letter in \"aeiou\", s)))\n",
    "        # 이전 실행 결과에 있는 모음 개수를 기준으로\n",
    "        # 이어지는 문자열을 처리한다\n",
    "        # length는 4가 되어 s[:length]를 return하고 멈춤\n",
    "        # 다시 length는 2가 되어 s[:length]를 return하고 멈춤\n",
    "        s=shortstringlist.send(number_of_vowels)\n",
    "        result.append(s)\n",
    "except StopIteration:\n",
    "    pass\n",
    "\n",
    "print(result)"
   ]
  },
  {
   "cell_type": "code",
   "execution_count": 406,
   "id": "scientific-philadelphia",
   "metadata": {},
   "outputs": [
    {
     "data": {
      "text/plain": [
       "[1, 3, 5]"
      ]
     },
     "execution_count": 406,
     "metadata": {},
     "output_type": "execute_result"
    }
   ],
   "source": [
    "s=[1,2,3,4,5,6, 7,8,9,10]\n",
    "list(filter(lambda x : (x+1)/2 in [1,2,3], s))"
   ]
  },
  {
   "cell_type": "code",
   "execution_count": null,
   "id": "metropolitan-makeup",
   "metadata": {},
   "outputs": [],
   "source": []
  },
  {
   "cell_type": "code",
   "execution_count": 543,
   "id": "sophisticated-triangle",
   "metadata": {},
   "outputs": [
    {
     "data": {
      "text/plain": [
       "1"
      ]
     },
     "execution_count": 543,
     "metadata": {},
     "output_type": "execute_result"
    }
   ],
   "source": [
    "y = 0\n",
    "def get_first(x):\n",
    "    \n",
    "    global y\n",
    "    y += 1\n",
    "    if y < 3:\n",
    "        yield y\n",
    "    else:\n",
    "        while True:\n",
    "            x = yield x*2, y\n",
    "        \n",
    "next(get_first(2))"
   ]
  },
  {
   "cell_type": "code",
   "execution_count": 549,
   "id": "joined-guest",
   "metadata": {},
   "outputs": [
    {
     "data": {
      "text/plain": [
       "(14, 7)"
      ]
     },
     "execution_count": 549,
     "metadata": {},
     "output_type": "execute_result"
    }
   ],
   "source": [
    "next(get_first(7))"
   ]
  },
  {
   "cell_type": "markdown",
   "id": "harmful-signal",
   "metadata": {},
   "source": [
    "###  8.2.3 제너레이터 검사하기"
   ]
  },
  {
   "cell_type": "code",
   "execution_count": 554,
   "id": "supreme-colombia",
   "metadata": {},
   "outputs": [
    {
     "data": {
      "text/plain": [
       "(True, False)"
      ]
     },
     "execution_count": 554,
     "metadata": {},
     "output_type": "execute_result"
    }
   ],
   "source": [
    "import inspect\n",
    "\n",
    "def mygenerator():\n",
    "    yield 1\n",
    "    \n",
    "inspect.isgeneratorfunction(mygenerator), inspect.isgeneratorfunction(sum)"
   ]
  },
  {
   "cell_type": "code",
   "execution_count": 555,
   "id": "requested-armenia",
   "metadata": {},
   "outputs": [
    {
     "data": {
      "text/plain": [
       "<generator object mygenerator at 0x000001604EE41728>"
      ]
     },
     "execution_count": 555,
     "metadata": {},
     "output_type": "execute_result"
    }
   ],
   "source": [
    "import inspect\n",
    "\n",
    "def mygenerator():\n",
    "    yield 1\n",
    "    \n",
    "gen = mygenerator()\n",
    "gen"
   ]
  },
  {
   "cell_type": "code",
   "execution_count": 556,
   "id": "further-rebel",
   "metadata": {},
   "outputs": [
    {
     "data": {
      "text/plain": [
       "'GEN_CREATED'"
      ]
     },
     "execution_count": 556,
     "metadata": {},
     "output_type": "execute_result"
    }
   ],
   "source": [
    "inspect.getgeneratorstate(gen)"
   ]
  },
  {
   "cell_type": "code",
   "execution_count": 557,
   "id": "operational-convention",
   "metadata": {},
   "outputs": [
    {
     "data": {
      "text/plain": [
       "1"
      ]
     },
     "execution_count": 557,
     "metadata": {},
     "output_type": "execute_result"
    }
   ],
   "source": [
    "next(gen)"
   ]
  },
  {
   "cell_type": "code",
   "execution_count": 558,
   "id": "prostate-thesis",
   "metadata": {},
   "outputs": [
    {
     "data": {
      "text/plain": [
       "'GEN_SUSPENDED'"
      ]
     },
     "execution_count": 558,
     "metadata": {},
     "output_type": "execute_result"
    }
   ],
   "source": [
    "inspect.getgeneratorstate(gen)"
   ]
  },
  {
   "cell_type": "code",
   "execution_count": 559,
   "id": "advisory-priority",
   "metadata": {},
   "outputs": [
    {
     "ename": "StopIteration",
     "evalue": "",
     "output_type": "error",
     "traceback": [
      "\u001b[1;31m---------------------------------------------------------------------------\u001b[0m",
      "\u001b[1;31mStopIteration\u001b[0m                             Traceback (most recent call last)",
      "\u001b[1;32m<ipython-input-559-6e72e47198db>\u001b[0m in \u001b[0;36m<module>\u001b[1;34m\u001b[0m\n\u001b[1;32m----> 1\u001b[1;33m \u001b[0mnext\u001b[0m\u001b[1;33m(\u001b[0m\u001b[0mgen\u001b[0m\u001b[1;33m)\u001b[0m\u001b[1;33m\u001b[0m\u001b[1;33m\u001b[0m\u001b[0m\n\u001b[0m",
      "\u001b[1;31mStopIteration\u001b[0m: "
     ]
    }
   ],
   "source": [
    "next(gen)"
   ]
  },
  {
   "cell_type": "code",
   "execution_count": 560,
   "id": "chronic-genome",
   "metadata": {},
   "outputs": [
    {
     "data": {
      "text/plain": [
       "'GEN_CLOSED'"
      ]
     },
     "execution_count": 560,
     "metadata": {},
     "output_type": "execute_result"
    }
   ],
   "source": [
    "inspect.getgeneratorstate(gen)"
   ]
  },
  {
   "cell_type": "markdown",
   "id": "white-vinyl",
   "metadata": {},
   "source": [
    "## 8.3 리스트 제너레이션"
   ]
  },
  {
   "cell_type": "code",
   "execution_count": null,
   "id": "wrapped-lingerie",
   "metadata": {},
   "outputs": [],
   "source": []
  },
  {
   "cell_type": "markdown",
   "id": "frank-export",
   "metadata": {},
   "source": [
    "## 8.4 함수형, 함수, 함수화"
   ]
  },
  {
   "cell_type": "markdown",
   "id": "infrared-liberty",
   "metadata": {},
   "source": [
    "### 8.4.1 map()으로 각 항목에 함수 적용하기"
   ]
  },
  {
   "cell_type": "code",
   "execution_count": 564,
   "id": "rotary-stream",
   "metadata": {},
   "outputs": [
    {
     "data": {
      "text/plain": [
       "['i thinkbzz!', \"i'm goodbzz!\"]"
      ]
     },
     "execution_count": 564,
     "metadata": {},
     "output_type": "execute_result"
    }
   ],
   "source": [
    "list(map(lambda x:x + \"bzz!\", [\"i think\", \"i'm good\"]))"
   ]
  },
  {
   "cell_type": "markdown",
   "id": "annual-donna",
   "metadata": {},
   "source": [
    "### 8.4.2 filter()로 파이썬 리스트 필터링하기"
   ]
  },
  {
   "cell_type": "code",
   "execution_count": 565,
   "id": "color-effectiveness",
   "metadata": {},
   "outputs": [
    {
     "data": {
      "text/plain": [
       "<filter at 0x1604ae5f860>"
      ]
     },
     "execution_count": 565,
     "metadata": {},
     "output_type": "execute_result"
    }
   ],
   "source": [
    "filter(lambda x:x.startswith(\"I \"), [\"I think\", \"I'm good\"])"
   ]
  },
  {
   "cell_type": "code",
   "execution_count": 570,
   "id": "encouraging-monster",
   "metadata": {},
   "outputs": [
    {
     "data": {
      "text/plain": [
       "(['I think'], ['I think'])"
      ]
     },
     "execution_count": 570,
     "metadata": {},
     "output_type": "execute_result"
    }
   ],
   "source": [
    "list(filter(lambda x:x.startswith(\"I \"), [\"I think\", \"I'm good\"])), [i for i in [\"I think\", \"I'm good\"] if i.startswith(\"I \")]"
   ]
  },
  {
   "cell_type": "markdown",
   "id": "weird-accident",
   "metadata": {},
   "source": [
    "### 8.4.3 enumerate()로 인덱스 얻기"
   ]
  },
  {
   "cell_type": "markdown",
   "id": "biological-squad",
   "metadata": {},
   "source": [
    "### 8.4.4 sorted()로 파이썬 리스트 정렬하기"
   ]
  },
  {
   "cell_type": "code",
   "execution_count": 574,
   "id": "fundamental-shell",
   "metadata": {},
   "outputs": [
    {
     "data": {
      "text/plain": [
       "[('a', 2), ('c', 1), ('d', 4)]"
      ]
     },
     "execution_count": 574,
     "metadata": {},
     "output_type": "execute_result"
    }
   ],
   "source": [
    "sorted([(\"a\",2),(\"c\",1),(\"d\",4)], key=lambda x:x[0])"
   ]
  },
  {
   "cell_type": "markdown",
   "id": "instrumental-swift",
   "metadata": {},
   "source": [
    "### 8.4.5 any() 및 all()로 조건을 충족하는 항목 찾기\n",
    "\n",
    "- any(iterable) 및 all(iterable)함수는 iterable에서 반환되는 값에 따라 불리언 값을 반환한다"
   ]
  },
  {
   "cell_type": "code",
   "execution_count": 585,
   "id": "working-terminology",
   "metadata": {},
   "outputs": [],
   "source": [
    "# def all(iterable):\n",
    "#     for x in iterable:\n",
    "#         if not x:\n",
    "#             return False\n",
    "#     return True\n",
    "\n",
    "# def any(iterable):\n",
    "#     for x in iterable:\n",
    "#         if x:\n",
    "#             return True\n",
    "#     else:\n",
    "#         return False"
   ]
  },
  {
   "cell_type": "code",
   "execution_count": 578,
   "id": "catholic-conclusion",
   "metadata": {},
   "outputs": [
    {
     "name": "stdout",
     "output_type": "stream",
     "text": [
      "At least one item is greater than 0\n"
     ]
    }
   ],
   "source": [
    "mylist=[0,1,3,-1]\n",
    "if all(map(lambda x:x>0, mylist)):\n",
    "    print(\"All imtes are grater than 0\")\n",
    "    \n",
    "if any(map(lambda x:x>0, mylist)):\n",
    "    print(\"At least one item is greater than 0\")"
   ]
  },
  {
   "cell_type": "code",
   "execution_count": 581,
   "id": "large-roads",
   "metadata": {},
   "outputs": [
    {
     "data": {
      "text/plain": [
       "[False, True, True, True, True]"
      ]
     },
     "execution_count": 581,
     "metadata": {},
     "output_type": "execute_result"
    }
   ],
   "source": [
    "list(map(lambda x:x>0, mylist))"
   ]
  },
  {
   "cell_type": "code",
   "execution_count": 587,
   "id": "early-complexity",
   "metadata": {},
   "outputs": [
    {
     "name": "stdout",
     "output_type": "stream",
     "text": [
      "True2\n"
     ]
    }
   ],
   "source": [
    "mylist=[-1,2,3,4,5]\n",
    "\n",
    "# 모든 값이 0이상이면 True를 출력하는 코드\n",
    "\n",
    "if all(map(lambda x:x>0, mylist)) == True:\n",
    "    print(\"True1\")\n",
    "\n",
    "if any(map(lambda x:x<0, mylist)) == True:\n",
    "    print(\"True2\")\n",
    "\n",
    "# 하나 이상의 값이 0 이하이면 True를 출력하는 코드"
   ]
  },
  {
   "cell_type": "markdown",
   "id": "favorite-athens",
   "metadata": {},
   "source": [
    "### 8.4.6 리스트와 zip() 결합하기\n",
    "\n",
    "- zip( iter1  [ , iter2  [...] ] ) 형식을 취한다\n",
    "- 여러 시퀀스를 가지고 튜플로 결합한다"
   ]
  },
  {
   "cell_type": "code",
   "execution_count": 588,
   "id": "academic-insider",
   "metadata": {},
   "outputs": [
    {
     "data": {
      "text/plain": [
       "[6, 5, 3]"
      ]
     },
     "execution_count": 588,
     "metadata": {},
     "output_type": "execute_result"
    }
   ],
   "source": [
    "key=[\"foobar\",\"barzz\",\"ba!\"]\n",
    "\n",
    "list(map(len, key))"
   ]
  },
  {
   "cell_type": "code",
   "execution_count": 593,
   "id": "common-literacy",
   "metadata": {},
   "outputs": [
    {
     "data": {
      "text/plain": [
       "[('foobar', 6), ('barzz', 5), ('ba!', 3)]"
      ]
     },
     "execution_count": 593,
     "metadata": {},
     "output_type": "execute_result"
    }
   ],
   "source": [
    "list(zip(key, map(len, key)))"
   ]
  },
  {
   "cell_type": "code",
   "execution_count": 594,
   "id": "elementary-residence",
   "metadata": {},
   "outputs": [
    {
     "data": {
      "text/plain": [
       "{'foobar': 6, 'barzz': 5, 'ba!': 3}"
      ]
     },
     "execution_count": 594,
     "metadata": {},
     "output_type": "execute_result"
    }
   ],
   "source": [
    "dict(zip(key, map(len, key)))"
   ]
  },
  {
   "cell_type": "code",
   "execution_count": 601,
   "id": "buried-making",
   "metadata": {},
   "outputs": [
    {
     "data": {
      "text/plain": [
       "[('foobar', 2), ('barzz', 2), ('ba!', 2)]"
      ]
     },
     "execution_count": 601,
     "metadata": {},
     "output_type": "execute_result"
    }
   ],
   "source": [
    "list(zip(key, map(len, zip(key, map(len, key)))))"
   ]
  },
  {
   "cell_type": "markdown",
   "id": "legendary-smart",
   "metadata": {},
   "source": [
    "### 8.4.7 해결된 일반적인 문제\n",
    "\n",
    "- 다음과 같은 함수를 사용하여 조건을 충족하는 첫 번째 항목을 찾을 수 있습니다"
   ]
  },
  {
   "cell_type": "code",
   "execution_count": 603,
   "id": "placed-rating",
   "metadata": {},
   "outputs": [],
   "source": [
    "def first_positive_number(numbers):\n",
    "    for n in numbers:\n",
    "        if n > 0 :\n",
    "            return n"
   ]
  },
  {
   "cell_type": "markdown",
   "id": "considerable-sullivan",
   "metadata": {},
   "source": [
    "- first_positive_number()함수를 다음과 같은 함수형 스타일로 다시 작성할 수 있습니다."
   ]
  },
  {
   "cell_type": "code",
   "execution_count": 605,
   "id": "southern-london",
   "metadata": {},
   "outputs": [
    {
     "data": {
      "text/plain": [
       "1"
      ]
     },
     "execution_count": 605,
     "metadata": {},
     "output_type": "execute_result"
    }
   ],
   "source": [
    "def first(predicate, items):\n",
    "    for item in items:\n",
    "        if predicate(item):\n",
    "            return item\n",
    "        \n",
    "first(lambda x:x>0, [-1,0,1,2])"
   ]
  },
  {
   "cell_type": "markdown",
   "id": "hollow-funeral",
   "metadata": {},
   "source": [
    "- 위와 같이 조건자(x>0)가 인수로 전달되는 함수 접근 방식을 사용하면 함수를 쉽게 재사용할 수 있다"
   ]
  },
  {
   "cell_type": "code",
   "execution_count": 611,
   "id": "every-television",
   "metadata": {},
   "outputs": [
    {
     "name": "stdout",
     "output_type": "stream",
     "text": [
      "1\n",
      "1\n"
     ]
    }
   ],
   "source": [
    "# 효율적이지 않은 방법\n",
    "# 조건을 충족하는 항목이 없다면 IndexError가 발생\n",
    "print(list(filter(lambda x: x>0, [-1, 0, 1, 2]))[0])\n",
    "\n",
    "# 효율적인 방법\n",
    "print(next(filter(lambda x:x>0, [-1,0,1,2])))"
   ]
  },
  {
   "cell_type": "markdown",
   "id": "coastal-scene",
   "metadata": {},
   "source": [
    "- indexError가 발생하지 않도록 next를 사용할 수 있다"
   ]
  },
  {
   "cell_type": "code",
   "execution_count": 613,
   "id": "appointed-respondent",
   "metadata": {},
   "outputs": [
    {
     "data": {
      "text/plain": [
       "4"
      ]
     },
     "execution_count": 613,
     "metadata": {},
     "output_type": "execute_result"
    }
   ],
   "source": [
    "a = range(10)\n",
    "next(x for x in a if x>3)"
   ]
  },
  {
   "cell_type": "markdown",
   "id": "spoken-collins",
   "metadata": {},
   "source": [
    "- 하지만 조건이 충족될 수 없는 경우에는 StopIteration이 발생"
   ]
  },
  {
   "cell_type": "code",
   "execution_count": 614,
   "id": "affected-albuquerque",
   "metadata": {},
   "outputs": [
    {
     "ename": "StopIteration",
     "evalue": "",
     "output_type": "error",
     "traceback": [
      "\u001b[1;31m---------------------------------------------------------------------------\u001b[0m",
      "\u001b[1;31mStopIteration\u001b[0m                             Traceback (most recent call last)",
      "\u001b[1;32m<ipython-input-614-1c2d7f78cf0d>\u001b[0m in \u001b[0;36m<module>\u001b[1;34m\u001b[0m\n\u001b[0;32m      1\u001b[0m \u001b[0ma\u001b[0m \u001b[1;33m=\u001b[0m \u001b[0mrange\u001b[0m\u001b[1;33m(\u001b[0m\u001b[1;36m10\u001b[0m\u001b[1;33m)\u001b[0m\u001b[1;33m\u001b[0m\u001b[1;33m\u001b[0m\u001b[0m\n\u001b[1;32m----> 2\u001b[1;33m \u001b[0mnext\u001b[0m\u001b[1;33m(\u001b[0m\u001b[0mx\u001b[0m \u001b[1;32mfor\u001b[0m \u001b[0mx\u001b[0m \u001b[1;32min\u001b[0m \u001b[0ma\u001b[0m \u001b[1;32mif\u001b[0m \u001b[0mx\u001b[0m\u001b[1;33m>\u001b[0m\u001b[1;36m11\u001b[0m\u001b[1;33m)\u001b[0m\u001b[1;33m\u001b[0m\u001b[1;33m\u001b[0m\u001b[0m\n\u001b[0m",
      "\u001b[1;31mStopIteration\u001b[0m: "
     ]
    }
   ],
   "source": [
    "a = range(10)\n",
    "next(x for x in a if x>11)"
   ]
  },
  {
   "cell_type": "markdown",
   "id": "owned-apple",
   "metadata": {},
   "source": [
    "- 이럴 때는 next()에 두 번째 인수를 추가하여 해결할 수 있음"
   ]
  },
  {
   "cell_type": "code",
   "execution_count": 615,
   "id": "humanitarian-regression",
   "metadata": {},
   "outputs": [
    {
     "data": {
      "text/plain": [
       "'NoMatching'"
      ]
     },
     "execution_count": 615,
     "metadata": {},
     "output_type": "execute_result"
    }
   ],
   "source": [
    "next((x for x in a if x>11), \"NoMatching\")"
   ]
  },
  {
   "cell_type": "markdown",
   "id": "complex-daughter",
   "metadata": {},
   "source": [
    "#### first()를 사용하여 항목찾기"
   ]
  },
  {
   "cell_type": "code",
   "execution_count": 618,
   "id": "governing-kansas",
   "metadata": {},
   "outputs": [
    {
     "name": "stdout",
     "output_type": "stream",
     "text": [
      "Collecting first\n",
      "  Downloading first-2.0.2-py2.py3-none-any.whl (5.4 kB)\n",
      "Installing collected packages: first\n",
      "Successfully installed first-2.0.2\n"
     ]
    }
   ],
   "source": [
    "! pip install first"
   ]
  },
  {
   "cell_type": "code",
   "execution_count": 619,
   "id": "broken-bacteria",
   "metadata": {},
   "outputs": [
    {
     "data": {
      "text/plain": [
       "42"
      ]
     },
     "execution_count": 619,
     "metadata": {},
     "output_type": "execute_result"
    }
   ],
   "source": [
    "from first import first\n",
    "\n",
    "first([0, False, None, [], (), 42])"
   ]
  },
  {
   "cell_type": "code",
   "execution_count": 621,
   "id": "elegant-choice",
   "metadata": {},
   "outputs": [
    {
     "data": {
      "text/plain": [
       "-1"
      ]
     },
     "execution_count": 621,
     "metadata": {},
     "output_type": "execute_result"
    }
   ],
   "source": [
    "first([-1,0,1,2])"
   ]
  },
  {
   "cell_type": "code",
   "execution_count": 627,
   "id": "graphic-dublin",
   "metadata": {},
   "outputs": [
    {
     "data": {
      "text/plain": [
       "'ha'"
      ]
     },
     "execution_count": 627,
     "metadata": {},
     "output_type": "execute_result"
    }
   ],
   "source": [
    "first([-1,0,1,2], key=lambda x:x>3, default='ha')"
   ]
  },
  {
   "cell_type": "markdown",
   "id": "amended-nickname",
   "metadata": {},
   "source": [
    "#### functools와 lambda() 사용하기"
   ]
  },
  {
   "cell_type": "markdown",
   "id": "robust-guidance",
   "metadata": {},
   "source": [
    "- lambda()함수는 map() 및 filter()와 같은 프로그래밍 함수를 쉽게 작성하기 위해 파이썬에 추가 되었다\n",
    "- 만약 이 함수가 없었다면 다른 조건을 확인하려고 할 때마다 완전히 새로운 함수를 작성했을 것이다\n",
    "- 위의 코드를 lambda를 사용하지 않고 작성해보자 \n"
   ]
  },
  {
   "cell_type": "code",
   "execution_count": 628,
   "id": "announced-annual",
   "metadata": {},
   "outputs": [
    {
     "data": {
      "text/plain": [
       "1"
      ]
     },
     "execution_count": 628,
     "metadata": {},
     "output_type": "execute_result"
    }
   ],
   "source": [
    "def grater_than_zero(number):\n",
    "    return number > 0\n",
    "\n",
    "first([-1, 0, 1, 2], key=grater_than_zero)"
   ]
  },
  {
   "cell_type": "markdown",
   "id": "single-might",
   "metadata": {},
   "source": [
    "- first 모듈에는 key인수가 포함되어 있는데 각 항목을 인수로 수신하고 조건을 준수하는지 파악하는 불리언을 반환하는 함수를 제공한다\n",
    "- 그러나 한 줄 이상의 코드가 필요하므로 key함수를 전달할 수 없으며 이것은 lambda의 한계입니다\n",
    "- 필요한 각 key에 대해서 새 함수를 정의하는 번거로운 패턴으로 돌아가야 합니다. 꼭 이렇게 해야 할까요?\n",
    "- functools 패키지에는 lambda에 대한 더 유연한 대안을 우리에게 제공하는 partial() 메서드가 있습니다.\n",
    "- functools.partial() 메서드를 사용하면 함수의 동작을 변경하거나 인수를 변경하는 대신 트위스트를 사용하여 래퍼 함수를 만들 수 있다"
   ]
  },
  {
   "cell_type": "code",
   "execution_count": null,
   "id": "whole-hypothetical",
   "metadata": {},
   "outputs": [],
   "source": []
  },
  {
   "cell_type": "code",
   "execution_count": 633,
   "id": "blessed-slovakia",
   "metadata": {},
   "outputs": [
    {
     "data": {
      "text/plain": [
       "1"
      ]
     },
     "execution_count": 633,
     "metadata": {},
     "output_type": "execute_result"
    }
   ],
   "source": [
    "from functools import partial\n",
    "from first import first\n",
    "\n",
    "def greater_than(number, mn=0):\n",
    "    return number>mn\n",
    "\n",
    "# 아래와 같은 lambda 함수에서는 greater_than 의 mn 인자를 건드릴 수 없다\n",
    "# grater_than([-1,0,1,2], key=lambda x:x>3, default='ha')\n",
    "\n",
    "first([-1,0,1,2], key=partial(greater_than, mn=0))"
   ]
  },
  {
   "cell_type": "markdown",
   "id": "exotic-species",
   "metadata": {},
   "source": [
    "- 아래와 같이 응용 가능하다"
   ]
  },
  {
   "cell_type": "code",
   "execution_count": 639,
   "id": "stopped-developer",
   "metadata": {},
   "outputs": [
    {
     "data": {
      "text/plain": [
       "True"
      ]
     },
     "execution_count": 639,
     "metadata": {},
     "output_type": "execute_result"
    }
   ],
   "source": [
    "operator.le(0,1)"
   ]
  },
  {
   "cell_type": "code",
   "execution_count": 640,
   "id": "powerful-awareness",
   "metadata": {},
   "outputs": [
    {
     "data": {
      "text/plain": [
       "-1"
      ]
     },
     "execution_count": 640,
     "metadata": {},
     "output_type": "execute_result"
    }
   ],
   "source": [
    "import operator\n",
    "from functools import partial\n",
    "from first import first\n",
    "\n",
    "first([-1,0,1,2], key=partial(operator.le, -1))"
   ]
  },
  {
   "cell_type": "code",
   "execution_count": null,
   "id": "stuck-princeton",
   "metadata": {},
   "outputs": [],
   "source": []
  },
  {
   "cell_type": "markdown",
   "id": "tight-passenger",
   "metadata": {},
   "source": [
    "### 8.4.8 유용한 itertools 기능\n",
    "\n",
    "- 책 참고( p.192 ~ p.193 )"
   ]
  },
  {
   "cell_type": "code",
   "execution_count": null,
   "id": "promising-attraction",
   "metadata": {},
   "outputs": [],
   "source": []
  },
  {
   "cell_type": "markdown",
   "id": "meaning-crazy",
   "metadata": {},
   "source": [
    "# Chapter. 10 성능과 최적화"
   ]
  },
  {
   "cell_type": "code",
   "execution_count": 4,
   "id": "roman-stake",
   "metadata": {},
   "outputs": [],
   "source": [
    "# KeyError가 발생했을 때 None을 return 하는 함수\n",
    "def get_fruits(basket, fruit):\n",
    "    try:\n",
    "        return basket[fruit]\n",
    "    except KeyError:\n",
    "        return None"
   ]
  },
  {
   "cell_type": "code",
   "execution_count": 2,
   "id": "naval-maine",
   "metadata": {},
   "outputs": [],
   "source": [
    "# 딕셔너리 안에 fruit이 있을 때만 return 하는 함수\n",
    "def get_fruits(basket, fruit):\n",
    "    if fruit in basket:\n",
    "        return basket[fruit]"
   ]
  },
  {
   "cell_type": "code",
   "execution_count": 5,
   "id": "filled-milwaukee",
   "metadata": {},
   "outputs": [],
   "source": [
    "# get 메서드를 활용하여 간략하게 코딩\n",
    "def get_fruits(basket, fruit):\n",
    "    return basket.get(fruit)"
   ]
  },
  {
   "cell_type": "code",
   "execution_count": 6,
   "id": "acting-aquatic",
   "metadata": {},
   "outputs": [],
   "source": [
    "def get_fruits(basket, fruit):\n",
    "    # fruit을 반환하거나 fruit을 찾지 못하면 Banana를 반환\n",
    "    return basket.get(fruit, Banana())"
   ]
  },
  {
   "cell_type": "markdown",
   "id": "affiliated-devil",
   "metadata": {},
   "source": [
    "- set자료구조에서 제공하는 메서드를 활용하면 중첩되는 for문이나 if문을 써야 해결할 수 있는 많은 문제를 해결할 수 있다"
   ]
  },
  {
   "cell_type": "code",
   "execution_count": 7,
   "id": "turkish-funds",
   "metadata": {},
   "outputs": [],
   "source": [
    "def has_invalid_fields(fields):\n",
    "    for field in fields:\n",
    "        if field not in [\"foo\",\"bar\"]:\n",
    "            return True\n",
    "    return False"
   ]
  },
  {
   "cell_type": "code",
   "execution_count": 8,
   "id": "figured-nurse",
   "metadata": {},
   "outputs": [],
   "source": [
    "# 더 효율적으로 만들자면\n",
    "def has_invalid_fields(fields):\n",
    "    return bool(set(fields)-set([\"foo\",\"bar\"]))"
   ]
  },
  {
   "cell_type": "code",
   "execution_count": 17,
   "id": "abandoned-stereo",
   "metadata": {},
   "outputs": [
    {
     "data": {
      "text/plain": [
       "True"
      ]
     },
     "execution_count": 17,
     "metadata": {},
     "output_type": "execute_result"
    }
   ],
   "source": [
    "fields=[\"a\",\"b\",\"c\",\"d\",\"foo\",\"bar\"]\n",
    "bool(set(fields)-set([\"foo\",\"bar\"]))"
   ]
  },
  {
   "cell_type": "code",
   "execution_count": 30,
   "id": "polar-drive",
   "metadata": {},
   "outputs": [
    {
     "data": {
      "text/plain": [
       "{1, 3, 5}"
      ]
     },
     "execution_count": 30,
     "metadata": {},
     "output_type": "execute_result"
    }
   ],
   "source": [
    "set((1,3,5))-set([2,])"
   ]
  },
  {
   "cell_type": "code",
   "execution_count": 35,
   "id": "stuck-encyclopedia",
   "metadata": {},
   "outputs": [
    {
     "data": {
      "text/plain": [
       "{1, 2, 3, 4}"
      ]
     },
     "execution_count": 35,
     "metadata": {},
     "output_type": "execute_result"
    }
   ],
   "source": [
    "a=set([1,2,3])\n",
    "a.add(4)\n",
    "a"
   ]
  },
  {
   "cell_type": "markdown",
   "id": "mysterious-cathedral",
   "metadata": {},
   "source": [
    "- set으로 이루어진 딕셔너리에 항목 추가하기"
   ]
  },
  {
   "cell_type": "code",
   "execution_count": 37,
   "id": "mature-bargain",
   "metadata": {},
   "outputs": [
    {
     "data": {
      "text/plain": [
       "{'felidea': {'cat'}}"
      ]
     },
     "execution_count": 37,
     "metadata": {},
     "output_type": "execute_result"
    }
   ],
   "source": [
    "def add_animal_in_family(species, animal, family):\n",
    "    if family not in species:\n",
    "        species[family]=set()\n",
    "    species[family].add(animal)\n",
    "    \n",
    "species={}\n",
    "add_animal_in_family(species, \"cat\", \"felidea\")\n",
    "species"
   ]
  },
  {
   "cell_type": "markdown",
   "id": "micro-symbol",
   "metadata": {},
   "source": [
    "- 아래의 소스코드는 이상없이 동작하지만 추가할 항목이 있을 때마다 수십 수백가지 변경이 필요하다\n",
    "- collections.fefaultdict 구조를 제공하며 좀 더 간결한 방식으로 이 문제를 해결한다\n",
    "    - defaultdict()는 딕셔너리를 만드는 dict클래스의 서브클래스\n",
    "    - 인자로 주어진 객체의 기본값(set, list, int 등)을 딕셔너리값의 초깃값으로 지정할 수 있다"
   ]
  },
  {
   "cell_type": "code",
   "execution_count": 43,
   "id": "occupational-funds",
   "metadata": {},
   "outputs": [
    {
     "data": {
      "text/plain": [
       "defaultdict(set, {'felidea': {'cat'}})"
      ]
     },
     "execution_count": 43,
     "metadata": {},
     "output_type": "execute_result"
    }
   ],
   "source": [
    "import collections\n",
    "\n",
    "def add_animal_in_family(species, animal, family):\n",
    "    species[family].add(animal)\n",
    "    \n",
    "species=collections.defaultdict(set)\n",
    "add_animal_in_family(species, \"cat\",\"felidea\")\n",
    "species"
   ]
  },
  {
   "cell_type": "code",
   "execution_count": 51,
   "id": "exciting-dependence",
   "metadata": {},
   "outputs": [
    {
     "data": {
      "text/plain": [
       "defaultdict(list, {'key1': 1, 'key2': None, 'key3': []})"
      ]
     },
     "execution_count": 51,
     "metadata": {},
     "output_type": "execute_result"
    }
   ],
   "source": [
    "a=collections.defaultdict(list)\n",
    "a[\"key1\"]=1\n",
    "a[\"key2\"]=None\n",
    "a[\"key3\"]\n",
    "a"
   ]
  },
  {
   "cell_type": "code",
   "execution_count": 54,
   "id": "pretty-semiconductor",
   "metadata": {},
   "outputs": [
    {
     "data": {
      "text/plain": [
       "defaultdict(tuple, {'key1': 1, 'key2': None, 'key3': ()})"
      ]
     },
     "execution_count": 54,
     "metadata": {},
     "output_type": "execute_result"
    }
   ],
   "source": [
    "a=collections.defaultdict(tuple)\n",
    "a[\"key1\"]=1\n",
    "a[\"key2\"]=None\n",
    "a[\"key3\"]\n",
    "a"
   ]
  },
  {
   "cell_type": "code",
   "execution_count": 96,
   "id": "rough-springer",
   "metadata": {},
   "outputs": [
    {
     "data": {
      "text/plain": [
       "defaultdict(set, {'F': {3, 4, 6}, 'A': 'C'})"
      ]
     },
     "execution_count": 96,
     "metadata": {},
     "output_type": "execute_result"
    }
   ],
   "source": [
    "a=collections.defaultdict(set)\n",
    "a[\"F\"]\n",
    "func=lambda x : \"A\" if x == 1 else \"B\"\n",
    "a[func(1)]=\"C\"\n",
    "a[\"F\"].add(3)\n",
    "a[\"F\"].add(4)\n",
    "a[\"F\"].add(6)\n",
    "a\n"
   ]
  },
  {
   "cell_type": "code",
   "execution_count": 97,
   "id": "other-vegetation",
   "metadata": {},
   "outputs": [
    {
     "data": {
      "text/plain": [
       "'A'"
      ]
     },
     "execution_count": 97,
     "metadata": {},
     "output_type": "execute_result"
    }
   ],
   "source": [
    "f=lambda x : \"A\" if x == 1 else \"B\"\n",
    "f(1)"
   ]
  },
  {
   "cell_type": "markdown",
   "id": "nearby-listening",
   "metadata": {},
   "source": []
  },
  {
   "cell_type": "code",
   "execution_count": 99,
   "id": "constant-salem",
   "metadata": {},
   "outputs": [
    {
     "data": {
      "text/plain": [
       "Counter({'P': 1,\n",
       "         'r': 3,\n",
       "         'e': 4,\n",
       "         'm': 2,\n",
       "         'a': 3,\n",
       "         't': 5,\n",
       "         'u': 1,\n",
       "         ' ': 7,\n",
       "         'o': 5,\n",
       "         'p': 1,\n",
       "         'i': 5,\n",
       "         'z': 1,\n",
       "         'n': 1,\n",
       "         's': 1,\n",
       "         'h': 1,\n",
       "         'f': 1,\n",
       "         'l': 3,\n",
       "         'v': 1})"
      ]
     },
     "execution_count": 99,
     "metadata": {},
     "output_type": "execute_result"
    }
   ],
   "source": [
    "c=collections.Counter(\"Premature optimization is the root of all evil\")\n",
    "c"
   ]
  },
  {
   "cell_type": "code",
   "execution_count": 102,
   "id": "genetic-appendix",
   "metadata": {},
   "outputs": [
    {
     "data": {
      "text/plain": [
       "1"
      ]
     },
     "execution_count": 102,
     "metadata": {},
     "output_type": "execute_result"
    }
   ],
   "source": [
    "c[\"P\"]"
   ]
  },
  {
   "cell_type": "code",
   "execution_count": 103,
   "id": "necessary-bernard",
   "metadata": {},
   "outputs": [
    {
     "data": {
      "text/plain": [
       "[(' ', 7), ('t', 5)]"
      ]
     },
     "execution_count": 103,
     "metadata": {},
     "output_type": "execute_result"
    }
   ],
   "source": [
    "c.most_common(2)"
   ]
  },
  {
   "cell_type": "markdown",
   "id": "swiss-plymouth",
   "metadata": {},
   "source": [
    "### 10.2.2 DIS 모듈로 역 어셈블링 하기"
   ]
  },
  {
   "cell_type": "code",
   "execution_count": 106,
   "id": "exclusive-document",
   "metadata": {},
   "outputs": [
    {
     "name": "stdout",
     "output_type": "stream",
     "text": [
      "  4           0 LOAD_CONST               1 (42)\n",
      "              2 RETURN_VALUE\n"
     ]
    }
   ],
   "source": [
    "import dis\n",
    "\n",
    "def x():\n",
    "    return 42\n",
    "\n",
    "dis.dis(x)"
   ]
  },
  {
   "cell_type": "code",
   "execution_count": 108,
   "id": "leading-lebanon",
   "metadata": {},
   "outputs": [],
   "source": [
    "abc = (\"a\",\"b\",\"c\")\n",
    "\n",
    "def concat_a_1():\n",
    "    for letter in abc:\n",
    "        abc[0] + letter\n",
    "        \n",
    "def concat_a_2():\n",
    "    a=abc[0]\n",
    "    for letter in abc:\n",
    "        a + letter"
   ]
  },
  {
   "cell_type": "code",
   "execution_count": 109,
   "id": "fifty-anime",
   "metadata": {},
   "outputs": [
    {
     "name": "stdout",
     "output_type": "stream",
     "text": [
      "  4           0 SETUP_LOOP              24 (to 26)\n",
      "              2 LOAD_GLOBAL              0 (abc)\n",
      "              4 GET_ITER\n",
      "        >>    6 FOR_ITER                16 (to 24)\n",
      "              8 STORE_FAST               0 (letter)\n",
      "\n",
      "  5          10 LOAD_GLOBAL              0 (abc)\n",
      "             12 LOAD_CONST               1 (0)\n",
      "             14 BINARY_SUBSCR\n",
      "             16 LOAD_FAST                0 (letter)\n",
      "             18 BINARY_ADD\n",
      "             20 POP_TOP\n",
      "             22 JUMP_ABSOLUTE            6\n",
      "        >>   24 POP_BLOCK\n",
      "        >>   26 LOAD_CONST               0 (None)\n",
      "             28 RETURN_VALUE\n"
     ]
    }
   ],
   "source": [
    "dis.dis(concat_a_1)"
   ]
  },
  {
   "cell_type": "code",
   "execution_count": 110,
   "id": "stainless-boating",
   "metadata": {},
   "outputs": [
    {
     "name": "stdout",
     "output_type": "stream",
     "text": [
      "  8           0 LOAD_GLOBAL              0 (abc)\n",
      "              2 LOAD_CONST               1 (0)\n",
      "              4 BINARY_SUBSCR\n",
      "              6 STORE_FAST               0 (a)\n",
      "\n",
      "  9           8 SETUP_LOOP              20 (to 30)\n",
      "             10 LOAD_GLOBAL              0 (abc)\n",
      "             12 GET_ITER\n",
      "        >>   14 FOR_ITER                12 (to 28)\n",
      "             16 STORE_FAST               1 (letter)\n",
      "\n",
      " 10          18 LOAD_FAST                0 (a)\n",
      "             20 LOAD_FAST                1 (letter)\n",
      "             22 BINARY_ADD\n",
      "             24 POP_TOP\n",
      "             26 JUMP_ABSOLUTE           14\n",
      "        >>   28 POP_BLOCK\n",
      "        >>   30 LOAD_CONST               0 (None)\n",
      "             32 RETURN_VALUE\n"
     ]
    }
   ],
   "source": [
    "dis.dis(concat_a_2)"
   ]
  },
  {
   "cell_type": "code",
   "execution_count": null,
   "id": "proper-robert",
   "metadata": {},
   "outputs": [],
   "source": []
  },
  {
   "cell_type": "code",
   "execution_count": null,
   "id": "portable-modern",
   "metadata": {},
   "outputs": [],
   "source": []
  },
  {
   "cell_type": "code",
   "execution_count": null,
   "id": "latter-marathon",
   "metadata": {},
   "outputs": [],
   "source": []
  },
  {
   "cell_type": "code",
   "execution_count": null,
   "id": "little-communication",
   "metadata": {},
   "outputs": [],
   "source": []
  },
  {
   "cell_type": "code",
   "execution_count": null,
   "id": "organic-facility",
   "metadata": {},
   "outputs": [],
   "source": []
  },
  {
   "cell_type": "code",
   "execution_count": null,
   "id": "aquatic-jacket",
   "metadata": {},
   "outputs": [],
   "source": []
  },
  {
   "cell_type": "code",
   "execution_count": null,
   "id": "material-queen",
   "metadata": {},
   "outputs": [],
   "source": []
  },
  {
   "cell_type": "code",
   "execution_count": null,
   "id": "pacific-norman",
   "metadata": {},
   "outputs": [],
   "source": []
  },
  {
   "cell_type": "code",
   "execution_count": null,
   "id": "three-sheet",
   "metadata": {},
   "outputs": [],
   "source": []
  },
  {
   "cell_type": "code",
   "execution_count": null,
   "id": "equal-smooth",
   "metadata": {},
   "outputs": [],
   "source": []
  },
  {
   "cell_type": "code",
   "execution_count": null,
   "id": "freelance-columbus",
   "metadata": {},
   "outputs": [],
   "source": []
  },
  {
   "cell_type": "code",
   "execution_count": null,
   "id": "significant-stevens",
   "metadata": {},
   "outputs": [],
   "source": []
  },
  {
   "cell_type": "code",
   "execution_count": null,
   "id": "modern-swaziland",
   "metadata": {},
   "outputs": [],
   "source": []
  },
  {
   "cell_type": "code",
   "execution_count": null,
   "id": "female-homework",
   "metadata": {},
   "outputs": [],
   "source": []
  },
  {
   "cell_type": "code",
   "execution_count": null,
   "id": "double-tutorial",
   "metadata": {},
   "outputs": [],
   "source": []
  },
  {
   "cell_type": "code",
   "execution_count": null,
   "id": "intelligent-wayne",
   "metadata": {},
   "outputs": [],
   "source": []
  },
  {
   "cell_type": "code",
   "execution_count": null,
   "id": "suitable-thanksgiving",
   "metadata": {},
   "outputs": [],
   "source": []
  },
  {
   "cell_type": "code",
   "execution_count": null,
   "id": "specific-mandate",
   "metadata": {},
   "outputs": [],
   "source": []
  },
  {
   "cell_type": "code",
   "execution_count": null,
   "id": "painted-hepatitis",
   "metadata": {},
   "outputs": [],
   "source": []
  },
  {
   "cell_type": "code",
   "execution_count": null,
   "id": "pursuant-chance",
   "metadata": {},
   "outputs": [],
   "source": []
  },
  {
   "cell_type": "code",
   "execution_count": null,
   "id": "universal-active",
   "metadata": {},
   "outputs": [],
   "source": []
  },
  {
   "cell_type": "code",
   "execution_count": null,
   "id": "oriented-feeling",
   "metadata": {},
   "outputs": [],
   "source": []
  },
  {
   "cell_type": "code",
   "execution_count": null,
   "id": "happy-pipeline",
   "metadata": {},
   "outputs": [],
   "source": []
  },
  {
   "cell_type": "code",
   "execution_count": null,
   "id": "former-professional",
   "metadata": {},
   "outputs": [],
   "source": []
  },
  {
   "cell_type": "code",
   "execution_count": null,
   "id": "cubic-batman",
   "metadata": {},
   "outputs": [],
   "source": []
  },
  {
   "cell_type": "code",
   "execution_count": null,
   "id": "another-ireland",
   "metadata": {},
   "outputs": [],
   "source": []
  },
  {
   "cell_type": "code",
   "execution_count": null,
   "id": "chubby-ribbon",
   "metadata": {},
   "outputs": [],
   "source": []
  },
  {
   "cell_type": "code",
   "execution_count": null,
   "id": "satellite-headline",
   "metadata": {},
   "outputs": [],
   "source": []
  },
  {
   "cell_type": "code",
   "execution_count": null,
   "id": "sweet-russian",
   "metadata": {},
   "outputs": [],
   "source": []
  },
  {
   "cell_type": "code",
   "execution_count": null,
   "id": "apart-brisbane",
   "metadata": {},
   "outputs": [],
   "source": []
  },
  {
   "cell_type": "code",
   "execution_count": null,
   "id": "surrounded-design",
   "metadata": {},
   "outputs": [],
   "source": []
  },
  {
   "cell_type": "code",
   "execution_count": null,
   "id": "average-sunglasses",
   "metadata": {},
   "outputs": [],
   "source": []
  },
  {
   "cell_type": "code",
   "execution_count": null,
   "id": "lovely-cyprus",
   "metadata": {},
   "outputs": [],
   "source": []
  },
  {
   "cell_type": "code",
   "execution_count": null,
   "id": "aging-mixer",
   "metadata": {},
   "outputs": [],
   "source": []
  },
  {
   "cell_type": "code",
   "execution_count": null,
   "id": "legitimate-footwear",
   "metadata": {},
   "outputs": [],
   "source": [
    "import random\n",
    "\n",
    "data=[]\n",
    "\n",
    "def get_datas(data):\n",
    "    r=[random.randint(0,1) for _ in range(2)]\n",
    "    if r[0] == 0 and r[1] == 0:data.append(\"RR\")\n",
    "    if r[0] == 0 and r[1] == 1:data.append(\"Rr\")\n",
    "    if r[0] == 1 and r[1] == 0:data.append(\"rR\")\n",
    "    if r[0] == 1 and r[1] == 1:data.append(\"rr\")\n",
    "        \n",
    "    return data\n",
    "\n",
    "def cal(data):\n",
    "    RR, Rr, rR, rr = 0, 0, 0, 0\n",
    "    for d in data:\n",
    "        if d == \"RR\" : RR += 1\n",
    "        if d == \"Rr\" : Rr += 1\n",
    "        if d == \"rR\" : rR += 1\n",
    "        if d == \"rr\" : rr += 1\n",
    "    return (RR+Rr+rR)/rr\n",
    "\n",
    "for i in range(100):\n",
    "    get_datas(data)\n",
    "cal(data)\n"
   ]
  }
 ],
 "metadata": {
  "kernelspec": {
   "display_name": "Python 3",
   "language": "python",
   "name": "python3"
  },
  "language_info": {
   "codemirror_mode": {
    "name": "ipython",
    "version": 3
   },
   "file_extension": ".py",
   "mimetype": "text/x-python",
   "name": "python",
   "nbconvert_exporter": "python",
   "pygments_lexer": "ipython3",
   "version": "3.6.12"
  }
 },
 "nbformat": 4,
 "nbformat_minor": 5
}
