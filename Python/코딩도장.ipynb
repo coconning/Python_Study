{
 "cells": [
  {
   "cell_type": "markdown",
   "id": "bulgarian-annotation",
   "metadata": {},
   "source": [
    "# Unit. 30 함수에서 위치 인수와 키워드 인수 사용하기"
   ]
  },
  {
   "cell_type": "markdown",
   "id": "universal-proportion",
   "metadata": {},
   "source": [
    "- 다음과 같이 함수에 인수를 순서대로 넣는 방식을 위치 인수(positional argument)라고 한다"
   ]
  },
  {
   "cell_type": "code",
   "execution_count": 1,
   "id": "complimentary-idaho",
   "metadata": {},
   "outputs": [
    {
     "name": "stdout",
     "output_type": "stream",
     "text": [
      "10 20 30\n"
     ]
    }
   ],
   "source": [
    "print(10, 20, 30)"
   ]
  },
  {
   "cell_type": "markdown",
   "id": "alternate-lebanon",
   "metadata": {},
   "source": [
    "### 30.1.1 위치 인수를 사용하는 함수를 만들고 호출하기"
   ]
  },
  {
   "cell_type": "code",
   "execution_count": 3,
   "id": "corresponding-rings",
   "metadata": {},
   "outputs": [
    {
     "name": "stdout",
     "output_type": "stream",
     "text": [
      "10\n",
      "20\n",
      "30\n"
     ]
    }
   ],
   "source": [
    "def print_numbers(a,b,c):\n",
    "    print(a)\n",
    "    print(b)\n",
    "    print(c)\n",
    "print_numbers(10,20,30)"
   ]
  },
  {
   "cell_type": "markdown",
   "id": "violent-vintage",
   "metadata": {},
   "source": [
    "### 30.1.2 언패킹 사용하기"
   ]
  },
  {
   "cell_type": "code",
   "execution_count": 4,
   "id": "uniform-cloud",
   "metadata": {},
   "outputs": [
    {
     "name": "stdout",
     "output_type": "stream",
     "text": [
      "10\n",
      "20\n",
      "30\n"
     ]
    }
   ],
   "source": [
    "x=[10,20,30]\n",
    "print_numbers(*x)"
   ]
  },
  {
   "cell_type": "markdown",
   "id": "fourth-significance",
   "metadata": {},
   "source": [
    "### 30.1.3 가변 인수 함수 만들기"
   ]
  },
  {
   "cell_type": "code",
   "execution_count": 5,
   "id": "functioning-assignment",
   "metadata": {},
   "outputs": [],
   "source": [
    "def print_numbers(*args):\n",
    "    for arg in args:\n",
    "        print(arg)"
   ]
  },
  {
   "cell_type": "code",
   "execution_count": 6,
   "id": "polyphonic-drink",
   "metadata": {},
   "outputs": [
    {
     "name": "stdout",
     "output_type": "stream",
     "text": [
      "10\n"
     ]
    }
   ],
   "source": [
    "print(10)"
   ]
  },
  {
   "cell_type": "code",
   "execution_count": 7,
   "id": "descending-seating",
   "metadata": {},
   "outputs": [
    {
     "name": "stdout",
     "output_type": "stream",
     "text": [
      "10 20 30 40\n"
     ]
    }
   ],
   "source": [
    "print(10,20,30,40)"
   ]
  },
  {
   "cell_type": "markdown",
   "id": "successful-meditation",
   "metadata": {},
   "source": [
    "#### 고정인수와 가변인수를 함께 사용"
   ]
  },
  {
   "cell_type": "code",
   "execution_count": 8,
   "id": "built-solution",
   "metadata": {},
   "outputs": [
    {
     "name": "stdout",
     "output_type": "stream",
     "text": [
      "1\n",
      "()\n"
     ]
    }
   ],
   "source": [
    "def print_numbers(a, *args):\n",
    "    print(a)\n",
    "    print(args)\n",
    "print_numbers(1)"
   ]
  },
  {
   "cell_type": "code",
   "execution_count": 9,
   "id": "collaborative-firmware",
   "metadata": {},
   "outputs": [
    {
     "name": "stdout",
     "output_type": "stream",
     "text": [
      "1\n",
      "(10, 20)\n"
     ]
    }
   ],
   "source": [
    "print_numbers(1,10,20)"
   ]
  },
  {
   "cell_type": "code",
   "execution_count": 10,
   "id": "representative-community",
   "metadata": {},
   "outputs": [
    {
     "name": "stdout",
     "output_type": "stream",
     "text": [
      "10\n",
      "(20, 30)\n"
     ]
    }
   ],
   "source": [
    "print_numbers(*[10,20,30])"
   ]
  },
  {
   "cell_type": "markdown",
   "id": "rolled-marketplace",
   "metadata": {},
   "source": [
    "## 30.2 키워드 인수 사용하기"
   ]
  },
  {
   "cell_type": "code",
   "execution_count": 11,
   "id": "atmospheric-philadelphia",
   "metadata": {},
   "outputs": [
    {
     "name": "stdout",
     "output_type": "stream",
     "text": [
      "이름 : 홍길동\n",
      "나이 : 30\n",
      "주소 : 서울시 용산구 이촌동\n"
     ]
    }
   ],
   "source": [
    "def personal_info(name, age, address):\n",
    "    print(f\"이름 : {name}\")\n",
    "    print(f\"나이 : {age}\")\n",
    "    print(f\"주소 : {address}\")\n",
    "    \n",
    "personal_info(\"홍길동\",30,\"서울시 용산구 이촌동\")"
   ]
  },
  {
   "cell_type": "markdown",
   "id": "adequate-budapest",
   "metadata": {},
   "source": [
    "- 이처럼 인수의 순서와 용도를 모두 기억해야 해서 불편합니다\n",
    "- 그래서 파이썬에서는 인수의 순서와 용도를 매번 기억하지 않도록 키워드인수(keyword argument)라는 기능을 제공합니다"
   ]
  },
  {
   "cell_type": "code",
   "execution_count": 12,
   "id": "aquatic-beads",
   "metadata": {},
   "outputs": [
    {
     "name": "stdout",
     "output_type": "stream",
     "text": [
      "이름 : 홍길동\n",
      "나이 : 30\n",
      "주소 : 서울시 용산구 이촌동\n"
     ]
    }
   ],
   "source": [
    "personal_info(name=\"홍길동\", age=30, address=\"서울시 용산구 이촌동\")"
   ]
  },
  {
   "cell_type": "markdown",
   "id": "colonial-chamber",
   "metadata": {},
   "source": [
    "## 30.3 키워드 인수와 딕셔너리 언패킹 사용하기\n",
    "\n",
    "- 지금까지 함수를 호출할 때 키워드 인수로 직접 값을 넣었습니다. 이번에는 딕셔너리를 사용해서 키워드 인수로 값을 넣는 딕셔너리 언패킹을 사용해보겠습니다\n",
    "- 다음과 같이 딕셔너리 앞에 **(애스터리스크 두 개)를 붙여서 함수를 넣어줍니다"
   ]
  },
  {
   "cell_type": "code",
   "execution_count": 13,
   "id": "beneficial-allen",
   "metadata": {},
   "outputs": [
    {
     "name": "stdout",
     "output_type": "stream",
     "text": [
      "이름 : 홍길동\n",
      "나이 : 30\n",
      "주소 : 서울시 용산구 이촌동\n"
     ]
    }
   ],
   "source": [
    "def personal_info(name, age, address):\n",
    "    print(f\"이름 : {name}\")\n",
    "    print(f\"나이 : {age}\")\n",
    "    print(f\"주소 : {address}\")\n",
    "    \n",
    "x={\"name\":\"홍길동\",\"age\":30,\"address\":\"서울시 용산구 이촌동\"}\n",
    "personal_info(**x)"
   ]
  },
  {
   "cell_type": "markdown",
   "id": "incoming-commissioner",
   "metadata": {},
   "source": [
    "- 딕셔너리 언패킹을 사용할 때는 함수의 매개변수 이름과 딕셔너리의 키 이름이 같아야 합니다\n",
    "- 또한 매개변수 개수와 딕셔너리 키의 개수도 같아야 합니다\n",
    "- 만약 이름과 개수가 다르면 함수를 호출할 수 없습니다. 다음과 같이 매개변수 이름 개수가 다른 딕셔너리를 넣으면 에러가 발생합니다|"
   ]
  },
  {
   "cell_type": "code",
   "execution_count": 14,
   "id": "adjustable-tennessee",
   "metadata": {},
   "outputs": [
    {
     "ename": "TypeError",
     "evalue": "personal_info() got an unexpected keyword argument 'old'",
     "output_type": "error",
     "traceback": [
      "\u001b[1;31m---------------------------------------------------------------------------\u001b[0m",
      "\u001b[1;31mTypeError\u001b[0m                                 Traceback (most recent call last)",
      "\u001b[1;32m<ipython-input-14-faf3d1f29aa8>\u001b[0m in \u001b[0;36m<module>\u001b[1;34m\u001b[0m\n\u001b[0;32m      1\u001b[0m \u001b[0mx\u001b[0m\u001b[1;33m=\u001b[0m\u001b[1;33m{\u001b[0m\u001b[1;34m\"name\"\u001b[0m\u001b[1;33m:\u001b[0m\u001b[1;34m\"홍길동\"\u001b[0m\u001b[1;33m,\u001b[0m\u001b[1;34m\"old\"\u001b[0m\u001b[1;33m:\u001b[0m\u001b[1;36m30\u001b[0m\u001b[1;33m,\u001b[0m\u001b[1;34m\"address\"\u001b[0m\u001b[1;33m:\u001b[0m\u001b[1;34m\"서울시 용산구 이촌동\"\u001b[0m\u001b[1;33m}\u001b[0m\u001b[1;33m\u001b[0m\u001b[1;33m\u001b[0m\u001b[0m\n\u001b[1;32m----> 2\u001b[1;33m \u001b[0mpersonal_info\u001b[0m\u001b[1;33m(\u001b[0m\u001b[1;33m**\u001b[0m\u001b[0mx\u001b[0m\u001b[1;33m)\u001b[0m\u001b[1;33m\u001b[0m\u001b[1;33m\u001b[0m\u001b[0m\n\u001b[0m",
      "\u001b[1;31mTypeError\u001b[0m: personal_info() got an unexpected keyword argument 'old'"
     ]
    }
   ],
   "source": [
    "x={\"name\":\"홍길동\",\"old\":30,\"address\":\"서울시 용산구 이촌동\"}\n",
    "personal_info(**x)"
   ]
  },
  {
   "cell_type": "markdown",
   "id": "furnished-retailer",
   "metadata": {},
   "source": [
    "### 30.3.1 **를 두 번 사용하는 이유\n",
    "\n",
    "- 딕셔너리는 키-값 쌍 형태로 값이 저장되어 있기 때문이다"
   ]
  },
  {
   "cell_type": "code",
   "execution_count": 16,
   "id": "northern-israeli",
   "metadata": {},
   "outputs": [
    {
     "name": "stdout",
     "output_type": "stream",
     "text": [
      "이름 : name\n",
      "나이 : age\n",
      "주소 : address\n",
      "이름 : 홍길동\n",
      "나이 : 30\n",
      "주소 : 서울시 용산구 이촌동\n"
     ]
    }
   ],
   "source": [
    "x={\"name\":\"홍길동\",\"age\":30,\"address\":\"서울시 용산구 이촌동\"}\n",
    "personal_info(*x)\n",
    "personal_info(**x)"
   ]
  },
  {
   "cell_type": "markdown",
   "id": "quick-perth",
   "metadata": {},
   "source": [
    "### 30.3.2 키워드 인수를 사용하는 가변 인수 함수 만들기\n",
    "\n",
    "- 이번에는 키워드 인수를 사용하는 가변 인수 함수를 만들어보겠습니다.\n",
    "- 다음과 같이 키워드 인수를 사용하는 가변인수 함수는 매개변수 앞에 **를 붙여서 만듭니다"
   ]
  },
  {
   "cell_type": "code",
   "execution_count": 20,
   "id": "front-french",
   "metadata": {},
   "outputs": [
    {
     "name": "stdout",
     "output_type": "stream",
     "text": [
      "{'name': '홍길동'}\n",
      "name: 홍길동\n"
     ]
    }
   ],
   "source": [
    "def personal_info(**kwargs):\n",
    "    print(kwargs)\n",
    "    for kw, arg in kwargs.items():\n",
    "        print(kw, \": \", arg, sep='')\n",
    "        \n",
    "personal_info(name=\"홍길동\")"
   ]
  },
  {
   "cell_type": "code",
   "execution_count": 21,
   "id": "simplified-regard",
   "metadata": {},
   "outputs": [
    {
     "name": "stdout",
     "output_type": "stream",
     "text": [
      "{'name': '홍길동', 'age': 30, 'address': '서울시 용산구 이촌동'}\n",
      "name: 홍길동\n",
      "age: 30\n",
      "address: 서울시 용산구 이촌동\n"
     ]
    }
   ],
   "source": [
    "personal_info(name=\"홍길동\",age=30, address=\"서울시 용산구 이촌동\")"
   ]
  },
  {
   "cell_type": "markdown",
   "id": "stock-vitamin",
   "metadata": {},
   "source": [
    "- 보통 **kwargs를 사용한 가변 인수 함수는 다음과 같이 함수 안에서 특정 키가 있는지 확인한 뒤 해당 기능을 만듭니다"
   ]
  },
  {
   "cell_type": "code",
   "execution_count": 22,
   "id": "standard-living",
   "metadata": {},
   "outputs": [],
   "source": [
    "def personal_info(**kwargs):\n",
    "    if \"name\" in kwargs:\n",
    "        print(\"이름: \", kwargs[\"name\"])\n",
    "    if \"age\" in kwargs:\n",
    "        print(\"나이: \", kwargs[\"age\"])\n",
    "    if \"address\" in kwargs:\n",
    "        print(\"주소: \", kwargs[\"address\"])"
   ]
  },
  {
   "cell_type": "markdown",
   "id": "italian-supplier",
   "metadata": {},
   "source": [
    "#### 위치 인수와 키워드 인수를 함께 사용하기"
   ]
  },
  {
   "cell_type": "code",
   "execution_count": 23,
   "id": "wireless-initial",
   "metadata": {},
   "outputs": [
    {
     "name": "stdout",
     "output_type": "stream",
     "text": [
      "1:2:3"
     ]
    }
   ],
   "source": [
    "def custom_print(*args, **kwargs):\n",
    "    print(*args, **kwargs)\n",
    "    \n",
    "custom_print(1,2,3,sep=\":\",end=\"\")"
   ]
  },
  {
   "cell_type": "markdown",
   "id": "double-group",
   "metadata": {},
   "source": [
    "## 30.4 매개변수에 초깃값 지정하기"
   ]
  },
  {
   "cell_type": "code",
   "execution_count": 24,
   "id": "compliant-privacy",
   "metadata": {},
   "outputs": [],
   "source": [
    "def personal_info(name, age, address=\"비공개\"):\n",
    "    print(f\"이름 : {name}\")\n",
    "    print(f\"나이 : {age}\")\n",
    "    print(f\"주소 : {address}\")"
   ]
  },
  {
   "cell_type": "code",
   "execution_count": 25,
   "id": "raising-trance",
   "metadata": {},
   "outputs": [
    {
     "name": "stdout",
     "output_type": "stream",
     "text": [
      "이름 : 홍길동\n",
      "나이 : 30\n",
      "주소 : 비공개\n"
     ]
    }
   ],
   "source": [
    "personal_info(\"홍길동\",30)"
   ]
  },
  {
   "cell_type": "code",
   "execution_count": 26,
   "id": "assured-determination",
   "metadata": {},
   "outputs": [
    {
     "name": "stdout",
     "output_type": "stream",
     "text": [
      "이름 : 홍길동\n",
      "나이 : 30\n",
      "주소 : 서울시 용산구 이촌동\n"
     ]
    }
   ],
   "source": [
    "personal_info(\"홍길동\",30,\"서울시 용산구 이촌동\")"
   ]
  },
  {
   "cell_type": "markdown",
   "id": "under-niagara",
   "metadata": {},
   "source": [
    "## 30.6 연습문제 : 가장 높은 점수를 구하는 함수 만들기"
   ]
  },
  {
   "cell_type": "code",
   "execution_count": 31,
   "id": "laughing-walter",
   "metadata": {},
   "outputs": [
    {
     "name": "stdout",
     "output_type": "stream",
     "text": [
      "높은 점수 :  100\n"
     ]
    }
   ],
   "source": [
    "korean, english, mathmatics, science = 100, 86, 81, 91\n",
    "\n",
    "def get_max_score(*args):\n",
    "    return max(args)\n",
    "max_score=get_max_score(korean, english, mathmatics, science)\n",
    "print(\"높은 점수 : \",max_score)"
   ]
  },
  {
   "cell_type": "markdown",
   "id": "occasional-spelling",
   "metadata": {},
   "source": [
    "## Unit. 32 람다 표현식 사용하기"
   ]
  },
  {
   "cell_type": "code",
   "execution_count": 35,
   "id": "collaborative-amplifier",
   "metadata": {},
   "outputs": [
    {
     "data": {
      "text/plain": [
       "20"
      ]
     },
     "execution_count": 35,
     "metadata": {},
     "output_type": "execute_result"
    }
   ],
   "source": [
    "def plus_ten(x):\n",
    "    return x+10\n",
    "plus_ten(10)"
   ]
  },
  {
   "cell_type": "code",
   "execution_count": 37,
   "id": "confused-criminal",
   "metadata": {},
   "outputs": [
    {
     "data": {
      "text/plain": [
       "20"
      ]
     },
     "execution_count": 37,
     "metadata": {},
     "output_type": "execute_result"
    }
   ],
   "source": [
    "plus_ten=lambda x:x+10\n",
    "plus_ten(10)"
   ]
  },
  {
   "cell_type": "markdown",
   "id": "tough-croatia",
   "metadata": {},
   "source": [
    "### 32.1.2 람다 표현식 안에서는 변수를 만들 수 없다"
   ]
  },
  {
   "cell_type": "markdown",
   "id": "supreme-duncan",
   "metadata": {},
   "source": [
    "### 32.1.3 람다 표현식을 인수로 사용하기"
   ]
  },
  {
   "cell_type": "code",
   "execution_count": 38,
   "id": "completed-psychiatry",
   "metadata": {},
   "outputs": [
    {
     "data": {
      "text/plain": [
       "[11, 12, 13]"
      ]
     },
     "execution_count": 38,
     "metadata": {},
     "output_type": "execute_result"
    }
   ],
   "source": [
    "list(map(lambda x:x+10, [1,2,3]))"
   ]
  },
  {
   "cell_type": "markdown",
   "id": "owned-filter",
   "metadata": {},
   "source": [
    "### 32.2.3 filter 사용하기"
   ]
  },
  {
   "cell_type": "code",
   "execution_count": 47,
   "id": "artificial-partnership",
   "metadata": {},
   "outputs": [
    {
     "data": {
      "text/plain": [
       "[8, 7, 9]"
      ]
     },
     "execution_count": 47,
     "metadata": {},
     "output_type": "execute_result"
    }
   ],
   "source": [
    "def f(x):\n",
    "    return x>5 and x<10\n",
    "\n",
    "a=[8,3,2,10,15,7,1,9,0,11]\n",
    "list(filter(f,a))"
   ]
  },
  {
   "cell_type": "markdown",
   "id": "fixed-wisconsin",
   "metadata": {},
   "source": [
    "### 32.2.4 reduce 사용하기"
   ]
  },
  {
   "cell_type": "code",
   "execution_count": 48,
   "id": "imposed-husband",
   "metadata": {},
   "outputs": [
    {
     "data": {
      "text/plain": [
       "15"
      ]
     },
     "execution_count": 48,
     "metadata": {},
     "output_type": "execute_result"
    }
   ],
   "source": [
    "def f(x,y):\n",
    "    return x+y\n",
    "\n",
    "=[1,2,3,4,5]\n",
    "from functools import reduce\n",
    "\n",
    "reduce(f,a)"
   ]
  },
  {
   "cell_type": "code",
   "execution_count": 49,
   "id": "current-legend",
   "metadata": {},
   "outputs": [
    {
     "data": {
      "text/plain": [
       "15"
      ]
     },
     "execution_count": 49,
     "metadata": {},
     "output_type": "execute_result"
    }
   ],
   "source": [
    "reduce(lambda x,y:x+y, a)"
   ]
  },
  {
   "cell_type": "markdown",
   "id": "controversial-cornwall",
   "metadata": {},
   "source": [
    "## 32.4 연습문제 : 이미지 파일만 가져오기\n",
    "- 확장자가 jpg, png인 이미지 파일만 출력되게 만드시오\n",
    "- 람다 표현식을 사용하고 출력결과는 리스트\n",
    "- 확장자를 검사할때는 문자열 메서드를 활용"
   ]
  },
  {
   "cell_type": "markdown",
   "id": "fallen-composition",
   "metadata": {},
   "source": [
    "My"
   ]
  },
  {
   "cell_type": "code",
   "execution_count": 107,
   "id": "pacific-gnome",
   "metadata": {},
   "outputs": [
    {
     "data": {
      "text/plain": [
       "['1.png', '10.jpg', '2.jpg', '3.png']"
      ]
     },
     "execution_count": 107,
     "metadata": {},
     "output_type": "execute_result"
    }
   ],
   "source": [
    "files=[\"font\",\"1.png\",\"10.jpg\",\"11.gif\",\"2.jpg\",\"3.png\",\"table.xslx\",\"spec.docx\"]\n",
    "\n",
    "list(filter(lambda x: x[-3:] in [\"png\",\"jpg\"], files))"
   ]
  },
  {
   "cell_type": "markdown",
   "id": "wrapped-warning",
   "metadata": {},
   "source": [
    "답안"
   ]
  },
  {
   "cell_type": "code",
   "execution_count": 108,
   "id": "entitled-sector",
   "metadata": {},
   "outputs": [
    {
     "data": {
      "text/plain": [
       "['1.png', '10.jpg', '2.jpg', '3.png']"
      ]
     },
     "execution_count": 108,
     "metadata": {},
     "output_type": "execute_result"
    }
   ],
   "source": [
    "files=[\"font\",\"1.png\",\"10.jpg\",\"11.gif\",\"2.jpg\",\"3.png\",\"table.xslx\",\"spec.docx\"]\n",
    "\n",
    "list(filter(lambda x: x.find(\"jpg\") != -1 or x.find(\"png\") != -1, files))"
   ]
  },
  {
   "cell_type": "code",
   "execution_count": null,
   "id": "tribal-effects",
   "metadata": {},
   "outputs": [],
   "source": []
  },
  {
   "cell_type": "markdown",
   "id": "unknown-squad",
   "metadata": {},
   "source": [
    "## 32.5 심사문제 : 파일 이름을 한꺼번에 바꾸기\n",
    "\n",
    "- 표준 입력으로 숫자.확장자 형식으로 된 파일 이름 여러 개가 입력됩니다 .다음 소스코드를 완성하여 파일 이름이 숫자 3개이면서 앞에 0이 들어가는 형식으로 출력되게 만드세요. 예를 들어 1.png는 001.png, 00.docx는 099.docx, 100.xlsx는 100.xlsx처럼 출력되어야 합니다. 그리고 람다 표현식을 사용해야 하며 출력 결과는 리스트 형태라야 합니다. ㄹ마다 표현식에서 파일명을 처리할 때는 문자열 포매팅과 문자열 메서드를 활용하세요"
   ]
  },
  {
   "cell_type": "code",
   "execution_count": 122,
   "id": "fancy-kruger",
   "metadata": {},
   "outputs": [
    {
     "data": {
      "text/plain": [
       "['0001.jpg', '0010.png', '0011.png', '0003.png', '0100.docx']"
      ]
     },
     "execution_count": 122,
     "metadata": {},
     "output_type": "execute_result"
    }
   ],
   "source": [
    "data=[\"1.jpg\",\"10.png\",\"11.png\",\"3.png\",\"100.docx\"]\n",
    "\n",
    "list(map(lambda x:x.split(\".\")[0].zfill(4)+\".\"+x.split(\".\")[1], data))"
   ]
  },
  {
   "cell_type": "markdown",
   "id": "physical-wrist",
   "metadata": {},
   "source": [
    "## 33 클로저 사용하기"
   ]
  },
  {
   "cell_type": "markdown",
   "id": "armed-coating",
   "metadata": {},
   "source": [
    "- global_variable"
   ]
  },
  {
   "cell_type": "code",
   "execution_count": 124,
   "id": "jewish-polymer",
   "metadata": {},
   "outputs": [
    {
     "name": "stdout",
     "output_type": "stream",
     "text": [
      "10\n",
      "10\n"
     ]
    }
   ],
   "source": [
    "x=10\n",
    "def foo():\n",
    "    print(x) # 전역 변수 출력\n",
    "    \n",
    "foo()\n",
    "print(x) # 전역 변수 출력"
   ]
  },
  {
   "cell_type": "markdown",
   "id": "labeled-liabilities",
   "metadata": {},
   "source": [
    "- local_variable"
   ]
  },
  {
   "cell_type": "code",
   "execution_count": 130,
   "id": "considerable-confidence",
   "metadata": {},
   "outputs": [
    {
     "ename": "NameError",
     "evalue": "name 'x' is not defined",
     "output_type": "error",
     "traceback": [
      "\u001b[1;31m---------------------------------------------------------------------------\u001b[0m",
      "\u001b[1;31mNameError\u001b[0m                                 Traceback (most recent call last)",
      "\u001b[1;32m<ipython-input-130-ea12ffeae0d7>\u001b[0m in \u001b[0;36m<module>\u001b[1;34m\u001b[0m\n\u001b[1;32m----> 1\u001b[1;33m \u001b[1;32mdel\u001b[0m \u001b[0mx\u001b[0m\u001b[1;33m\u001b[0m\u001b[1;33m\u001b[0m\u001b[0m\n\u001b[0m\u001b[0;32m      2\u001b[0m \u001b[1;32mdef\u001b[0m \u001b[0mfoo\u001b[0m\u001b[1;33m(\u001b[0m\u001b[1;33m)\u001b[0m\u001b[1;33m:\u001b[0m\u001b[1;33m\u001b[0m\u001b[1;33m\u001b[0m\u001b[0m\n\u001b[0;32m      3\u001b[0m     \u001b[0mx\u001b[0m\u001b[1;33m=\u001b[0m\u001b[1;36m10\u001b[0m \u001b[1;31m# foo의 지역 변수\u001b[0m\u001b[1;33m\u001b[0m\u001b[1;33m\u001b[0m\u001b[0m\n\u001b[0;32m      4\u001b[0m     \u001b[0mprint\u001b[0m\u001b[1;33m(\u001b[0m\u001b[0mx\u001b[0m\u001b[1;33m)\u001b[0m \u001b[1;31m# foo의 지역 변수 출력\u001b[0m\u001b[1;33m\u001b[0m\u001b[1;33m\u001b[0m\u001b[0m\n\u001b[0;32m      5\u001b[0m \u001b[1;33m\u001b[0m\u001b[0m\n",
      "\u001b[1;31mNameError\u001b[0m: name 'x' is not defined"
     ]
    }
   ],
   "source": [
    "del x\n",
    "def foo():\n",
    "    x=10 # foo의 지역 변수\n",
    "    print(x) # foo의 지역 변수 출력\n",
    "    \n",
    "foo()\n",
    "print(x) # 지역 변수 출력 안 됨"
   ]
  },
  {
   "cell_type": "markdown",
   "id": "breeding-ensemble",
   "metadata": {},
   "source": [
    "- global_local_variable"
   ]
  },
  {
   "cell_type": "code",
   "execution_count": 132,
   "id": "arctic-lambda",
   "metadata": {},
   "outputs": [
    {
     "name": "stdout",
     "output_type": "stream",
     "text": [
      "20\n",
      "20\n"
     ]
    }
   ],
   "source": [
    "x=10\n",
    "\n",
    "def foo():\n",
    "    global x\n",
    "    x=20\n",
    "    print(x)\n",
    "    \n",
    "foo()\n",
    "print(x)"
   ]
  },
  {
   "cell_type": "markdown",
   "id": "medium-south",
   "metadata": {},
   "source": [
    "- namespace"
   ]
  },
  {
   "cell_type": "code",
   "execution_count": 158,
   "id": "noted-baseline",
   "metadata": {},
   "outputs": [
    {
     "name": "stdout",
     "output_type": "stream",
     "text": [
      "{'x': 10}\n",
      "10\n"
     ]
    }
   ],
   "source": [
    "def foo():\n",
    "    x=10\n",
    "    print(locals())\n",
    "    print(locals()[\"x\"])    \n",
    "foo()"
   ]
  },
  {
   "cell_type": "markdown",
   "id": "superb-malaysia",
   "metadata": {},
   "source": [
    "## 33.2 함수 안에서 함수 만들기"
   ]
  },
  {
   "cell_type": "code",
   "execution_count": 159,
   "id": "armed-living",
   "metadata": {},
   "outputs": [
    {
     "name": "stdout",
     "output_type": "stream",
     "text": [
      "Hello, World\n"
     ]
    }
   ],
   "source": [
    "def print_hello():\n",
    "    hello=\"Hello, World\"\n",
    "    def print_message():\n",
    "        print(hello)\n",
    "    print_message()\n",
    "    \n",
    "print_hello()"
   ]
  },
  {
   "cell_type": "markdown",
   "id": "given-latitude",
   "metadata": {},
   "source": [
    "### 33.2.2 지역 변수 변경하기"
   ]
  },
  {
   "cell_type": "code",
   "execution_count": 164,
   "id": "indonesian-station",
   "metadata": {},
   "outputs": [
    {
     "name": "stdout",
     "output_type": "stream",
     "text": [
      "10\n"
     ]
    }
   ],
   "source": [
    "def A():\n",
    "    x=10 # A의 지역변수\n",
    "    def B():\n",
    "        x=20 # B의 지역변수\n",
    "    B() # 여기서 B의 지역변수 x를 정의, A의 지역변수와 상관 X\n",
    "    print(x)\n",
    "    \n",
    "A()"
   ]
  },
  {
   "cell_type": "code",
   "execution_count": 175,
   "id": "discrete-grain",
   "metadata": {},
   "outputs": [
    {
     "name": "stdout",
     "output_type": "stream",
     "text": [
      "20 10\n"
     ]
    }
   ],
   "source": [
    "def A():\n",
    "    x=10 # A의 지역변수\n",
    "    y=10\n",
    "    def B():\n",
    "        nonlocal x,y # 변수 x를 지역변수가 아니고 바깥쪽 변수의 x를 사용할 수 있게 만들었음\n",
    "        x=20\n",
    "    B() \n",
    "    print(x,y)\n",
    "    \n",
    "A()"
   ]
  },
  {
   "cell_type": "markdown",
   "id": "statutory-confidentiality",
   "metadata": {},
   "source": [
    "### 33.2.3 nonlocal이 변수를 찾는 순서"
   ]
  },
  {
   "cell_type": "markdown",
   "id": "accessory-tender",
   "metadata": {},
   "source": [
    "nonlocal은 가장 가까이 있는 지역변수를 찾기 때문에 C의 x변수는  B의 x를 찾고 C의 y변수는 A의 y변수를 찾는다"
   ]
  },
  {
   "cell_type": "code",
   "execution_count": 177,
   "id": "delayed-performance",
   "metadata": {},
   "outputs": [
    {
     "name": "stdout",
     "output_type": "stream",
     "text": [
      "50\n",
      "400\n"
     ]
    }
   ],
   "source": [
    "def A():\n",
    "    x=10\n",
    "    y=100\n",
    "    def B():\n",
    "        x=20\n",
    "        def C():\n",
    "            nonlocal x\n",
    "            nonlocal y\n",
    "            x= x+30\n",
    "            y=y+300\n",
    "            print(x)\n",
    "            print(y)\n",
    "        C()\n",
    "    B()\n",
    "A()"
   ]
  },
  {
   "cell_type": "markdown",
   "id": "ordered-stereo",
   "metadata": {},
   "source": [
    "## 33.3 클로저 사용하기\n",
    "\n",
    "- 함수를 둘러싼 환경을 계속 유지하다가 함수를 호출할 때 다시 꺼내서 사용하는 함수를 클로저라고 한다\n",
    "- 여기서는 c에 저장된 함수가 클로저이다.\n",
    "- 이처럼 클로저를 사용하면 프로그램의 흐름을 변수에 저장할 수 있다\n",
    "- 즉 클로저는 지역변수와 코드를 묶어서 사용하고 싶을 때 활용한다.\n",
    "- 또한 클로저에 속한 지역변수는 바깥에서 직접 접근할 수 없으므로 데이터를 숨기고 싶을 때 활용한다"
   ]
  },
  {
   "cell_type": "code",
   "execution_count": 178,
   "id": "immediate-feeding",
   "metadata": {},
   "outputs": [
    {
     "name": "stdout",
     "output_type": "stream",
     "text": [
      "8 11 14 17 20\n"
     ]
    }
   ],
   "source": [
    "def calc():\n",
    "    a=3\n",
    "    b=5\n",
    "    def mul_add(x):\n",
    "        return a*x + b\n",
    "    return mul_add\n",
    "c=calc()\n",
    "print(c(1),c(2),c(3),c(4),c(5))"
   ]
  },
  {
   "cell_type": "code",
   "execution_count": 187,
   "id": "female-coach",
   "metadata": {},
   "outputs": [
    {
     "data": {
      "text/plain": [
       "(<cell at 0x000001DA656D0618: int object at 0x0000000071A1B100>,\n",
       " <cell at 0x000001DA656D02E8: int object at 0x0000000071A1B140>)"
      ]
     },
     "execution_count": 187,
     "metadata": {},
     "output_type": "execute_result"
    }
   ],
   "source": [
    "c.__closure__"
   ]
  },
  {
   "cell_type": "code",
   "execution_count": 195,
   "id": "norwegian-jefferson",
   "metadata": {},
   "outputs": [
    {
     "name": "stdout",
     "output_type": "stream",
     "text": [
      "nocal variable : ('x',)\n",
      "free variable :  ('a', 'b')\n"
     ]
    }
   ],
   "source": [
    "print(f\"nocal variable : {c.__code__.co_varnames}\\nfree variable :  {c.__code__.co_freevars}\")"
   ]
  },
  {
   "cell_type": "code",
   "execution_count": 197,
   "id": "adult-turtle",
   "metadata": {},
   "outputs": [
    {
     "name": "stdout",
     "output_type": "stream",
     "text": [
      "number of closure vars : 2\n",
      "first : 3\n",
      "second : 5\n"
     ]
    }
   ],
   "source": [
    "print(f\"number of closure vars : {len(c.__closure__)}\\nfirst : {c.__closure__[0].cell_contents}\\nsecond : {c.__closure__[1].cell_contents}\")"
   ]
  },
  {
   "cell_type": "markdown",
   "id": "subtle-pixel",
   "metadata": {},
   "source": [
    "### 33.3.1 lambda로 클로저 만들기"
   ]
  },
  {
   "cell_type": "code",
   "execution_count": 208,
   "id": "disabled-anime",
   "metadata": {},
   "outputs": [
    {
     "data": {
      "text/plain": [
       "11"
      ]
     },
     "execution_count": 208,
     "metadata": {},
     "output_type": "execute_result"
    }
   ],
   "source": [
    "def calc():\n",
    "    a=3\n",
    "    b=5\n",
    "    return lambda x:a*x+b\n",
    "\n",
    "c=calc()\n",
    "c(2)"
   ]
  },
  {
   "cell_type": "markdown",
   "id": "bottom-journalism",
   "metadata": {},
   "source": [
    "### 33.3.2 클로저의 지역 변수 변경하기"
   ]
  },
  {
   "cell_type": "code",
   "execution_count": 211,
   "id": "higher-watson",
   "metadata": {},
   "outputs": [
    {
     "name": "stdout",
     "output_type": "stream",
     "text": [
      "8\n"
     ]
    }
   ],
   "source": [
    "def calc():\n",
    "    a=3\n",
    "    b=5\n",
    "    total=0\n",
    "    def mul_add(x):\n",
    "        nonlocal total\n",
    "        total = total + a*x+b\n",
    "        print(total)\n",
    "    return mul_add\n",
    "\n",
    "c=calc()\n",
    "c(1)"
   ]
  },
  {
   "cell_type": "code",
   "execution_count": 212,
   "id": "hairy-services",
   "metadata": {},
   "outputs": [
    {
     "name": "stdout",
     "output_type": "stream",
     "text": [
      "19\n"
     ]
    }
   ],
   "source": [
    "c(2)"
   ]
  },
  {
   "cell_type": "code",
   "execution_count": 213,
   "id": "secret-happening",
   "metadata": {},
   "outputs": [
    {
     "name": "stdout",
     "output_type": "stream",
     "text": [
      "33\n"
     ]
    }
   ],
   "source": [
    "c(3)"
   ]
  },
  {
   "cell_type": "markdown",
   "id": "pretty-director",
   "metadata": {},
   "source": [
    "## 33.5 연습문제 : 호출 횟수를 세는 함수 만들기\n",
    "\n",
    "- 다음 소스 코드를 완성하여 함수 c를 호출할 때마다 호출 횟수가 출력되게 만드세요. 여기서는 함수를 클로저로 만들어야 합니다"
   ]
  },
  {
   "cell_type": "code",
   "execution_count": 233,
   "id": "crucial-check",
   "metadata": {},
   "outputs": [
    {
     "name": "stdout",
     "output_type": "stream",
     "text": [
      "1 2 3 4 5 6 7 8 9 10 "
     ]
    }
   ],
   "source": [
    "\n",
    "def counter(): \n",
    "    i=0\n",
    "    def count():\n",
    "        nonlocal i\n",
    "        i += 1\n",
    "        return i\n",
    "    return count\n",
    "\n",
    "c=counter()\n",
    "for i in range(10):\n",
    "    print(c(), end=' ')"
   ]
  },
  {
   "cell_type": "markdown",
   "id": "posted-strength",
   "metadata": {},
   "source": [
    "## 33.6 심사문제 : 카운트다운 함수 만들기"
   ]
  },
  {
   "cell_type": "code",
   "execution_count": 254,
   "id": "western-catholic",
   "metadata": {},
   "outputs": [
    {
     "name": "stdin",
     "output_type": "stream",
     "text": [
      " 10\n"
     ]
    },
    {
     "name": "stdout",
     "output_type": "stream",
     "text": [
      "9 8 7 6 5 4 3 2 1 0 "
     ]
    }
   ],
   "source": [
    "def countdown(n):\n",
    "    def count():\n",
    "        nonlocal n\n",
    "        n -= 1\n",
    "        return n\n",
    "    return count\n",
    "\n",
    "n=int(input())\n",
    "c=countdown(n)\n",
    "for i in range(n):\n",
    "    print(c(), end=' ')"
   ]
  },
  {
   "cell_type": "code",
   "execution_count": 264,
   "id": "smart-plenty",
   "metadata": {},
   "outputs": [
    {
     "data": {
      "text/plain": [
       "(0, (), ('n',))"
      ]
     },
     "execution_count": 264,
     "metadata": {},
     "output_type": "execute_result"
    }
   ],
   "source": [
    "c.__closure__[0].cell_contents, c.__code__.co_varnames, c.__code__.co_freevars"
   ]
  },
  {
   "cell_type": "code",
   "execution_count": 251,
   "id": "indie-beads",
   "metadata": {},
   "outputs": [
    {
     "data": {
      "text/plain": [
       "5"
      ]
     },
     "execution_count": 251,
     "metadata": {},
     "output_type": "execute_result"
    }
   ],
   "source": [
    "c=countdown(6)\n",
    "c()"
   ]
  },
  {
   "cell_type": "markdown",
   "id": "suffering-sport",
   "metadata": {},
   "source": [
    "# Unit. 34 클래스 사용하기"
   ]
  },
  {
   "cell_type": "markdown",
   "id": "dominant-guard",
   "metadata": {},
   "source": [
    "### 34.1.3 인스턴스와 객체의 차이점\n",
    "\n",
    "- 보통 객체만 지칭할 때는 객체라고 부른다\n",
    "- 하지만 클래스와 연관지어서 말할 때는 인스턴스라고 부른다\n",
    "- a와 b는 객체지만 a,b는 list 클래스의 인스턴스"
   ]
  },
  {
   "cell_type": "markdown",
   "id": "specified-comment",
   "metadata": {},
   "source": [
    "### 메서드 안에서 메서드 호출하기"
   ]
  },
  {
   "cell_type": "code",
   "execution_count": 265,
   "id": "vietnamese-photographer",
   "metadata": {},
   "outputs": [
    {
     "name": "stdout",
     "output_type": "stream",
     "text": [
      "Hello\n"
     ]
    }
   ],
   "source": [
    "class Person:\n",
    "    def greeting(self):\n",
    "        print(\"Hello\")\n",
    "    def hello(self):\n",
    "        self.greeting()\n",
    "        \n",
    "james=Person()\n",
    "james.hello()"
   ]
  },
  {
   "cell_type": "markdown",
   "id": "accompanied-bridal",
   "metadata": {},
   "source": [
    "## 34.2 속성 사용하기"
   ]
  },
  {
   "cell_type": "code",
   "execution_count": null,
   "id": "motivated-surgeon",
   "metadata": {},
   "outputs": [],
   "source": [
    "class Person:\n",
    "    def __init__(self):\n",
    "        self.hello = \"안녕하세요\"\n",
    "        \n",
    "    def greeting(self):\n",
    "        print(self.hello)\n",
    "        \n",
    "james=Person()\n",
    "james"
   ]
  },
  {
   "cell_type": "markdown",
   "id": "least-script",
   "metadata": {},
   "source": [
    "### 34.2.2 인스턴스를 만들 때 값 받기"
   ]
  },
  {
   "cell_type": "code",
   "execution_count": 288,
   "id": "republican-ridge",
   "metadata": {},
   "outputs": [
    {
     "name": "stdout",
     "output_type": "stream",
     "text": [
      "마리아 20 서울시 서초구 반포동\n",
      "나가 했는데 안녕하세요 저는 마리아입니다.\n",
      "None\n"
     ]
    }
   ],
   "source": [
    "class Person:\n",
    "    def __init__(self, name, age, address):\n",
    "        self.hello = \"안녕하세요\"\n",
    "        self.name = name\n",
    "        self.age = age\n",
    "        self.address = address\n",
    "        \n",
    "    def greeting(self,who):\n",
    "        print(f\"{who}가 했는데 {self.hello} 저는 {self.name}입니다.\")\n",
    "        \n",
    "maria=Person(\"마리아\",20,\"서울시 서초구 반포동\")\n",
    "print(maria.name, maria.age, maria.address)\n",
    "print(maria.greeting(\"나\"))"
   ]
  },
  {
   "cell_type": "code",
   "execution_count": 289,
   "id": "bigger-whale",
   "metadata": {},
   "outputs": [],
   "source": [
    "maria.hello = \"안녕하지 못\""
   ]
  },
  {
   "cell_type": "code",
   "execution_count": 283,
   "id": "selected-reserve",
   "metadata": {},
   "outputs": [
    {
     "name": "stdout",
     "output_type": "stream",
     "text": [
      "1 2\n"
     ]
    }
   ],
   "source": [
    "class Person:\n",
    "    def __init__(self,a,b):\n",
    "        self.key=a\n",
    "        self.key2=b\n",
    "    def greeting(self):\n",
    "        print(self.key,self.key2)\n",
    "        \n",
    "james=Person(1,2)\n",
    "james.greeting()"
   ]
  },
  {
   "cell_type": "markdown",
   "id": "proud-prime",
   "metadata": {},
   "source": [
    "### 클래스의 위치 인수, 키워드 인수"
   ]
  },
  {
   "cell_type": "code",
   "execution_count": 295,
   "id": "inappropriate-position",
   "metadata": {},
   "outputs": [
    {
     "data": {
      "text/plain": [
       "'마리아'"
      ]
     },
     "execution_count": 295,
     "metadata": {},
     "output_type": "execute_result"
    }
   ],
   "source": [
    "class Person:\n",
    "    def __init__(self, *args):\n",
    "        self.name = args[0]\n",
    "        self.age = args[1]\n",
    "        self.address = args[2]\n",
    "        \n",
    "maria=Person(*[\"마리아\",20,\"서울시 서초구 반포동\",1])\n",
    "maria.name"
   ]
  },
  {
   "cell_type": "code",
   "execution_count": 296,
   "id": "altered-insulation",
   "metadata": {},
   "outputs": [],
   "source": [
    "class Person:\n",
    "    def __init__(self, **kwargs):\n",
    "        self.name = kwargs[\"name\"]\n",
    "        self.age = kwargs[\"age\"]\n",
    "        self.address = kwargs[\"address\"]\n",
    "maria1=Person(name=\"마리아\",age=20, address=\"서울시 서초구 반포동\")\n",
    "maria2=Person(**{\"name\":\"마리아\",\"age\":20, \"address\":\"서울시 서초구 반포동\"})"
   ]
  },
  {
   "cell_type": "markdown",
   "id": "statutory-mathematics",
   "metadata": {},
   "source": [
    "### 인스턴스를 생성한 뒤에 속성 추가하기, 특정 속성만 허용하기"
   ]
  },
  {
   "cell_type": "code",
   "execution_count": 297,
   "id": "short-survivor",
   "metadata": {},
   "outputs": [
    {
     "data": {
      "text/plain": [
       "'마리아'"
      ]
     },
     "execution_count": 297,
     "metadata": {},
     "output_type": "execute_result"
    }
   ],
   "source": [
    "class Person:\n",
    "    pass\n",
    "maria=Person()\n",
    "maria.name=\"마리아\"\n",
    "maria.name"
   ]
  },
  {
   "cell_type": "code",
   "execution_count": 298,
   "id": "romance-blowing",
   "metadata": {},
   "outputs": [
    {
     "ename": "AttributeError",
     "evalue": "'Person' object has no attribute 'name'",
     "output_type": "error",
     "traceback": [
      "\u001b[1;31m---------------------------------------------------------------------------\u001b[0m",
      "\u001b[1;31mAttributeError\u001b[0m                            Traceback (most recent call last)",
      "\u001b[1;32m<ipython-input-298-8143af172bdd>\u001b[0m in \u001b[0;36m<module>\u001b[1;34m\u001b[0m\n\u001b[0;32m      1\u001b[0m \u001b[0mjames\u001b[0m\u001b[1;33m=\u001b[0m\u001b[0mPerson\u001b[0m\u001b[1;33m(\u001b[0m\u001b[1;33m)\u001b[0m\u001b[1;33m\u001b[0m\u001b[1;33m\u001b[0m\u001b[0m\n\u001b[1;32m----> 2\u001b[1;33m \u001b[0mjames\u001b[0m\u001b[1;33m.\u001b[0m\u001b[0mname\u001b[0m\u001b[1;33m\u001b[0m\u001b[1;33m\u001b[0m\u001b[0m\n\u001b[0m",
      "\u001b[1;31mAttributeError\u001b[0m: 'Person' object has no attribute 'name'"
     ]
    }
   ],
   "source": [
    "james=Person()\n",
    "james.name"
   ]
  },
  {
   "cell_type": "markdown",
   "id": "artificial-recruitment",
   "metadata": {},
   "source": [
    "- 인스턴스는 생성한 뒤에 속성을 추가할수 있으므로 __init__메서드가 아닌 다른 메서드에서도 속성을 추가할 수 있다\n",
    "- 단 이 때는 메서드를 호출해야 속성이 생성된다"
   ]
  },
  {
   "cell_type": "code",
   "execution_count": 300,
   "id": "divided-cancer",
   "metadata": {},
   "outputs": [
    {
     "ename": "AttributeError",
     "evalue": "'Person' object has no attribute 'hello'",
     "output_type": "error",
     "traceback": [
      "\u001b[1;31m---------------------------------------------------------------------------\u001b[0m",
      "\u001b[1;31mAttributeError\u001b[0m                            Traceback (most recent call last)",
      "\u001b[1;32m<ipython-input-300-fadf83562c04>\u001b[0m in \u001b[0;36m<module>\u001b[1;34m\u001b[0m\n\u001b[0;32m      4\u001b[0m \u001b[1;33m\u001b[0m\u001b[0m\n\u001b[0;32m      5\u001b[0m \u001b[0mmaria\u001b[0m\u001b[1;33m=\u001b[0m\u001b[0mPerson\u001b[0m\u001b[1;33m(\u001b[0m\u001b[1;33m)\u001b[0m\u001b[1;33m\u001b[0m\u001b[1;33m\u001b[0m\u001b[0m\n\u001b[1;32m----> 6\u001b[1;33m \u001b[0mmaria\u001b[0m\u001b[1;33m.\u001b[0m\u001b[0mhello\u001b[0m\u001b[1;33m\u001b[0m\u001b[1;33m\u001b[0m\u001b[0m\n\u001b[0m",
      "\u001b[1;31mAttributeError\u001b[0m: 'Person' object has no attribute 'hello'"
     ]
    }
   ],
   "source": [
    "# 아직 greeting 메서드를 실행하지 않았기 때문에 self.hello가 정의되지 않았다\n",
    "class Person:\n",
    "    def greeting(self):\n",
    "        self.hello = \"안녕하세요\"\n",
    "        \n",
    "maria=Person()\n",
    "maria.hello"
   ]
  },
  {
   "cell_type": "code",
   "execution_count": 301,
   "id": "sought-motion",
   "metadata": {},
   "outputs": [
    {
     "data": {
      "text/plain": [
       "'안녕하세요'"
      ]
     },
     "execution_count": 301,
     "metadata": {},
     "output_type": "execute_result"
    }
   ],
   "source": [
    "maria.greeting()\n",
    "maria.hello"
   ]
  },
  {
   "cell_type": "markdown",
   "id": "private-breed",
   "metadata": {},
   "source": [
    "- 인스턴스는 자유롭게 속성을 추가할 수 있지만 특정 속성만 허용하고 다른 속성은 제한하고 싶을 수도 있습니다\n",
    "- 이 때는 클래스에서 __slots__에 허용할 속성 이름을 리스트로 넣어주면 됩니다. 특히 속성 이름은 반드시 문자열로 지정해줍니다."
   ]
  },
  {
   "cell_type": "code",
   "execution_count": 302,
   "id": "bacterial-process",
   "metadata": {},
   "outputs": [
    {
     "name": "stdout",
     "output_type": "stream",
     "text": [
      "마리아 20\n"
     ]
    }
   ],
   "source": [
    "class Person:\n",
    "    __slots__=[\"name\",\"age\"]\n",
    "    \n",
    "maria=Person()\n",
    "maria.name=\"마리아\"\n",
    "maria.age=20\n",
    "\n",
    "print(maria.name, maria.age)"
   ]
  },
  {
   "cell_type": "code",
   "execution_count": 303,
   "id": "invalid-cancer",
   "metadata": {},
   "outputs": [
    {
     "ename": "AttributeError",
     "evalue": "'Person' object has no attribute 'address'",
     "output_type": "error",
     "traceback": [
      "\u001b[1;31m---------------------------------------------------------------------------\u001b[0m",
      "\u001b[1;31mAttributeError\u001b[0m                            Traceback (most recent call last)",
      "\u001b[1;32m<ipython-input-303-940d278c417b>\u001b[0m in \u001b[0;36m<module>\u001b[1;34m\u001b[0m\n\u001b[1;32m----> 1\u001b[1;33m \u001b[0mmaria\u001b[0m\u001b[1;33m.\u001b[0m\u001b[0maddress\u001b[0m \u001b[1;33m=\u001b[0m \u001b[1;34m\"서울시\"\u001b[0m\u001b[1;33m\u001b[0m\u001b[1;33m\u001b[0m\u001b[0m\n\u001b[0m",
      "\u001b[1;31mAttributeError\u001b[0m: 'Person' object has no attribute 'address'"
     ]
    }
   ],
   "source": [
    "maria.address = \"서울시\""
   ]
  },
  {
   "cell_type": "markdown",
   "id": "informal-hybrid",
   "metadata": {},
   "source": [
    "## 34.3 비공개 속성 사용하기"
   ]
  },
  {
   "cell_type": "code",
   "execution_count": 305,
   "id": "chemical-advantage",
   "metadata": {},
   "outputs": [],
   "source": [
    "class Person:\n",
    "    def __init__(self, name, age, address):\n",
    "        self.hello=\"안녕하세요\"\n",
    "        self.name=name\n",
    "        self.age=age\n",
    "        self.address=address\n",
    "        "
   ]
  },
  {
   "cell_type": "markdown",
   "id": "interim-brooks",
   "metadata": {},
   "source": [
    "- 이 속성들은 메서드에서 self로 접근할 수 있고, 인스턴스.속성 형식으로 클래스 바깥에서도 접근할 수 있습니다"
   ]
  },
  {
   "cell_type": "code",
   "execution_count": 307,
   "id": "proof-british",
   "metadata": {},
   "outputs": [
    {
     "data": {
      "text/plain": [
       "'마리아'"
      ]
     },
     "execution_count": 307,
     "metadata": {},
     "output_type": "execute_result"
    }
   ],
   "source": [
    "maria=Person(\"마리아\",20,\"서울시 서초구 반포동\")\n",
    "maria.name"
   ]
  },
  {
   "cell_type": "markdown",
   "id": "lovely-shower",
   "metadata": {},
   "source": [
    "- 이번에는 클래스 바깥에서는 접근할 수 없고 클래스 안에서만 사용할 수 있는 비공개 속성(private attribute)을 사용해 보겠습니다\n",
    "- 비공개 속성은 __속성과 같이 이름이 __(밑 줄 두개)로 시작해야 합니다. 단, __속성__처럼 밑 줄 두개가 양 옆에 왔을 때는 비공개 속성이 아니므로 주의해야 합니다"
   ]
  },
  {
   "cell_type": "code",
   "execution_count": 308,
   "id": "original-spectrum",
   "metadata": {},
   "outputs": [
    {
     "data": {
      "text/plain": [
       "20"
      ]
     },
     "execution_count": 308,
     "metadata": {},
     "output_type": "execute_result"
    }
   ],
   "source": [
    "class Person:\n",
    "    def __init__(self, name, age, address, wallet):\n",
    "        self.name = name\n",
    "        self.age = age\n",
    "        self.address = address\n",
    "        self.__wallet = wallet\n",
    "        \n",
    "maria=Person(\"마리아\",20,\"서울시 서초구 반포동\", 10000)\n",
    "maria.age"
   ]
  },
  {
   "cell_type": "code",
   "execution_count": 309,
   "id": "serial-beverage",
   "metadata": {},
   "outputs": [
    {
     "ename": "AttributeError",
     "evalue": "'Person' object has no attribute '__wallet'",
     "output_type": "error",
     "traceback": [
      "\u001b[1;31m---------------------------------------------------------------------------\u001b[0m",
      "\u001b[1;31mAttributeError\u001b[0m                            Traceback (most recent call last)",
      "\u001b[1;32m<ipython-input-309-c310d099919b>\u001b[0m in \u001b[0;36m<module>\u001b[1;34m\u001b[0m\n\u001b[1;32m----> 1\u001b[1;33m \u001b[0mmaria\u001b[0m\u001b[1;33m.\u001b[0m\u001b[0m__wallet\u001b[0m\u001b[1;33m\u001b[0m\u001b[1;33m\u001b[0m\u001b[0m\n\u001b[0m",
      "\u001b[1;31mAttributeError\u001b[0m: 'Person' object has no attribute '__wallet'"
     ]
    }
   ],
   "source": [
    "maria.__wallet"
   ]
  },
  {
   "cell_type": "code",
   "execution_count": 310,
   "id": "disturbed-gates",
   "metadata": {},
   "outputs": [
    {
     "name": "stdout",
     "output_type": "stream",
     "text": [
      "이제 7000원 남았네요\n"
     ]
    }
   ],
   "source": [
    "class Person:\n",
    "    def __init__(self, name, age, address, wallet):\n",
    "        self.name = name\n",
    "        self.age = age\n",
    "        self.address = address\n",
    "        self.__wallet = wallet\n",
    "        \n",
    "    def pay(self, amount):\n",
    "        self.__wallet -= amount\n",
    "        print(f\"이제 {self.__wallet}원 남았네요\")\n",
    "        \n",
    "maria=Person(\"마리아\",20,\"서울시 서초구 반포동\", 10000)\n",
    "maria.pay(3000)"
   ]
  },
  {
   "cell_type": "code",
   "execution_count": 311,
   "id": "missing-traveler",
   "metadata": {},
   "outputs": [],
   "source": [
    "def pay(self, amount):\n",
    "    if amount > self.__wallet:\n",
    "        print(\"돈이 모자라네 ...\")\n",
    "        return\n",
    "    self.__wallet -= amount"
   ]
  },
  {
   "cell_type": "markdown",
   "id": "charged-academy",
   "metadata": {},
   "source": [
    "## 34.5 연습문제 : 게임 캐릭터 클래스 만들기\n",
    "\n",
    "- 다음 소스 코드에서 클래스를 작성하여 게임 캐릭터의 능력치와 '베기'가 출력되게 만드세요"
   ]
  },
  {
   "cell_type": "code",
   "execution_count": 317,
   "id": "sized-least",
   "metadata": {},
   "outputs": [
    {
     "name": "stdout",
     "output_type": "stream",
     "text": [
      "542.4 210.3 38\n",
      "베기\n"
     ]
    }
   ],
   "source": [
    "class Knight:\n",
    "    def __init__(self, health, mana, armor):\n",
    "        self.health=health\n",
    "        self.mana=mana\n",
    "        self.armor=armor\n",
    "    \n",
    "    @staticmethod\n",
    "    def slash():\n",
    "        print(\"베기\")\n",
    "        \n",
    "x=Knight(health=542.4,mana=210.3,armor=38)\n",
    "print(x.health, x.mana, x.armor)\n",
    "x.slash()"
   ]
  },
  {
   "cell_type": "code",
   "execution_count": null,
   "id": "still-marina",
   "metadata": {},
   "outputs": [],
   "source": []
  },
  {
   "cell_type": "markdown",
   "id": "strange-kentucky",
   "metadata": {},
   "source": [
    "## 34.6 심사문제:게임 캐릭터 클래스 만들기\n",
    "\n",
    "- 표준 입력으로 게임 캐릭터 능력치가 입력됩니다.\n",
    "- 다음 소스코드에서 애니 클래스를 작성하여 티버 스킬의 피해량이 출력되게 만드세요\n",
    "- 티버의 피해량은 AP * 0.65 + 400이며 AP(Ability Power, 주문력)는 마법 능력치를 뜻합니다"
   ]
  },
  {
   "cell_type": "code",
   "execution_count": 341,
   "id": "connected-chamber",
   "metadata": {},
   "outputs": [
    {
     "name": "stdout",
     "output_type": "stream",
     "text": [
      "593.7\n"
     ]
    }
   ],
   "source": [
    "class Annie:\n",
    "    AP=1000\n",
    "    def __init__(self, health, mana, AP):\n",
    "        self.health=health\n",
    "        self.mana=mana\n",
    "        self.AP=AP   \n",
    "    \n",
    "    @classmethod\n",
    "    def tibbers(cls):\n",
    "        print(cls(511.68, 344.0, 298).AP * 0.65 + 400)\n",
    "    \n",
    "        \n",
    "a=Annie(health=511.68, mana=334.0, AP=298)\n",
    "a.tibbers()"
   ]
  },
  {
   "cell_type": "code",
   "execution_count": 343,
   "id": "academic-geology",
   "metadata": {},
   "outputs": [
    {
     "name": "stdout",
     "output_type": "stream",
     "text": [
      "593.7\n"
     ]
    }
   ],
   "source": [
    "class Annie:\n",
    "    def __init__(self, health, mana, AP):\n",
    "        self.health=health\n",
    "        self.mana=mana\n",
    "        self.AP=AP\n",
    "        \n",
    "    def tibbers(self):\n",
    "        print(self.AP*0.65+400)\n",
    "a=Annie(health=511.68, mana=334.0, AP=298)\n",
    "a.tibbers()"
   ]
  },
  {
   "cell_type": "markdown",
   "id": "exciting-tsunami",
   "metadata": {},
   "source": [
    "# Unit. 35 클래스 속성과 정적, 클래스 메서드 사용하기"
   ]
  },
  {
   "cell_type": "markdown",
   "id": "departmental-devices",
   "metadata": {},
   "source": [
    "### 35.1.2 인스턴스 속성 사용하기"
   ]
  },
  {
   "cell_type": "code",
   "execution_count": 344,
   "id": "rising-myanmar",
   "metadata": {},
   "outputs": [
    {
     "name": "stdout",
     "output_type": "stream",
     "text": [
      "['책']\n",
      "['열쇠']\n"
     ]
    }
   ],
   "source": [
    "class Person:\n",
    "    def __init__(self):\n",
    "        self.bag = []\n",
    "        \n",
    "    def put_bag(self, stuff):\n",
    "        self.bag.append(stuff)\n",
    "        \n",
    "james=Person()\n",
    "james.put_bag(\"책\")\n",
    "\n",
    "maria=Person()\n",
    "maria.put_bag(\"열쇠\")\n",
    "\n",
    "print(james.bag)\n",
    "print(maria.bag)"
   ]
  },
  {
   "cell_type": "markdown",
   "id": "placed-cargo",
   "metadata": {},
   "source": [
    "### 35.1.3 비공개 클래스 속성 사용하기\n",
    "\n",
    "- 즉 클래스에서 공개하고 싶지 않은 속성이 있다면 비공개 클래스를 사용해야 한다\n",
    "- 기사 게임 캐릭터느 아이템을 최대 10개까지만 보유할 수 있다"
   ]
  },
  {
   "cell_type": "code",
   "execution_count": 345,
   "id": "favorite-floating",
   "metadata": {},
   "outputs": [
    {
     "ename": "AttributeError",
     "evalue": "'Knight' object has no attribute 'print_item_limit'",
     "output_type": "error",
     "traceback": [
      "\u001b[1;31m---------------------------------------------------------------------------\u001b[0m",
      "\u001b[1;31mAttributeError\u001b[0m                            Traceback (most recent call last)",
      "\u001b[1;32m<ipython-input-345-3d523c564523>\u001b[0m in \u001b[0;36m<module>\u001b[1;34m\u001b[0m\n\u001b[0;32m      6\u001b[0m \u001b[1;33m\u001b[0m\u001b[0m\n\u001b[0;32m      7\u001b[0m \u001b[0ma\u001b[0m\u001b[1;33m=\u001b[0m\u001b[0mKnight\u001b[0m\u001b[1;33m(\u001b[0m\u001b[1;33m)\u001b[0m\u001b[1;33m\u001b[0m\u001b[1;33m\u001b[0m\u001b[0m\n\u001b[1;32m----> 8\u001b[1;33m \u001b[0mx\u001b[0m\u001b[1;33m.\u001b[0m\u001b[0mprint_item_limit\u001b[0m\u001b[1;33m(\u001b[0m\u001b[1;33m)\u001b[0m \u001b[1;31m# 10\u001b[0m\u001b[1;33m\u001b[0m\u001b[1;33m\u001b[0m\u001b[0m\n\u001b[0m",
      "\u001b[1;31mAttributeError\u001b[0m: 'Knight' object has no attribute 'print_item_limit'"
     ]
    }
   ],
   "source": [
    "class Knight:\n",
    "    __item_limit=10 # 비공개 클래스 속성\n",
    "    \n",
    "    def print_item_limit(self):\n",
    "        print(Knight.__item_limit) # 클래스 안에서만 접근할 수 있음\n",
    "        \n",
    "a=Knight()\n",
    "x.print_item_limit() # 10 접근할 수 없음"
   ]
  },
  {
   "cell_type": "markdown",
   "id": "cheap-dodge",
   "metadata": {},
   "source": [
    "## 35.2 정적 메서드 사용하기\n",
    "\n",
    "- 정적 메서드는 self를 받지 않으므로 인스턴스 속성에는 접근할 수 없습니다\n",
    "- 그래서 보통 정적 메서드는 인스턴스 속성 인스턴스 메서드가 필요 없을 때 사용합니다"
   ]
  },
  {
   "cell_type": "markdown",
   "id": "residential-aging",
   "metadata": {},
   "source": [
    "- 정적 메서드는 메서드의 실행이 외부 상태에 영향을 끼치지 않는 순수 함수를 만들 때 사용합니다.\n",
    "- 순수 함수는 부수효과가 없고 입력값이 같으면 언제나 같은 출력 값을 반환합니다.\n",
    "- 즉 정적 메서드는 인스턴스의 상태를 변화시키지 않는 메서드를 만들 때 사용합니다."
   ]
  },
  {
   "cell_type": "code",
   "execution_count": 349,
   "id": "suburban-individual",
   "metadata": {},
   "outputs": [
    {
     "name": "stdout",
     "output_type": "stream",
     "text": [
      "30\n",
      "200\n"
     ]
    }
   ],
   "source": [
    "class calc:\n",
    "    @staticmethod\n",
    "    def add(a,b):\n",
    "        print(a+b)\n",
    "        \n",
    "    @staticmethod\n",
    "    def mul(a,b):\n",
    "        print(a*b)\n",
    "            \n",
    "calc.add(10,20)\n",
    "calc.mul(10,20)"
   ]
  },
  {
   "cell_type": "markdown",
   "id": "intellectual-publicity",
   "metadata": {},
   "source": [
    "### 파이썬 자료형의 인스턴스 메서드와 정적 메서드\n",
    "\n",
    "- 파이썬의 자료형도 인스턴스 메서드와 정적, 클래스 메서드로 나뉘어져 있습니다. 예를 들어 세트에 요소를 더할 때는 인스턴스 메서드를 사용하고 합집합을 구할 때는 정적 메서드를 사용하도록 만들어져 있습니다"
   ]
  },
  {
   "cell_type": "code",
   "execution_count": 354,
   "id": "listed-tumor",
   "metadata": {},
   "outputs": [
    {
     "data": {
      "text/plain": [
       "{1, 2, 3, 4, 5}"
      ]
     },
     "execution_count": 354,
     "metadata": {},
     "output_type": "execute_result"
    }
   ],
   "source": [
    "a={1,2,3,4}\n",
    "a.update([5]) # 인스턴스 메서드\n",
    "a"
   ]
  },
  {
   "cell_type": "code",
   "execution_count": 355,
   "id": "portuguese-provincial",
   "metadata": {},
   "outputs": [
    {
     "data": {
      "text/plain": [
       "{1, 2, 3, 4, 5}"
      ]
     },
     "execution_count": 355,
     "metadata": {},
     "output_type": "execute_result"
    }
   ],
   "source": [
    "set.union({1,2,3,4},{5}) # 정적(클래스) 메서드"
   ]
  },
  {
   "cell_type": "markdown",
   "id": "described-solution",
   "metadata": {},
   "source": [
    "## 35.3 클래스 메서드 사용하기"
   ]
  },
  {
   "cell_type": "code",
   "execution_count": 362,
   "id": "hispanic-cedar",
   "metadata": {},
   "outputs": [
    {
     "name": "stdout",
     "output_type": "stream",
     "text": [
      "2명 생성되었습니다\n"
     ]
    }
   ],
   "source": [
    "class Person:\n",
    "    count=0\n",
    "    def __init__(self):\n",
    "        Person.count += 1 # 인스턴스가 만들어 질 때 클래스 속성 count에 1을 더함 \n",
    "        \n",
    "    @classmethod\n",
    "    def print_count(cls):\n",
    "        print(f\"{cls.count}명 생성되었습니다\")\n",
    "        \n",
    "james=Person()\n",
    "maria=Person()\n",
    "\n",
    "Person.print_count()"
   ]
  },
  {
   "cell_type": "code",
   "execution_count": 363,
   "id": "complete-alberta",
   "metadata": {},
   "outputs": [
    {
     "name": "stdout",
     "output_type": "stream",
     "text": [
      "3명 생성되었습니다\n"
     ]
    }
   ],
   "source": [
    "james=Person()\n",
    "Person.print_count()"
   ]
  },
  {
   "cell_type": "markdown",
   "id": "emerging-cause",
   "metadata": {},
   "source": [
    "### 위의 식에 중복되는 사람꺼는 추가되지 않도록 코드 수정"
   ]
  },
  {
   "cell_type": "code",
   "execution_count": 398,
   "id": "cleared-phase",
   "metadata": {},
   "outputs": [
    {
     "name": "stdout",
     "output_type": "stream",
     "text": [
      "james\n",
      "maria\n",
      "['james', 'maria']\n",
      "2명 생성되었습니다\n",
      "james is already registered\n",
      "2명 생성되었습니다\n"
     ]
    }
   ],
   "source": [
    "class Person:\n",
    "    count=0\n",
    "    key_list=[]\n",
    "    \n",
    "    def __init__(self,key):\n",
    "        self.key=key\n",
    "        if self.key not in Person.key_list:\n",
    "            print(self.key)\n",
    "            Person.key_list.append(self.key)\n",
    "            Person.count += 1\n",
    "        else:\n",
    "            print(f\"{key} is already registered\")\n",
    "    @classmethod\n",
    "    def print_count(cls):\n",
    "        print(f\"{cls.count}명 생성되었습니다\")\n",
    "        \n",
    "james=Person(key=\"james\")\n",
    "maria=Person(key=\"maria\")\n",
    "\n",
    "print(Person.key_list)\n",
    "Person.print_count()\n",
    "\n",
    "james=Person(key=\"james\")\n",
    "Person.print_count()"
   ]
  },
  {
   "cell_type": "code",
   "execution_count": 376,
   "id": "treated-warren",
   "metadata": {},
   "outputs": [
    {
     "data": {
      "text/plain": [
       "'key1'"
      ]
     },
     "execution_count": 376,
     "metadata": {},
     "output_type": "execute_result"
    }
   ],
   "source": []
  },
  {
   "cell_type": "markdown",
   "id": "electrical-journey",
   "metadata": {},
   "source": [
    "## 35.5 연습문제 : 날짜 클래스 만들기\n",
    "\n",
    "- 다음 소스 코드에서 Date 클래스를 완성하세요. is_date_valid는 문자열이 올바른 날짜인지 검사하는 메서드입니다\n",
    "- 날짜에서 월은 12월까지 일은 31일까지 있어야 합니다"
   ]
  },
  {
   "cell_type": "code",
   "execution_count": 403,
   "id": "surprising-beauty",
   "metadata": {},
   "outputs": [
    {
     "name": "stdout",
     "output_type": "stream",
     "text": [
      "올바른 날짜 형식입니다\n"
     ]
    }
   ],
   "source": [
    "class Date:\n",
    "    \n",
    "    @staticmethod\n",
    "    def is_date_valid(date):\n",
    "        y,m,d=map(int, date.split(\"-\"))\n",
    "        return m >= 1 and m <= 12 and d >= 1 and d <= 31\n",
    "            \n",
    "if Date.is_date_valid(\"2000-10-31\"):\n",
    "    print(\"올바른 날짜 형식입니다\")\n",
    "else:\n",
    "    print(\"잘못된 날짜 형식입니다\")"
   ]
  },
  {
   "cell_type": "markdown",
   "id": "moving-anxiety",
   "metadata": {},
   "source": [
    "## 35.6 심사문제 : 시간 클래스 만들기\n",
    "\n",
    "- 표준입력으로 시:분:초 형식의 시간이 입력된다\n",
    "- 다음 소스코드에서 Time 클래스를 완성하여 시,분,초가 출력되게 만드시오\n",
    "- from_string은 문자열로 인스턴스를 만드는 메서드이며\n",
    "- is_time_valid는 문자열이 올바른 시간인지 검사하는 메서드입니다\n",
    "- 시간은 24시까지, 분은 59분까지, 초는 60초까지 있어야 합니다"
   ]
  },
  {
   "cell_type": "code",
   "execution_count": null,
   "id": "serial-mapping",
   "metadata": {},
   "outputs": [],
   "source": []
  },
  {
   "cell_type": "code",
   "execution_count": 409,
   "id": "extensive-composer",
   "metadata": {},
   "outputs": [
    {
     "name": "stdout",
     "output_type": "stream",
     "text": [
      "잘못된 시간 형식입니다\n"
     ]
    }
   ],
   "source": [
    "date=\"23:66:59\"\n",
    "class Time:\n",
    "    def __init__(self, date):\n",
    "        self.h,self.m,self.s=map(int, date.split(\":\"))  \n",
    "    def is_time_valid(self):\n",
    "        if self.h <= 24 and self.m <=59 and self.s <=60:\n",
    "            print(f\"{self.h} {self.m} {self.s}\")\n",
    "        else:\n",
    "            print(\"잘못된 시간 형식입니다\")\n",
    "t=Time(date).is_time_valid()"
   ]
  },
  {
   "cell_type": "markdown",
   "id": "automotive-process",
   "metadata": {},
   "source": [
    "# Unit. 36 클래스 상속 사용하기\n",
    "\n",
    "- 클래스 상속은 물려받은 기능을 유지한 채로 다른 기능을 추가할 때 사용하는 기능입니다\n",
    "- 여기서 기능을 물려주는 클래스를 기반 클래스, 상속을 받아 새롭게 만드는 클래스를 파생 클래스라고 합니다\n",
    "- 보통 기반 클래스는 부모 클래스(parent class), 슈퍼 클래스(super class)라고 부르고\n",
    "- 파생 클래스는 자식 클래스(child class), 서브 클래스(sub class)라고 부릅니다"
   ]
  },
  {
   "cell_type": "markdown",
   "id": "annoying-stranger",
   "metadata": {},
   "source": [
    "## 36.1 사람 클래스로 학생 클래스 만들기"
   ]
  },
  {
   "cell_type": "code",
   "execution_count": 410,
   "id": "breeding-white",
   "metadata": {},
   "outputs": [
    {
     "name": "stdout",
     "output_type": "stream",
     "text": [
      "안녕하세요\n",
      "공부하기\n"
     ]
    }
   ],
   "source": [
    "class Person:\n",
    "    def greeting(self):\n",
    "        print(\"안녕하세요\")\n",
    "class Student(Person):\n",
    "    def study(self):\n",
    "        print(\"공부하기\")\n",
    "        \n",
    "james=Student()\n",
    "james.greeting()\n",
    "james.study()"
   ]
  },
  {
   "cell_type": "code",
   "execution_count": 423,
   "id": "egyptian-overview",
   "metadata": {},
   "outputs": [
    {
     "name": "stdout",
     "output_type": "stream",
     "text": [
      "안녕하세요 Person\n",
      "공부하기 Student\n"
     ]
    }
   ],
   "source": [
    "class Person:\n",
    "    def greeting(self):\n",
    "        print(f\"안녕하세요 {Person.__name__}\")\n",
    "        \n",
    "class Student(Person):\n",
    "    def study(self):\n",
    "        print(f\"공부하기 {Student.__name__}\")\n",
    "        \n",
    "james=Student()\n",
    "james.greeting()\n",
    "james.study()"
   ]
  },
  {
   "cell_type": "markdown",
   "id": "later-donna",
   "metadata": {},
   "source": [
    "### 상속관계 확인하기\n",
    "\n",
    "- 클래스의 상속 관계를 확인하고 싶을 때는 issubclass함수를 사용한다.\n",
    "- 즉, 클래스가 기반 클래스의 파생 클래스인지 확인한다. "
   ]
  },
  {
   "cell_type": "code",
   "execution_count": 432,
   "id": "dietary-bacteria",
   "metadata": {},
   "outputs": [
    {
     "data": {
      "text/plain": [
       "True"
      ]
     },
     "execution_count": 432,
     "metadata": {},
     "output_type": "execute_result"
    }
   ],
   "source": [
    "class Person:\n",
    "    pass\n",
    "\n",
    "class Student(Person):\n",
    "    pass\n",
    "\n",
    "class Parent(Person):\n",
    "    pass\n",
    "\n",
    "issubclass(Student, Person)"
   ]
  },
  {
   "cell_type": "markdown",
   "id": "imposed-david",
   "metadata": {},
   "source": [
    "## 36.2 상속관계와 포함관계 알아보기"
   ]
  },
  {
   "cell_type": "code",
   "execution_count": null,
   "id": "sunrise-earth",
   "metadata": {},
   "outputs": [],
   "source": [
    "class Person:\n",
    "    def greeting(self):\n",
    "        print(\"안녕하세요\")\n",
    "        \n",
    "class Student(Person):\n",
    "    def study(self):\n",
    "        print(\"공부하기\")"
   ]
  },
  {
   "cell_type": "markdown",
   "id": "quality-genome",
   "metadata": {},
   "source": [
    "## 36.3 기반 클래스의 속성 사용하기"
   ]
  },
  {
   "cell_type": "code",
   "execution_count": 433,
   "id": "manufactured-tribute",
   "metadata": {},
   "outputs": [
    {
     "name": "stdout",
     "output_type": "stream",
     "text": [
      "Student __init__\n",
      "학교\n"
     ]
    },
    {
     "ename": "AttributeError",
     "evalue": "'Student' object has no attribute 'hello'",
     "output_type": "error",
     "traceback": [
      "\u001b[1;31m---------------------------------------------------------------------------\u001b[0m",
      "\u001b[1;31mAttributeError\u001b[0m                            Traceback (most recent call last)",
      "\u001b[1;32m<ipython-input-433-b7e3d2b574a9>\u001b[0m in \u001b[0;36m<module>\u001b[1;34m\u001b[0m\n\u001b[0;32m     11\u001b[0m \u001b[0mjames\u001b[0m\u001b[1;33m=\u001b[0m\u001b[0mStudent\u001b[0m\u001b[1;33m(\u001b[0m\u001b[1;33m)\u001b[0m\u001b[1;33m\u001b[0m\u001b[1;33m\u001b[0m\u001b[0m\n\u001b[0;32m     12\u001b[0m \u001b[0mprint\u001b[0m\u001b[1;33m(\u001b[0m\u001b[0mjames\u001b[0m\u001b[1;33m.\u001b[0m\u001b[0mschool\u001b[0m\u001b[1;33m)\u001b[0m\u001b[1;33m\u001b[0m\u001b[1;33m\u001b[0m\u001b[0m\n\u001b[1;32m---> 13\u001b[1;33m \u001b[0mprint\u001b[0m\u001b[1;33m(\u001b[0m\u001b[0mjames\u001b[0m\u001b[1;33m.\u001b[0m\u001b[0mhello\u001b[0m\u001b[1;33m)\u001b[0m\u001b[1;33m\u001b[0m\u001b[1;33m\u001b[0m\u001b[0m\n\u001b[0m",
      "\u001b[1;31mAttributeError\u001b[0m: 'Student' object has no attribute 'hello'"
     ]
    }
   ],
   "source": [
    "class Person:\n",
    "    def __init__(self):\n",
    "        print(f\"{Person.__name__} __init__\")\n",
    "        self.hello = \"안녕하세요\"\n",
    "        \n",
    "class Student(Person):\n",
    "    def __init__(self):\n",
    "        print(f\"{Student.__name__} __init__\")\n",
    "        self.school = \"학교\"\n",
    "        \n",
    "james=Student()\n",
    "print(james.school)\n",
    "print(james.hello)"
   ]
  },
  {
   "cell_type": "markdown",
   "id": "urban-speed",
   "metadata": {},
   "source": [
    "- 기반 클래스의 Person의 __init__메서드가 호출되지 않았기 때문에 __init__이 실행되지 않음"
   ]
  },
  {
   "cell_type": "code",
   "execution_count": 437,
   "id": "married-adjustment",
   "metadata": {},
   "outputs": [
    {
     "name": "stdout",
     "output_type": "stream",
     "text": [
      "Person __init__\n",
      "Student __init__\n",
      "학교\n",
      "안녕하세요\n"
     ]
    }
   ],
   "source": [
    "class Person:\n",
    "    def __init__(self):\n",
    "        print(f\"{Person.__name__} __init__\")\n",
    "        self.hello = \"안녕하세요\"\n",
    "        \n",
    "class Student(Person):\n",
    "    def __init__(self):\n",
    "        self.p=Person()\n",
    "        print(f\"{Student.__name__} __init__\")\n",
    "        self.school = \"학교\"\n",
    "        \n",
    "james=Student()\n",
    "print(james.school)\n",
    "print(james.p.hello)"
   ]
  },
  {
   "cell_type": "markdown",
   "id": "irish-poultry",
   "metadata": {},
   "source": [
    "- james의 __init__에서 james의 생성자로 Person함수를 호출하였음\n",
    "- 그리고 james.p.hello를 하면 동작함"
   ]
  },
  {
   "cell_type": "markdown",
   "id": "relevant-clearing",
   "metadata": {},
   "source": [
    "### 36.3.1 super()로 기반 클래스 초기화하기\n",
    "\n",
    "- 이 때는 super()를 사용해서 기반 클래스의 __init__메서드를 호출해줍니다.\n",
    "- 다음과 같이 super()뒤에 .을 붙여서 메서드를 호출하는 방식입니다.\n",
    "- 위와 같이 이상하게 할 필요 없이 super를 쓰면 된다"
   ]
  },
  {
   "cell_type": "code",
   "execution_count": 440,
   "id": "distinguished-request",
   "metadata": {},
   "outputs": [
    {
     "name": "stdout",
     "output_type": "stream",
     "text": [
      "Student __init__\n",
      "Person __init__\n",
      "파이썬 코딩 도장\n",
      "안녕하세요.\n"
     ]
    }
   ],
   "source": [
    "class Person:\n",
    "    def __init__(self):\n",
    "        print(f\"{Person.__name__} __init__\")\n",
    "        self.hello = '안녕하세요.'\n",
    "        \n",
    "class Student(Person):\n",
    "    def __init__(self):\n",
    "        print(f\"{Student.__name__} __init__\")\n",
    "        super().__init__()\n",
    "        self.school = \"파이썬 코딩 도장\"\n",
    "        \n",
    "james = Student()\n",
    "print(james.school)\n",
    "print(james.hello)"
   ]
  },
  {
   "cell_type": "markdown",
   "id": "restricted-administrator",
   "metadata": {},
   "source": [
    "### 36.3.2 기반 클래스를 초기화하지 않아도 되는 경우\n",
    "\n",
    "- 파생클래스(Student)에 __init__메서드가 없다면 기반 클래스의 __init__이 자동으로 호출되므로 기반 클래스의 속성을 사용할 수 없습니다."
   ]
  },
  {
   "cell_type": "code",
   "execution_count": 442,
   "id": "biblical-mineral",
   "metadata": {},
   "outputs": [
    {
     "name": "stdout",
     "output_type": "stream",
     "text": [
      "Person __init__\n",
      "안녕하세요.\n"
     ]
    }
   ],
   "source": [
    "class Person:\n",
    "    def __init__(self):\n",
    "        print(\"Person __init__\")\n",
    "        self.hello=\"안녕하세요.\"\n",
    "class Student(Person):\n",
    "    pass\n",
    "\n",
    "james=Student()\n",
    "print(james.hello)"
   ]
  },
  {
   "cell_type": "markdown",
   "id": "valuable-forward",
   "metadata": {},
   "source": [
    "#### 좀 더 명확하게 super 사용하기\n",
    "\n",
    "- super는 다음과 같이 파생클래스와 self를 넣어서 현재 클래스가 어떤 클래스인지 명확하게 표시하는 방법도 있습니다"
   ]
  },
  {
   "cell_type": "code",
   "execution_count": 445,
   "id": "comparative-drawing",
   "metadata": {},
   "outputs": [
    {
     "name": "stdout",
     "output_type": "stream",
     "text": [
      "Student __init__\n",
      "Person __init__\n",
      "안녕하세요.\n"
     ]
    }
   ],
   "source": [
    "class Person:\n",
    "    def __init__(self):\n",
    "        print(\"Person __init__\")\n",
    "        self.hello=\"안녕하세요.\"\n",
    "\n",
    "class Student(Person):\n",
    "    def __init__(self):\n",
    "        print(\"Student __init__\")\n",
    "        super(Student, self).__init__() # super(파생클래스, self)로 기반 클래스의 메서드 호출\n",
    "        self.school = '파이썬 코딩 도장'\n",
    "\n",
    "james=Student()\n",
    "print(james.hello)"
   ]
  },
  {
   "cell_type": "markdown",
   "id": "phantom-participation",
   "metadata": {},
   "source": [
    "## 36.4 메서드 오버라이딩 사용하기\n",
    "\n",
    "- 이번에는 파생클래스에서 기반클래스의 메서드를 새로 정의하는 메서드 오버라이딩에 대해서 알아본다\n",
    "- 다음과 같이 Person의 greeting 메서드가 있는 상태에서 Student에도 greeting메서드를 만든다\n",
    "- 오버라이딩은 무시하다, 우선하다라는 뜻이 있는데 말 그대로 기반 클래스의 메서드를 무시하고 새로운 메서드를 만든다는 뜻\n",
    "- 사용하는 이유는 보통 프로그램에서 어떤 기능이 같은 메서드 이름으로 계속 사용되어야 할 때 메서드 오버라이딩을 활용한다"
   ]
  },
  {
   "cell_type": "code",
   "execution_count": 446,
   "id": "separated-billion",
   "metadata": {},
   "outputs": [
    {
     "name": "stdout",
     "output_type": "stream",
     "text": [
      "안녕하세요. 저는 파이썬\n"
     ]
    }
   ],
   "source": [
    "class Person:\n",
    "    def greeting(self):\n",
    "        print(\"안녕하세요.\")\n",
    "class Student(Person):\n",
    "    def greeting(self):\n",
    "        print(\"안녕하세요. 저는 파이썬\")\n",
    "        \n",
    "james=Student()\n",
    "james.greeting()"
   ]
  },
  {
   "cell_type": "markdown",
   "id": "instant-renewal",
   "metadata": {},
   "source": [
    "- 하지만 gretting메서드를 보면 안녕하세요라는 문구가 중복됩니다\n",
    "- 이럴 때는 기반 클래스의 메서드를 재활용하면 중복을 줄일 수 있습니다\n",
    "- 다음과 같이 오버라이딩 된 메서드에서 super()로 기반 클래스의 메서드를 호출해보자"
   ]
  },
  {
   "cell_type": "code",
   "execution_count": 471,
   "id": "handled-programmer",
   "metadata": {},
   "outputs": [
    {
     "name": "stdout",
     "output_type": "stream",
     "text": [
      "안녕하세요. A\n",
      "안녕하세요 !!\n",
      "안녕하세요. B\n",
      "안녕하세요 !!\n"
     ]
    }
   ],
   "source": [
    "class Person:\n",
    "    def greeting(self, name=\"\"):\n",
    "        print(f\"안녕하세요. {name}\")\n",
    "\n",
    "class Student(Person):\n",
    "    def greeting1(self):\n",
    "        super().greeting(\"A\")\n",
    "        print(\"안녕하세요 !!\")\n",
    "        \n",
    "    def greeting2(self):\n",
    "        super().greeting(\"B\")\n",
    "        print(\"안녕하세요 !!\")\n",
    "        \n",
    "james=Student()\n",
    "james.greeting1()\n",
    "james.greeting2()"
   ]
  },
  {
   "cell_type": "markdown",
   "id": "neural-yemen",
   "metadata": {},
   "source": [
    "## 36.5 다중 상속 사용하기"
   ]
  },
  {
   "cell_type": "code",
   "execution_count": 476,
   "id": "alert-huntington",
   "metadata": {},
   "outputs": [
    {
     "name": "stdout",
     "output_type": "stream",
     "text": [
      "안녕하세요 Person greeting\n",
      "University greeting\n",
      "학점관리\n",
      "공부하기\n"
     ]
    }
   ],
   "source": [
    "class Person:\n",
    "    def greeting(self):\n",
    "        print(\"안녕하세요 Person greeting\")\n",
    "        \n",
    "class University:\n",
    "    def manage_credit(self):\n",
    "        print(\"학점관리\")\n",
    "        \n",
    "    def greeting(self):\n",
    "        super().greeting()\n",
    "\n",
    "    def greeting1(self):\n",
    "        print(\"University greeting\")\n",
    "        \n",
    "class Undergraduate(Person, University):\n",
    "    def study(self):\n",
    "        print(\"공부하기\")\n",
    "        \n",
    "james=Undergraduate()\n",
    "james.greeting()\n",
    "james.greeting1()\n",
    "james.manage_credit()\n",
    "james.study()"
   ]
  },
  {
   "cell_type": "markdown",
   "id": "allied-nitrogen",
   "metadata": {},
   "source": [
    "### 36.5.1 다이아몬드 상속\n",
    "\n",
    "- 이 상황에서 greeting을 호출하면 어떤 것을 먼저 호출할지 애매하다\n",
    "- 그래서 문제가 많다고 해서 죽음의 다이아몬드라고 부른다"
   ]
  },
  {
   "cell_type": "code",
   "execution_count": 477,
   "id": "conventional-happiness",
   "metadata": {},
   "outputs": [
    {
     "name": "stdout",
     "output_type": "stream",
     "text": [
      "안녕하세요 B\n"
     ]
    }
   ],
   "source": [
    "class A:\n",
    "    def greeting(self):\n",
    "        print(\"안녕하세요 A\")\n",
    "class B:\n",
    "    def greeting(self):\n",
    "        print(\"안녕하세요 B\")\n",
    "class C:\n",
    "    def greeting(self):\n",
    "        print(\"안녕하세요 C\")\n",
    "class D(B,C):\n",
    "    pass\n",
    "\n",
    "x=D()\n",
    "x.greeting()"
   ]
  },
  {
   "cell_type": "markdown",
   "id": "studied-campaign",
   "metadata": {},
   "source": [
    "### 36.5.2 메서드 탐색 순서 확인하기\n",
    "\n",
    "- 이에 대한 해결책으로 메서드 탐색 순서를 활용할 수 있다\n",
    "- mro에 따르면 D의 메서드 호출 순서는 자기 자신, 그 다음이 B이다.\n",
    "- 따라서 D로 인스턴스를 만들고 greeting을 호출하면 B의 greeting이 호출된다(D의 greeting 메서드가 없으므로)"
   ]
  },
  {
   "cell_type": "code",
   "execution_count": 479,
   "id": "suited-bride",
   "metadata": {},
   "outputs": [
    {
     "data": {
      "text/plain": [
       "[__main__.D, __main__.B, __main__.C, object]"
      ]
     },
     "execution_count": 479,
     "metadata": {},
     "output_type": "execute_result"
    }
   ],
   "source": [
    "D.mro()"
   ]
  },
  {
   "cell_type": "markdown",
   "id": "automotive-nylon",
   "metadata": {},
   "source": [
    "#### 참고 : object 클래스\n",
    "\n",
    "- 파이썬에서 object는 모든 클래스의 조상이다 그래서 int의 MRO를 출력해보면 int 자기자신과 object가 출력된다"
   ]
  },
  {
   "cell_type": "code",
   "execution_count": 480,
   "id": "appointed-surfing",
   "metadata": {},
   "outputs": [
    {
     "data": {
      "text/plain": [
       "[int, object]"
      ]
     },
     "execution_count": 480,
     "metadata": {},
     "output_type": "execute_result"
    }
   ],
   "source": [
    "int.mro()"
   ]
  },
  {
   "cell_type": "markdown",
   "id": "rural-hamburg",
   "metadata": {},
   "source": [
    "- 파이썬3에서 모든 클래스는 object클래스를 상속받으므로 기본적으로 object를 생략한다 다음과 같이 클래스를 정의한다면"
   ]
  },
  {
   "cell_type": "code",
   "execution_count": 481,
   "id": "accompanied-niger",
   "metadata": {},
   "outputs": [],
   "source": [
    "class X:\n",
    "    pass"
   ]
  },
  {
   "cell_type": "markdown",
   "id": "crucial-sociology",
   "metadata": {},
   "source": [
    "- 괄호 안에 object를 넣은 것과 같습니다"
   ]
  },
  {
   "cell_type": "code",
   "execution_count": 482,
   "id": "instructional-separation",
   "metadata": {},
   "outputs": [],
   "source": [
    "class X(object):\n",
    "    pass"
   ]
  },
  {
   "cell_type": "markdown",
   "id": "adverse-prerequisite",
   "metadata": {},
   "source": [
    "- 파이썬 2에서는 class X:가 old-style 클래스를 만들고 class X(object):가 new-style클래스를 만들었습니다\n",
    "- 그래서 파이썬 2에서는 이 둘을 구분해서 사용해야 했지만, 파이썬3에서는 old-style클래스가 삭제되었습니다\n",
    "- 따라서 파이썬 3에서는 괄호안에 object를 넣어도 되고 넣지 않아도 됩니다."
   ]
  },
  {
   "cell_type": "markdown",
   "id": "identified-magnitude",
   "metadata": {},
   "source": [
    "## 36.6 추상 클래스 사용하기\n",
    "\n",
    "- 추상 클래스는 메서드의 목록만 가진 클래스이며 상속받는 클래스에서 메서드 구현을 강제하기 위해 사용한다\n",
    "- 먼저 추상클래스를 만들려면 import로 abc 모듈을 가져와야 한다\n",
    "- 그리고 클래스의 괄호 안에 metaclass=ABCMeta를 지정하고 메서드를 만들 때 위에 @abstractmethod를 붙여서 추상 메서드로 지정합니다"
   ]
  },
  {
   "cell_type": "code",
   "execution_count": 483,
   "id": "valued-conflict",
   "metadata": {},
   "outputs": [
    {
     "ename": "TypeError",
     "evalue": "Can't instantiate abstract class Student with abstract methods go_to_school",
     "output_type": "error",
     "traceback": [
      "\u001b[1;31m---------------------------------------------------------------------------\u001b[0m",
      "\u001b[1;31mTypeError\u001b[0m                                 Traceback (most recent call last)",
      "\u001b[1;32m<ipython-input-483-3f05e1c1d098>\u001b[0m in \u001b[0;36m<module>\u001b[1;34m\u001b[0m\n\u001b[0;32m     13\u001b[0m         \u001b[0mprint\u001b[0m\u001b[1;33m(\u001b[0m\u001b[1;34m\"공부하기\"\u001b[0m\u001b[1;33m)\u001b[0m\u001b[1;33m\u001b[0m\u001b[1;33m\u001b[0m\u001b[0m\n\u001b[0;32m     14\u001b[0m \u001b[1;33m\u001b[0m\u001b[0m\n\u001b[1;32m---> 15\u001b[1;33m \u001b[0mjames\u001b[0m\u001b[1;33m=\u001b[0m\u001b[0mStudent\u001b[0m\u001b[1;33m(\u001b[0m\u001b[1;33m)\u001b[0m\u001b[1;33m\u001b[0m\u001b[1;33m\u001b[0m\u001b[0m\n\u001b[0m\u001b[0;32m     16\u001b[0m \u001b[0mjames\u001b[0m\u001b[1;33m.\u001b[0m\u001b[0mstudy\u001b[0m\u001b[1;33m(\u001b[0m\u001b[1;33m)\u001b[0m\u001b[1;33m\u001b[0m\u001b[1;33m\u001b[0m\u001b[0m\n",
      "\u001b[1;31mTypeError\u001b[0m: Can't instantiate abstract class Student with abstract methods go_to_school"
     ]
    }
   ],
   "source": [
    "from abc import *\n",
    "class StudentBase(metaclass=ABCMeta):\n",
    "    @abstractmethod\n",
    "    def study(self):\n",
    "        pass\n",
    "    \n",
    "    @abstractmethod\n",
    "    def go_to_school(self):\n",
    "        pass\n",
    "    \n",
    "class Student(StudentBase):\n",
    "    def study(self):\n",
    "        print(\"공부하기\")\n",
    "\n",
    "# 추상 클래스인 go_to_school을 구현하지 않아서 에러가 발생한다\n",
    "james=Student()\n",
    "james.study()"
   ]
  },
  {
   "cell_type": "markdown",
   "id": "collectible-flush",
   "metadata": {},
   "source": [
    "- 따라서 추상 클래스를 상속받았다면 @abstactmethod가 붙은 추상 메서드를 모두 구현해야 한다"
   ]
  },
  {
   "cell_type": "code",
   "execution_count": 486,
   "id": "stopped-interest",
   "metadata": {},
   "outputs": [
    {
     "name": "stdout",
     "output_type": "stream",
     "text": [
      "공부하기\n"
     ]
    }
   ],
   "source": [
    "from abc import *\n",
    "\n",
    "class StudentBase(metaclass=ABCMeta):\n",
    "    @abstractmethod\n",
    "    def study(self):\n",
    "        pass\n",
    "    \n",
    "    @abstractmethod\n",
    "    def go_to_school(self):\n",
    "        pass\n",
    "    \n",
    "class Student(StudentBase):\n",
    "    def study(self):\n",
    "        print(\"공부하기\")\n",
    "    def go_to_school(self):\n",
    "        print(\"학교가기\")\n",
    "        \n",
    "james=Student()\n",
    "james.study()"
   ]
  },
  {
   "cell_type": "markdown",
   "id": "material-elder",
   "metadata": {},
   "source": [
    "## 36.8 연습문제 : 리스트에 기능 추가하기\n",
    "\n",
    "- 다음 소스코드에서 리스트에 replace메서드를 추가한 AdvancedList 클래스를 작성하세요\n",
    "- AdvancedList는 list를 상속받아서 만들고 replace메서드는 리스트에서 특정 값으로 된 요소를 찾아서 다른 값으로 바꾸도록 만드세요"
   ]
  },
  {
   "cell_type": "code",
   "execution_count": null,
   "id": "sophisticated-pitch",
   "metadata": {},
   "outputs": [],
   "source": []
  },
  {
   "cell_type": "markdown",
   "id": "robust-programming",
   "metadata": {},
   "source": [
    "My"
   ]
  },
  {
   "cell_type": "code",
   "execution_count": 545,
   "id": "acquired-alliance",
   "metadata": {},
   "outputs": [
    {
     "data": {
      "text/plain": [
       "[100, 2, 31, 100, 31, 2, 3]"
      ]
     },
     "execution_count": 545,
     "metadata": {},
     "output_type": "execute_result"
    }
   ],
   "source": [
    "class AdvanceList(list):\n",
    "    def __init__(self,lst):\n",
    "        self.lst=lst\n",
    "        \n",
    "    def replace(self,old,new):\n",
    "        for idx in range(len(self.lst)):\n",
    "            if self.lst[idx] == old:\n",
    "                self.lst[idx] = new\n",
    "\n",
    "x=AdvanceList([1,2,31,1,31,2,3])\n",
    "x.replace(1,100)\n",
    "x.lst"
   ]
  },
  {
   "cell_type": "code",
   "execution_count": null,
   "id": "desperate-commission",
   "metadata": {},
   "outputs": [],
   "source": []
  },
  {
   "cell_type": "code",
   "execution_count": 549,
   "id": "other-hudson",
   "metadata": {},
   "outputs": [
    {
     "name": "stdout",
     "output_type": "stream",
     "text": [
      "[100, 2, 31, 100, 31, 2, 3]\n"
     ]
    }
   ],
   "source": [
    "# list 클래스를 상속하면 self 자체가 리스트가 되므로 이렇게 하는 것이 효율적이다\n",
    "\n",
    "class AdvancedList(list):\n",
    "    def replace(self,old,new):\n",
    "        while old in self:\n",
    "            self[self.index(old)]=new\n",
    "x=AdvancedList([1,2,31,1,31,2,3])\n",
    "x.replace(1,100)\n",
    "print(x)"
   ]
  },
  {
   "cell_type": "markdown",
   "id": "cross-ranch",
   "metadata": {},
   "source": [
    "## 36.9 심사문제 : 다중상속 사용하기\n",
    "\n",
    "- 동물 클래스 Animal과 날개 클래스 Wing을 상속받아 새 클래스 Bird를 작성하여 '먹다', '파닥거리다','날다',True,True가 각 줄에 출력되게 만드세요"
   ]
  },
  {
   "cell_type": "code",
   "execution_count": 562,
   "id": "northern-lexington",
   "metadata": {},
   "outputs": [
    {
     "name": "stdout",
     "output_type": "stream",
     "text": [
      "먹다\n",
      "파닥거리다\n",
      "날다\n",
      "True\n",
      "True\n"
     ]
    }
   ],
   "source": [
    "class Animal:\n",
    "        \n",
    "    def eat(self):\n",
    "        print(\"먹다\")\n",
    "\n",
    "class Wing:\n",
    "    def flap(self):\n",
    "        print(\"파닥거리다\")\n",
    "\n",
    "class Bird(Animal, Wing):\n",
    "    def __init__(self, base2):\n",
    "        self.base2=\"새\"\n",
    "        \n",
    "    def fly(self):\n",
    "        print(\"날다\")\n",
    "        \n",
    "b=Bird(\"새\")\n",
    "b.eat()\n",
    "b.flap()\n",
    "b.fly()\n",
    "print(issubclass(Bird, Animal))\n",
    "print(issubclass(Bird, Wing))"
   ]
  },
  {
   "cell_type": "markdown",
   "id": "paperback-mongolia",
   "metadata": {},
   "source": [
    "### 심화\n",
    "\n",
    "- Animal에는 base라고 하는 클래스 변수가 있고\n",
    "- Bird에는 새라고 하는 클래스 변수가 있도록"
   ]
  },
  {
   "cell_type": "code",
   "execution_count": null,
   "id": "mature-wednesday",
   "metadata": {},
   "outputs": [],
   "source": []
  },
  {
   "cell_type": "code",
   "execution_count": 564,
   "id": "processed-completion",
   "metadata": {},
   "outputs": [
    {
     "name": "stdout",
     "output_type": "stream",
     "text": [
      "먹다\n",
      "파닥거리다\n",
      "날다\n",
      "True\n",
      "True\n"
     ]
    }
   ],
   "source": [
    "class Animal:\n",
    "    def __init__(self, base):\n",
    "        self.base = base\n",
    "        \n",
    "    def eat(self):\n",
    "        print(\"먹다\")\n",
    "\n",
    "class Wing:\n",
    "    def flap(self):\n",
    "        print(\"파닥거리다\")\n",
    "\n",
    "class Bird(Animal, Wing):\n",
    "    def __init__(self, base_cls, base2): # Bird의 생성자로 Animal 클래스를 받음\n",
    "        super().__init__(base_cls.base)  # Animal 클래스의 base 생성자를 super화 -> Bird 클래스로 상속\n",
    "        self.base2=\"새\"                  # 이렇게 하는 이유는 Animal 클래스를 상속만 받았을 때는 Animal.base에 접근할 수 없기 때문\n",
    "        \n",
    "    def fly(self):\n",
    "        print(\"날다\")\n",
    "\n",
    "a=Animal(\"동물\")\n",
    "b=Bird(a,\"새\")\n",
    "b.eat()\n",
    "b.flap()\n",
    "b.fly()\n",
    "print(issubclass(Bird, Animal))\n",
    "print(issubclass(Bird, Wing))"
   ]
  },
  {
   "cell_type": "code",
   "execution_count": 565,
   "id": "suspended-preliminary",
   "metadata": {},
   "outputs": [
    {
     "data": {
      "text/plain": [
       "('동물', '새')"
      ]
     },
     "execution_count": 565,
     "metadata": {},
     "output_type": "execute_result"
    }
   ],
   "source": [
    "b.base, b.base2"
   ]
  },
  {
   "cell_type": "markdown",
   "id": "interstate-simulation",
   "metadata": {},
   "source": [
    "# Unit.37 두 점 사이의 거리 구하기"
   ]
  },
  {
   "cell_type": "code",
   "execution_count": 570,
   "id": "gorgeous-official",
   "metadata": {},
   "outputs": [
    {
     "data": {
      "text/plain": [
       "42.42640687119285"
      ]
     },
     "execution_count": 570,
     "metadata": {},
     "output_type": "execute_result"
    }
   ],
   "source": [
    "class Point2D:\n",
    "    def __init__(self, x,y):\n",
    "        self.x=x\n",
    "        self.y=y\n",
    "p1=Point2D(30,20)\n",
    "p2=Point2D(60,50)\n",
    "\n",
    "import math\n",
    "\n",
    "math.sqrt((p1.x-p2.x)**2 + ((p1.y-p2.y)**2))"
   ]
  },
  {
   "cell_type": "markdown",
   "id": "starting-ballet",
   "metadata": {},
   "source": [
    "## 37.2 연습문제 : 사각형의 넓이 구하기"
   ]
  },
  {
   "cell_type": "code",
   "execution_count": 573,
   "id": "rising-gallery",
   "metadata": {},
   "outputs": [
    {
     "name": "stdout",
     "output_type": "stream",
     "text": [
      "200\n"
     ]
    }
   ],
   "source": [
    "class Rectangle:\n",
    "    def __init__(self,x1,y1,x2,y2):\n",
    "        self.x1 = x1\n",
    "        self.y1 = y1\n",
    "        self.x2 = x2\n",
    "        self.y2 = y2\n",
    "\n",
    "rect = Rectangle(20,20,40,30)\n",
    "area = abs(rect.x2-rect.x1) * abs(rect.y2 - rect.y1)\n",
    "print(area)"
   ]
  },
  {
   "cell_type": "markdown",
   "id": "greek-workshop",
   "metadata": {},
   "source": [
    "## 37.3 심사문제 : 두 점 사이의 거리 구하기"
   ]
  },
  {
   "cell_type": "code",
   "execution_count": 593,
   "id": "horizontal-chaos",
   "metadata": {},
   "outputs": [
    {
     "name": "stdout",
     "output_type": "stream",
     "text": [
      "10 10\n",
      "20 20\n",
      "30 30\n",
      "40 40\n"
     ]
    }
   ],
   "source": [
    "for i in range(0, len(data)-1,2):\n",
    "    print(data[i],data[i+1])"
   ]
  },
  {
   "cell_type": "code",
   "execution_count": 594,
   "id": "detected-maple",
   "metadata": {},
   "outputs": [
    {
     "name": "stdout",
     "output_type": "stream",
     "text": [
      "10 10 TO 0 0\n",
      "20 20 TO 10 10\n",
      "30 30 TO 20 20\n",
      "40 40 TO 30 30\n",
      "56.568542494923804\n"
     ]
    }
   ],
   "source": [
    "import math\n",
    "\n",
    "class Point2D:\n",
    "    def __init__(self,x=0,y=0):\n",
    "        self.x=x\n",
    "        self.y=y\n",
    "\n",
    "length=0\n",
    "data=[10,10,20,20,30,30,40,40]\n",
    "coord=Point2D()\n",
    "for i in range(0,len(data)-1,2):\n",
    "    print(f\"{data[i]} {data[i+1]} TO {coord.x} {coord.y}\")\n",
    "    length += math.sqrt( (coord.x-data[i])**2 + (coord.y-data[i+1])**2)\n",
    "    coord.x=data[i]\n",
    "    coord.y=data[i+1]\n",
    "    \n",
    "print(length)"
   ]
  },
  {
   "cell_type": "markdown",
   "id": "intimate-hardwood",
   "metadata": {},
   "source": [
    "# Unit. 39 이터레이더 사용하기"
   ]
  },
  {
   "cell_type": "code",
   "execution_count": 597,
   "id": "insured-checklist",
   "metadata": {},
   "outputs": [
    {
     "data": {
      "text/plain": [
       "['__add__',\n",
       " '__class__',\n",
       " '__contains__',\n",
       " '__delattr__',\n",
       " '__delitem__',\n",
       " '__dir__',\n",
       " '__doc__',\n",
       " '__eq__',\n",
       " '__format__',\n",
       " '__ge__',\n",
       " '__getattribute__',\n",
       " '__getitem__',\n",
       " '__gt__',\n",
       " '__hash__',\n",
       " '__iadd__',\n",
       " '__imul__',\n",
       " '__init__',\n",
       " '__init_subclass__',\n",
       " '__iter__',\n",
       " '__le__',\n",
       " '__len__',\n",
       " '__lt__',\n",
       " '__mul__',\n",
       " '__ne__',\n",
       " '__new__',\n",
       " '__reduce__',\n",
       " '__reduce_ex__',\n",
       " '__repr__',\n",
       " '__reversed__',\n",
       " '__rmul__',\n",
       " '__setattr__',\n",
       " '__setitem__',\n",
       " '__sizeof__',\n",
       " '__str__',\n",
       " '__subclasshook__',\n",
       " 'append',\n",
       " 'clear',\n",
       " 'copy',\n",
       " 'count',\n",
       " 'extend',\n",
       " 'index',\n",
       " 'insert',\n",
       " 'pop',\n",
       " 'remove',\n",
       " 'reverse',\n",
       " 'sort']"
      ]
     },
     "execution_count": 597,
     "metadata": {},
     "output_type": "execute_result"
    }
   ],
   "source": [
    "dir([1,2,3])"
   ]
  },
  {
   "cell_type": "code",
   "execution_count": 598,
   "id": "knowing-bulgarian",
   "metadata": {},
   "outputs": [
    {
     "data": {
      "text/plain": [
       "<list_iterator at 0x1da6651d438>"
      ]
     },
     "execution_count": 598,
     "metadata": {},
     "output_type": "execute_result"
    }
   ],
   "source": [
    "[1,2,3].__iter__()"
   ]
  },
  {
   "cell_type": "markdown",
   "id": "interesting-arnold",
   "metadata": {},
   "source": [
    "- 리스트의 이터레이터를 변수에 저장한 뒤 __next__ 메서드를 호출해보면 요소를 차례대로 꺼낼 수 있습니다"
   ]
  },
  {
   "cell_type": "code",
   "execution_count": 602,
   "id": "fitting-helicopter",
   "metadata": {},
   "outputs": [
    {
     "data": {
      "text/plain": [
       "(1, 2, 3)"
      ]
     },
     "execution_count": 602,
     "metadata": {},
     "output_type": "execute_result"
    }
   ],
   "source": [
    "it=[1,2,3].__iter__()\n",
    "it.__next__(), it.__next__(), it.__next__()"
   ]
  },
  {
   "cell_type": "code",
   "execution_count": 604,
   "id": "sapphire-healing",
   "metadata": {},
   "outputs": [
    {
     "data": {
      "text/plain": [
       "(0, 1, 2)"
      ]
     },
     "execution_count": 604,
     "metadata": {},
     "output_type": "execute_result"
    }
   ],
   "source": [
    "it=range(3).__iter__()\n",
    "it.__next__(), it.__next__(), it.__next__()"
   ]
  },
  {
   "cell_type": "markdown",
   "id": "collaborative-remainder",
   "metadata": {},
   "source": [
    "## 39.2 이터레이터 만들기"
   ]
  },
  {
   "cell_type": "code",
   "execution_count": 606,
   "id": "rational-ultimate",
   "metadata": {},
   "outputs": [
    {
     "name": "stdout",
     "output_type": "stream",
     "text": [
      "0 1 2 "
     ]
    }
   ],
   "source": [
    "class Counter:\n",
    "    def __init__(self, stop):\n",
    "        self.current = 0\n",
    "        self.stop = stop\n",
    "        \n",
    "    def __iter__(self):\n",
    "        return self\n",
    "    \n",
    "    def __next__(self):\n",
    "        if self.current < self.stop:\n",
    "            r = self.current\n",
    "            self.current += 1\n",
    "            return r\n",
    "        else:\n",
    "            raise StopIteration\n",
    "            \n",
    "for i in Counter(3):\n",
    "    print(i, end = ' ')"
   ]
  },
  {
   "cell_type": "markdown",
   "id": "dynamic-presence",
   "metadata": {},
   "source": [
    "## 39.4 iter, next 함수 활용하기"
   ]
  },
  {
   "cell_type": "code",
   "execution_count": 608,
   "id": "fifteen-thread",
   "metadata": {},
   "outputs": [
    {
     "data": {
      "text/plain": [
       "(0, 1, 2)"
      ]
     },
     "execution_count": 608,
     "metadata": {},
     "output_type": "execute_result"
    }
   ],
   "source": [
    "it=iter(range(3))\n",
    "next(it), next(it), next(it)"
   ]
  },
  {
   "cell_type": "markdown",
   "id": "growing-deputy",
   "metadata": {},
   "source": [
    "### 39.4.1 iter\n",
    "\n",
    "- 이렇게 반복을 끝낼 값을 지정하면 특정값이 나올 때 반복을 끝내는데, 이 경우에는 반복 가능한 객체 대신 호출 가능한 객체(callable)을 넣어줍니다"
   ]
  },
  {
   "cell_type": "code",
   "execution_count": 626,
   "id": "honest-emphasis",
   "metadata": {},
   "outputs": [
    {
     "data": {
      "text/plain": [
       "(4, 0, 5)"
      ]
     },
     "execution_count": 626,
     "metadata": {},
     "output_type": "execute_result"
    }
   ],
   "source": [
    "import random\n",
    "it=iter(lambda :random.randint(0,5),2)\n",
    "next(it), next(it), next(it)"
   ]
  },
  {
   "cell_type": "markdown",
   "id": "august-present",
   "metadata": {},
   "source": [
    "- 다음과 같이 for 반복문에 넣어서 사용할 수도 있다"
   ]
  },
  {
   "cell_type": "code",
   "execution_count": 654,
   "id": "prerequisite-functionality",
   "metadata": {},
   "outputs": [
    {
     "name": "stdout",
     "output_type": "stream",
     "text": [
      "0 5 4 3 1 5 3 4 3 0 3 5 1 "
     ]
    }
   ],
   "source": [
    "import random\n",
    "\n",
    "for i in iter(lambda:random.randint(0,5),2):\n",
    "    print(i, end=' ')"
   ]
  },
  {
   "cell_type": "markdown",
   "id": "political-humanitarian",
   "metadata": {},
   "source": [
    "### 39.4.2 next\n",
    "\n",
    "- next는 기본값을 지정할 수 있습니다\n",
    "- 기본값을 지정하면 반복이 끝나더라도 StopIteration이 발생하지 않고 기본값을 출력합니다\n",
    "- 즉, 반복할 수 있을 때는 해당 값을 출력하고 반복이 끝났을 때는 기본값을 출력합니다"
   ]
  },
  {
   "cell_type": "code",
   "execution_count": 655,
   "id": "linear-breath",
   "metadata": {},
   "outputs": [
    {
     "name": "stdout",
     "output_type": "stream",
     "text": [
      "0\n",
      "1\n",
      "2\n",
      "10\n",
      "10\n"
     ]
    }
   ],
   "source": [
    "it=iter(range(3))\n",
    "\n",
    "for _ in range(5):\n",
    "    print(next(it, 10))"
   ]
  },
  {
   "cell_type": "markdown",
   "id": "attempted-thesis",
   "metadata": {},
   "source": [
    "## 39.6 연습문제 : 배수 이터레이터 만들기"
   ]
  },
  {
   "cell_type": "markdown",
   "id": "successful-wheat",
   "metadata": {},
   "source": [
    "```py\n",
    "class MultipleIterator:\n",
    "    def __init__(self, stop, multiple):\n",
    "        \"\"\"\n",
    "        something\n",
    "        \"\"\"\n",
    "    def __iter__(self):\n",
    "        return self\n",
    "    \n",
    "    def __next__(self):\n",
    "        \"\"\"\n",
    "        something\n",
    "        \"\"\"\n",
    "        \n",
    "for i in MultipleIterator(20,3):\n",
    "    print(i, end = ' ')\n",
    "    \n",
    "print()\n",
    "\n",
    "for i in MultipleIterator(30,5):\n",
    "    print(i, end = ' ')\n",
    "```"
   ]
  },
  {
   "cell_type": "code",
   "execution_count": 676,
   "id": "streaming-access",
   "metadata": {},
   "outputs": [
    {
     "name": "stdout",
     "output_type": "stream",
     "text": [
      "3 6 9 12 15 18 \n",
      "5 10 15 20 25 "
     ]
    }
   ],
   "source": [
    "class MultipleIterator:\n",
    "    def __init__(self, stop, multiple):\n",
    "        self.stop=stop\n",
    "        self.multiple=multiple\n",
    "        self.current=0\n",
    "    def __iter__(self):\n",
    "        return self\n",
    "    \n",
    "    def __next__(self):\n",
    "        self.current += 1\n",
    "        if self.current*self.multiple < self.stop:\n",
    "            \n",
    "            return self.current * self.multiple\n",
    "            \n",
    "        else:\n",
    "            raise StopIteration\n",
    "        \n",
    "for i in MultipleIterator(20,3):\n",
    "    print(i, end = ' ')\n",
    "    \n",
    "print()\n",
    "\n",
    "for i in MultipleIterator(30,5):\n",
    "    print(i, end = ' ')"
   ]
  },
  {
   "cell_type": "markdown",
   "id": "looking-recording",
   "metadata": {},
   "source": []
  },
  {
   "cell_type": "code",
   "execution_count": null,
   "id": "adopted-bernard",
   "metadata": {},
   "outputs": [],
   "source": []
  },
  {
   "cell_type": "code",
   "execution_count": null,
   "id": "fleet-fraud",
   "metadata": {},
   "outputs": [],
   "source": []
  },
  {
   "cell_type": "code",
   "execution_count": null,
   "id": "major-fields",
   "metadata": {},
   "outputs": [],
   "source": []
  },
  {
   "cell_type": "code",
   "execution_count": null,
   "id": "sonic-sentence",
   "metadata": {},
   "outputs": [],
   "source": []
  },
  {
   "cell_type": "code",
   "execution_count": null,
   "id": "furnished-message",
   "metadata": {},
   "outputs": [],
   "source": []
  },
  {
   "cell_type": "code",
   "execution_count": null,
   "id": "distinct-nepal",
   "metadata": {},
   "outputs": [],
   "source": []
  },
  {
   "cell_type": "code",
   "execution_count": null,
   "id": "continued-aquarium",
   "metadata": {},
   "outputs": [],
   "source": []
  },
  {
   "cell_type": "code",
   "execution_count": null,
   "id": "infinite-newsletter",
   "metadata": {},
   "outputs": [],
   "source": []
  },
  {
   "cell_type": "code",
   "execution_count": null,
   "id": "enclosed-failing",
   "metadata": {},
   "outputs": [],
   "source": []
  },
  {
   "cell_type": "code",
   "execution_count": null,
   "id": "minute-satin",
   "metadata": {},
   "outputs": [],
   "source": []
  },
  {
   "cell_type": "code",
   "execution_count": null,
   "id": "extensive-retirement",
   "metadata": {},
   "outputs": [],
   "source": []
  },
  {
   "cell_type": "code",
   "execution_count": null,
   "id": "numeric-archives",
   "metadata": {},
   "outputs": [],
   "source": []
  },
  {
   "cell_type": "code",
   "execution_count": null,
   "id": "wrapped-summer",
   "metadata": {},
   "outputs": [],
   "source": []
  },
  {
   "cell_type": "code",
   "execution_count": null,
   "id": "threatened-argentina",
   "metadata": {},
   "outputs": [],
   "source": []
  },
  {
   "cell_type": "code",
   "execution_count": null,
   "id": "multiple-interaction",
   "metadata": {},
   "outputs": [],
   "source": []
  },
  {
   "cell_type": "code",
   "execution_count": null,
   "id": "happy-protest",
   "metadata": {},
   "outputs": [],
   "source": []
  },
  {
   "cell_type": "code",
   "execution_count": null,
   "id": "ongoing-transparency",
   "metadata": {},
   "outputs": [],
   "source": []
  },
  {
   "cell_type": "code",
   "execution_count": null,
   "id": "incorporate-angel",
   "metadata": {},
   "outputs": [],
   "source": []
  },
  {
   "cell_type": "code",
   "execution_count": null,
   "id": "handled-myrtle",
   "metadata": {},
   "outputs": [],
   "source": []
  },
  {
   "cell_type": "code",
   "execution_count": null,
   "id": "suburban-military",
   "metadata": {},
   "outputs": [],
   "source": []
  },
  {
   "cell_type": "code",
   "execution_count": null,
   "id": "photographic-compromise",
   "metadata": {},
   "outputs": [],
   "source": []
  },
  {
   "cell_type": "code",
   "execution_count": null,
   "id": "coral-rhythm",
   "metadata": {},
   "outputs": [],
   "source": []
  },
  {
   "cell_type": "code",
   "execution_count": null,
   "id": "latin-scheduling",
   "metadata": {},
   "outputs": [],
   "source": []
  },
  {
   "cell_type": "code",
   "execution_count": null,
   "id": "meaningful-fossil",
   "metadata": {},
   "outputs": [],
   "source": []
  },
  {
   "cell_type": "code",
   "execution_count": null,
   "id": "certain-cabinet",
   "metadata": {},
   "outputs": [],
   "source": []
  },
  {
   "cell_type": "code",
   "execution_count": null,
   "id": "happy-bradford",
   "metadata": {},
   "outputs": [],
   "source": []
  },
  {
   "cell_type": "code",
   "execution_count": null,
   "id": "closed-boating",
   "metadata": {},
   "outputs": [],
   "source": []
  },
  {
   "cell_type": "code",
   "execution_count": null,
   "id": "nuclear-vanilla",
   "metadata": {},
   "outputs": [],
   "source": []
  },
  {
   "cell_type": "code",
   "execution_count": null,
   "id": "false-young",
   "metadata": {},
   "outputs": [],
   "source": []
  },
  {
   "cell_type": "code",
   "execution_count": null,
   "id": "wicked-valve",
   "metadata": {},
   "outputs": [],
   "source": []
  },
  {
   "cell_type": "code",
   "execution_count": null,
   "id": "settled-harassment",
   "metadata": {},
   "outputs": [],
   "source": []
  },
  {
   "cell_type": "code",
   "execution_count": null,
   "id": "republican-sender",
   "metadata": {},
   "outputs": [],
   "source": []
  },
  {
   "cell_type": "code",
   "execution_count": null,
   "id": "induced-valuable",
   "metadata": {},
   "outputs": [],
   "source": []
  },
  {
   "cell_type": "code",
   "execution_count": null,
   "id": "ranking-offset",
   "metadata": {},
   "outputs": [],
   "source": []
  },
  {
   "cell_type": "code",
   "execution_count": null,
   "id": "biological-confidence",
   "metadata": {},
   "outputs": [],
   "source": []
  },
  {
   "cell_type": "code",
   "execution_count": null,
   "id": "mysterious-gardening",
   "metadata": {},
   "outputs": [],
   "source": []
  },
  {
   "cell_type": "code",
   "execution_count": null,
   "id": "subtle-handy",
   "metadata": {},
   "outputs": [],
   "source": []
  },
  {
   "cell_type": "code",
   "execution_count": null,
   "id": "sapphire-header",
   "metadata": {},
   "outputs": [],
   "source": []
  },
  {
   "cell_type": "code",
   "execution_count": null,
   "id": "magnetic-template",
   "metadata": {},
   "outputs": [],
   "source": []
  },
  {
   "cell_type": "code",
   "execution_count": null,
   "id": "loaded-trustee",
   "metadata": {},
   "outputs": [],
   "source": []
  },
  {
   "cell_type": "code",
   "execution_count": null,
   "id": "running-harris",
   "metadata": {},
   "outputs": [],
   "source": []
  },
  {
   "cell_type": "code",
   "execution_count": null,
   "id": "distinct-employment",
   "metadata": {},
   "outputs": [],
   "source": []
  },
  {
   "cell_type": "code",
   "execution_count": null,
   "id": "digital-thickness",
   "metadata": {},
   "outputs": [],
   "source": []
  },
  {
   "cell_type": "code",
   "execution_count": null,
   "id": "brilliant-partition",
   "metadata": {},
   "outputs": [],
   "source": []
  },
  {
   "cell_type": "code",
   "execution_count": null,
   "id": "based-basket",
   "metadata": {},
   "outputs": [],
   "source": []
  },
  {
   "cell_type": "code",
   "execution_count": null,
   "id": "boring-south",
   "metadata": {},
   "outputs": [],
   "source": []
  },
  {
   "cell_type": "code",
   "execution_count": null,
   "id": "traditional-profile",
   "metadata": {},
   "outputs": [],
   "source": []
  },
  {
   "cell_type": "code",
   "execution_count": null,
   "id": "complete-adoption",
   "metadata": {},
   "outputs": [],
   "source": []
  },
  {
   "cell_type": "code",
   "execution_count": null,
   "id": "chubby-disposition",
   "metadata": {},
   "outputs": [],
   "source": []
  },
  {
   "cell_type": "code",
   "execution_count": null,
   "id": "laughing-vehicle",
   "metadata": {},
   "outputs": [],
   "source": []
  },
  {
   "cell_type": "code",
   "execution_count": null,
   "id": "radical-border",
   "metadata": {},
   "outputs": [],
   "source": []
  },
  {
   "cell_type": "code",
   "execution_count": null,
   "id": "artistic-oriental",
   "metadata": {},
   "outputs": [],
   "source": []
  },
  {
   "cell_type": "code",
   "execution_count": null,
   "id": "stunning-maple",
   "metadata": {},
   "outputs": [],
   "source": []
  },
  {
   "cell_type": "code",
   "execution_count": null,
   "id": "marked-syndicate",
   "metadata": {},
   "outputs": [],
   "source": []
  },
  {
   "cell_type": "code",
   "execution_count": null,
   "id": "through-viking",
   "metadata": {},
   "outputs": [],
   "source": []
  },
  {
   "cell_type": "code",
   "execution_count": null,
   "id": "consecutive-arkansas",
   "metadata": {},
   "outputs": [],
   "source": []
  }
 ],
 "metadata": {
  "kernelspec": {
   "display_name": "Python 3",
   "language": "python",
   "name": "python3"
  },
  "language_info": {
   "codemirror_mode": {
    "name": "ipython",
    "version": 3
   },
   "file_extension": ".py",
   "mimetype": "text/x-python",
   "name": "python",
   "nbconvert_exporter": "python",
   "pygments_lexer": "ipython3",
   "version": "3.6.12"
  }
 },
 "nbformat": 4,
 "nbformat_minor": 5
}
