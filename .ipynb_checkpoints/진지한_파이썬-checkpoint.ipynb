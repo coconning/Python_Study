{
 "cells": [
  {
   "cell_type": "code",
   "execution_count": 34,
   "id": "royal-lithuania",
   "metadata": {},
   "outputs": [],
   "source": [
    "%config Completer.use_jedi = False"
   ]
  },
  {
   "cell_type": "markdown",
   "id": "cathedral-pizza",
   "metadata": {},
   "source": [
    "# Chapter. 7 데커레이터"
   ]
  },
  {
   "cell_type": "markdown",
   "id": "proof-oxide",
   "metadata": {},
   "source": [
    "## 7.1.1 데커레이터 만들기"
   ]
  },
  {
   "cell_type": "code",
   "execution_count": 25,
   "id": "confident-andrews",
   "metadata": {},
   "outputs": [
    {
     "data": {
      "text/plain": [
       "<function __main__.foo()>"
      ]
     },
     "execution_count": 25,
     "metadata": {},
     "output_type": "execute_result"
    }
   ],
   "source": [
    "def identity(f):\n",
    "    return f\n",
    "\n",
    "@identity\n",
    "def foo():\n",
    "    return \"bar\"\n",
    "\n",
    "foo"
   ]
  },
  {
   "cell_type": "code",
   "execution_count": 33,
   "id": "atomic-darwin",
   "metadata": {},
   "outputs": [
    {
     "name": "stdout",
     "output_type": "stream",
     "text": [
      "bar\n"
     ]
    }
   ],
   "source": [
    "# 딕셔너리 정의\n",
    "_functions={}\n",
    "\n",
    "# 함수 정의\n",
    "def register(f):\n",
    "    global _functions # 딕셔너리 전역 변수화\n",
    "    _functions[f.__name__] = f # 딕셔너리에 들어온 함수의 이름을 키로 가지고 객체를 값으로 가지도록 설정\n",
    "    return f # 함수 객체를 리턴\n",
    "\n",
    "# @심볼의 뜻은, foo함수를 실행할 때 그 함수를 register함수에도 넣어서 register함수에서 실행하라는 뜻\n",
    "@register\n",
    "def foo():\n",
    "    return \"bar\"\n",
    "\n",
    "print(_functions[\"foo\"]())"
   ]
  },
  {
   "cell_type": "markdown",
   "id": "native-candidate",
   "metadata": {},
   "source": [
    "## 7.1.2 데커레이터 사용하기\n",
    "\n",
    "- 데커레이터는 함수를 중심으로 반복되는 코드를 리팩토링할 때 자주 사용된다.\n",
    "- 인수로 수신되는 사용자 이름이 관리자인지 아닌지 확인하고, 사용자가 관리자가 아니면 예외를 발생시켜야 하는 다음 함수 집합을 고려해보자"
   ]
  },
  {
   "cell_type": "markdown",
   "id": "returning-green",
   "metadata": {},
   "source": []
  },
  {
   "cell_type": "markdown",
   "id": "japanese-astrology",
   "metadata": {},
   "source": []
  },
  {
   "cell_type": "markdown",
   "id": "bulgarian-china",
   "metadata": {},
   "source": []
  },
  {
   "cell_type": "code",
   "execution_count": null,
   "id": "collective-study",
   "metadata": {},
   "outputs": [],
   "source": []
  },
  {
   "cell_type": "code",
   "execution_count": null,
   "id": "illegal-basics",
   "metadata": {},
   "outputs": [],
   "source": []
  },
  {
   "cell_type": "code",
   "execution_count": null,
   "id": "approved-return",
   "metadata": {},
   "outputs": [],
   "source": []
  },
  {
   "cell_type": "code",
   "execution_count": null,
   "id": "chronic-impact",
   "metadata": {},
   "outputs": [],
   "source": []
  },
  {
   "cell_type": "code",
   "execution_count": null,
   "id": "conceptual-colleague",
   "metadata": {},
   "outputs": [],
   "source": []
  },
  {
   "cell_type": "code",
   "execution_count": null,
   "id": "advised-apparatus",
   "metadata": {},
   "outputs": [],
   "source": []
  },
  {
   "cell_type": "markdown",
   "id": "animal-hindu",
   "metadata": {},
   "source": [
    "- 기본 함수"
   ]
  },
  {
   "cell_type": "code",
   "execution_count": null,
   "id": "impossible-solomon",
   "metadata": {},
   "outputs": [],
   "source": [
    "class Store(object):\n",
    "    def get_food(self, username, food):\n",
    "        if username != \"admin\":\n",
    "            raise Exception(\"This user is not allowed to get food\")\n",
    "        return self.storage.get(food)\n",
    "    \n",
    "    def put_food(self, username, food):\n",
    "        if username != \"admin\":\n",
    "            raise Exception(\"This user is not allowed to put food\")\n",
    "        self.storage.put(food)"
   ]
  },
  {
   "cell_type": "markdown",
   "id": "nuclear-smith",
   "metadata": {},
   "source": [
    "- check_is_admin 함수를 사용"
   ]
  },
  {
   "cell_type": "code",
   "execution_count": 86,
   "id": "excessive-honey",
   "metadata": {},
   "outputs": [
    {
     "ename": "RecursionError",
     "evalue": "maximum recursion depth exceeded in comparison",
     "output_type": "error",
     "traceback": [
      "\u001b[1;31m---------------------------------------------------------------------------\u001b[0m",
      "\u001b[1;31mRecursionError\u001b[0m                            Traceback (most recent call last)",
      "\u001b[1;32m<ipython-input-86-f3cd7f3d85c8>\u001b[0m in \u001b[0;36m<module>\u001b[1;34m\u001b[0m\n\u001b[0;32m     13\u001b[0m \u001b[1;33m\u001b[0m\u001b[0m\n\u001b[0;32m     14\u001b[0m \u001b[0ms\u001b[0m\u001b[1;33m=\u001b[0m\u001b[0mStore\u001b[0m\u001b[1;33m(\u001b[0m\u001b[1;33m)\u001b[0m\u001b[1;33m\u001b[0m\u001b[1;33m\u001b[0m\u001b[0m\n\u001b[1;32m---> 15\u001b[1;33m \u001b[0ms\u001b[0m\u001b[1;33m.\u001b[0m\u001b[0mput_food\u001b[0m\u001b[1;33m(\u001b[0m\u001b[1;34m\"admin\"\u001b[0m\u001b[1;33m,\u001b[0m\u001b[1;34m\"f3\"\u001b[0m\u001b[1;33m)\u001b[0m\u001b[1;33m\u001b[0m\u001b[1;33m\u001b[0m\u001b[0m\n\u001b[0m",
      "\u001b[1;32m<ipython-input-86-f3cd7f3d85c8>\u001b[0m in \u001b[0;36mput_food\u001b[1;34m(self, username, food)\u001b[0m\n\u001b[0;32m     10\u001b[0m     \u001b[1;32mdef\u001b[0m \u001b[0mput_food\u001b[0m\u001b[1;33m(\u001b[0m\u001b[0mself\u001b[0m\u001b[1;33m,\u001b[0m \u001b[0musername\u001b[0m\u001b[1;33m,\u001b[0m \u001b[0mfood\u001b[0m\u001b[1;33m)\u001b[0m\u001b[1;33m:\u001b[0m\u001b[1;33m\u001b[0m\u001b[1;33m\u001b[0m\u001b[0m\n\u001b[0;32m     11\u001b[0m         \u001b[0mcheck_is_admin\u001b[0m\u001b[1;33m(\u001b[0m\u001b[0musername\u001b[0m\u001b[1;33m)\u001b[0m\u001b[1;33m\u001b[0m\u001b[1;33m\u001b[0m\u001b[0m\n\u001b[1;32m---> 12\u001b[1;33m         \u001b[0mself\u001b[0m\u001b[1;33m.\u001b[0m\u001b[0mput_food\u001b[0m\u001b[1;33m(\u001b[0m\u001b[0musername\u001b[0m\u001b[1;33m,\u001b[0m \u001b[0mfood\u001b[0m\u001b[1;33m)\u001b[0m\u001b[1;33m\u001b[0m\u001b[1;33m\u001b[0m\u001b[0m\n\u001b[0m\u001b[0;32m     13\u001b[0m \u001b[1;33m\u001b[0m\u001b[0m\n\u001b[0;32m     14\u001b[0m \u001b[0ms\u001b[0m\u001b[1;33m=\u001b[0m\u001b[0mStore\u001b[0m\u001b[1;33m(\u001b[0m\u001b[1;33m)\u001b[0m\u001b[1;33m\u001b[0m\u001b[1;33m\u001b[0m\u001b[0m\n",
      "... last 1 frames repeated, from the frame below ...\n",
      "\u001b[1;32m<ipython-input-86-f3cd7f3d85c8>\u001b[0m in \u001b[0;36mput_food\u001b[1;34m(self, username, food)\u001b[0m\n\u001b[0;32m     10\u001b[0m     \u001b[1;32mdef\u001b[0m \u001b[0mput_food\u001b[0m\u001b[1;33m(\u001b[0m\u001b[0mself\u001b[0m\u001b[1;33m,\u001b[0m \u001b[0musername\u001b[0m\u001b[1;33m,\u001b[0m \u001b[0mfood\u001b[0m\u001b[1;33m)\u001b[0m\u001b[1;33m:\u001b[0m\u001b[1;33m\u001b[0m\u001b[1;33m\u001b[0m\u001b[0m\n\u001b[0;32m     11\u001b[0m         \u001b[0mcheck_is_admin\u001b[0m\u001b[1;33m(\u001b[0m\u001b[0musername\u001b[0m\u001b[1;33m)\u001b[0m\u001b[1;33m\u001b[0m\u001b[1;33m\u001b[0m\u001b[0m\n\u001b[1;32m---> 12\u001b[1;33m         \u001b[0mself\u001b[0m\u001b[1;33m.\u001b[0m\u001b[0mput_food\u001b[0m\u001b[1;33m(\u001b[0m\u001b[0musername\u001b[0m\u001b[1;33m,\u001b[0m \u001b[0mfood\u001b[0m\u001b[1;33m)\u001b[0m\u001b[1;33m\u001b[0m\u001b[1;33m\u001b[0m\u001b[0m\n\u001b[0m\u001b[0;32m     13\u001b[0m \u001b[1;33m\u001b[0m\u001b[0m\n\u001b[0;32m     14\u001b[0m \u001b[0ms\u001b[0m\u001b[1;33m=\u001b[0m\u001b[0mStore\u001b[0m\u001b[1;33m(\u001b[0m\u001b[1;33m)\u001b[0m\u001b[1;33m\u001b[0m\u001b[1;33m\u001b[0m\u001b[0m\n",
      "\u001b[1;31mRecursionError\u001b[0m: maximum recursion depth exceeded in comparison"
     ]
    }
   ],
   "source": [
    "def check_is_admin(username):\n",
    "    if username != \"admin\":\n",
    "        raise Exception(\"This user is not allowed to put food\")\n",
    "\n",
    "class Store(object):\n",
    "    def get_food(self, username, food):\n",
    "        check_is_admin(username)\n",
    "        return self.get_food(username, food)\n",
    "\n",
    "    def put_food(self, username, food):\n",
    "        check_is_admin(username)\n",
    "        self.put_food(username, food)\n",
    "\n",
    "s=Store()\n",
    "s.put_food(\"admin\",\"f3\")"
   ]
  },
  {
   "cell_type": "code",
   "execution_count": null,
   "id": "trained-rings",
   "metadata": {},
   "outputs": [],
   "source": []
  },
  {
   "cell_type": "code",
   "execution_count": null,
   "id": "atlantic-morris",
   "metadata": {},
   "outputs": [],
   "source": []
  },
  {
   "cell_type": "code",
   "execution_count": null,
   "id": "wound-recommendation",
   "metadata": {},
   "outputs": [],
   "source": []
  },
  {
   "cell_type": "code",
   "execution_count": null,
   "id": "nutritional-desperate",
   "metadata": {},
   "outputs": [],
   "source": []
  },
  {
   "cell_type": "code",
   "execution_count": null,
   "id": "conscious-salad",
   "metadata": {},
   "outputs": [],
   "source": []
  },
  {
   "cell_type": "code",
   "execution_count": null,
   "id": "single-scene",
   "metadata": {},
   "outputs": [],
   "source": []
  },
  {
   "cell_type": "code",
   "execution_count": null,
   "id": "boxed-wallpaper",
   "metadata": {},
   "outputs": [],
   "source": []
  },
  {
   "cell_type": "code",
   "execution_count": null,
   "id": "chinese-hartford",
   "metadata": {},
   "outputs": [],
   "source": []
  }
 ],
 "metadata": {
  "kernelspec": {
   "display_name": "Python 3",
   "language": "python",
   "name": "python3"
  },
  "language_info": {
   "codemirror_mode": {
    "name": "ipython",
    "version": 3
   },
   "file_extension": ".py",
   "mimetype": "text/x-python",
   "name": "python",
   "nbconvert_exporter": "python",
   "pygments_lexer": "ipython3",
   "version": "3.6.12"
  }
 },
 "nbformat": 4,
 "nbformat_minor": 5
}
