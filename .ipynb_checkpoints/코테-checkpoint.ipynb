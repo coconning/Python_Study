{
 "cells": [
  {
   "cell_type": "code",
   "execution_count": 16,
   "id": "signal-joining",
   "metadata": {},
   "outputs": [
    {
     "name": "stdin",
     "output_type": "stream",
     "text": [
      "1 20\n",
      "2 10\n"
     ]
    },
    {
     "data": {
      "text/plain": [
       "30"
      ]
     },
     "execution_count": 16,
     "metadata": {},
     "output_type": "execute_result"
    }
   ],
   "source": [
    "c=list(map(input, a.split(\" \")))\n",
    "f=lambda a,b : int(a)+int(b)\n",
    "f(c[0],c[1])"
   ]
  },
  {
   "cell_type": "code",
   "execution_count": 5,
   "id": "generous-aquatic",
   "metadata": {},
   "outputs": [
    {
     "name": "stdin",
     "output_type": "stream",
     "text": [
      " 7 3\n"
     ]
    },
    {
     "name": "stdout",
     "output_type": "stream",
     "text": [
      "10\n",
      "4\n",
      "21\n",
      "2\n",
      "1\n"
     ]
    }
   ],
   "source": [
    "A,B=list(map(int, input().split()))\n",
    "print(A+B)\n",
    "print(A-B)\n",
    "print(A*B)\n",
    "print(A//B)\n",
    "print(A%B)"
   ]
  },
  {
   "cell_type": "markdown",
   "id": "sticky-transmission",
   "metadata": {},
   "source": [
    "## 1-2588\n",
    "\n",
    "https://www.acmicpc.net/problem/2588"
   ]
  },
  {
   "cell_type": "code",
   "execution_count": 17,
   "id": "latest-combat",
   "metadata": {},
   "outputs": [
    {
     "name": "stdin",
     "output_type": "stream",
     "text": [
      " 472 385\n"
     ]
    },
    {
     "name": "stdout",
     "output_type": "stream",
     "text": [
      "2360\n",
      "3776\n",
      "1416\n",
      "181720\n"
     ]
    }
   ],
   "source": [
    "A,B=list(map(int, input().split()))\n",
    "\n",
    "print(A*int(str(B)[2]))\n",
    "print(A*int(str(B)[1]))\n",
    "print(A*int(str(B)[0]))\n",
    "print(A*B)"
   ]
  },
  {
   "cell_type": "code",
   "execution_count": 12,
   "id": "demographic-equality",
   "metadata": {},
   "outputs": [
    {
     "name": "stdout",
     "output_type": "stream",
     "text": [
      "2360\n"
     ]
    }
   ],
   "source": [
    "A=472\n",
    "B=385\n",
    "\n",
    "print(A*int(str(B)[2]))"
   ]
  },
  {
   "cell_type": "code",
   "execution_count": 22,
   "id": "separated-airfare",
   "metadata": {},
   "outputs": [
    {
     "name": "stdout",
     "output_type": "stream",
     "text": [
      "75 ['7', '5', '75']\n"
     ]
    }
   ],
   "source": [
    "def d(num):\n",
    "    num=str(num)\n",
    "    l=[n for n in num]\n",
    "    l.append(num)\n",
    "    print(num,l)\n",
    "d(75)"
   ]
  }
 ],
 "metadata": {
  "kernelspec": {
   "display_name": "Python 3",
   "language": "python",
   "name": "python3"
  },
  "language_info": {
   "codemirror_mode": {
    "name": "ipython",
    "version": 3
   },
   "file_extension": ".py",
   "mimetype": "text/x-python",
   "name": "python",
   "nbconvert_exporter": "python",
   "pygments_lexer": "ipython3",
   "version": "3.6.12"
  }
 },
 "nbformat": 4,
 "nbformat_minor": 5
}
