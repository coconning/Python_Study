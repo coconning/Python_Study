{
 "cells": [
  {
   "cell_type": "code",
   "execution_count": 38,
   "id": "discrete-temple",
   "metadata": {},
   "outputs": [],
   "source": [
    "import pandas as pd\n",
    "import numpy as np\n",
    "import time\n",
    "%config Completer.use_jedi = False"
   ]
  },
  {
   "cell_type": "markdown",
   "id": "decreased-manitoba",
   "metadata": {},
   "source": [
    "# Chapter. 3 그리디"
   ]
  },
  {
   "cell_type": "code",
   "execution_count": null,
   "id": "absolute-teaching",
   "metadata": {},
   "outputs": [],
   "source": []
  },
  {
   "cell_type": "markdown",
   "id": "impressed-mining",
   "metadata": {},
   "source": [
    "## 3-2 큰 수의 법칙"
   ]
  },
  {
   "cell_type": "markdown",
   "id": "fancy-lobby",
   "metadata": {},
   "source": [
    "### My"
   ]
  },
  {
   "cell_type": "code",
   "execution_count": 55,
   "id": "inclusive-lithuania",
   "metadata": {},
   "outputs": [
    {
     "name": "stdout",
     "output_type": "stream",
     "text": [
      "46\n",
      "Executed Time : 0.0009973049\n"
     ]
    }
   ],
   "source": [
    "n,m,k=5,8,3\n",
    "data=[2,4,5,4,6]\n",
    "import time\n",
    "\n",
    "\n",
    "\n",
    "# n, m, k = map(int, input().split())\n",
    "# data = list(map(int, input().split()))\n",
    "data = sorted(data)[-2:]\n",
    "\n",
    "start=time.time()\n",
    "\n",
    "c=0\n",
    "for i in range((m//k)):    \n",
    "    c += data[1]*k + data[0]\n",
    "c+= data[1]*(m%(k+1))\n",
    "\n",
    "print(c)\n",
    "print(f\"Executed Time : {time.time()-start:.10f}\")"
   ]
  },
  {
   "cell_type": "markdown",
   "id": "every-livestock",
   "metadata": {},
   "source": [
    "### 예시"
   ]
  },
  {
   "cell_type": "code",
   "execution_count": 56,
   "id": "coral-algeria",
   "metadata": {},
   "outputs": [
    {
     "name": "stdout",
     "output_type": "stream",
     "text": [
      "46\n",
      "Executed Time : 0.00000000000000000000\n"
     ]
    }
   ],
   "source": [
    "start=time.time()\n",
    "\n",
    "n,m,k=5,8,3\n",
    "data=[2,4,5,4,6]\n",
    "data.sort()\n",
    "\n",
    "first  = data[n-1]\n",
    "second = data[n-2]\n",
    "\n",
    "count = (m//(k+1))*k + m%(k+1)\n",
    "\n",
    "result = count*first + (m-count)*second\n",
    "\n",
    "print(result)\n",
    "print(f\"Executed Time : {time.time()-start:.20f}\")"
   ]
  },
  {
   "cell_type": "markdown",
   "id": "artificial-belarus",
   "metadata": {},
   "source": [
    "## 3-3 숫자 카드 게임"
   ]
  },
  {
   "cell_type": "code",
   "execution_count": 87,
   "id": "dense-medium",
   "metadata": {},
   "outputs": [
    {
     "data": {
      "text/plain": [
       "[['1'], ['2'], ['3']]"
      ]
     },
     "execution_count": 87,
     "metadata": {},
     "output_type": "execute_result"
    }
   ],
   "source": [
    "data"
   ]
  },
  {
   "cell_type": "code",
   "execution_count": 91,
   "id": "other-prototype",
   "metadata": {},
   "outputs": [
    {
     "name": "stdin",
     "output_type": "stream",
     "text": [
      " 2 2\n",
      " 1 2 3\n",
      " 4 5 6\n"
     ]
    },
    {
     "data": {
      "text/plain": [
       "[[1, 2, 3], [4, 5, 6]]"
      ]
     },
     "execution_count": 91,
     "metadata": {},
     "output_type": "execute_result"
    }
   ],
   "source": [
    "# data=[[3,1,2],[4,1,4],[2,2,2]]\n",
    "# data=[[7,3,1,8],[3,3,3,4]]"
   ]
  },
  {
   "cell_type": "markdown",
   "id": "polish-scholar",
   "metadata": {},
   "source": [
    "### My"
   ]
  },
  {
   "cell_type": "code",
   "execution_count": 93,
   "id": "improving-globe",
   "metadata": {},
   "outputs": [
    {
     "name": "stdin",
     "output_type": "stream",
     "text": [
      " 2 4\n",
      " 7 3 1 8\n",
      " 3 3 3 4\n"
     ]
    },
    {
     "name": "stdout",
     "output_type": "stream",
     "text": [
      "3\n"
     ]
    }
   ],
   "source": [
    "n, m = map(int, input().split())\n",
    "data = [list(map(int, input().split())) for _ in range(n)]\n",
    "\n",
    "idx  = 0\n",
    "idxs = []\n",
    "mns  = []\n",
    "\n",
    "for l in data:\n",
    "    idx+=1\n",
    "    idxs.append(idx)\n",
    "    mns.append(min(l))\n",
    "    \n",
    "print(max(mns))"
   ]
  },
  {
   "cell_type": "markdown",
   "id": "native-modern",
   "metadata": {},
   "source": [
    "## 3-4 1이 될 때까지"
   ]
  },
  {
   "cell_type": "markdown",
   "id": "gothic-anderson",
   "metadata": {},
   "source": [
    "### My"
   ]
  },
  {
   "cell_type": "code",
   "execution_count": 101,
   "id": "marked-passing",
   "metadata": {},
   "outputs": [
    {
     "name": "stdout",
     "output_type": "stream",
     "text": [
      "1 6\n"
     ]
    }
   ],
   "source": [
    "# n,k=map(int, input().split())\n",
    "n,k=25,3\n",
    "cnt=0\n",
    "while n != 1:\n",
    "    if n%k == 0:\n",
    "        n //= k\n",
    "    else:\n",
    "        n -= 1\n",
    "    cnt+=1\n",
    "        \n",
    "print(n,cnt)"
   ]
  },
  {
   "cell_type": "markdown",
   "id": "pharmaceutical-doctor",
   "metadata": {},
   "source": [
    "### 예시"
   ]
  },
  {
   "cell_type": "code",
   "execution_count": 102,
   "id": "fitting-support",
   "metadata": {},
   "outputs": [
    {
     "name": "stdin",
     "output_type": "stream",
     "text": [
      " 25 3\n"
     ]
    },
    {
     "name": "stdout",
     "output_type": "stream",
     "text": [
      "6\n"
     ]
    }
   ],
   "source": [
    "n,k=map(int, input().split())\n",
    "result=0\n",
    "\n",
    "while True:\n",
    "    #( N == K로 나누어떨어지는 수)가 될 때까지 1씩 빼기\n",
    "    target=(n//k)*k\n",
    "    result+=(n-target)\n",
    "    n=target\n",
    "    \n",
    "    if n < k :\n",
    "        break\n",
    "    # k로 나누기\n",
    "    result += 1\n",
    "    n //= k\n",
    "    \n",
    "result += (n-1)\n",
    "print(result)"
   ]
  },
  {
   "cell_type": "markdown",
   "id": "strategic-parallel",
   "metadata": {},
   "source": [
    "# Chapter. 4 구현"
   ]
  },
  {
   "cell_type": "markdown",
   "id": "removed-flour",
   "metadata": {},
   "source": [
    "## 4-1 상하좌우"
   ]
  },
  {
   "cell_type": "code",
   "execution_count": 133,
   "id": "through-bahamas",
   "metadata": {},
   "outputs": [
    {
     "name": "stdin",
     "output_type": "stream",
     "text": [
      " 5\n",
      " R R R U D D\n"
     ]
    },
    {
     "name": "stdout",
     "output_type": "stream",
     "text": [
      "3 4\n"
     ]
    }
   ],
   "source": [
    "n=map(int, input())\n",
    "data=list(map(str, input().split()))\n",
    "# n=5\n",
    "# data=[\"R\",\"R\",\"R\",\"U\",\"D\",\"D\"]\n",
    "\n",
    "def go(x,y,data):\n",
    "    if data   == \"R\" : y += 1\n",
    "    elif data == \"L\" : y -= 1\n",
    "    elif data == \"D\" : x += 1\n",
    "    elif data == \"U\" : x -= 1\n",
    "    return x,y\n",
    "    \n",
    "x,y=1,1\n",
    "for d in data:\n",
    "    x_, y_ = go(x, y, d)\n",
    "    if x_ < 1 or y_ < 1: # 둘 중 하나가 1보다 작으면 업데이트 X\n",
    "        continue\n",
    "    x,y=x_,y_\n",
    "print(x,y)"
   ]
  },
  {
   "cell_type": "markdown",
   "id": "adjustable-carter",
   "metadata": {},
   "source": [
    "## 4-2 시각"
   ]
  },
  {
   "cell_type": "markdown",
   "id": "velvet-cooperation",
   "metadata": {},
   "source": [
    "### My"
   ]
  },
  {
   "cell_type": "code",
   "execution_count": 45,
   "id": "elect-identity",
   "metadata": {
    "tags": []
   },
   "outputs": [
    {
     "name": "stdout",
     "output_type": "stream",
     "text": [
      "0.0194547176361084\n",
      "11475\n"
     ]
    }
   ],
   "source": [
    "import datetime\n",
    "\n",
    "# n=map(int, input())\n",
    "n=5\n",
    "minute=list(range(0,60))\n",
    "second=list(range(0,60))\n",
    "\n",
    "start_time=time.time()\n",
    "\n",
    "cnt = 0\n",
    "for h in range(n+1):\n",
    "    for m in minute:\n",
    "        for s in second:\n",
    "            if sum([1 for d in str(h)+str(m)+str(s) if d == '3']) > 0:\n",
    "                cnt +=1\n",
    "\n",
    "print(time.time()-start_time)\n",
    "print(cnt)"
   ]
  },
  {
   "cell_type": "markdown",
   "id": "stupid-captain",
   "metadata": {},
   "source": [
    "### 예시"
   ]
  },
  {
   "cell_type": "code",
   "execution_count": 46,
   "id": "japanese-broadcasting",
   "metadata": {},
   "outputs": [
    {
     "name": "stdout",
     "output_type": "stream",
     "text": [
      "0.012937068939208984\n",
      "11475\n"
     ]
    }
   ],
   "source": [
    "\n",
    "h=5\n",
    "cnt = 0\n",
    "\n",
    "start_time=time.time()\n",
    "\n",
    "for h in range(h+1):\n",
    "    for m in range(60):\n",
    "        for s in range(60):\n",
    "            if '3' in str(h) + str(m) + str(s):\n",
    "                cnt += 1\n",
    "print(time.time()-start_time)                \n",
    "print(cnt)"
   ]
  },
  {
   "cell_type": "markdown",
   "id": "fuzzy-shadow",
   "metadata": {},
   "source": [
    "## 실전문제"
   ]
  },
  {
   "cell_type": "markdown",
   "id": "legal-stadium",
   "metadata": {},
   "source": [
    "### 왕실의 나이트"
   ]
  },
  {
   "cell_type": "code",
   "execution_count": 79,
   "id": "developed-array",
   "metadata": {},
   "outputs": [
    {
     "data": {
      "text/plain": [
       "8"
      ]
     },
     "execution_count": 79,
     "metadata": {},
     "output_type": "execute_result"
    }
   ],
   "source": [
    "def get_xy(n):\n",
    "    return ord(n)-96\n",
    "\n",
    "get_xy(\"h\")"
   ]
  },
  {
   "cell_type": "code",
   "execution_count": 85,
   "id": "vietnamese-coaching",
   "metadata": {},
   "outputs": [
    {
     "data": {
      "text/plain": [
       "[([-2, 2], [-1, 1])]"
      ]
     },
     "execution_count": 85,
     "metadata": {},
     "output_type": "execute_result"
    }
   ],
   "source": [
    "import itertools\n",
    "h=[-2,2]\n",
    "v=[-1,1]\n",
    "list(itertools.combinations([h,v],2))"
   ]
  },
  {
   "cell_type": "code",
   "execution_count": 89,
   "id": "brutal-timber",
   "metadata": {},
   "outputs": [
    {
     "data": {
      "text/plain": [
       "[[-2, -1], [-2, 1], [2, -1], [2, 1], [-1, -2], [-1, 2], [1, -2], [1, 2]]"
      ]
     },
     "execution_count": 89,
     "metadata": {},
     "output_type": "execute_result"
    }
   ],
   "source": [
    "candidates=[]\n",
    "for d in h:\n",
    "    for d1 in v:\n",
    "        candidates.append([d,d1])\n",
    "for d in v:\n",
    "    for d1 in h:\n",
    "        candidates.append([d,d1])\n",
    "candidates\n",
    "        "
   ]
  },
  {
   "cell_type": "code",
   "execution_count": 102,
   "id": "front-stake",
   "metadata": {},
   "outputs": [
    {
     "data": {
      "text/plain": [
       "(1, '1')"
      ]
     },
     "execution_count": 102,
     "metadata": {},
     "output_type": "execute_result"
    }
   ],
   "source": [
    "x,y"
   ]
  },
  {
   "cell_type": "code",
   "execution_count": 112,
   "id": "available-windsor",
   "metadata": {},
   "outputs": [
    {
     "name": "stdin",
     "output_type": "stream",
     "text": [
      " h8\n"
     ]
    },
    {
     "data": {
      "text/plain": [
       "2"
      ]
     },
     "execution_count": 112,
     "metadata": {},
     "output_type": "execute_result"
    }
   ],
   "source": [
    "n=input()\n",
    "x,y=ord(n[0])-96, int(n[1])\n",
    "candidates=[[-2, -1], [-2, 1], [2, -1], [2, 1], [-1, -2], [-1, 2], [1, -2], [1, 2]] \n",
    "\n",
    "def go(candidates:list,x,y):\n",
    "    cnt=0\n",
    "    for c in candidates:  \n",
    "        dx,dy=x+c[0], y+c[1]\n",
    "        if dx > 0 and dx < 9 and dy > 0 and dy < 9 :\n",
    "            cnt += 1\n",
    "    return cnt\n",
    "\n",
    "go(candidates,x,y)"
   ]
  },
  {
   "cell_type": "markdown",
   "id": "cardiac-brass",
   "metadata": {},
   "source": [
    "### 게임 개발"
   ]
  },
  {
   "cell_type": "code",
   "execution_count": 188,
   "id": "difficult-dancing",
   "metadata": {},
   "outputs": [
    {
     "data": {
      "text/plain": [
       "[1, 1, 3]"
      ]
     },
     "execution_count": 188,
     "metadata": {},
     "output_type": "execute_result"
    }
   ],
   "source": [
    "turn_left(pos)"
   ]
  },
  {
   "cell_type": "code",
   "execution_count": 321,
   "id": "cloudy-lightning",
   "metadata": {},
   "outputs": [],
   "source": [
    "def get_left_sight(pos):\n",
    "    tmp_pos=pos.copy()\n",
    "    \n",
    "    tmp_pos=turn_left(tmp_pos)\n",
    "    # 북\n",
    "    if tmp_pos[-1]==0:\n",
    "        left_sight=m[tmp_pos[0]-1][tmp_pos[1]]\n",
    "\n",
    "    # 남\n",
    "    if tmp_pos[-1]==2:\n",
    "        left_sight=m[tmp_pos[0]+1][tmp_pos[1]]\n",
    "\n",
    "    # 서\n",
    "    if tmp_pos[-1]==3:\n",
    "        left_sight=m[tmp_pos[0]][tmp_pos[1]-1]\n",
    "\n",
    "    # 동\n",
    "    if tmp_pos[-1]==1:\n",
    "        left_sight=m[tmp_pos[0]][tmp_pos[1]+1]\n",
    "    \n",
    "    return left_sight\n",
    "\n",
    "def get_back_sight(pos):\n",
    "    tmp_pos=pos.copy()\n",
    "    tmp_pos[-1]=tmp_pos[-1]-2\n",
    "    if tmp_pos[-1] == -1:\n",
    "        tmp_pos[-1] = 3\n",
    "    if tmp_pos[-1] == -2:\n",
    "        tmp_pos[-1] = 2\n",
    "    # 북\n",
    "    if tmp_pos[-1]==0:\n",
    "        tmp_pos[0], tmp_pos[1]=tmp_pos[0]-1,tmp_pos[1]\n",
    "\n",
    "    # 남\n",
    "    if tmp_pos[-1]==2:\n",
    "        tmp_pos[0], tmp_pos[1]=tmp_pos[0]+1,tmp_pos[1]\n",
    "\n",
    "    # 서\n",
    "    if tmp_pos[-1]==3:\n",
    "        tmp_pos[0], tmp_pos[1]=tmp_pos[0],tmp_pos[1]-1\n",
    "\n",
    "    # 동\n",
    "    if tmp_pos[-1]==1:\n",
    "        tmp_pos[0], tmp_pos[1]=tmp_pos[0],tmp_pos[1]+1\n",
    "\n",
    "    return tmp_pos\n",
    "\n",
    "def turn_left(pos):\n",
    "    tmp_pos=pos.copy()\n",
    "    tmp_pos[-1]=tmp_pos[-1]-1\n",
    "    if tmp_pos[-1] == -1:\n",
    "        tmp_pos[-1]=3\n",
    "    return tmp_pos\n",
    "\n",
    "\n",
    "\n",
    "def move(pos, direction):\n",
    "    if direction == \"go\":\n",
    "        # 북\n",
    "        if pos[-1]==0:\n",
    "            pos[0]=pos[0]-1\n",
    "\n",
    "        # 남\n",
    "        if pos[-1]==2:\n",
    "            pos[0]=pos[0]+1\n",
    "\n",
    "        # 서\n",
    "        if pos[-1]==3:\n",
    "            pos[1]=pos[1]-1\n",
    "\n",
    "        # 동\n",
    "        if pos[-1]==1:\n",
    "            pos[1]=pos[1]+1\n",
    "            \n",
    "    elif direction == \"back\":\n",
    "        # 북\n",
    "        if pos[-1]==0:\n",
    "            pos[0]=pos[0]+1\n",
    "\n",
    "        # 남\n",
    "        if pos[-1]==2:\n",
    "            pos[0]=pos[0]-1\n",
    "\n",
    "        # 서\n",
    "        if pos[-1]==3:\n",
    "            pos[1]=pos[1]+1\n",
    "\n",
    "        # 동\n",
    "        if pos[-1]==1:\n",
    "            pos[1]=pos[1]-1\n",
    "    \n",
    "    return pos"
   ]
  },
  {
   "cell_type": "code",
   "execution_count": 322,
   "id": "crucial-nightlife",
   "metadata": {},
   "outputs": [
    {
     "name": "stdout",
     "output_type": "stream",
     "text": [
      "스타트 좌표 [1, 1, 0]\n",
      "step_1\n",
      "가보지 않은 칸 없음\n",
      "[1, 1, 3] 되었음\n",
      "step_2\n",
      "가보지 않은 칸 없음\n",
      "[1, 1, 2] 되었음\n",
      "step_3\n",
      "이동하지 않은 칸 발견 0\n",
      "왼쪽 전환 [1, 1, 1]\n",
      "전진 [1, 2, 1]\n",
      "step_4\n",
      "가보지 않은 칸 없음\n",
      "[1, 2, 0] 되었음\n",
      "step_5\n",
      "가보지 않은 칸 없음\n",
      "[1, 2, 3] 되었음\n",
      "step_6\n",
      "이동하지 않은 칸 발견 0\n",
      "왼쪽 전환 [1, 2, 2]\n",
      "전진 [2, 2, 2]\n",
      "step_7\n",
      "가보지 않은 칸 없음\n",
      "네방향 전부 이미 가봤거나 바다임\n",
      "좌표 [2, 2, 2] 방향 2 뒤의 지형 2\n",
      "뒤의 지형 좌표 1 2\n",
      "뒤로 한 칸 움직임\n",
      "[1, 2, 2]\n",
      "step_8\n",
      "가보지 않은 칸 없음\n",
      "네방향 전부 이미 가봤거나 바다임\n",
      "좌표 [1, 2, 2] 방향 2 뒤의 지형 1\n",
      "뒤의 지형 좌표 0 2\n",
      "2 뒤쪽 방향이 바다라 뒤로 못감\n",
      "3 8\n"
     ]
    }
   ],
   "source": [
    "size=[4,4]\n",
    "pos=[1,1,0] #\n",
    "global m\n",
    "m=[[1,1,1,1],[1,0,0,1],[1,1,0,1],[1,1,1,1]]\n",
    "m[pos[0]][pos[1]]=2\n",
    "cnt=1\n",
    "mv_cnt=0\n",
    "print(\"스타트 좌표\", pos)\n",
    "while True:\n",
    "    print(f\"step_{cnt}\")\n",
    "    # 바로 왼쪽방향에 아직 가보지 않은 칸이 있으면 \n",
    "    if get_left_sight(pos) == 0:\n",
    "        print(\"이동하지 않은 칸 발견\", get_left_sight(pos))\n",
    "        # 왼쪽이동\n",
    "        pos=turn_left(pos)\n",
    "        print(\"왼쪽 전환\", pos)\n",
    "        # 전진\n",
    "        pos=move(pos,\"go\"); mv_cnt+=1\n",
    "        print(\"전진\", pos)\n",
    "        \n",
    "        # 이동한 칸 색칠\n",
    "        m[pos[0]][pos[1]]=2\n",
    "\n",
    "    # 왼쪽방향에 아직 가보지 않은 칸이 없다면 \n",
    "    else:\n",
    "        print(\"가보지 않은 칸 없음\")\n",
    "        if m[pos[0]-1][pos[1]] != 0 and m[pos[0]][pos[1]-1] != 0 and m[pos[0]+1][pos[1]] != 0 and m[pos[0]][pos[1]+1] != 0 :\n",
    "            back_sight=get_back_sight(pos)\n",
    "            \n",
    "            print(\"네방향 전부 이미 가봤거나 바다임\")\n",
    "            print(\"좌표\",pos, \"방향\", pos[-1], \"뒤의 지형\", m[back_sight[0]][back_sight[1]])\n",
    "            print(\"뒤의 지형 좌표\", back_sight[0], back_sight[1])\n",
    "#             print(\"지도\",m)\n",
    "#             print(pos, m[back_sight[0]][back_sight[1]], \"방향\",pos[-1], print(m))\n",
    "            # 뒤쪽 방향이 바다인 칸이라 뒤로 갈 수 없으면 움직임 멈춘다\n",
    "            if m[back_sight[0]][back_sight[1]] == 1:\n",
    "                print(get_sight(pos,\"back\"),\"뒤쪽 방향이 바다라 뒤로 못감\")\n",
    "                break\n",
    "\n",
    "            # 바라보는 방향을 유지한채 한 칸 뒤로 간다\n",
    "            else:\n",
    "                print(\"뒤로 한 칸 움직임\")\n",
    "                pos=move(pos, \"back\"); mv_cnt+=1; cnt+=1\n",
    "                print(pos)\n",
    "                \n",
    "                continue\n",
    "        # 회전\n",
    "        pos=turn_left(pos)\n",
    "        print(pos, \"되었음\")\n",
    "        \n",
    "        \n",
    "        # step1로 돌아감\n",
    "        \n",
    "    # 네 방향 모두 이미 가본 칸이거나 바다라면\n",
    "    \n",
    "    \n",
    "    # step1로 돌아감\n",
    "    cnt+=1\n",
    "    if cnt == 100:break\n",
    "        \n",
    "print(mv_cnt,cnt)"
   ]
  },
  {
   "cell_type": "markdown",
   "id": "married-display",
   "metadata": {},
   "source": [
    "# Chapter. 5 DFS/BFS"
   ]
  },
  {
   "cell_type": "markdown",
   "id": "sticky-century",
   "metadata": {},
   "source": [
    "- 재귀함수를 이용한 팩토리얼 예제"
   ]
  },
  {
   "cell_type": "code",
   "execution_count": 332,
   "id": "capable-helena",
   "metadata": {},
   "outputs": [
    {
     "name": "stdout",
     "output_type": "stream",
     "text": [
      "3628800\n",
      "3628800\n"
     ]
    }
   ],
   "source": [
    "# 반복으로 구현\n",
    "\n",
    "def factorial_iterative(n):\n",
    "    result=1\n",
    "    for i in range(1,n+1):\n",
    "        result = result*i\n",
    "    return result\n",
    "\n",
    "print(factorial_iterative(10))\n",
    "\n",
    "# 재귀로 구현\n",
    "\n",
    "def factorial_iterative(n):\n",
    "    if n <= 1 :\n",
    "        return 1\n",
    "    return n*factorial_iterative(n-1)\n",
    "print(factorial_iterative(10))"
   ]
  },
  {
   "cell_type": "code",
   "execution_count": null,
   "id": "proud-italian",
   "metadata": {},
   "outputs": [],
   "source": []
  },
  {
   "cell_type": "markdown",
   "id": "secure-electricity",
   "metadata": {},
   "source": [
    "## 5.2 DFS\n",
    "\n",
    "- DFS는 Depth-First Search 갚이 우선 탐색이라고 부르며 그래프에서 깊은 부분을 우선적으로 탐색하는 알고리즘이다"
   ]
  },
  {
   "cell_type": "code",
   "execution_count": null,
   "id": "english-spell",
   "metadata": {},
   "outputs": [],
   "source": []
  },
  {
   "cell_type": "code",
   "execution_count": null,
   "id": "annual-trace",
   "metadata": {},
   "outputs": [],
   "source": []
  },
  {
   "cell_type": "code",
   "execution_count": null,
   "id": "moderate-namibia",
   "metadata": {},
   "outputs": [],
   "source": []
  },
  {
   "cell_type": "code",
   "execution_count": null,
   "id": "pacific-kitty",
   "metadata": {},
   "outputs": [],
   "source": []
  },
  {
   "cell_type": "code",
   "execution_count": null,
   "id": "overhead-major",
   "metadata": {},
   "outputs": [],
   "source": []
  },
  {
   "cell_type": "code",
   "execution_count": null,
   "id": "funny-charity",
   "metadata": {},
   "outputs": [],
   "source": []
  },
  {
   "cell_type": "code",
   "execution_count": null,
   "id": "executive-effects",
   "metadata": {},
   "outputs": [],
   "source": []
  },
  {
   "cell_type": "code",
   "execution_count": null,
   "id": "alternative-procedure",
   "metadata": {},
   "outputs": [],
   "source": []
  },
  {
   "cell_type": "code",
   "execution_count": null,
   "id": "absolute-guatemala",
   "metadata": {},
   "outputs": [],
   "source": []
  },
  {
   "cell_type": "code",
   "execution_count": null,
   "id": "public-ratio",
   "metadata": {},
   "outputs": [],
   "source": []
  },
  {
   "cell_type": "code",
   "execution_count": null,
   "id": "proud-spine",
   "metadata": {},
   "outputs": [],
   "source": []
  },
  {
   "cell_type": "code",
   "execution_count": null,
   "id": "infrared-operation",
   "metadata": {},
   "outputs": [],
   "source": []
  },
  {
   "cell_type": "code",
   "execution_count": null,
   "id": "continent-shower",
   "metadata": {},
   "outputs": [],
   "source": []
  },
  {
   "cell_type": "code",
   "execution_count": null,
   "id": "automated-hepatitis",
   "metadata": {},
   "outputs": [],
   "source": []
  },
  {
   "cell_type": "code",
   "execution_count": null,
   "id": "starting-basics",
   "metadata": {},
   "outputs": [],
   "source": []
  },
  {
   "cell_type": "code",
   "execution_count": null,
   "id": "precious-smell",
   "metadata": {},
   "outputs": [],
   "source": []
  },
  {
   "cell_type": "code",
   "execution_count": null,
   "id": "generous-budapest",
   "metadata": {},
   "outputs": [],
   "source": []
  },
  {
   "cell_type": "code",
   "execution_count": null,
   "id": "effective-guitar",
   "metadata": {},
   "outputs": [],
   "source": []
  },
  {
   "cell_type": "code",
   "execution_count": null,
   "id": "foster-pittsburgh",
   "metadata": {},
   "outputs": [],
   "source": []
  },
  {
   "cell_type": "code",
   "execution_count": null,
   "id": "tropical-register",
   "metadata": {},
   "outputs": [],
   "source": []
  },
  {
   "cell_type": "code",
   "execution_count": null,
   "id": "violent-graham",
   "metadata": {},
   "outputs": [],
   "source": []
  },
  {
   "cell_type": "code",
   "execution_count": null,
   "id": "suffering-sharing",
   "metadata": {},
   "outputs": [],
   "source": []
  },
  {
   "cell_type": "code",
   "execution_count": null,
   "id": "behind-fabric",
   "metadata": {},
   "outputs": [],
   "source": []
  },
  {
   "cell_type": "code",
   "execution_count": null,
   "id": "digital-retrieval",
   "metadata": {},
   "outputs": [],
   "source": []
  },
  {
   "cell_type": "code",
   "execution_count": null,
   "id": "color-championship",
   "metadata": {},
   "outputs": [],
   "source": []
  },
  {
   "cell_type": "code",
   "execution_count": null,
   "id": "stretch-cameroon",
   "metadata": {},
   "outputs": [],
   "source": []
  },
  {
   "cell_type": "code",
   "execution_count": null,
   "id": "cubic-rotation",
   "metadata": {},
   "outputs": [],
   "source": []
  },
  {
   "cell_type": "code",
   "execution_count": null,
   "id": "grand-convenience",
   "metadata": {},
   "outputs": [],
   "source": []
  },
  {
   "cell_type": "code",
   "execution_count": null,
   "id": "boring-catch",
   "metadata": {},
   "outputs": [],
   "source": []
  },
  {
   "cell_type": "code",
   "execution_count": null,
   "id": "external-knitting",
   "metadata": {},
   "outputs": [],
   "source": []
  },
  {
   "cell_type": "code",
   "execution_count": null,
   "id": "familiar-listing",
   "metadata": {},
   "outputs": [],
   "source": []
  },
  {
   "cell_type": "code",
   "execution_count": null,
   "id": "coastal-concentrate",
   "metadata": {},
   "outputs": [],
   "source": []
  },
  {
   "cell_type": "code",
   "execution_count": null,
   "id": "positive-pride",
   "metadata": {},
   "outputs": [],
   "source": []
  }
 ],
 "metadata": {
  "kernelspec": {
   "display_name": "Python 3",
   "language": "python",
   "name": "python3"
  },
  "language_info": {
   "codemirror_mode": {
    "name": "ipython",
    "version": 3
   },
   "file_extension": ".py",
   "mimetype": "text/x-python",
   "name": "python",
   "nbconvert_exporter": "python",
   "pygments_lexer": "ipython3",
   "version": "3.6.12"
  }
 },
 "nbformat": 4,
 "nbformat_minor": 5
}
