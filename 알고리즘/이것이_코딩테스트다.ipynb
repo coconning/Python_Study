{
 "cells": [
  {
   "cell_type": "code",
   "execution_count": 38,
   "id": "touched-taylor",
   "metadata": {},
   "outputs": [],
   "source": [
    "import pandas as pd\n",
    "import numpy as np\n",
    "import time\n",
    "%config Completer.use_jedi = False"
   ]
  },
  {
   "cell_type": "markdown",
   "id": "buried-subscriber",
   "metadata": {},
   "source": [
    "# Chapter. 3 그리디"
   ]
  },
  {
   "cell_type": "code",
   "execution_count": null,
   "id": "specialized-charleston",
   "metadata": {},
   "outputs": [],
   "source": []
  },
  {
   "cell_type": "markdown",
   "id": "portable-scott",
   "metadata": {},
   "source": [
    "## 3-2 큰 수의 법칙"
   ]
  },
  {
   "cell_type": "markdown",
   "id": "working-authentication",
   "metadata": {},
   "source": [
    "### My"
   ]
  },
  {
   "cell_type": "code",
   "execution_count": 55,
   "id": "olive-guarantee",
   "metadata": {},
   "outputs": [
    {
     "name": "stdout",
     "output_type": "stream",
     "text": [
      "46\n",
      "Executed Time : 0.0009973049\n"
     ]
    }
   ],
   "source": [
    "n,m,k=5,8,3\n",
    "data=[2,4,5,4,6]\n",
    "import time\n",
    "\n",
    "\n",
    "\n",
    "# n, m, k = map(int, input().split())\n",
    "# data = list(map(int, input().split()))\n",
    "data = sorted(data)[-2:]\n",
    "\n",
    "start=time.time()\n",
    "\n",
    "c=0\n",
    "for i in range((m//k)):    \n",
    "    c += data[1]*k + data[0]\n",
    "c+= data[1]*(m%(k+1))\n",
    "\n",
    "print(c)\n",
    "print(f\"Executed Time : {time.time()-start:.10f}\")"
   ]
  },
  {
   "cell_type": "markdown",
   "id": "advance-flour",
   "metadata": {},
   "source": [
    "### 예시"
   ]
  },
  {
   "cell_type": "code",
   "execution_count": 56,
   "id": "anticipated-argument",
   "metadata": {},
   "outputs": [
    {
     "name": "stdout",
     "output_type": "stream",
     "text": [
      "46\n",
      "Executed Time : 0.00000000000000000000\n"
     ]
    }
   ],
   "source": [
    "start=time.time()\n",
    "\n",
    "n,m,k=5,8,3\n",
    "data=[2,4,5,4,6]\n",
    "data.sort()\n",
    "\n",
    "first  = data[n-1]\n",
    "second = data[n-2]\n",
    "\n",
    "count = (m//(k+1))*k + m%(k+1)\n",
    "\n",
    "result = count*first + (m-count)*second\n",
    "\n",
    "print(result)\n",
    "print(f\"Executed Time : {time.time()-start:.20f}\")"
   ]
  },
  {
   "cell_type": "markdown",
   "id": "unnecessary-grain",
   "metadata": {},
   "source": [
    "## 3-3 숫자 카드 게임"
   ]
  },
  {
   "cell_type": "code",
   "execution_count": 87,
   "id": "sonic-sarah",
   "metadata": {},
   "outputs": [
    {
     "data": {
      "text/plain": [
       "[['1'], ['2'], ['3']]"
      ]
     },
     "execution_count": 87,
     "metadata": {},
     "output_type": "execute_result"
    }
   ],
   "source": [
    "data"
   ]
  },
  {
   "cell_type": "code",
   "execution_count": 91,
   "id": "rubber-distance",
   "metadata": {},
   "outputs": [
    {
     "name": "stdin",
     "output_type": "stream",
     "text": [
      " 2 2\n",
      " 1 2 3\n",
      " 4 5 6\n"
     ]
    },
    {
     "data": {
      "text/plain": [
       "[[1, 2, 3], [4, 5, 6]]"
      ]
     },
     "execution_count": 91,
     "metadata": {},
     "output_type": "execute_result"
    }
   ],
   "source": [
    "# data=[[3,1,2],[4,1,4],[2,2,2]]\n",
    "# data=[[7,3,1,8],[3,3,3,4]]"
   ]
  },
  {
   "cell_type": "markdown",
   "id": "verified-ability",
   "metadata": {},
   "source": [
    "### My"
   ]
  },
  {
   "cell_type": "code",
   "execution_count": 93,
   "id": "palestinian-algorithm",
   "metadata": {},
   "outputs": [
    {
     "name": "stdin",
     "output_type": "stream",
     "text": [
      " 2 4\n",
      " 7 3 1 8\n",
      " 3 3 3 4\n"
     ]
    },
    {
     "name": "stdout",
     "output_type": "stream",
     "text": [
      "3\n"
     ]
    }
   ],
   "source": [
    "n, m = map(int, input().split())\n",
    "data = [list(map(int, input().split())) for _ in range(n)]\n",
    "\n",
    "idx  = 0\n",
    "idxs = []\n",
    "mns  = []\n",
    "\n",
    "for l in data:\n",
    "    idx+=1\n",
    "    idxs.append(idx)\n",
    "    mns.append(min(l))\n",
    "    \n",
    "print(max(mns))"
   ]
  },
  {
   "cell_type": "markdown",
   "id": "opened-newport",
   "metadata": {},
   "source": [
    "## 3-4 1이 될 때까지"
   ]
  },
  {
   "cell_type": "markdown",
   "id": "shaped-wells",
   "metadata": {},
   "source": [
    "### My"
   ]
  },
  {
   "cell_type": "code",
   "execution_count": 101,
   "id": "crazy-jimmy",
   "metadata": {},
   "outputs": [
    {
     "name": "stdout",
     "output_type": "stream",
     "text": [
      "1 6\n"
     ]
    }
   ],
   "source": [
    "# n,k=map(int, input().split())\n",
    "n,k=25,3\n",
    "cnt=0\n",
    "while n != 1:\n",
    "    if n%k == 0:\n",
    "        n //= k\n",
    "    else:\n",
    "        n -= 1\n",
    "    cnt+=1\n",
    "        \n",
    "print(n,cnt)"
   ]
  },
  {
   "cell_type": "markdown",
   "id": "revised-priest",
   "metadata": {},
   "source": [
    "### 예시"
   ]
  },
  {
   "cell_type": "code",
   "execution_count": 102,
   "id": "steady-dispatch",
   "metadata": {},
   "outputs": [
    {
     "name": "stdin",
     "output_type": "stream",
     "text": [
      " 25 3\n"
     ]
    },
    {
     "name": "stdout",
     "output_type": "stream",
     "text": [
      "6\n"
     ]
    }
   ],
   "source": [
    "n,k=map(int, input().split())\n",
    "result=0\n",
    "\n",
    "while True:\n",
    "    #( N == K로 나누어떨어지는 수)가 될 때까지 1씩 빼기\n",
    "    target=(n//k)*k\n",
    "    result+=(n-target)\n",
    "    n=target\n",
    "    \n",
    "    if n < k :\n",
    "        break\n",
    "    # k로 나누기\n",
    "    result += 1\n",
    "    n //= k\n",
    "    \n",
    "result += (n-1)\n",
    "print(result)"
   ]
  },
  {
   "cell_type": "markdown",
   "id": "prescribed-moses",
   "metadata": {},
   "source": [
    "# Chapter. 4 구현"
   ]
  },
  {
   "cell_type": "markdown",
   "id": "conditional-david",
   "metadata": {},
   "source": [
    "## 4-1 상하좌우"
   ]
  },
  {
   "cell_type": "code",
   "execution_count": 133,
   "id": "demographic-mention",
   "metadata": {},
   "outputs": [
    {
     "name": "stdin",
     "output_type": "stream",
     "text": [
      " 5\n",
      " R R R U D D\n"
     ]
    },
    {
     "name": "stdout",
     "output_type": "stream",
     "text": [
      "3 4\n"
     ]
    }
   ],
   "source": [
    "n=map(int, input())\n",
    "data=list(map(str, input().split()))\n",
    "# n=5\n",
    "# data=[\"R\",\"R\",\"R\",\"U\",\"D\",\"D\"]\n",
    "\n",
    "def go(x,y,data):\n",
    "    if data   == \"R\" : y += 1\n",
    "    elif data == \"L\" : y -= 1\n",
    "    elif data == \"D\" : x += 1\n",
    "    elif data == \"U\" : x -= 1\n",
    "    return x,y\n",
    "    \n",
    "x,y=1,1\n",
    "for d in data:\n",
    "    x_, y_ = go(x, y, d)\n",
    "    if x_ < 1 or y_ < 1: # 둘 중 하나가 1보다 작으면 업데이트 X\n",
    "        continue\n",
    "    x,y=x_,y_\n",
    "print(x,y)"
   ]
  },
  {
   "cell_type": "markdown",
   "id": "indirect-reduction",
   "metadata": {},
   "source": [
    "## 4-2 시각"
   ]
  },
  {
   "cell_type": "markdown",
   "id": "suited-species",
   "metadata": {},
   "source": [
    "### My"
   ]
  },
  {
   "cell_type": "code",
   "execution_count": 45,
   "id": "bibliographic-snowboard",
   "metadata": {
    "tags": []
   },
   "outputs": [
    {
     "name": "stdout",
     "output_type": "stream",
     "text": [
      "0.0194547176361084\n",
      "11475\n"
     ]
    }
   ],
   "source": [
    "import datetime\n",
    "\n",
    "# n=map(int, input())\n",
    "n=5\n",
    "minute=list(range(0,60))\n",
    "second=list(range(0,60))\n",
    "\n",
    "start_time=time.time()\n",
    "\n",
    "cnt = 0\n",
    "for h in range(n+1):\n",
    "    for m in minute:\n",
    "        for s in second:\n",
    "            if sum([1 for d in str(h)+str(m)+str(s) if d == '3']) > 0:\n",
    "                cnt +=1\n",
    "\n",
    "print(time.time()-start_time)\n",
    "print(cnt)"
   ]
  },
  {
   "cell_type": "markdown",
   "id": "higher-bullet",
   "metadata": {},
   "source": [
    "### 예시"
   ]
  },
  {
   "cell_type": "code",
   "execution_count": 46,
   "id": "integral-boundary",
   "metadata": {},
   "outputs": [
    {
     "name": "stdout",
     "output_type": "stream",
     "text": [
      "0.012937068939208984\n",
      "11475\n"
     ]
    }
   ],
   "source": [
    "\n",
    "h=5\n",
    "cnt = 0\n",
    "\n",
    "start_time=time.time()\n",
    "\n",
    "for h in range(h+1):\n",
    "    for m in range(60):\n",
    "        for s in range(60):\n",
    "            if '3' in str(h) + str(m) + str(s):\n",
    "                cnt += 1\n",
    "print(time.time()-start_time)                \n",
    "print(cnt)"
   ]
  },
  {
   "cell_type": "markdown",
   "id": "federal-purple",
   "metadata": {},
   "source": [
    "## 실전문제"
   ]
  },
  {
   "cell_type": "markdown",
   "id": "needed-defensive",
   "metadata": {},
   "source": [
    "### 왕실의 나이트"
   ]
  },
  {
   "cell_type": "code",
   "execution_count": 79,
   "id": "straight-oracle",
   "metadata": {},
   "outputs": [
    {
     "data": {
      "text/plain": [
       "8"
      ]
     },
     "execution_count": 79,
     "metadata": {},
     "output_type": "execute_result"
    }
   ],
   "source": [
    "def get_xy(n):\n",
    "    return ord(n)-96\n",
    "\n",
    "get_xy(\"h\")"
   ]
  },
  {
   "cell_type": "code",
   "execution_count": 85,
   "id": "prospective-catering",
   "metadata": {},
   "outputs": [
    {
     "data": {
      "text/plain": [
       "[([-2, 2], [-1, 1])]"
      ]
     },
     "execution_count": 85,
     "metadata": {},
     "output_type": "execute_result"
    }
   ],
   "source": [
    "import itertools\n",
    "h=[-2,2]\n",
    "v=[-1,1]\n",
    "list(itertools.combinations([h,v],2))"
   ]
  },
  {
   "cell_type": "code",
   "execution_count": 89,
   "id": "higher-relative",
   "metadata": {},
   "outputs": [
    {
     "data": {
      "text/plain": [
       "[[-2, -1], [-2, 1], [2, -1], [2, 1], [-1, -2], [-1, 2], [1, -2], [1, 2]]"
      ]
     },
     "execution_count": 89,
     "metadata": {},
     "output_type": "execute_result"
    }
   ],
   "source": [
    "candidates=[]\n",
    "for d in h:\n",
    "    for d1 in v:\n",
    "        candidates.append([d,d1])\n",
    "for d in v:\n",
    "    for d1 in h:\n",
    "        candidates.append([d,d1])\n",
    "candidates\n",
    "        "
   ]
  },
  {
   "cell_type": "code",
   "execution_count": 102,
   "id": "expired-siemens",
   "metadata": {},
   "outputs": [
    {
     "data": {
      "text/plain": [
       "(1, '1')"
      ]
     },
     "execution_count": 102,
     "metadata": {},
     "output_type": "execute_result"
    }
   ],
   "source": [
    "x,y"
   ]
  },
  {
   "cell_type": "code",
   "execution_count": 112,
   "id": "several-manchester",
   "metadata": {},
   "outputs": [
    {
     "name": "stdin",
     "output_type": "stream",
     "text": [
      " h8\n"
     ]
    },
    {
     "data": {
      "text/plain": [
       "2"
      ]
     },
     "execution_count": 112,
     "metadata": {},
     "output_type": "execute_result"
    }
   ],
   "source": [
    "n=input()\n",
    "x,y=ord(n[0])-96, int(n[1])\n",
    "candidates=[[-2, -1], [-2, 1], [2, -1], [2, 1], [-1, -2], [-1, 2], [1, -2], [1, 2]] \n",
    "\n",
    "def go(candidates:list,x,y):\n",
    "    cnt=0\n",
    "    for c in candidates:  \n",
    "        dx,dy=x+c[0], y+c[1]\n",
    "        if dx > 0 and dx < 9 and dy > 0 and dy < 9 :\n",
    "            cnt += 1\n",
    "    return cnt\n",
    "\n",
    "go(candidates,x,y)"
   ]
  },
  {
   "cell_type": "markdown",
   "id": "joined-services",
   "metadata": {},
   "source": [
    "### 게임 개발"
   ]
  },
  {
   "cell_type": "code",
   "execution_count": 188,
   "id": "narrative-sympathy",
   "metadata": {},
   "outputs": [
    {
     "data": {
      "text/plain": [
       "[1, 1, 3]"
      ]
     },
     "execution_count": 188,
     "metadata": {},
     "output_type": "execute_result"
    }
   ],
   "source": [
    "turn_left(pos)"
   ]
  },
  {
   "cell_type": "code",
   "execution_count": 321,
   "id": "prerequisite-order",
   "metadata": {},
   "outputs": [],
   "source": [
    "def get_left_sight(pos):\n",
    "    tmp_pos=pos.copy()\n",
    "    \n",
    "    tmp_pos=turn_left(tmp_pos)\n",
    "    # 북\n",
    "    if tmp_pos[-1]==0:\n",
    "        left_sight=m[tmp_pos[0]-1][tmp_pos[1]]\n",
    "\n",
    "    # 남\n",
    "    if tmp_pos[-1]==2:\n",
    "        left_sight=m[tmp_pos[0]+1][tmp_pos[1]]\n",
    "\n",
    "    # 서\n",
    "    if tmp_pos[-1]==3:\n",
    "        left_sight=m[tmp_pos[0]][tmp_pos[1]-1]\n",
    "\n",
    "    # 동\n",
    "    if tmp_pos[-1]==1:\n",
    "        left_sight=m[tmp_pos[0]][tmp_pos[1]+1]\n",
    "    \n",
    "    return left_sight\n",
    "\n",
    "def get_back_sight(pos):\n",
    "    tmp_pos=pos.copy()\n",
    "    tmp_pos[-1]=tmp_pos[-1]-2\n",
    "    if tmp_pos[-1] == -1:\n",
    "        tmp_pos[-1] = 3\n",
    "    if tmp_pos[-1] == -2:\n",
    "        tmp_pos[-1] = 2\n",
    "    # 북\n",
    "    if tmp_pos[-1]==0:\n",
    "        tmp_pos[0], tmp_pos[1]=tmp_pos[0]-1,tmp_pos[1]\n",
    "\n",
    "    # 남\n",
    "    if tmp_pos[-1]==2:\n",
    "        tmp_pos[0], tmp_pos[1]=tmp_pos[0]+1,tmp_pos[1]\n",
    "\n",
    "    # 서\n",
    "    if tmp_pos[-1]==3:\n",
    "        tmp_pos[0], tmp_pos[1]=tmp_pos[0],tmp_pos[1]-1\n",
    "\n",
    "    # 동\n",
    "    if tmp_pos[-1]==1:\n",
    "        tmp_pos[0], tmp_pos[1]=tmp_pos[0],tmp_pos[1]+1\n",
    "\n",
    "    return tmp_pos\n",
    "\n",
    "def turn_left(pos):\n",
    "    tmp_pos=pos.copy()\n",
    "    tmp_pos[-1]=tmp_pos[-1]-1\n",
    "    if tmp_pos[-1] == -1:\n",
    "        tmp_pos[-1]=3\n",
    "    return tmp_pos\n",
    "\n",
    "\n",
    "\n",
    "def move(pos, direction):\n",
    "    if direction == \"go\":\n",
    "        # 북\n",
    "        if pos[-1]==0:\n",
    "            pos[0]=pos[0]-1\n",
    "\n",
    "        # 남\n",
    "        if pos[-1]==2:\n",
    "            pos[0]=pos[0]+1\n",
    "\n",
    "        # 서\n",
    "        if pos[-1]==3:\n",
    "            pos[1]=pos[1]-1\n",
    "\n",
    "        # 동\n",
    "        if pos[-1]==1:\n",
    "            pos[1]=pos[1]+1\n",
    "            \n",
    "    elif direction == \"back\":\n",
    "        # 북\n",
    "        if pos[-1]==0:\n",
    "            pos[0]=pos[0]+1\n",
    "\n",
    "        # 남\n",
    "        if pos[-1]==2:\n",
    "            pos[0]=pos[0]-1\n",
    "\n",
    "        # 서\n",
    "        if pos[-1]==3:\n",
    "            pos[1]=pos[1]+1\n",
    "\n",
    "        # 동\n",
    "        if pos[-1]==1:\n",
    "            pos[1]=pos[1]-1\n",
    "    \n",
    "    return pos"
   ]
  },
  {
   "cell_type": "code",
   "execution_count": 322,
   "id": "turkish-craft",
   "metadata": {},
   "outputs": [
    {
     "name": "stdout",
     "output_type": "stream",
     "text": [
      "스타트 좌표 [1, 1, 0]\n",
      "step_1\n",
      "가보지 않은 칸 없음\n",
      "[1, 1, 3] 되었음\n",
      "step_2\n",
      "가보지 않은 칸 없음\n",
      "[1, 1, 2] 되었음\n",
      "step_3\n",
      "이동하지 않은 칸 발견 0\n",
      "왼쪽 전환 [1, 1, 1]\n",
      "전진 [1, 2, 1]\n",
      "step_4\n",
      "가보지 않은 칸 없음\n",
      "[1, 2, 0] 되었음\n",
      "step_5\n",
      "가보지 않은 칸 없음\n",
      "[1, 2, 3] 되었음\n",
      "step_6\n",
      "이동하지 않은 칸 발견 0\n",
      "왼쪽 전환 [1, 2, 2]\n",
      "전진 [2, 2, 2]\n",
      "step_7\n",
      "가보지 않은 칸 없음\n",
      "네방향 전부 이미 가봤거나 바다임\n",
      "좌표 [2, 2, 2] 방향 2 뒤의 지형 2\n",
      "뒤의 지형 좌표 1 2\n",
      "뒤로 한 칸 움직임\n",
      "[1, 2, 2]\n",
      "step_8\n",
      "가보지 않은 칸 없음\n",
      "네방향 전부 이미 가봤거나 바다임\n",
      "좌표 [1, 2, 2] 방향 2 뒤의 지형 1\n",
      "뒤의 지형 좌표 0 2\n",
      "2 뒤쪽 방향이 바다라 뒤로 못감\n",
      "3 8\n"
     ]
    }
   ],
   "source": [
    "size=[4,4]\n",
    "pos=[1,1,0] #\n",
    "global m\n",
    "m=[[1,1,1,1],[1,0,0,1],[1,1,0,1],[1,1,1,1]]\n",
    "m[pos[0]][pos[1]]=2\n",
    "cnt=1\n",
    "mv_cnt=0\n",
    "print(\"스타트 좌표\", pos)\n",
    "while True:\n",
    "    print(f\"step_{cnt}\")\n",
    "    # 바로 왼쪽방향에 아직 가보지 않은 칸이 있으면 \n",
    "    if get_left_sight(pos) == 0:\n",
    "        print(\"이동하지 않은 칸 발견\", get_left_sight(pos))\n",
    "        # 왼쪽이동\n",
    "        pos=turn_left(pos)\n",
    "        print(\"왼쪽 전환\", pos)\n",
    "        # 전진\n",
    "        pos=move(pos,\"go\"); mv_cnt+=1\n",
    "        print(\"전진\", pos)\n",
    "        \n",
    "        # 이동한 칸 색칠\n",
    "        m[pos[0]][pos[1]]=2\n",
    "\n",
    "    # 왼쪽방향에 아직 가보지 않은 칸이 없다면 \n",
    "    else:\n",
    "        print(\"가보지 않은 칸 없음\")\n",
    "        if m[pos[0]-1][pos[1]] != 0 and m[pos[0]][pos[1]-1] != 0 and m[pos[0]+1][pos[1]] != 0 and m[pos[0]][pos[1]+1] != 0 :\n",
    "            back_sight=get_back_sight(pos)\n",
    "            \n",
    "            print(\"네방향 전부 이미 가봤거나 바다임\")\n",
    "            print(\"좌표\",pos, \"방향\", pos[-1], \"뒤의 지형\", m[back_sight[0]][back_sight[1]])\n",
    "            print(\"뒤의 지형 좌표\", back_sight[0], back_sight[1])\n",
    "#             print(\"지도\",m)\n",
    "#             print(pos, m[back_sight[0]][back_sight[1]], \"방향\",pos[-1], print(m))\n",
    "            # 뒤쪽 방향이 바다인 칸이라 뒤로 갈 수 없으면 움직임 멈춘다\n",
    "            if m[back_sight[0]][back_sight[1]] == 1:\n",
    "                print(get_sight(pos,\"back\"),\"뒤쪽 방향이 바다라 뒤로 못감\")\n",
    "                break\n",
    "\n",
    "            # 바라보는 방향을 유지한채 한 칸 뒤로 간다\n",
    "            else:\n",
    "                print(\"뒤로 한 칸 움직임\")\n",
    "                pos=move(pos, \"back\"); mv_cnt+=1; cnt+=1\n",
    "                print(pos)\n",
    "                \n",
    "                continue\n",
    "        # 회전\n",
    "        pos=turn_left(pos)\n",
    "        print(pos, \"되었음\")\n",
    "        \n",
    "        \n",
    "        # step1로 돌아감\n",
    "        \n",
    "    # 네 방향 모두 이미 가본 칸이거나 바다라면\n",
    "    \n",
    "    \n",
    "    # step1로 돌아감\n",
    "    cnt+=1\n",
    "    if cnt == 100:break\n",
    "        \n",
    "print(mv_cnt,cnt)"
   ]
  },
  {
   "cell_type": "markdown",
   "id": "simplified-wilderness",
   "metadata": {},
   "source": [
    "# Chapter. 5 DFS/BFS"
   ]
  },
  {
   "cell_type": "markdown",
   "id": "macro-quarter",
   "metadata": {},
   "source": [
    "- 탐색 : 많은 양의 데이터 중에서 원하는 데이터를 찾는 과정\n",
    "- 자료구조 : 데이터를 표현하고 관리하고 처리하기 위한 구조\n",
    "    - 스택과 큐는 자료구조의 기초 개념으로 다음 두 핵심적인 함수로 구성된다\n",
    "        - 삽입(Push) : 데이터를 삽입\n",
    "        - 삭제(Pop) : 데이터를 삭제\n",
    "    - 물론 실제로 스택과 큐를 사용할 때는 삽입과 삭제 외에도 오버플로와 언더플로를 고민해야 한다\n",
    "        - 오버플로 : 특정한 자료구조가 수용할 수 있는 데이터의 크기를 이미 가득찬 산 상태에서 삽입 연산을 수행할 때\n",
    "        - 언더플로 : 자료구조에 데이터가 전혀 들어 있지 않은 상태에서 삭제 연산을 수행하면 데이터가 전혀 없는 상태"
   ]
  },
  {
   "cell_type": "markdown",
   "id": "trying-fundamental",
   "metadata": {},
   "source": [
    "- 스택 예제"
   ]
  },
  {
   "cell_type": "code",
   "execution_count": 334,
   "id": "eastern-spectrum",
   "metadata": {},
   "outputs": [
    {
     "name": "stdout",
     "output_type": "stream",
     "text": [
      "[5, 2, 3, 1]\n",
      "[1, 3, 2, 5]\n"
     ]
    }
   ],
   "source": [
    "stack = []\n",
    "\n",
    "stack.append(5)\n",
    "stack.append(2)\n",
    "stack.append(3)\n",
    "stack.append(7)\n",
    "stack.pop()\n",
    "stack.append(1)\n",
    "stack.append(4)\n",
    "stack.pop()\n",
    "\n",
    "print(stack)\n",
    "print(stack[::-1])"
   ]
  },
  {
   "cell_type": "markdown",
   "id": "restricted-tuition",
   "metadata": {},
   "source": [
    "- 큐 \n",
    "    - 큐는 선입선출(공정한 자료구조)\n",
    "    \n",
    "- deque는 스택과 큐의 장점을 모두 채택한 것\n",
    "- 데이터를 넣고 빼는 속도가 리스트 자료형에 비해 효율적\n",
    "- queue 라이브러리를 이용하는 것보다 간단하다"
   ]
  },
  {
   "cell_type": "code",
   "execution_count": 336,
   "id": "working-newark",
   "metadata": {},
   "outputs": [
    {
     "name": "stdout",
     "output_type": "stream",
     "text": [
      "deque([3, 7, 1, 4])\n",
      "deque([4, 1, 7, 3])\n"
     ]
    }
   ],
   "source": [
    "from collections import deque\n",
    "\n",
    "# 큐 구현을 위해 deque 라이브러리 사용\n",
    "queue = deque()\n",
    "\n",
    "queue.append(5)\n",
    "queue.append(2)\n",
    "queue.append(3)\n",
    "queue.append(7)\n",
    "queue.popleft()\n",
    "queue.append(1)\n",
    "queue.append(4)\n",
    "queue.popleft()\n",
    "\n",
    "print(queue) # 먼저 들어온 순서대로 출력\n",
    "queue.reverse() # 다음 출력을 위해 역순으로 바꾸기\n",
    "print(queue) # 나중에 들어온 원소부터 출력"
   ]
  },
  {
   "cell_type": "code",
   "execution_count": null,
   "id": "established-lexington",
   "metadata": {},
   "outputs": [],
   "source": []
  },
  {
   "cell_type": "code",
   "execution_count": null,
   "id": "negative-karaoke",
   "metadata": {},
   "outputs": [],
   "source": []
  },
  {
   "cell_type": "code",
   "execution_count": null,
   "id": "defensive-studio",
   "metadata": {},
   "outputs": [],
   "source": []
  },
  {
   "cell_type": "code",
   "execution_count": null,
   "id": "impossible-forestry",
   "metadata": {},
   "outputs": [],
   "source": []
  },
  {
   "cell_type": "code",
   "execution_count": null,
   "id": "joined-balance",
   "metadata": {},
   "outputs": [],
   "source": []
  },
  {
   "cell_type": "markdown",
   "id": "neutral-protest",
   "metadata": {},
   "source": [
    "- 재귀함수를 이용한 팩토리얼 예제"
   ]
  },
  {
   "cell_type": "code",
   "execution_count": 332,
   "id": "devoted-things",
   "metadata": {},
   "outputs": [
    {
     "name": "stdout",
     "output_type": "stream",
     "text": [
      "3628800\n",
      "3628800\n"
     ]
    }
   ],
   "source": [
    "# 반복으로 구현\n",
    "\n",
    "def factorial_iterative(n):\n",
    "    result=1\n",
    "    for i in range(1,n+1):\n",
    "        result = result*i\n",
    "    return result\n",
    "\n",
    "print(factorial_iterative(10))\n",
    "\n",
    "# 재귀로 구현\n",
    "\n",
    "def factorial_iterative(n):\n",
    "    if n <= 1 :\n",
    "        return 1\n",
    "    return n*factorial_iterative(n-1)\n",
    "print(factorial_iterative(10))"
   ]
  },
  {
   "cell_type": "code",
   "execution_count": null,
   "id": "short-exclusion",
   "metadata": {},
   "outputs": [],
   "source": []
  },
  {
   "cell_type": "markdown",
   "id": "continued-summer",
   "metadata": {},
   "source": [
    "## 5.2 DFS & BFS\n",
    "\n",
    "- DFS는 Depth-First Search 갚이 우선 탐색이라고 부르며 그래프에서 깊은 부분을 우선적으로 탐색하는 알고리즘이다\n",
    "- BFS는 너비 우선 탐색, 가까운 노드부터 탐색하는 알고리즘이다\n",
    "- 선입선출 방식인 큐 자료구조를 이용하는 것이 정석"
   ]
  },
  {
   "cell_type": "markdown",
   "id": "thrown-sheet",
   "metadata": {},
   "source": [
    "- 인접 리스트 방식 예제"
   ]
  },
  {
   "cell_type": "code",
   "execution_count": 340,
   "id": "silent-clock",
   "metadata": {},
   "outputs": [
    {
     "data": {
      "text/plain": [
       "[[(1, 7), (2, 5)], [(0, 7)], [(0, 5)]]"
      ]
     },
     "execution_count": 340,
     "metadata": {},
     "output_type": "execute_result"
    }
   ],
   "source": [
    "# 행(Row)이 3개인 2차원 리스트로 인접 리스트 표현\n",
    "graph=[[] for _ in range(3)]\n",
    "\n",
    "# 노드 0에 연결된 노드 정보 저장(노드 ,거리)\n",
    "graph[0].append((1,7))\n",
    "graph[0].append((2,5))\n",
    "\n",
    "# 노드 1에 연결된 노드 정보 저장(노드, 거리)\n",
    "graph[1].append((0,7))\n",
    "\n",
    "# 노드 2에 연결된 노드 정보 저장(노드, 거리)\n",
    "graph[2].append((0,5))\n",
    "\n",
    "graph"
   ]
  },
  {
   "cell_type": "code",
   "execution_count": 5,
   "id": "secure-smell",
   "metadata": {},
   "outputs": [
    {
     "name": "stdout",
     "output_type": "stream",
     "text": [
      "[False, False, False, False, False, False, False, False, False]\n",
      "1 2 7 6 8 3 4 5 "
     ]
    }
   ],
   "source": [
    "def dfs(graph, v, visited):\n",
    "    # 현재 노드를 방문 처리\n",
    "    print(v, end=' ')\n",
    "    # 현재 노드와 연결된 다른 노드를 재귀적으로 방문\n",
    "    visited[v]=True\n",
    "    for i in graph[v]:\n",
    "        if not visited[i]:\n",
    "            dfs(graph, i, visited)\n",
    "graph = [\n",
    "    [],\n",
    "    [2,3,8],\n",
    "    [1,7],\n",
    "    [1,4,5],\n",
    "    [3,5],\n",
    "    [3,4],\n",
    "    [7],\n",
    "    [2,6,8],\n",
    "    [1,7]\n",
    "]       \n",
    "visited=[False]*9\n",
    "\n",
    "dfs(graph, 1, visited)"
   ]
  },
  {
   "cell_type": "code",
   "execution_count": null,
   "id": "individual-stanley",
   "metadata": {},
   "outputs": [],
   "source": [
    "def dfs(graph, v, visited):\n",
    "    visited[v]=True\n",
    "    for i in graph[v]:\n",
    "        if not visited[i]:\n",
    "            dfs(graph, i, visited)"
   ]
  },
  {
   "cell_type": "code",
   "execution_count": null,
   "id": "conditional-junior",
   "metadata": {},
   "outputs": [],
   "source": []
  },
  {
   "cell_type": "code",
   "execution_count": 30,
   "id": "accompanied-style",
   "metadata": {},
   "outputs": [
    {
     "data": {
      "text/plain": [
       "2"
      ]
     },
     "execution_count": 30,
     "metadata": {},
     "output_type": "execute_result"
    }
   ],
   "source": [
    "v=a.popleft()\n",
    "v"
   ]
  },
  {
   "cell_type": "code",
   "execution_count": 29,
   "id": "seventh-workstation",
   "metadata": {},
   "outputs": [
    {
     "name": "stdout",
     "output_type": "stream",
     "text": [
      "deque([1, 2, 3])\n",
      "deque([2, 3])\n"
     ]
    }
   ],
   "source": [
    "from collections import deque\n",
    "\n",
    "a=deque()\n",
    "a.append(1)\n",
    "a.append(2)\n",
    "a.append(3);print(a)\n",
    "a.popleft();print(a)"
   ]
  },
  {
   "cell_type": "code",
   "execution_count": 33,
   "id": "diagnostic-bishop",
   "metadata": {},
   "outputs": [
    {
     "name": "stdout",
     "output_type": "stream",
     "text": [
      "1 2 3 8 7 4 5 6 "
     ]
    }
   ],
   "source": [
    "def bfs(graph, start, visited):\n",
    "    queue=deque([start])\n",
    "    visited[start]=True\n",
    "    while queue:\n",
    "        v=queue.popleft()\n",
    "        print(v, end = ' ')\n",
    "        for i in graph[v]:\n",
    "            if not visited[i]:\n",
    "                queue.append(i)\n",
    "                visited[i]=True\n",
    "                \n",
    "                \n",
    "graph = [\n",
    "    [],\n",
    "    [2,3,8],\n",
    "    [1,7],\n",
    "    [1,4,5],\n",
    "    [3,5],\n",
    "    [3,4],\n",
    "    [7],\n",
    "    [2,6,8],\n",
    "    [1,7]\n",
    "]       \n",
    "visited=[False]*9\n",
    "\n",
    "bfs(graph, 1, visited)"
   ]
  },
  {
   "cell_type": "markdown",
   "id": "third-sydney",
   "metadata": {},
   "source": [
    "### 5-3 음료수 얼려먹기"
   ]
  },
  {
   "cell_type": "code",
   "execution_count": 40,
   "id": "removable-association",
   "metadata": {},
   "outputs": [
    {
     "name": "stdout",
     "output_type": "stream",
     "text": [
      "3\n"
     ]
    }
   ],
   "source": [
    "# n,m=map(int, input().split())\n",
    "# graph=[]\n",
    "# for i in range(n):\n",
    "#     graph.append(list(map(int, input())))\n",
    "n,m=3,3\n",
    "graph=[\n",
    "    [0,0,1],\n",
    "    [0,1,0],\n",
    "    [1,0,1]\n",
    "]\n",
    "\n",
    "def dfs(x,y):\n",
    "    if x < 0 or x >= n or y < 0 or y >= m:\n",
    "        return False\n",
    "    if graph[x][y] == 0:\n",
    "        \n",
    "        graph[x][y]=1\n",
    "        dfs(x-1,y)\n",
    "        dfs(x,y-1)\n",
    "        dfs(x+1,y)\n",
    "        dfs(x,y+1)\n",
    "        return True\n",
    "    return False\n",
    "\n",
    "result=0\n",
    "for i in range(n):\n",
    "    for j in range(m):\n",
    "        result += dfs(i,j)\n",
    "        \n",
    "print(result)"
   ]
  },
  {
   "cell_type": "code",
   "execution_count": 45,
   "id": "competitive-theory",
   "metadata": {},
   "outputs": [
    {
     "data": {
      "text/plain": [
       "3"
      ]
     },
     "execution_count": 45,
     "metadata": {},
     "output_type": "execute_result"
    }
   ],
   "source": [
    "n,m=3,5\n",
    "graph=[\n",
    "    [0,0,0,0,1],\n",
    "    [0,1,0,1,0],\n",
    "    [1,0,1,1,1]\n",
    "]\n",
    "\n",
    "def dfs(x,y):\n",
    "    if x<0 or x>=n or y<0 or y>=m:\n",
    "        return False\n",
    "    if graph[x][y] == 0 :\n",
    "        graph[x][y] = 1\n",
    "        dfs(x-1,y)\n",
    "        dfs(x+1,y)\n",
    "        dfs(x,y-1)\n",
    "        dfs(x,y+1)\n",
    "        return True\n",
    "    return False\n",
    "\n",
    "result=0\n",
    "for i in range(n):\n",
    "    for j in range(m):\n",
    "        if dfs(i,j):result+=1\n",
    "result"
   ]
  },
  {
   "cell_type": "markdown",
   "id": "cutting-national",
   "metadata": {},
   "source": [
    "### 5-4 미로탈출"
   ]
  },
  {
   "cell_type": "code",
   "execution_count": 49,
   "id": "rental-match",
   "metadata": {},
   "outputs": [
    {
     "name": "stdout",
     "output_type": "stream",
     "text": [
      "10\n"
     ]
    }
   ],
   "source": [
    "n,m=5,6\n",
    "graph=[\n",
    "    [1,0,1,0,1,0],\n",
    "    [1,1,1,1,1,1],\n",
    "    [0,0,0,0,0,1],\n",
    "    [1,1,1,1,1,1],\n",
    "    [1,1,1,1,1,1]\n",
    "]\n",
    "\n",
    "dx=[-1, 1, 0, 0]\n",
    "dy=[0, 0, -1, 1]\n",
    "def bfs(x,y):\n",
    "    queue=deque()\n",
    "    queue.append((x,y))\n",
    "    while queue:\n",
    "        x,y=queue.popleft()\n",
    "        # 현재 위치에서 네 방향으로의 위치 확인\n",
    "        for i in range(4):\n",
    "            nx = x + dx[i]\n",
    "            ny = y + dy[i]\n",
    "            \n",
    "            # 미로 찾기 공간을 떠난 경우 무시\n",
    "            if nx < 0 or ny < 0 or nx >= n or ny >= m:\n",
    "                continue\n",
    "                \n",
    "            # 벽인 경우 무시\n",
    "            if graph[nx][ny] == 0 :\n",
    "                continue\n",
    "                \n",
    "            # 해당 노드를 처음 방문하는 경우에만 최단거리 기록\n",
    "            if graph[nx][ny] == 1:\n",
    "                graph[nx][ny] = graph[x][y]+1\n",
    "                queue.append((nx,ny))\n",
    "    # 가장 오른쪽 아래까지의 최단 거리 반환\n",
    "    return graph[n-1][m-1]\n",
    "\n",
    "print(bfs(0,0))\n",
    "    "
   ]
  },
  {
   "cell_type": "code",
   "execution_count": 64,
   "id": "coral-toner",
   "metadata": {},
   "outputs": [
    {
     "data": {
      "text/plain": [
       "10"
      ]
     },
     "execution_count": 64,
     "metadata": {},
     "output_type": "execute_result"
    }
   ],
   "source": [
    "n,m=5,6\n",
    "graph=[\n",
    "    [1,0,1,0,1,0],\n",
    "    [1,1,1,1,1,1],\n",
    "    [0,0,0,0,0,1],\n",
    "    [1,1,1,1,1,1],\n",
    "    [1,1,1,1,1,1]\n",
    "]\n",
    "\n",
    "dx=[-1,0,1,0]\n",
    "dy=[0,-1,0,1]\n",
    "\n",
    "def bfs(x,y):\n",
    "    queue=deque()\n",
    "    queue.append((x,y))\n",
    "    while queue:\n",
    "        x,y=queue.popleft()\n",
    "        \n",
    "        for i in range(4):\n",
    "            nx,ny=x+dx[i], y+dy[i]\n",
    "            # 밖으로 나가면\n",
    "            if nx<0 or nx>=n or ny<0 or ny>=m:\n",
    "                continue\n",
    "            \n",
    "            # 괴물 있을 때\n",
    "            if graph[nx][ny]==0:\n",
    "                continue\n",
    "            \n",
    "            # 길이 있을 때\n",
    "            if graph[nx][ny]==1:\n",
    "                \n",
    "                graph[nx][ny]=graph[x][y]+1\n",
    "                queue.append((nx,ny))\n",
    "                \n",
    "    return graph[n-1][m-1]\n",
    "\n",
    "bfs(0,0)"
   ]
  },
  {
   "cell_type": "markdown",
   "id": "tutorial-probe",
   "metadata": {},
   "source": [
    "### 백준 DFS 1260번\n",
    "\n",
    "https://www.acmicpc.net/problem/1260"
   ]
  },
  {
   "cell_type": "code",
   "execution_count": 119,
   "id": "smart-deadline",
   "metadata": {},
   "outputs": [
    {
     "name": "stdin",
     "output_type": "stream",
     "text": [
      " 4 5 1\n",
      " 1 2\n",
      " 1 3\n",
      " 1 4\n",
      " 2 4\n",
      " 3 4\n"
     ]
    },
    {
     "data": {
      "text/plain": [
       "{1: {2, 3, 4}, 2: {1, 4}, 3: {1, 4}, 4: {1, 2, 3}}"
      ]
     },
     "execution_count": 119,
     "metadata": {},
     "output_type": "execute_result"
    }
   ],
   "source": [
    "from collections import deque\n",
    "\n",
    "N,M,start = map(int,input().split())\n",
    "graph={}\n",
    "visited = [False] * (N+1)\n",
    "\n",
    "for i in range(N):\n",
    "    graph[i+1] = set()\n",
    "\n",
    "for i in range(M):\n",
    "    a,b = map(int,input().split())\n",
    "    graph[a].add(b)\n",
    "    graph[b].add(a)\n",
    "    \n",
    "graph"
   ]
  },
  {
   "cell_type": "code",
   "execution_count": 127,
   "id": "soviet-richards",
   "metadata": {},
   "outputs": [
    {
     "name": "stdin",
     "output_type": "stream",
     "text": [
      " 1 2 \n",
      " 1 3\n",
      " 1 4\n",
      " 2 4\n",
      " 3 4\n"
     ]
    },
    {
     "data": {
      "text/plain": [
       "[[], [2, 3, 4], [1, 4], [1, 4], [1, 2, 3]]"
      ]
     },
     "execution_count": 127,
     "metadata": {},
     "output_type": "execute_result"
    }
   ],
   "source": [
    "graph=[[] for i in range(4+1)]\n",
    "\n",
    "    \n",
    "for j in range(5):\n",
    "    a,b=map(int, input().split())\n",
    "    graph[a].append(b)\n",
    "    graph[b].append(a)\n",
    "    \n",
    "graph"
   ]
  },
  {
   "cell_type": "code",
   "execution_count": 161,
   "id": "harmful-istanbul",
   "metadata": {},
   "outputs": [
    {
     "name": "stdin",
     "output_type": "stream",
     "text": [
      " iiii\n"
     ]
    },
    {
     "ename": "ValueError",
     "evalue": "invalid literal for int() with base 10: 'iiii'",
     "output_type": "error",
     "traceback": [
      "\u001b[1;31m---------------------------------------------------------------------------\u001b[0m",
      "\u001b[1;31mValueError\u001b[0m                                Traceback (most recent call last)",
      "\u001b[1;32m<ipython-input-161-0169d8de2b34>\u001b[0m in \u001b[0;36m<module>\u001b[1;34m\u001b[0m\n\u001b[0;32m      1\u001b[0m \u001b[1;32mfrom\u001b[0m \u001b[0mcollections\u001b[0m \u001b[1;32mimport\u001b[0m \u001b[0mdeque\u001b[0m\u001b[1;33m\u001b[0m\u001b[1;33m\u001b[0m\u001b[0m\n\u001b[0;32m      2\u001b[0m \u001b[1;33m\u001b[0m\u001b[0m\n\u001b[1;32m----> 3\u001b[1;33m \u001b[0mn\u001b[0m\u001b[1;33m,\u001b[0m\u001b[0mm\u001b[0m\u001b[1;33m,\u001b[0m\u001b[0mv\u001b[0m\u001b[1;33m=\u001b[0m\u001b[0mmap\u001b[0m\u001b[1;33m(\u001b[0m\u001b[0mint\u001b[0m\u001b[1;33m,\u001b[0m\u001b[0minput\u001b[0m\u001b[1;33m(\u001b[0m\u001b[1;33m)\u001b[0m\u001b[1;33m.\u001b[0m\u001b[0msplit\u001b[0m\u001b[1;33m(\u001b[0m\u001b[1;33m)\u001b[0m\u001b[1;33m)\u001b[0m\u001b[1;33m\u001b[0m\u001b[1;33m\u001b[0m\u001b[0m\n\u001b[0m\u001b[0;32m      4\u001b[0m \u001b[1;33m\u001b[0m\u001b[0m\n\u001b[0;32m      5\u001b[0m \u001b[0mgraph\u001b[0m\u001b[1;33m=\u001b[0m\u001b[1;33m[\u001b[0m\u001b[1;33m[\u001b[0m\u001b[1;33m]\u001b[0m \u001b[1;32mfor\u001b[0m \u001b[0mi\u001b[0m \u001b[1;32min\u001b[0m \u001b[0mrange\u001b[0m\u001b[1;33m(\u001b[0m\u001b[0mn\u001b[0m\u001b[1;33m+\u001b[0m\u001b[1;36m1\u001b[0m\u001b[1;33m)\u001b[0m\u001b[1;33m]\u001b[0m\u001b[1;33m\u001b[0m\u001b[1;33m\u001b[0m\u001b[0m\n",
      "\u001b[1;31mValueError\u001b[0m: invalid literal for int() with base 10: 'iiii'"
     ]
    }
   ],
   "source": [
    "from collections import deque\n",
    "\n",
    "n,m,v=map(int,input().split())\n",
    "\n",
    "graph=[[] for i in range(n+1)]\n",
    "\n",
    "dfs_route, bfs_route=[], []\n",
    "\n",
    "for j in range(m):\n",
    "    a,b=map(int, input().split())\n",
    "    graph[a].append(b)\n",
    "    graph[b].append(a)\n",
    "    \n",
    "visited=[False]*(n+1)\n",
    "for i in range(n+1):\n",
    "    graph[i]=sorted(graph[i])\n",
    "\n",
    "def dfs(graph,v,visited):\n",
    "#     print(v, end=' ')\n",
    "    dfs_route.append(v)\n",
    "    visited[v]=True\n",
    "    for i in graph[v]:\n",
    "        if visited[i] is not True:\n",
    "            dfs(graph, i, visited)\n",
    "    \n",
    "dfs(graph, v, visited)\n",
    "\n",
    "visited=[False]*(n+1)\n",
    "def bfs(graph, v, visited):\n",
    "    queue=deque()\n",
    "    queue.append(v)\n",
    "    visited[v]=True\n",
    "    \n",
    "    while queue:\n",
    "        v=queue.popleft()\n",
    "#         print(v, end=' ')\n",
    "        bfs_route.append(v)\n",
    "        for i in graph[v]:\n",
    "            if visited[i] is not True:\n",
    "                queue.append(i)\n",
    "                visited[i]=True\n",
    "\n",
    "bfs(graph, v, visited)\n",
    "\n",
    "print(\" \".join(map(str, dfs_route)))\n",
    "print(\" \".join(map(str, bfs_route)))"
   ]
  },
  {
   "cell_type": "markdown",
   "id": "numeric-hanging",
   "metadata": {},
   "source": [
    "### 백준 DFS 2606번\n",
    "\n",
    "https://www.acmicpc.net/problem/2606"
   ]
  },
  {
   "cell_type": "code",
   "execution_count": 175,
   "id": "posted-chuck",
   "metadata": {},
   "outputs": [
    {
     "name": "stdin",
     "output_type": "stream",
     "text": [
      " 7\n",
      " 6\n",
      " 1 2\n",
      " 2 3\n",
      " 1 5\n",
      " 5 2\n",
      " 5 6\n",
      " 4 7\n"
     ]
    },
    {
     "name": "stdout",
     "output_type": "stream",
     "text": [
      "4\n"
     ]
    }
   ],
   "source": [
    "from collections import deque\n",
    "\n",
    "com_num=int(input())\n",
    "line_num=int(input())\n",
    "\n",
    "graph=[[] for _ in range(com_num+1)]\n",
    "\n",
    "for i in range(line_num):\n",
    "    a,b=map(int, input().split())\n",
    "    graph[a].append(b)\n",
    "    graph[b].append(a)\n",
    "    \n",
    "visited=[False]*(com_num+1)\n",
    "\n",
    "def bfs(graph, visited):\n",
    "    contaminated=0\n",
    "    queue = deque()\n",
    "    # 1번 컴퓨터 넣기\n",
    "    queue.append(1)\n",
    "    visited[1]=True\n",
    "    while queue:\n",
    "        virus=queue.popleft()\n",
    "        for i in graph[virus]:\n",
    "            if visited[i] is not True:\n",
    "                queue.append(i)\n",
    "                contaminated+=1\n",
    "                visited[i] = True\n",
    "    print(contaminated)\n",
    "    \n",
    "bfs(graph, visited)"
   ]
  },
  {
   "cell_type": "code",
   "execution_count": null,
   "id": "diverse-latex",
   "metadata": {},
   "outputs": [],
   "source": []
  },
  {
   "cell_type": "code",
   "execution_count": null,
   "id": "attended-pharmacology",
   "metadata": {},
   "outputs": [],
   "source": []
  },
  {
   "cell_type": "code",
   "execution_count": null,
   "id": "timely-mississippi",
   "metadata": {},
   "outputs": [],
   "source": []
  },
  {
   "cell_type": "code",
   "execution_count": null,
   "id": "opened-movement",
   "metadata": {},
   "outputs": [],
   "source": []
  },
  {
   "cell_type": "code",
   "execution_count": null,
   "id": "wicked-clinic",
   "metadata": {},
   "outputs": [],
   "source": []
  },
  {
   "cell_type": "code",
   "execution_count": null,
   "id": "sunset-alarm",
   "metadata": {},
   "outputs": [],
   "source": []
  },
  {
   "cell_type": "code",
   "execution_count": null,
   "id": "metropolitan-explanation",
   "metadata": {},
   "outputs": [],
   "source": []
  },
  {
   "cell_type": "code",
   "execution_count": null,
   "id": "designed-cylinder",
   "metadata": {},
   "outputs": [],
   "source": []
  },
  {
   "cell_type": "code",
   "execution_count": null,
   "id": "chief-agenda",
   "metadata": {},
   "outputs": [],
   "source": []
  }
 ],
 "metadata": {
  "kernelspec": {
   "display_name": "Python 3",
   "language": "python",
   "name": "python3"
  },
  "language_info": {
   "codemirror_mode": {
    "name": "ipython",
    "version": 3
   },
   "file_extension": ".py",
   "mimetype": "text/x-python",
   "name": "python",
   "nbconvert_exporter": "python",
   "pygments_lexer": "ipython3",
   "version": "3.6.12"
  }
 },
 "nbformat": 4,
 "nbformat_minor": 5
}
